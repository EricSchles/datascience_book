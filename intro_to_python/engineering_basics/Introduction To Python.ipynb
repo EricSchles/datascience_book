{
 "cells": [
  {
   "cell_type": "markdown",
   "metadata": {
    "slideshow": {
     "slide_type": "slide"
    }
   },
   "source": [
    "# Introduction To Python\n"
   ]
  },
  {
   "cell_type": "markdown",
   "metadata": {
    "slideshow": {
     "slide_type": "notes"
    }
   },
   "source": [
    "In this notebook we will be introducing the Python language, it's main ideas and the basic primitives of computation that are mostly language agnostic."
   ]
  },
  {
   "cell_type": "markdown",
   "metadata": {
    "slideshow": {
     "slide_type": "slide"
    }
   },
   "source": [
    "## What Is A Computer Program Anyway?"
   ]
  },
  {
   "cell_type": "markdown",
   "metadata": {
    "slideshow": {
     "slide_type": "notes"
    }
   },
   "source": [
    "In general a computer program is a series of commands called code that get executed in order.  Every application on your computer is just a series of these programs.  So anything you can do on a computer, you can automate with programs.  For instance, say you want a song to play at 8am every morning from your computer, you can write a program for that.  Suppose you want automatically transfer money from your savings to a diversified portfolio of investments, you can write a program for that.  Suppose you'd like to automatically detect when you are out of toilet paper and order more?  That too can be automated, with a little help from sensors around the house.  Many things can be automated.  And the point of computer programming, is to automate them.  \n",
    "\n",
    "In addition to automation, there turns out to be deeper \"generalizations\" of the notions within automation that allow us to reason about automation and find \"faster\" or more \"efficient\" ways to carry out automation.  While performance will not be the central focus of this course, it will come up from time to time.  So we will look at an example or two in this chapter."
   ]
  },
  {
   "cell_type": "markdown",
   "metadata": {
    "slideshow": {
     "slide_type": "slide"
    }
   },
   "source": [
    "## The Main Concerns In Writing A Program\n",
    "\n",
    "There are pretty much two sets of related concerns in programming at the end of the day: \n",
    "\n",
    "* Performance\n",
    "* Memory\n"
   ]
  },
  {
   "cell_type": "markdown",
   "metadata": {
    "slideshow": {
     "slide_type": "notes"
    }
   },
   "source": [
    "How \"big\" something is determines how fast it can be processed by a machine.  Consider a giant file, say every written work in the world.  Or all the text on the internet.  Say you wanted to search that set of data for the occurrence of the word banana.  And you wanted to count all the occurrences.  Even a trivial task like that, over the full set of all that text would be incredibly time consuming.  Now consider doing the same task over a single one page word document.  It wouldn't even take a second.\n",
    "\n",
    "This gives us a sense that the \"size\" of our data _matters_.  In addition to this, how we carry out the task effects how long it will take.  This means the code we write and _how_ we do things matters.  With an intelligent well written idea for how to perform the task, you can often save yourself minutes, to hours, to days, or even weeks.\n",
    "\n",
    "It all depends on what you are trying to do.\n"
   ]
  },
  {
   "cell_type": "markdown",
   "metadata": {
    "slideshow": {
     "slide_type": "slide"
    }
   },
   "source": [
    "## Getting Started With Python\n",
    "\n",
    "Now that we've covered the ideas behind programming, in very broad strokes.  Let's get into some basic code, after all, programming is not a spectators sport."
   ]
  },
  {
   "cell_type": "code",
   "execution_count": 1,
   "metadata": {
    "slideshow": {
     "slide_type": "slide"
    }
   },
   "outputs": [
    {
     "name": "stdout",
     "output_type": "stream",
     "text": [
      "Hello World!\n"
     ]
    }
   ],
   "source": [
    "print(\"Hello World!\")"
   ]
  },
  {
   "cell_type": "markdown",
   "metadata": {
    "slideshow": {
     "slide_type": "slide"
    }
   },
   "source": [
    "![command line](lec_two_two.png)"
   ]
  },
  {
   "cell_type": "markdown",
   "metadata": {
    "slideshow": {
     "slide_type": "notes"
    }
   },
   "source": [
    "This single line, by itself is actually an entire \"program\".  As shocking and simple as it is.  The tradition of writing the \"Hello World\" in any new language is supposed to signify the start of a journey down the computational path.  But also, it is supposed to signify the simplest possible program to write.  In doing so, you can concentrate on making sure the program runs, before worrying about making the code more complex.  It may or may not be easy to get \"Hello World\" running on your machine.  It will all depend on your specific computer, and it's set up.\n",
    "\n",
    "You should try openning a terminal, writing this in a text file and saying the file with a `.py` extension.  Perhaps call the program `Hello.py`.\n",
    "\n",
    "Then you can execute the program from the terminal by typing:\n",
    "\n",
    "`python Hello.py`\n",
    "\n",
    "Note: You must be in the same directory as the `Hello.py` program in order to execute it.\n",
    "\n",
    "you can check if you are in the right place by typing:\n",
    "\n",
    "`ls`\n",
    "\n",
    "If you see `Hello.py` listed amongst the files and folders that will print to the terminal, you are in the right place.\n",
    "\n",
    "You can change to the directory with `Hello.py` by using the `cd` command and specifying the folder path to the directory with the file you want to execute.\n",
    "\n",
    "I recommend downloading Python from here: https://www.python.org/downloads/\n",
    "\n",
    "Even if it's already installed on your computer, that may not be good enough!  Make sure you have Python 3.6 or higher, otherwise your assignments won't work.  \n",
    "\n",
    "Please Note: Installing Python _may_ not be easy.  Programming is _always_ hardest at the start.  Being able to set up stuff for yourself is where most people stumble because you know the _least_ and have to move fast.  So it's okay if it takes you time to install Python and get it working from the command line.  It took me a while the first time.  Be patient with yourself.  It's tough out there.\n",
    "\n",
    "Please take a moment to try out these steps now.  You'll need to be able to execute Python programs in order to do the assignments, so it's best that you figure this out now.\n",
    "\n",
    "## Variables In Python\n",
    "\n",
    "The python language allows us to store data in named variables.  These variables hold data, which can either be mutated or not mutated.  Let's take a look at the main examples:\n",
    "\n",
    "* int - these are the generic integers\n",
    "* float - these are sort of like the \"real\" numbers from math, but they aren't as dense and they aren't infinite.  We call these the \"computables\" or the floating point numbers.\n",
    "* bool - this type of variable can only be `True` or `False`.\n",
    "* string - this type of variable contains \"characters\" that are strung together.  Strings are different than integers and floats in that they don't represent numbers.\n",
    "\n",
    "Examples in code:"
   ]
  },
  {
   "cell_type": "code",
   "execution_count": 2,
   "metadata": {
    "slideshow": {
     "slide_type": "slide"
    }
   },
   "outputs": [
    {
     "name": "stdout",
     "output_type": "stream",
     "text": [
      "0\n",
      "7\n",
      "7\n",
      "1.4\n"
     ]
    }
   ],
   "source": [
    "# Integer\n",
    "\n",
    "x = 0\n",
    "print(x)\n",
    "\n",
    "x = x + 7\n",
    "print(x)\n",
    "\n",
    "x * 4\n",
    "print(x)\n",
    "\n",
    "x /= 5\n",
    "print(x)"
   ]
  },
  {
   "cell_type": "markdown",
   "metadata": {
    "slideshow": {
     "slide_type": "notes"
    }
   },
   "source": [
    "Here we have a simple program that creates a variable `x` and stores the value `0` in `x`.  This is done through the use of `=`.  Which in a program is not equality, but _assignment_.  Notice that if we want to mutate the stored value of `x` we need to first update the original value by another value and then store the result in the original variable.\n",
    "\n",
    "This is captured with the line:\n",
    "\n",
    "`x = x + 7`.\n",
    "\n",
    "As a counter example, if we simply multiple `x * 4`, but do not update it's value with an assignment statement, the value of x is not updated.  This is because programs are pedantic.  They will only do what you tell them, nothing more and nothing less.  And they will do it _exactly_.  \n",
    "\n",
    "Finally, having to write `x = x + whatever` is annoying, so programmers came up with the `operater=` short hand.\n",
    "\n"
   ]
  },
  {
   "cell_type": "markdown",
   "metadata": {
    "slideshow": {
     "slide_type": "slide"
    }
   },
   "source": [
    "We see that here with `/`, which stands for division.  Specifically, `/=`.  But this will work with _any_ of the mathematical operators we've seen so far.  So:\n",
    "\n",
    "* `+=` works\n",
    "* `-=` works\n",
    "* `*=` works\n",
    "* `/=` works\n",
    "\n",
    "Now then, we can carry out the same exercise with floating point numbers, we'll use `y` this time, instead of `x` just to keep things fresh:"
   ]
  },
  {
   "cell_type": "markdown",
   "metadata": {
    "slideshow": {
     "slide_type": "notes"
    }
   },
   "source": [
    "Now then, we can carry out the same exercise with floating point numbers, we'll use y this time, instead of x just to keep things fresh:"
   ]
  },
  {
   "cell_type": "code",
   "execution_count": 4,
   "metadata": {
    "slideshow": {
     "slide_type": "slide"
    }
   },
   "outputs": [
    {
     "name": "stdout",
     "output_type": "stream",
     "text": [
      "0.7\n",
      "7.8\n",
      "7.8\n",
      "1.368421052631579\n"
     ]
    }
   ],
   "source": [
    "# Floats\n",
    "\n",
    "y = 0.7\n",
    "print(y)\n",
    "\n",
    "y = y + 7.1\n",
    "print(y)\n",
    "\n",
    "y * 4.8\n",
    "print(y)\n",
    "\n",
    "y /= 5.7\n",
    "print(y)"
   ]
  },
  {
   "cell_type": "markdown",
   "metadata": {
    "slideshow": {
     "slide_type": "notes"
    }
   },
   "source": [
    "As you can see, everything we can do with the integers we can do with the floats!  The only real difference is that floats have a decimal point.  This is how you can tell the difference between the two.  There is nothing new here (very much on purpose), so we'll move onto bools:"
   ]
  },
  {
   "cell_type": "code",
   "execution_count": 5,
   "metadata": {
    "slideshow": {
     "slide_type": "slide"
    }
   },
   "outputs": [
    {
     "name": "stdout",
     "output_type": "stream",
     "text": [
      "False\n",
      "True\n",
      "False\n"
     ]
    }
   ],
   "source": [
    "# Booleans\n",
    "\n",
    "x = True\n",
    "y = False\n",
    "\n",
    "print(x and y)\n",
    "print(x or y)\n",
    "print(not x)"
   ]
  },
  {
   "cell_type": "markdown",
   "metadata": {
    "slideshow": {
     "slide_type": "slide"
    }
   },
   "source": [
    "Since booleans can only take on one of two values, we just capture both of them above.  The `and`, `or`, and `not` operator may be new to you.  But they should be pretty straight forward.\n",
    "\n",
    "As you saw above, plus some additions:\n",
    "\n",
    "* True and False = False\n",
    "* True and True = True\n",
    "* False and False = False\n",
    "* True or False = True\n",
    "* True or True = True\n",
    "* False or False = False\n",
    "* not True = False\n",
    "* not False = True\n",
    "\n",
    "Boolean variables may not seem useful, but they are of _huge_ importance for programming in Python.  In fact, they allow us to do things like this:"
   ]
  },
  {
   "cell_type": "code",
   "execution_count": 6,
   "metadata": {
    "slideshow": {
     "slide_type": "slide"
    }
   },
   "outputs": [
    {
     "name": "stdout",
     "output_type": "stream",
     "text": [
      "woah it worked\n"
     ]
    }
   ],
   "source": [
    "x = True\n",
    "if x == True:\n",
    "    print(\"woah it worked\")\n",
    "else:\n",
    "    print(\"something has gone wrong here\")"
   ]
  },
  {
   "cell_type": "markdown",
   "metadata": {
    "slideshow": {
     "slide_type": "slide"
    }
   },
   "source": [
    "The above code executes something called flow of control or conditional logic.  That means code will execute, only when certain conditions are true.  This opens up a whole _world_ of possabilities for us.  Now we can theoretically write programs that:\n",
    "\n",
    "* Turn on lights around the house at specific times\n",
    "* Listen to us speaking when we say specific words\n",
    "* Only execute when we've run out of toilet paper\n",
    "\n",
    "In general this gives us _far_ greater control over the programs we write and how they execute.  Also it turns out we don't need to specify `if x == True`.  The following will work as well:"
   ]
  },
  {
   "cell_type": "code",
   "execution_count": 7,
   "metadata": {
    "slideshow": {
     "slide_type": "slide"
    }
   },
   "outputs": [
    {
     "name": "stdout",
     "output_type": "stream",
     "text": [
      "woah it worked\n"
     ]
    }
   ],
   "source": [
    "x = True\n",
    "if x:\n",
    "    print(\"woah it worked\")\n",
    "else:\n",
    "    print(\"something has gone wrong here\")"
   ]
  },
  {
   "cell_type": "markdown",
   "metadata": {
    "slideshow": {
     "slide_type": "notes"
    }
   },
   "source": [
    "This is because `if` statements only check for a boolean value to be True in order to execute.  The really nice thing is, now we can also make _statements_ that evaluate to _True_ and things will still work:"
   ]
  },
  {
   "cell_type": "code",
   "execution_count": 8,
   "metadata": {
    "slideshow": {
     "slide_type": "slide"
    }
   },
   "outputs": [
    {
     "name": "stdout",
     "output_type": "stream",
     "text": [
      "cool, math still works\n"
     ]
    }
   ],
   "source": [
    "x = 7\n",
    "if x + 5 == 12:\n",
    "    print(\"cool, math still works\")\n",
    "else:\n",
    "    print(\"oh no, folks we've broken math\")"
   ]
  },
  {
   "cell_type": "markdown",
   "metadata": {
    "slideshow": {
     "slide_type": "notes"
    }
   },
   "source": [
    "As you can see, we started off with a variable, namely `x = 7` and then added `5` to it.  What should be new is the `==` which is Python's way of doing _equality_.  Which means the statement:\n",
    "\n",
    "`x + 5 == 12` \n",
    "\n",
    "Asks the question, does `x + 5` equal `12`?\n",
    "\n",
    "If it does, return `True`, else return `False`.\n",
    "\n",
    "Finally, let's look at strings:"
   ]
  },
  {
   "cell_type": "code",
   "execution_count": 9,
   "metadata": {
    "slideshow": {
     "slide_type": "slide"
    }
   },
   "outputs": [
    {
     "name": "stdout",
     "output_type": "stream",
     "text": [
      "Hello there new friend,\n"
     ]
    }
   ],
   "source": [
    "# Strings\n",
    "\n",
    "greeting = \"Hello there\"\n",
    "\n",
    "greeting += \" new friend,\"\n",
    "print(greeting)"
   ]
  },
  {
   "cell_type": "markdown",
   "metadata": {
    "slideshow": {
     "slide_type": "notes"
    }
   },
   "source": [
    "There are two new elements here:\n",
    "\n",
    "1. Mutli letter semantic variable names\n",
    "2. Strings!\n",
    "\n",
    "In Python, generally speaking, it's always better for your names to be semantic, so you can easily reason about your code.  The closer you can get your code to english, the better.  \n",
    "\n",
    "We also saw strings, which we can \"concatenate\" together with the `+` symbol.  This implies something important:\n",
    "\n",
    "_Operators act differently depending on the data you supply them_.\n",
    "\n",
    "This is not _always_ true.  It very much depends.  But for the primitive operators you can take it as a given.  This will be _very_ helpful for debugging your code, which happen a lot, and forever.  Almost nothing will ever work the first time."
   ]
  },
  {
   "cell_type": "markdown",
   "metadata": {
    "slideshow": {
     "slide_type": "slide"
    }
   },
   "source": [
    "## Iteration, The True Power Of Programming"
   ]
  },
  {
   "cell_type": "markdown",
   "metadata": {
    "slideshow": {
     "slide_type": "notes"
    }
   },
   "source": [
    "Remember how we mentioned efficiency?  Well the reason why programs efficiency matters, is because we are going to do things _a bunch_ of times.  And when I say a bunch of times, I some times mean trillions of times.  \n",
    "\n",
    "In order to do this, we use a technique called \"iteration\".  This allows us to carry out an activity _many_, _many_ times.  \n",
    "\n",
    "Let's look at an example:"
   ]
  },
  {
   "cell_type": "code",
   "execution_count": 10,
   "metadata": {
    "slideshow": {
     "slide_type": "slide"
    }
   },
   "outputs": [
    {
     "name": "stdout",
     "output_type": "stream",
     "text": [
      "0\n",
      "1\n",
      "2\n",
      "3\n",
      "4\n",
      "5\n",
      "6\n",
      "7\n",
      "8\n",
      "9\n"
     ]
    }
   ],
   "source": [
    "index = 0\n",
    "\n",
    "while index < 10:\n",
    "    print(index)\n",
    "    index += 1"
   ]
  },
  {
   "cell_type": "markdown",
   "metadata": {
    "slideshow": {
     "slide_type": "notes"
    }
   },
   "source": [
    "The above simple example accomplishes a fairly trival task, it enumerates all the numbers between 0 and 9.  This is the basis for interation.  Iteration is _always_ indexed by the natural numbers.  That's why we name the variable we are \"iterating over\" the index.  As the index increases, we get closer and closer to the terminal statement.\n",
    "\n",
    "Here the terminal statement is inside a \"while\" loop.\n",
    "\n",
    "A while statement works somewhat like an if statement.  In an if statement, we check a condition and if the condition is True, then we execute a set of steps.  In a while loop, we check if a condition is True, the same way as before.  The difference being, we keep executing the statement, _until_ the statement is False.  This means any while loop has the potential to go on forever, without stopping.  \n",
    "\n",
    "The way we get around this generally is with something called a for loop, which will get to in a little while.\n"
   ]
  },
  {
   "cell_type": "markdown",
   "metadata": {
    "slideshow": {
     "slide_type": "slide"
    }
   },
   "source": [
    "## Lists"
   ]
  },
  {
   "cell_type": "markdown",
   "metadata": {
    "slideshow": {
     "slide_type": "notes"
    }
   },
   "source": [
    "Now that we've gotten through how to represent data and iteration, the next thing to do is learn to represent \"collections\" of variables.  For this will need something called a list:"
   ]
  },
  {
   "cell_type": "code",
   "execution_count": 11,
   "metadata": {
    "slideshow": {
     "slide_type": "slide"
    }
   },
   "outputs": [
    {
     "name": "stdout",
     "output_type": "stream",
     "text": [
      "[1, 2, 3, 4, 5]\n"
     ]
    }
   ],
   "source": [
    "listing = [1,2,3,4,5]\n",
    "\n",
    "print(listing)"
   ]
  },
  {
   "cell_type": "markdown",
   "metadata": {
    "slideshow": {
     "slide_type": "notes"
    }
   },
   "source": [
    "Lists are different than the other variables we've seen thus far, in that in addition to being able to print the _entire_ collection, we can also print specific elements:"
   ]
  },
  {
   "cell_type": "code",
   "execution_count": 12,
   "metadata": {
    "slideshow": {
     "slide_type": "slide"
    }
   },
   "outputs": [
    {
     "name": "stdout",
     "output_type": "stream",
     "text": [
      "1\n",
      "5\n"
     ]
    }
   ],
   "source": [
    "print(listing[0])\n",
    "print(listing[4])"
   ]
  },
  {
   "cell_type": "markdown",
   "metadata": {
    "slideshow": {
     "slide_type": "notes"
    }
   },
   "source": [
    "Notice that lists are \"zero-indexed\", so if there are \"N\" elements in our list, then the last number is in the \"N\"-1st position.  That's why, when we access the fourth index, we are actually getting the 5th element.\n",
    "\n",
    "Let's look at how to iterate over a list using a while loop:"
   ]
  },
  {
   "cell_type": "code",
   "execution_count": 13,
   "metadata": {
    "slideshow": {
     "slide_type": "slide"
    }
   },
   "outputs": [
    {
     "name": "stdout",
     "output_type": "stream",
     "text": [
      "1\n",
      "2\n",
      "3\n",
      "4\n",
      "5\n"
     ]
    }
   ],
   "source": [
    "listing = [1,2,3,4,5]\n",
    "\n",
    "index = 0\n",
    "while index < len(listing):\n",
    "    print(listing[index])\n",
    "    index += 1"
   ]
  },
  {
   "cell_type": "markdown",
   "metadata": {
    "slideshow": {
     "slide_type": "notes"
    }
   },
   "source": [
    "There is actually a short hand for above, the for loop that we talked about earlier:"
   ]
  },
  {
   "cell_type": "code",
   "execution_count": 14,
   "metadata": {
    "slideshow": {
     "slide_type": "slide"
    }
   },
   "outputs": [
    {
     "name": "stdout",
     "output_type": "stream",
     "text": [
      "2\n",
      "3\n",
      "4\n",
      "5\n",
      "6\n"
     ]
    }
   ],
   "source": [
    "listing = [2,3,4,5,6]\n",
    "\n",
    "for element in listing:\n",
    "    print(element)"
   ]
  },
  {
   "cell_type": "markdown",
   "metadata": {
    "slideshow": {
     "slide_type": "notes"
    }
   },
   "source": [
    "I started this list at 2 just to make it clear that we iterate _over the elements_ of the list, not an index.\n",
    "\n",
    "And if we'd like to print the index _and_ the elements we can do so as follows:"
   ]
  },
  {
   "cell_type": "code",
   "execution_count": 18,
   "metadata": {
    "slideshow": {
     "slide_type": "slide"
    }
   },
   "outputs": [
    {
     "name": "stdout",
     "output_type": "stream",
     "text": [
      "The element is 1 at index 0\n",
      "The element is 2 at index 1\n",
      "The element is 3 at index 2\n",
      "The element is 4 at index 3\n",
      "The element is 5 at index 4\n"
     ]
    }
   ],
   "source": [
    "listing = [1,2,3,4,5]\n",
    "\n",
    "for index, element in enumerate(listing):\n",
    "    print(\"The element is\",element,\"at index\",index)"
   ]
  },
  {
   "cell_type": "markdown",
   "metadata": {
    "slideshow": {
     "slide_type": "notes"
    }
   },
   "source": [
    "Notice that we concatenated the element, index variables with the string by using `,`'s.  This will only work inside of a print statement.  If python sees a string and an integer then this won't work in general, so we cannot do the following:"
   ]
  },
  {
   "cell_type": "code",
   "execution_count": 19,
   "metadata": {
    "slideshow": {
     "slide_type": "slide"
    }
   },
   "outputs": [
    {
     "ename": "TypeError",
     "evalue": "can only concatenate str (not \"int\") to str",
     "output_type": "error",
     "traceback": [
      "\u001b[0;31m---------------------------------------------------------------------------\u001b[0m",
      "\u001b[0;31mTypeError\u001b[0m                                 Traceback (most recent call last)",
      "\u001b[0;32m<ipython-input-19-29631da85a7a>\u001b[0m in \u001b[0;36m<module>\u001b[0;34m\u001b[0m\n\u001b[0;32m----> 1\u001b[0;31m \u001b[0;34m\"thing \"\u001b[0m \u001b[0;34m+\u001b[0m \u001b[0;36m5\u001b[0m\u001b[0;34m\u001b[0m\u001b[0;34m\u001b[0m\u001b[0m\n\u001b[0m",
      "\u001b[0;31mTypeError\u001b[0m: can only concatenate str (not \"int\") to str"
     ]
    }
   ],
   "source": [
    "\"thing \" + 5"
   ]
  },
  {
   "cell_type": "markdown",
   "metadata": {
    "slideshow": {
     "slide_type": "notes"
    }
   },
   "source": [
    "And if we try to do this outside of a print statement we end up with:"
   ]
  },
  {
   "cell_type": "code",
   "execution_count": 21,
   "metadata": {
    "slideshow": {
     "slide_type": "slide"
    }
   },
   "outputs": [
    {
     "data": {
      "text/plain": [
       "('thing', 5, 'whatever')"
      ]
     },
     "execution_count": 21,
     "metadata": {},
     "output_type": "execute_result"
    }
   ],
   "source": [
    "\"thing\", 5, \"whatever\""
   ]
  },
  {
   "cell_type": "markdown",
   "metadata": {
    "slideshow": {
     "slide_type": "notes"
    }
   },
   "source": [
    "So if we are outside a print statement and want the equivalent we need to use something called an \"f-string\":"
   ]
  },
  {
   "cell_type": "code",
   "execution_count": 22,
   "metadata": {
    "slideshow": {
     "slide_type": "slide"
    }
   },
   "outputs": [
    {
     "data": {
      "text/plain": [
       "'thing 5 whatever'"
      ]
     },
     "execution_count": 22,
     "metadata": {},
     "output_type": "execute_result"
    }
   ],
   "source": [
    "x = 5\n",
    "\n",
    "f\"thing {x} whatever\""
   ]
  },
  {
   "cell_type": "markdown",
   "metadata": {
    "slideshow": {
     "slide_type": "notes"
    }
   },
   "source": [
    "Here the f stands for \"format\".  The way it works is we put `{}` around a variable we have access to and then the string will replace whatever is in the `{}` with that variable."
   ]
  },
  {
   "cell_type": "markdown",
   "metadata": {
    "slideshow": {
     "slide_type": "slide"
    }
   },
   "source": [
    "## Dictionaries"
   ]
  },
  {
   "cell_type": "markdown",
   "metadata": {
    "slideshow": {
     "slide_type": "notes"
    }
   },
   "source": [
    "While lists are always indexed by the natural numbers, we can also create collections indexed by whatever we want.  These are called dictionaries in Python, but they go by other names in other languages.  So if you are talking to programmers who work in other languages, don't be fooled if they call it something else.\n",
    "\n",
    "They work as follows:"
   ]
  },
  {
   "cell_type": "code",
   "execution_count": 23,
   "metadata": {
    "slideshow": {
     "slide_type": "slide"
    }
   },
   "outputs": [
    {
     "name": "stdout",
     "output_type": "stream",
     "text": [
      "{0: 1, 1: 2, 3: 4, 4: 5}\n"
     ]
    }
   ],
   "source": [
    "dictionary = {0:1, 1:2, 3:4, 4:5}\n",
    "\n",
    "print(dictionary)"
   ]
  },
  {
   "cell_type": "markdown",
   "metadata": {
    "slideshow": {
     "slide_type": "notes"
    }
   },
   "source": [
    "Here the first value of each \"pair\" is the key, or index of the dictionary and the second value is just called the \"value\".  \n",
    "\n",
    "Here is how we get to specific elements:"
   ]
  },
  {
   "cell_type": "code",
   "execution_count": 24,
   "metadata": {
    "slideshow": {
     "slide_type": "slide"
    }
   },
   "outputs": [
    {
     "data": {
      "text/plain": [
       "1"
      ]
     },
     "execution_count": 24,
     "metadata": {},
     "output_type": "execute_result"
    }
   ],
   "source": [
    "dictionary[0]"
   ]
  },
  {
   "cell_type": "markdown",
   "metadata": {
    "slideshow": {
     "slide_type": "notes"
    }
   },
   "source": [
    "Notice that I decided to use the same index that we might find in a list.  With a dictionary we can also do this:"
   ]
  },
  {
   "cell_type": "code",
   "execution_count": 28,
   "metadata": {
    "slideshow": {
     "slide_type": "slide"
    }
   },
   "outputs": [
    {
     "name": "stdout",
     "output_type": "stream",
     "text": [
      "{0: 1, 1: 2, 3: 4, 4: 5, 'narf': 6}\n",
      "\n",
      "6\n"
     ]
    }
   ],
   "source": [
    "dictionary[\"narf\"] = 6\n",
    "\n",
    "print(dictionary)\n",
    "print()\n",
    "print(dictionary[\"narf\"])"
   ]
  },
  {
   "cell_type": "markdown",
   "metadata": {
    "slideshow": {
     "slide_type": "notes"
    }
   },
   "source": [
    "As you can see, the index for a dictionary can be any of our primitives _as well as other things_.  We'll get to those later.\n",
    "\n",
    "Additionally we can see all the keys of a dictionary at once:"
   ]
  },
  {
   "cell_type": "code",
   "execution_count": 29,
   "metadata": {
    "slideshow": {
     "slide_type": "slide"
    }
   },
   "outputs": [
    {
     "data": {
      "text/plain": [
       "dict_keys([0, 1, 3, 4, 'narf'])"
      ]
     },
     "execution_count": 29,
     "metadata": {},
     "output_type": "execute_result"
    }
   ],
   "source": [
    "dictionary.keys()"
   ]
  },
  {
   "cell_type": "markdown",
   "metadata": {
    "slideshow": {
     "slide_type": "notes"
    }
   },
   "source": [
    "or all of the values:"
   ]
  },
  {
   "cell_type": "code",
   "execution_count": 31,
   "metadata": {
    "slideshow": {
     "slide_type": "slide"
    }
   },
   "outputs": [
    {
     "data": {
      "text/plain": [
       "dict_values([1, 2, 4, 5, 6])"
      ]
     },
     "execution_count": 31,
     "metadata": {},
     "output_type": "execute_result"
    }
   ],
   "source": [
    "dictionary.values()"
   ]
  },
  {
   "cell_type": "markdown",
   "metadata": {
    "slideshow": {
     "slide_type": "notes"
    }
   },
   "source": [
    "One of the other differences between lists and dictionaries is how we add elements to each:"
   ]
  },
  {
   "cell_type": "code",
   "execution_count": 32,
   "metadata": {
    "slideshow": {
     "slide_type": "slide"
    }
   },
   "outputs": [
    {
     "data": {
      "text/plain": [
       "([1], {0: 1})"
      ]
     },
     "execution_count": 32,
     "metadata": {},
     "output_type": "execute_result"
    }
   ],
   "source": [
    "listing = []\n",
    "\n",
    "dictionary = {}\n",
    "\n",
    "listing.append(1)\n",
    "dictionary[0] = 1\n",
    "\n",
    "listing, dictionary"
   ]
  },
  {
   "cell_type": "markdown",
   "metadata": {
    "slideshow": {
     "slide_type": "notes"
    }
   },
   "source": [
    "For the list we had to use something called \"dot notation\" to call a \"method\".  Whereas with a dictionary we can just update directly as part of the \"syntax\" of a dictionary.  We can _technically_ do this with a list as well, although it's not used as often:"
   ]
  },
  {
   "cell_type": "code",
   "execution_count": 33,
   "metadata": {
    "slideshow": {
     "slide_type": "slide"
    }
   },
   "outputs": [
    {
     "data": {
      "text/plain": [
       "[1, 2]"
      ]
     },
     "execution_count": 33,
     "metadata": {},
     "output_type": "execute_result"
    }
   ],
   "source": [
    "listing += [2]\n",
    "\n",
    "listing"
   ]
  },
  {
   "cell_type": "markdown",
   "metadata": {
    "slideshow": {
     "slide_type": "notes"
    }
   },
   "source": [
    "Here the list is updated via concatenation.\n",
    "\n",
    "Now that we've gone over all our primitive collections, types and iterations, let's look at a new idea, called a \"function\".\n",
    "\n",
    "In addition to being able to iterate over collections or an index, we can make our code appear more streamlined with functions.  Let's look at an example of a function first:"
   ]
  },
  {
   "cell_type": "code",
   "execution_count": 35,
   "metadata": {
    "slideshow": {
     "slide_type": "slide"
    }
   },
   "outputs": [
    {
     "name": "stdout",
     "output_type": "stream",
     "text": [
      "Hello there, Eric\n",
      "Hello there, Bob\n",
      "Hello there, Sally\n",
      "Hello there, Abby\n"
     ]
    }
   ],
   "source": [
    "def greeting_generator(name):\n",
    "    return f\"Hello there, {name}\"\n",
    "\n",
    "print(greeting_generator(\"Eric\"))\n",
    "print(greeting_generator(\"Bob\"))\n",
    "print(greeting_generator(\"Sally\"))\n",
    "print(greeting_generator(\"Abby\"))"
   ]
  },
  {
   "cell_type": "markdown",
   "metadata": {
    "slideshow": {
     "slide_type": "notes"
    }
   },
   "source": [
    "Having to make each function call explicitly is annoying to type so we can make this more readable with the following iteration:"
   ]
  },
  {
   "cell_type": "code",
   "execution_count": 36,
   "metadata": {
    "slideshow": {
     "slide_type": "slide"
    }
   },
   "outputs": [
    {
     "name": "stdout",
     "output_type": "stream",
     "text": [
      "Hello there, Eric\n",
      "Hello there, Bob\n",
      "Hello there, Sally\n",
      "Hello there, Abby\n"
     ]
    }
   ],
   "source": [
    "def greeting_generator(name):\n",
    "    return f\"Hello there, {name}\"\n",
    "\n",
    "names = [\"Eric\", \"Bob\", \"Sally\", \"Abby\"]\n",
    "\n",
    "for name in names:\n",
    "    print(greeting_generator(name))"
   ]
  },
  {
   "cell_type": "markdown",
   "metadata": {
    "slideshow": {
     "slide_type": "notes"
    }
   },
   "source": [
    "This becomes especially useful if our lists are created from other \"up-stream\" functions or pulled from a data source.  Also, now our little bit of code can handle a lot more names than we can comfortably type with any sort of speed.\n",
    "\n",
    "We'll look at functions in more detail later, but one last thing to consider when using them is that you want it to be clear and explicit what the function expects as well as what it returns.  You can do that with type annotations.  These are little hints to Python about the types we are passing, here is an example:"
   ]
  },
  {
   "cell_type": "code",
   "execution_count": 37,
   "metadata": {
    "slideshow": {
     "slide_type": "slide"
    }
   },
   "outputs": [
    {
     "data": {
      "text/plain": [
       "'Hello there, Sandy'"
      ]
     },
     "execution_count": 37,
     "metadata": {},
     "output_type": "execute_result"
    }
   ],
   "source": [
    "def greeting_generator(name: str) -> str:\n",
    "    return f\"Hello there, {name}\"\n",
    "\n",
    "greeting_generator(\"Sandy\")"
   ]
  },
  {
   "cell_type": "markdown",
   "metadata": {
    "slideshow": {
     "slide_type": "notes"
    }
   },
   "source": [
    "As you can see, now we know what _types_ the function expects and returns.  "
   ]
  },
  {
   "cell_type": "markdown",
   "metadata": {
    "slideshow": {
     "slide_type": "slide"
    }
   },
   "source": [
    "\n",
    "In general the syntax for the parameters of the function are - `variable: type of variable` and then the return is after the close paranetheis of the function followed by the type and ending with a colon like so:\n",
    "\n",
    "`) -> type of return:`."
   ]
  },
  {
   "cell_type": "markdown",
   "metadata": {
    "slideshow": {
     "slide_type": "slide"
    }
   },
   "source": [
    "## Classes\n"
   ]
  },
  {
   "cell_type": "markdown",
   "metadata": {
    "slideshow": {
     "slide_type": "notes"
    }
   },
   "source": [
    "Now that we've seen how functions work, let's create our \"own\" class which will allow us to group collections of functions and data together for organizational purposes.  Instead of just using a class for a trivial notion of organizational structure, we'll motivate classes through the paradigm of static and dynamic memory addresses.  These two concepts form the backbone of how computation is done \"practically\" within a computer, as well why having a type system is useful.  To do this, we'll implement two versions of a list:\n",
    "\n",
    "1. An array type - arrays are have static memory and come pre-assigned with a certain amount of memory.  Then addition is used to index into the elements of the array.  The other reason arrays are useful as a construct, is because they motivate types and the different sizes of said types.  \n",
    "\n",
    "2. A linked list - linked lists have dynamic memory and don't come with any preassigned length.  This means linked lists can have _any_ type of data in them, but we have the drawback of having to iterate through the linked list to get to _any_ element.\n",
    "\n",
    "Of course, modern python implementations don't make use of either of these data structures directly.  The largest point of common ground is notionally - all three data structures, the array, the linked list and python lists all are indexed by the natural numbers.\n",
    "\n",
    "Let's get started with the array class:"
   ]
  },
  {
   "cell_type": "code",
   "execution_count": 11,
   "metadata": {},
   "outputs": [
    {
     "data": {
      "text/plain": [
       "150"
      ]
     },
     "execution_count": 11,
     "metadata": {},
     "output_type": "execute_result"
    }
   ],
   "source": [
    "class Array:\n",
    "    def __init__(self, of_type=\"int\", start_size=100):\n",
    "        self.of_type = of_type\n",
    "        self.element_size = \"0\" * self.type_size()\n",
    "        self.internal_memory = \"\"\n",
    "        self.array_size = start_size\n",
    "        self.cur_index = 0\n",
    "        self.expand_array_size(start_size)\n",
    "      \n",
    "    def expand_array_size(self, update_size):\n",
    "        self.internal_memory += \" \"\n",
    "        self.internal_memory += \" \".join(\n",
    "            [self.element_size for _ in range(update_size)]\n",
    "        )\n",
    "        self.array_size += update_size\n",
    "        \n",
    "    def type_size(self):\n",
    "        if self.of_type == \"int\":\n",
    "            return 4\n",
    "        if self.of_type == \"char\":\n",
    "            return 1\n",
    "        if self.of_type == \"float\":\n",
    "            return 8\n",
    "        \n",
    "    def _type_cast(self, element):\n",
    "        if self.of_type == \"int\":\n",
    "            return int(element)\n",
    "        if self.of_type == \"char\":\n",
    "            return str(element)\n",
    "        if self.of_type == \"float\":\n",
    "            return float(element)\n",
    "        \n",
    "    def _reassign_slice(self, start_index, end_index, data):\n",
    "        return self.internal_memory[:start_index] + data + self.internal_memory[end_index:]\n",
    "        \n",
    "    def append(self, data, _update_size=100):\n",
    "        if self.array_size == self.cur_index:\n",
    "            self.expand_array_size(update_size)\n",
    "        data_length = len(str(data))\n",
    "        pad = self.type_size() - data_length\n",
    "        if pad < 0:\n",
    "            raise Exception(\n",
    "                f\"Data is too big for this type, maximum length is {self.type_size()}\"\n",
    "            )\n",
    "        start_index = self.cur_index * self.type_size()\n",
    "        end_index = start_index + self.type_size()\n",
    "        self.internal_memory = self._reassign_slice(\n",
    "            start_index,\n",
    "            end_index,\n",
    "            pad*\"0\" + str(data)\n",
    "        )\n",
    "        self.cur_index += 1\n",
    "        self.array_size += 1\n",
    "    \n",
    "    def index(self, key):\n",
    "        start_index = key * self.type_size()\n",
    "        end_index = start_index + self.type_size()\n",
    "        element = self.internal_memory[start_index: end_index]\n",
    "        return self._type_cast(element)\n",
    "    \n",
    "array = Array()\n",
    "[array.append(i) for i in range(200)]\n",
    "array.index(150)"
   ]
  },
  {
   "cell_type": "markdown",
   "metadata": {
    "slideshow": {
     "slide_type": "slide"
    }
   },
   "source": [
    "As we can see from the above code, we start off with a static amount of memory and then \"index\" into the array by virtue of the fact that memory is \"continguous\", that is, occurring together in sequence.  This partially motivates why we index lists _in general_ by the natural numbers.  It's because the first lists were contiguous in memory.\n",
    "\n",
    "Next we'll look at a list with dynamic memory allocation - the Linkedlist."
   ]
  },
  {
   "cell_type": "code",
   "execution_count": 12,
   "metadata": {
    "slideshow": {
     "slide_type": "slide"
    }
   },
   "outputs": [
    {
     "name": "stdout",
     "output_type": "stream",
     "text": [
      "\"[0, 1, 2, 3, 4, 5, 'a']\"\n"
     ]
    }
   ],
   "source": [
    "class Node:\n",
    "    def __init__(self, data, next=None):\n",
    "        self.data = data\n",
    "        self.next = next\n",
    "        \n",
    "    def __str__(self):\n",
    "        return repr(self.data)\n",
    "    \n",
    "class LinkedList:\n",
    "    def __init__(self):\n",
    "        self.head = None\n",
    "        \n",
    "    def append(self, data):\n",
    "        if self.head is None:\n",
    "            self.head = Node(data)\n",
    "        else:\n",
    "            cur = self.head\n",
    "            while cur.next:\n",
    "                cur = cur.next\n",
    "            cur.next = Node(data)\n",
    "    \n",
    "    def __str__(self):\n",
    "        elements = []\n",
    "        if self.head is not None:\n",
    "            cur = self.head\n",
    "            while cur:\n",
    "                elements.append(cur.data)\n",
    "                cur = cur.next\n",
    "        return repr(str(elements))\n",
    "        \n",
    "linked_list = LinkedList()\n",
    "\n",
    "for element in [0,1,2,3,4,5]:\n",
    "    linked_list.append(element)\n",
    "    \n",
    "linked_list.append(\"a\")\n",
    "print(linked_list)"
   ]
  },
  {
   "cell_type": "markdown",
   "metadata": {},
   "source": [
    "As you can see from the above code, we have to dynamically iterate through the elements to get to access each element.  And even to append, we have to iterate to the end of the list, because we explicitly don't want to assume _anything_ about memory addressing.  The advantage of this is we can do things like append strings to our linked list without any thought at all.  But on the downside, we cannot get \"fast\" indexing, like we do with the array type."
   ]
  },
  {
   "cell_type": "markdown",
   "metadata": {
    "slideshow": {
     "slide_type": "slide"
    }
   },
   "source": [
    "## Supplemental Material\n",
    "\n",
    "Because there are _many_ python tutorials out there and I don't assume that mine is the best, here are some links that might be helpful:\n",
    "\n",
    "* https://www.programiz.com/python-programming/tutorial - a secondary guide to getting started with python that I really liked.\n",
    "\n",
    "If you are feeling frustrated, this might make you feel better:\n",
    "\n",
    "* http://veekaybee.github.io/2018/03/12/installing-python-is-hard/ - Vicki lays out all the frustrations of installing Python - I never said it would be easy, just possible :)\n",
    "\n",
    "If you were completely lost by this first lecture I highly recommend checking out these introduction to Python classes:\n",
    "\n",
    "* https://ocw.mit.edu/courses/electrical-engineering-and-computer-science/6-189-a-gentle-introduction-to-programming-using-python-january-iap-2011/ - this is the most basic python course.  If you were completely lost start here.\n",
    "\n",
    "* https://ocw.mit.edu/courses/electrical-engineering-and-computer-science/6-0001-introduction-to-computer-science-and-programming-in-python-fall-2016/ - a slightly harder introduction.  If most of this made sense but you'd like to dive deeper or were confused by some things go watch these lectures.\n",
    "\n",
    "* https://ocw.mit.edu/courses/electrical-engineering-and-computer-science/6-0002-introduction-to-computational-thinking-and-data-science-fall-2016/ - this course doesn't really cover data science as much as it actually really covers \"algorithms\", but they do some data science as the course goes further.  As you can see 6-0002 picks up where 6-0001 left off.  This course is _harder_ than you need to understand for much of this class.  But if you really want to push yourself, here is a challenge.  Just make sure to not burn out!\n",
    "\n",
    "If you learn well from games:\n",
    "\n",
    "https://www.twilio.com/quest"
   ]
  }
 ],
 "metadata": {
  "celltoolbar": "Slideshow",
  "kernelspec": {
   "display_name": "Python 3",
   "language": "python",
   "name": "python3"
  },
  "language_info": {
   "codemirror_mode": {
    "name": "ipython",
    "version": 3
   },
   "file_extension": ".py",
   "mimetype": "text/x-python",
   "name": "python",
   "nbconvert_exporter": "python",
   "pygments_lexer": "ipython3",
   "version": "3.7.9"
  }
 },
 "nbformat": 4,
 "nbformat_minor": 4
}
