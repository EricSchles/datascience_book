{
 "cells": [
  {
   "cell_type": "markdown",
   "metadata": {},
   "source": [
    "# An Introduction to Classification\n",
    "\n",
    "* A Statistical Model Revisited\n",
    "* Linear Discriminant Analysis\n",
    "* Quadratic Discriminant Analysis\n",
    "* Logistic Regression"
   ]
  },
  {
   "cell_type": "markdown",
   "metadata": {},
   "source": [
    "## A Statistical Model Revisited\n",
    "\n",
    "Thus far we have looked at statistical models that carry out the regression task.  That is, they take in a set of one or more variables and produce a number.  Specifically, when we say regression we mean:\n",
    "\n",
    "$$ \\hat{y} = mX + b $$\n",
    "\n",
    "On the right hand side:\n",
    "\n",
    "Where `X` is a tensor of one or more variables.  When `X` represents a single variable, we call it a vector.  And when `X` represents more than one variable we typically refer to it as a matrix.  However, it is also possible for `X` to represent higher dimensions.\n",
    "\n",
    "`m` and `b` are just scalars, typically from the real numbers.\n",
    "\n",
    "On the left hand side:\n",
    "\n",
    "$\\hat{y}$ is also typically from the real numbers.  \n",
    "\n",
    "And we say that we regress X on y.\n",
    "\n",
    "One of the important things to note about this procedure is the nature of $\\hat{y}$, because it is from the reals it's output carries distance.  That means:\n",
    "\n",
    "if for a given set of X's $\\hat{y}$ = 5.32 and for another set of X's $\\hat{y}$ = -1.83 then we can say that the output of the first set of variables is strictly higher than the output of the second set.\n",
    "\n",
    "It is not always the case that our output being metrizable, that is being measurable in terms of distance, is useful.  It may be the case that our output should not carry any sense of distance or comparison in anyway.\n",
    "\n",
    "For this we need to introduce a new statistical task, that of classification.\n",
    "\n",
    "## Classification\n",
    "\n",
    "The basic idea behind classification is, what if we output a $\\hat{y}$ that was categorical rather than continuous?  We've already seen categorical variables in the Applying Statistical Tests chapter.  But more formally, a categorical variable is one in which the different classes are just that, classes.  They are just designations.  So let's say we had two classes, A and B.  They could be classes of anything.  Like tall and short people.  Or young and old people.  Or different flavors of ice cream.  As much as people might try to rank order these different classes, neither is truly better than the other.  \n",
    "\n",
    "If you want to try a fun experiment, ask some friends what they think about different classes of things, like maybe whether it's better to be young or old, better to be tall or short, better to eat vanilla or chocolate ice cream.  I bet, as long as your friends aren't too similar, they'll all answer differently.  And that's the point!  There is no objective ordering of any of these classes.  And therefore, we cannot define an explicit metric to rank them.\n",
    "\n",
    "So what?  How are categorical variables useful?  Well turns out they have tons of uses!  We used them extensively in Applying Statistical Tests!  Specifically some of the demographic variables and the converted variable were all categorical.  Without categorical data, we'd never be able to model any of that!  And then we'd be greatly constraining the set of problems we can solve with statistical modeling and analysis.\n",
    "\n",
    "Hopefully I've convinced you that classification is cool!  Now let's look at a basic definition of it, so we can compare against our regression task.\n",
    "\n",
    "### Linear Discriminant Analysis\n",
    "\n",
    "We'll start our analysis of classification by looking at Linear Discriminant Analysis.  \n",
    "\n",
    "Let's start with the problem set up:\n",
    "\n",
    "Assume we have two classes and a bunch of data about the population in general.  The data about the population of interest is referred to as features of the data.  And the two classes are called the labels or target.  \n",
    "\n",
    "To make this practical, let's set up a discrete example:\n",
    "\n",
    "Assume you want to understand whether someone is likely to vote republican or democrat in the up coming election.  Let's assume you have:\n",
    "\n",
    "* Age\n",
    "* Salary\n",
    "* Location\n",
    "\n",
    "Let's first generate the dataset, and then we can start to go over the technique:"
   ]
  },
  {
   "cell_type": "code",
   "execution_count": 4,
   "metadata": {},
   "outputs": [],
   "source": [
    "import warnings\n",
    "warnings.filterwarnings('ignore')"
   ]
  },
  {
   "cell_type": "code",
   "execution_count": 18,
   "metadata": {},
   "outputs": [],
   "source": [
    "import pandas as pd\n",
    "import random\n",
    "import numpy as np\n",
    "\n",
    "df = pd.DataFrame()\n",
    "\n",
    "df[\"party\"] = [random.choice([\"republican\", \"democrat\"])\n",
    "               for _ in range(2000)]\n",
    "df[\"Age\"] = np.random.normal(50, 15, size=2000)\n",
    "df[\"Age\"] = df[\"Age\"].astype(int)\n",
    "df[\"Salary\"] = np.random.normal(45000, 1500, size=2000)\n",
    "df[\"Salary\"] = df[\"Salary\"].apply(lambda x: round(x, 2))\n",
    "df[\"Latitude\"] = np.random.normal(39, 15, size=2000)\n",
    "df[\"Latitude\"] = df[\"Latitude\"].apply(lambda x: round(x, 4))\n",
    "df[\"Longitude\"] = np.random.normal(94, 15, size=2000)\n",
    "df[\"Longitude\"] = df[\"Longitude\"].apply(lambda x: round(x, 4))"
   ]
  },
  {
   "cell_type": "code",
   "execution_count": 19,
   "metadata": {},
   "outputs": [
    {
     "data": {
      "text/html": [
       "<div>\n",
       "<style scoped>\n",
       "    .dataframe tbody tr th:only-of-type {\n",
       "        vertical-align: middle;\n",
       "    }\n",
       "\n",
       "    .dataframe tbody tr th {\n",
       "        vertical-align: top;\n",
       "    }\n",
       "\n",
       "    .dataframe thead th {\n",
       "        text-align: right;\n",
       "    }\n",
       "</style>\n",
       "<table border=\"1\" class=\"dataframe\">\n",
       "  <thead>\n",
       "    <tr style=\"text-align: right;\">\n",
       "      <th></th>\n",
       "      <th>party</th>\n",
       "      <th>Age</th>\n",
       "      <th>Salary</th>\n",
       "      <th>Latitude</th>\n",
       "      <th>Longitude</th>\n",
       "    </tr>\n",
       "  </thead>\n",
       "  <tbody>\n",
       "    <tr>\n",
       "      <th>0</th>\n",
       "      <td>democrat</td>\n",
       "      <td>61</td>\n",
       "      <td>44548.66</td>\n",
       "      <td>37.9401</td>\n",
       "      <td>65.7632</td>\n",
       "    </tr>\n",
       "    <tr>\n",
       "      <th>1</th>\n",
       "      <td>republican</td>\n",
       "      <td>38</td>\n",
       "      <td>44649.46</td>\n",
       "      <td>36.7487</td>\n",
       "      <td>90.8648</td>\n",
       "    </tr>\n",
       "    <tr>\n",
       "      <th>2</th>\n",
       "      <td>republican</td>\n",
       "      <td>58</td>\n",
       "      <td>45752.06</td>\n",
       "      <td>32.5113</td>\n",
       "      <td>110.9692</td>\n",
       "    </tr>\n",
       "    <tr>\n",
       "      <th>3</th>\n",
       "      <td>republican</td>\n",
       "      <td>24</td>\n",
       "      <td>43568.75</td>\n",
       "      <td>50.2584</td>\n",
       "      <td>86.1798</td>\n",
       "    </tr>\n",
       "    <tr>\n",
       "      <th>4</th>\n",
       "      <td>republican</td>\n",
       "      <td>79</td>\n",
       "      <td>44753.97</td>\n",
       "      <td>31.2356</td>\n",
       "      <td>65.8461</td>\n",
       "    </tr>\n",
       "  </tbody>\n",
       "</table>\n",
       "</div>"
      ],
      "text/plain": [
       "        party  Age    Salary  Latitude  Longitude\n",
       "0    democrat   61  44548.66   37.9401    65.7632\n",
       "1  republican   38  44649.46   36.7487    90.8648\n",
       "2  republican   58  45752.06   32.5113   110.9692\n",
       "3  republican   24  43568.75   50.2584    86.1798\n",
       "4  republican   79  44753.97   31.2356    65.8461"
      ]
     },
     "execution_count": 19,
     "metadata": {},
     "output_type": "execute_result"
    }
   ],
   "source": [
    "df.head()"
   ]
  },
  {
   "cell_type": "markdown",
   "metadata": {},
   "source": [
    "As you can see, we've also generated a target variable, `party`.  This will be what we want our model to predict.  Linear Discriminate Analysis can also be used for dimensionality reduction, which we will look at in a different chapter.\n",
    "\n",
    "For classification the procedure is:\n",
    "\n",
    "1. calculate the mean per class per variable.\n",
    "2. calculate the covariances per class\n",
    "3. apply the least sum of squares algorithm to the two matrices calculated above and take the first component.\n",
    "4. use the diaginal of the dot product between the means and the coefficients to recover the intercept."
   ]
  },
  {
   "cell_type": "code",
   "execution_count": 31,
   "metadata": {
    "scrolled": true
   },
   "outputs": [],
   "source": [
    "import numpy as np\n",
    "\n",
    "def mean_per_class(df, target_column):\n",
    "    return df.groupby(target_column).agg(np.mean)\n",
    "\n",
    "def covariance_per_class(df, target_column):\n",
    "    return df.groupby(target_column).agg(np.cov)\n",
    "\n",
    "means = mean_per_class(df, \"party\")\n",
    "covariances = covariance_per_class(df, \"party\")\n",
    "coefficients = np.linalg.lstsq(covariances.values, means.values)[0].T"
   ]
  },
  {
   "cell_type": "markdown",
   "metadata": {},
   "source": [
    "As you can see, we recover the coefficients!  I decided not to show the intercept because it's a bit complex and doesn't add much in terms of teaching value.  \n",
    "\n",
    "So, we've covered how you train this classifier.  But how do you make predictions?  This is the major difference between classification and regression.  For regression problems you simply apply your matrix to new data and whatever you output is what you get.  With classification the steps are as follows:\n",
    "\n",
    "1. apply a decision function, which will give you back the log likelihood ratio of the positive class.  \n",
    "\n",
    "2. calculate the predicted probabilities for membership to each class are generated from the results of the decision function.\n",
    "\n",
    "3. Get the classes by taking the argmax, which maps to whichever class has a higher probability associated.\n",
    "\n",
    "We won't look at those methods explicitly however it is important to know that this is the general procedure for classification.  Let's turn now to making use of scikit-learn's implementation of Linear Discriminant Analysis for a classification task:"
   ]
  },
  {
   "cell_type": "code",
   "execution_count": 35,
   "metadata": {},
   "outputs": [
    {
     "name": "stdout",
     "output_type": "stream",
     "text": [
      "              precision    recall  f1-score   support\n",
      "\n",
      "           0       0.46      0.59      0.52       209\n",
      "           1       0.63      0.50      0.56       291\n",
      "\n",
      "    accuracy                           0.54       500\n",
      "   macro avg       0.54      0.55      0.54       500\n",
      "weighted avg       0.56      0.54      0.54       500\n",
      "\n"
     ]
    }
   ],
   "source": [
    "from sklearn.discriminant_analysis import LinearDiscriminantAnalysis\n",
    "from sklearn.model_selection import train_test_split\n",
    "from sklearn.metrics import classification_report\n",
    "\n",
    "y = df[\"party\"].map({\"republican\": 0, \"democrat\": 1})\n",
    "X = df[[\"Age\", \"Salary\", \"Longitude\", \"Latitude\"]].values\n",
    "X_train, X_test, y_train, y_test = train_test_split(X, y, random_state=1)\n",
    "clf = LinearDiscriminantAnalysis(solver=\"lsqr\")\n",
    "clf.fit(X_train, y_train)\n",
    "y_hat = clf.predict(X_test)\n",
    "print(classification_report(y_test, y_hat))"
   ]
  },
  {
   "cell_type": "markdown",
   "metadata": {},
   "source": [
    "While Linear Discriminant Analysis is rarely used for classification because it's many assumptions, namely:\n",
    "\n",
    "* Each of the variables is independent \n",
    "* Each of the variables is normally distributed\n",
    "* The covariances of variables of each class must be the same.\n",
    "\n",
    "The third assumption means that the covariance of `Age|republican` must be the same as `Age|democrat`.  An assumption that is rarely met.\n",
    "\n",
    "We can verify this third assumption via Levene's statistical test, which has the null hypothesis:\n",
    "\n",
    "* all inputs have the same variance"
   ]
  },
  {
   "cell_type": "code",
   "execution_count": 22,
   "metadata": {},
   "outputs": [
    {
     "name": "stdout",
     "output_type": "stream",
     "text": [
      "LeveneResult(statistic=0.02456965054531071, pvalue=0.8754600091236577)\n",
      "LeveneResult(statistic=1.2048036089916552, pvalue=0.27249596326066977)\n"
     ]
    }
   ],
   "source": [
    "from scipy import stats\n",
    "\n",
    "republican = df[df[\"party\"] == \"republican\"]\n",
    "democrat = df[df[\"party\"] == \"democrat\"]\n",
    "print(stats.levene(republican[\"Age\"], democrat[\"Age\"], center=\"mean\"))\n",
    "print(stats.levene(republican[\"Salary\"], democrat[\"Salary\"], center=\"mean\"))"
   ]
  },
  {
   "cell_type": "markdown",
   "metadata": {},
   "source": [
    "We fail to reject the null hypothesis in all cases!  So our assumptions are met!  Now that we are sure of our analysis, we can do something that we can't do with many of our other classifiers, easily interpret the coefficients of our model!!!"
   ]
  },
  {
   "cell_type": "code",
   "execution_count": 23,
   "metadata": {},
   "outputs": [
    {
     "name": "stdout",
     "output_type": "stream",
     "text": [
      "Age -0.006751944049528613\n",
      "Salary -5.5718297874918915e-05\n",
      "Longitude -0.001031102835223785\n",
      "Latitude 0.005239780367858271\n"
     ]
    }
   ],
   "source": [
    "coef = clf.coef_[0]\n",
    "for index, column in enumerate([\"Age\", \"Salary\", \"Longitude\", \"Latitude\"]):\n",
    "    print(column, coef[index])\n"
   ]
  },
  {
   "cell_type": "markdown",
   "metadata": {},
   "source": [
    "Because we are dealing with binary classification there is only one discriminat function.  We see that `Age` has the largest magnitude and therefore dominates the function used to separate the data into one of the two classes.  In fact, we can directly recover the discriminant score function by taking a linear combination of the data and it's weights:"
   ]
  },
  {
   "cell_type": "code",
   "execution_count": 24,
   "metadata": {},
   "outputs": [],
   "source": [
    "from functools import partial\n",
    "\n",
    "def get_score_function(clf, x):\n",
    "    coef = clf.coef_[0]\n",
    "    summation = 0\n",
    "    for index, column in enumerate([\"Age\", \"Salary\", \"Longitude\", \"Latitude\"]):\n",
    "        summation += x[column] * coef[index]\n",
    "    return summation\n",
    "\n",
    "get_score = partial(get_score_function, clf)\n",
    "\n",
    "df[\"score\"] = df.apply(get_score, axis=1)"
   ]
  },
  {
   "cell_type": "code",
   "execution_count": 25,
   "metadata": {},
   "outputs": [
    {
     "data": {
      "text/html": [
       "<div>\n",
       "<style scoped>\n",
       "    .dataframe tbody tr th:only-of-type {\n",
       "        vertical-align: middle;\n",
       "    }\n",
       "\n",
       "    .dataframe tbody tr th {\n",
       "        vertical-align: top;\n",
       "    }\n",
       "\n",
       "    .dataframe thead th {\n",
       "        text-align: right;\n",
       "    }\n",
       "</style>\n",
       "<table border=\"1\" class=\"dataframe\">\n",
       "  <thead>\n",
       "    <tr style=\"text-align: right;\">\n",
       "      <th></th>\n",
       "      <th>party</th>\n",
       "      <th>Age</th>\n",
       "      <th>Salary</th>\n",
       "      <th>Latitude</th>\n",
       "      <th>Longitude</th>\n",
       "      <th>score</th>\n",
       "    </tr>\n",
       "  </thead>\n",
       "  <tbody>\n",
       "    <tr>\n",
       "      <th>0</th>\n",
       "      <td>democrat</td>\n",
       "      <td>61</td>\n",
       "      <td>44548.66</td>\n",
       "      <td>37.9401</td>\n",
       "      <td>65.7632</td>\n",
       "      <td>-2.763055</td>\n",
       "    </tr>\n",
       "    <tr>\n",
       "      <th>1</th>\n",
       "      <td>republican</td>\n",
       "      <td>38</td>\n",
       "      <td>44649.46</td>\n",
       "      <td>36.7487</td>\n",
       "      <td>90.8648</td>\n",
       "      <td>-2.645502</td>\n",
       "    </tr>\n",
       "    <tr>\n",
       "      <th>2</th>\n",
       "      <td>republican</td>\n",
       "      <td>58</td>\n",
       "      <td>45752.06</td>\n",
       "      <td>32.5113</td>\n",
       "      <td>110.9692</td>\n",
       "      <td>-2.884908</td>\n",
       "    </tr>\n",
       "    <tr>\n",
       "      <th>3</th>\n",
       "      <td>republican</td>\n",
       "      <td>24</td>\n",
       "      <td>43568.75</td>\n",
       "      <td>50.2584</td>\n",
       "      <td>86.1798</td>\n",
       "      <td>-2.415141</td>\n",
       "    </tr>\n",
       "    <tr>\n",
       "      <th>4</th>\n",
       "      <td>republican</td>\n",
       "      <td>79</td>\n",
       "      <td>44753.97</td>\n",
       "      <td>31.2356</td>\n",
       "      <td>65.8461</td>\n",
       "      <td>-2.931245</td>\n",
       "    </tr>\n",
       "  </tbody>\n",
       "</table>\n",
       "</div>"
      ],
      "text/plain": [
       "        party  Age    Salary  Latitude  Longitude     score\n",
       "0    democrat   61  44548.66   37.9401    65.7632 -2.763055\n",
       "1  republican   38  44649.46   36.7487    90.8648 -2.645502\n",
       "2  republican   58  45752.06   32.5113   110.9692 -2.884908\n",
       "3  republican   24  43568.75   50.2584    86.1798 -2.415141\n",
       "4  republican   79  44753.97   31.2356    65.8461 -2.931245"
      ]
     },
     "execution_count": 25,
     "metadata": {},
     "output_type": "execute_result"
    }
   ],
   "source": [
    "df.head()"
   ]
  },
  {
   "cell_type": "markdown",
   "metadata": {},
   "source": [
    "Here we can think of this score as the value that seperates what the classify uses to decide whether the voter is republican or democrat.\n",
    "\n",
    "Now, just for completeness, let's see what our coefficients would look like with three possible classes:"
   ]
  },
  {
   "cell_type": "code",
   "execution_count": 26,
   "metadata": {},
   "outputs": [],
   "source": [
    "df_three_party = pd.DataFrame()\n",
    "\n",
    "df_three_party[\"party\"] = [random.choice([\"republican\", \"democrat\", \"other\"])\n",
    "                           for _ in range(2000)]\n",
    "df_three_party[\"Age\"] = np.random.normal(50, 15, size=2000)\n",
    "df_three_party[\"Age\"] = df_three_party[\"Age\"].astype(int)\n",
    "df_three_party[\"Salary\"] = np.random.normal(45000, 1500, size=2000)\n",
    "df_three_party[\"Salary\"] = df_three_party[\"Salary\"].apply(lambda x: round(x, 2))\n",
    "df_three_party[\"Latitude\"] = np.random.normal(39, 15, size=2000)\n",
    "df_three_party[\"Latitude\"] = df_three_party[\"Latitude\"].apply(lambda x: round(x, 4))\n",
    "df_three_party[\"Longitude\"] = np.random.normal(94, 15, size=2000)\n",
    "df_three_party[\"Longitude\"] = df_three_party[\"Longitude\"].apply(lambda x: round(x, 4))"
   ]
  },
  {
   "cell_type": "code",
   "execution_count": 36,
   "metadata": {},
   "outputs": [
    {
     "name": "stdout",
     "output_type": "stream",
     "text": [
      "              precision    recall  f1-score   support\n",
      "\n",
      "           0       0.30      0.21      0.24       164\n",
      "           1       0.36      0.18      0.24       191\n",
      "           2       0.27      0.54      0.36       145\n",
      "\n",
      "    accuracy                           0.29       500\n",
      "   macro avg       0.31      0.31      0.28       500\n",
      "weighted avg       0.31      0.29      0.28       500\n",
      "\n"
     ]
    }
   ],
   "source": [
    "from sklearn.discriminant_analysis import LinearDiscriminantAnalysis\n",
    "from sklearn.model_selection import train_test_split\n",
    "from sklearn.metrics import classification_report\n",
    "\n",
    "y_three = df_three_party[\"party\"].map({\"republican\": 0, \"democrat\": 1, \"other\": 2})\n",
    "X_three = df_three_party[[\"Age\", \"Salary\", \"Longitude\", \"Latitude\"]].values\n",
    "X_train_three, X_test_three, y_train_three, y_test_three = train_test_split(X_three, y_three, random_state=1)\n",
    "clf = LinearDiscriminantAnalysis(solver=\"lsqr\")\n",
    "clf.fit(X_train_three, y_train_three)\n",
    "y_hat_three = clf.predict(X_test_three)\n",
    "print(classification_report(y_test_three, y_hat_three))"
   ]
  },
  {
   "cell_type": "code",
   "execution_count": 28,
   "metadata": {},
   "outputs": [
    {
     "data": {
      "text/plain": [
       "array([[0.23809209, 0.02021859, 0.32809829, 0.09160052],\n",
       "       [0.24152133, 0.02017162, 0.33672914, 0.09618743],\n",
       "       [0.23650017, 0.0201524 , 0.33376261, 0.09001002]])"
      ]
     },
     "execution_count": 28,
     "metadata": {},
     "output_type": "execute_result"
    }
   ],
   "source": [
    "clf.coef_"
   ]
  },
  {
   "cell_type": "markdown",
   "metadata": {},
   "source": [
    "As you can see, now there are three discriminant functions which are used to differentiate the data.  Each row represents a different linear discriminant function.\n",
    "\n",
    "## Quadratic Discriminant Analysis\n",
    "\n",
    "With Linear Discriminant Analysis we made some very strong assumptions:\n",
    "\n",
    "* Each of the variables is independent \n",
    "* Each of the variables is normally distributed\n",
    "* The covariances of variables of each class must be the same.\n",
    "\n",
    "It is unlikely that the third assumption will be met.  This is the major motivation for Quadratic Discriminant Analysis which drops this assumption.  \n",
    "\n",
    "In Quadratic Discriminant Analysis we therefore drop this assumption.  The other assumptions of Linear Discriminant Analysis persist.  Therefore our assumptions are:\n",
    "\n",
    "* Each of the variables is independent \n",
    "* Each of the variables is normally distributed\n",
    "\n",
    "In addition to relaxing the equivalence of covariances of classes we also now can have of a quadratic nature, hence the name.  Therefore we can fit these new shapes:\n",
    "\n",
    "* conic sections\n",
    "* line\n",
    "* circles\n",
    "* ellipse\n",
    "* parabola\n",
    "* hyperbola\n",
    "\n",
    "Notice that we can still fit a line, meaning that quadratic discriminant analysis has a super set of the curve fitting power of linear discriminant analysis.  One of the use cases I haven't discussed yet, is dimensionality reduction.  It is possible to use linear discriminant analysis to do this.  However, with quadratic discriminant analysis, we can only do classification.  So while quadratic discriminant analysis has many desirable features, it doesn't have the flexability of linear discriminant analysis.  We will cover dimensionality reduction in detail in another chapter, so if you don't know what it is, don't worry!\n",
    "\n",
    "Before we cover quadratic discriminant analysis, you'll need to understand singular value decomposition, which will be necessary for quadratic discriminant analysis, so if you haven't read the linear algebra chapter yet, it is highly recommended that you do so at this point.\n",
    "\n",
    "Let's look at what's changed in the implementation of quadratic discriminant analysis:"
   ]
  },
  {
   "cell_type": "code",
   "execution_count": 32,
   "metadata": {},
   "outputs": [],
   "source": [
    "import numpy as np\n",
    "\n",
    "def quadratic_discriminant_analysis(df, target):\n",
    "    means = []\n",
    "    covariances = []\n",
    "    scalings = []\n",
    "    rotations = []\n",
    "    for klass, sub_df in df.groupby(target):\n",
    "        sub_df.drop(target, axis=1, inplace=True)\n",
    "        mean = sub_df.mean(0).values\n",
    "        means.append(mean)\n",
    "        demeaned_data = sub_df.values - mean\n",
    "        U, diag, V = np.linalg.svd(demeaned_data, full_matrices=False)\n",
    "        scaled_diag = (diag ** 2) / (len(sub_df) - 1)\n",
    "        covariance = np.dot(scaled_diag * V.T, V)\n",
    "        covariances.append(covariance)\n",
    "        scalings.append(scaled_diag)\n",
    "        rotations.append(V.T)\n",
    "    return means, covariances, scalings, rotations\n",
    "\n",
    "means, covariances, scalings, rotations = quadratic_discriminant_analysis(df, \"party\")"
   ]
  },
  {
   "cell_type": "markdown",
   "metadata": {},
   "source": [
    "As you can see from the above code, just like with linear discriminant analysis we still take the mean and covariance.  However, we no longer apply least squares optimization.  Now we are making use of singular value decomposition, which is what allows for the non linearities.  Also note, we estimate the covariances from our optimization operation, rather than simply computing them directly.  \n",
    "\n",
    "Now let's see an example of quadratic discriminant analysis with scikit-learn!"
   ]
  },
  {
   "cell_type": "code",
   "execution_count": 37,
   "metadata": {},
   "outputs": [
    {
     "name": "stdout",
     "output_type": "stream",
     "text": [
      "              precision    recall  f1-score   support\n",
      "\n",
      "           0       0.45      0.58      0.51       209\n",
      "           1       0.62      0.49      0.55       291\n",
      "\n",
      "    accuracy                           0.53       500\n",
      "   macro avg       0.53      0.54      0.53       500\n",
      "weighted avg       0.55      0.53      0.53       500\n",
      "\n"
     ]
    }
   ],
   "source": [
    "from sklearn.discriminant_analysis import QuadraticDiscriminantAnalysis\n",
    "\n",
    "clf = QuadraticDiscriminantAnalysis()\n",
    "clf.fit(X_train, y_train)\n",
    "y_hat = clf.predict(X_test)\n",
    "print(classification_report(y_test, y_hat))"
   ]
  },
  {
   "cell_type": "markdown",
   "metadata": {},
   "source": [
    "Comparing this against linear discriminant analysis:\n",
    "    \n",
    "```\n",
    "              precision    recall  f1-score   support\n",
    "\n",
    "           0       0.46      0.59      0.52       209\n",
    "           1       0.63      0.50      0.56       291\n",
    "\n",
    "    accuracy                           0.54       500\n",
    "   macro avg       0.54      0.55      0.54       500\n",
    "weighted avg       0.56      0.54      0.54       500\n",
    "```\n",
    "\n",
    "We can see the two classifiers are approximately the same.  However, now let's look at what happens when the equality of covariance assumption is violated:"
   ]
  },
  {
   "cell_type": "code",
   "execution_count": 5,
   "metadata": {},
   "outputs": [],
   "source": [
    "import random\n",
    "import pandas as pd\n",
    "import numpy as np\n",
    "\n",
    "df_cov = pd.DataFrame()\n",
    "\n",
    "def split_unevenly(df):\n",
    "    half = len(df)/2\n",
    "    if int(half) != half:\n",
    "        return int(half)+1, int(half)\n",
    "    return int(half), int(half)\n",
    "\n",
    "df_cov[\"party\"] = [random.choice([\"republican\", \"democrat\"])\n",
    "                   for _ in range(2000)]\n",
    "democrat = df_cov[df_cov[\"party\"] == \"democrat\"]\n",
    "republican = df_cov[df_cov[\"party\"] == \"republican\"]\n",
    "first_half_republican, second_half_republican = split_unevenly(republican)\n",
    "first_half_democrat, second_half_democrat = split_unevenly(democrat)\n",
    "\n",
    "democrat[\"Age\"] = np.random.normal(35, 19, size=len(democrat))\n",
    "democrat[\"Age\"] = democrat[\"Age\"].astype(int)\n",
    "republican[\"Age\"] = np.random.normal(55, 10, size=len(republican))\n",
    "republican[\"Age\"] = republican[\"Age\"].astype(int)\n",
    "\n",
    "democrat[\"Salary\"] = np.random.normal(65000, 15000, size=len(democrat))\n",
    "democrat[\"Salary\"] = democrat[\"Salary\"].apply(lambda x: round(x, 2))\n",
    "republican[\"Salary\"] = np.concatenate([\n",
    "    np.random.normal(25000, 1500, size=first_half_republican),\n",
    "    np.random.normal(155000, 10000, size=second_half_republican)\n",
    "])\n",
    "republican[\"Salary\"] = republican[\"Salary\"].apply(lambda x: round(x, 2))\n",
    "\n",
    "democrat[\"Latitude\"] = np.concatenate([\n",
    "    np.random.normal(40, 1, size=first_half_democrat),\n",
    "    np.random.normal(34, 1, size=second_half_democrat)\n",
    "])\n",
    "democrat[\"Latitude\"] = democrat[\"Latitude\"].apply(lambda x: round(x, 4))\n",
    "republican[\"Latitude\"] = np.random.normal(39, 15, size=len(republican))\n",
    "republican[\"Latitude\"] = republican[\"Latitude\"].apply(lambda x: round(x, 4))\n",
    "\n",
    "democrat[\"Longitude\"] = np.random.normal(94, 15, size=len(democrat))\n",
    "democrat[\"Longitude\"] = democrat[\"Longitude\"].apply(lambda x: round(x, 4))\n",
    "republican[\"Longitude\"] = np.random.normal(94, 15, size=len(republican))\n",
    "republican[\"Longitude\"] = republican[\"Longitude\"].apply(lambda x: round(x, 4))\n",
    "\n",
    "df_cov = pd.concat([democrat, republican])"
   ]
  },
  {
   "cell_type": "code",
   "execution_count": 6,
   "metadata": {},
   "outputs": [
    {
     "name": "stdout",
     "output_type": "stream",
     "text": [
      "              precision    recall  f1-score   support\n",
      "\n",
      "           0       0.70      0.77      0.73       245\n",
      "           1       0.75      0.68      0.71       255\n",
      "\n",
      "    accuracy                           0.72       500\n",
      "   macro avg       0.72      0.72      0.72       500\n",
      "weighted avg       0.72      0.72      0.72       500\n",
      "\n"
     ]
    }
   ],
   "source": [
    "from sklearn.model_selection import train_test_split\n",
    "from sklearn.discriminant_analysis import LinearDiscriminantAnalysis\n",
    "from sklearn.metrics import classification_report\n",
    "\n",
    "y_cov = df_cov[\"party\"].map({\"republican\": 0, \"democrat\": 1})\n",
    "X_cov = df_cov[[\"Age\", \"Salary\", \"Longitude\", \"Latitude\"]].values\n",
    "X_train_cov, X_test_cov, y_train_cov, y_test_cov = train_test_split(X_cov, y_cov, random_state=1)\n",
    "linear_clf = LinearDiscriminantAnalysis(solver=\"lsqr\")\n",
    "linear_clf.fit(X_train_cov, y_train_cov)\n",
    "y_hat_cov = linear_clf.predict(X_test_cov)\n",
    "print(classification_report(y_test_cov, y_hat_cov))"
   ]
  },
  {
   "cell_type": "code",
   "execution_count": 12,
   "metadata": {},
   "outputs": [
    {
     "name": "stdout",
     "output_type": "stream",
     "text": [
      "              precision    recall  f1-score   support\n",
      "\n",
      "           0       0.97      0.98      0.98       241\n",
      "           1       0.98      0.97      0.98       259\n",
      "\n",
      "    accuracy                           0.98       500\n",
      "   macro avg       0.98      0.98      0.98       500\n",
      "weighted avg       0.98      0.98      0.98       500\n",
      "\n"
     ]
    }
   ],
   "source": [
    "from sklearn.discriminant_analysis import QuadraticDiscriminantAnalysis\n",
    "\n",
    "quad_clf = QuadraticDiscriminantAnalysis()\n",
    "quad_clf.fit(X_train_cov, y_train_cov)\n",
    "y_hat_cov = quad_clf.predict(X_test_cov)\n",
    "print(classification_report(y_test_cov, y_hat_cov))"
   ]
  },
  {
   "cell_type": "markdown",
   "metadata": {},
   "source": [
    "As you can see, when we relax the equivalence of covariance assumption linear discriminant analysis does much worse than quadratic discriminant analysis.  However, we lose interpretability of our discrinant function.  Quadratic Discriminant Analysis doesn't even come with a `coef_` attribute, which means are ability to interpret our results is somewhat limited.  As is seemingly always the case with this sort of thing, by relaxing assumptions we lose interpretability.  But we make up that lose with an increase in statistical performance, as is evidenced here."
   ]
  },
  {
   "cell_type": "markdown",
   "metadata": {},
   "source": [
    "## Logistic Regression\n",
    "\n",
    "Now that we've gone over linear and quadratic discriminant analysis it's time to touch upon the most widely used version of the linear classifier models, logistic regression.\n",
    "\n",
    "Let's describe our Logistic Regression problem explicitly.  Start by assuming two independent variables $x_{1}$, $x_{2}$ and one dependent binary variable from a Bernoulli distribution.  Then we have:\n",
    "\n",
    "$$ l = log_{b} \\frac{p}{1-p} = \\beta_{0} + \\beta_{1}x_{1} + \\beta_{2}x_{2} $$\n",
    "\n",
    "Here $\\log_{b}\\frac{p}{1-p}$ is referred to as the log odds.  Logistic Regression requires almost none of the assumptions that linear regression requires.  Here they are:\n",
    "\n",
    "* independence of observations.\n",
    "* no multicollinearity between independent variables\n",
    "* a linear relationship with the log odds, as specified in the above equation.\n",
    "\n",
    "\n",
    "Next lets try to understand odds, first let's review a contingency table:"
   ]
  },
  {
   "cell_type": "code",
   "execution_count": 16,
   "metadata": {},
   "outputs": [
    {
     "data": {
      "text/html": [
       "<div>\n",
       "<style scoped>\n",
       "    .dataframe tbody tr th:only-of-type {\n",
       "        vertical-align: middle;\n",
       "    }\n",
       "\n",
       "    .dataframe tbody tr th {\n",
       "        vertical-align: top;\n",
       "    }\n",
       "\n",
       "    .dataframe thead th {\n",
       "        text-align: right;\n",
       "    }\n",
       "</style>\n",
       "<table border=\"1\" class=\"dataframe\">\n",
       "  <thead>\n",
       "    <tr style=\"text-align: right;\">\n",
       "      <th></th>\n",
       "      <th>diagnosed</th>\n",
       "      <th>exposed</th>\n",
       "    </tr>\n",
       "    <tr>\n",
       "      <th>group</th>\n",
       "      <th></th>\n",
       "      <th></th>\n",
       "    </tr>\n",
       "  </thead>\n",
       "  <tbody>\n",
       "    <tr>\n",
       "      <th>A</th>\n",
       "      <td>142</td>\n",
       "      <td>321</td>\n",
       "    </tr>\n",
       "    <tr>\n",
       "      <th>B</th>\n",
       "      <td>106</td>\n",
       "      <td>240</td>\n",
       "    </tr>\n",
       "  </tbody>\n",
       "</table>\n",
       "</div>"
      ],
      "text/plain": [
       "       diagnosed  exposed\n",
       "group                    \n",
       "A            142      321\n",
       "B            106      240"
      ]
     },
     "execution_count": 16,
     "metadata": {},
     "output_type": "execute_result"
    }
   ],
   "source": [
    "import pandas as pd\n",
    "from scipy import stats\n",
    "\n",
    "A_size = 1000\n",
    "B_size = 1000\n",
    "A_probability = 0.15\n",
    "A_exposed_probability = 0.3\n",
    "B_probability = 0.1\n",
    "B_exposed_probability = 0.26\n",
    "A_dist = stats.bernoulli(A_probability)\n",
    "A_exposed_dist = stats.bernoulli(A_exposed_probability)\n",
    "B_dist = stats.bernoulli(B_probability)\n",
    "B_exposed_dist = stats.bernoulli(B_exposed_probability)\n",
    "\n",
    "df_A = pd.DataFrame()\n",
    "df_A[\"diagnosed\"] = A_dist.rvs(size=A_size)\n",
    "df_A[\"exposed\"] = A_exposed_dist.rvs(size=A_size)\n",
    "df_A[\"group\"] = \"A\"\n",
    "df_B = pd.DataFrame()\n",
    "df_B[\"diagnosed\"] = B_dist.rvs(size=B_size)\n",
    "df_B[\"exposed\"] = B_exposed_dist.rvs(size=B_size)\n",
    "df_B[\"group\"] = \"B\"\n",
    "contingency_df = df_A.append(df_B)\n",
    "\n",
    "summary = contingency_df.pivot_table(values=\"diagnosed\", index='group', aggfunc=np.sum)\n",
    "# add additional columns to the pivot table\n",
    "summary['exposed'] = contingency_df.pivot_table(values=\"exposed\", index='group', aggfunc=np.sum)\n",
    "summary"
   ]
  },
  {
   "cell_type": "markdown",
   "metadata": {},
   "source": [
    "Now that we a contingency table we can calculate the odds ratio as:"
   ]
  },
  {
   "cell_type": "code",
   "execution_count": 17,
   "metadata": {},
   "outputs": [
    {
     "data": {
      "text/plain": [
       "1.0015870216892964"
      ]
     },
     "execution_count": 17,
     "metadata": {},
     "output_type": "execute_result"
    }
   ],
   "source": [
    "numerator = (summary[\"diagnosed\"][\"A\"]/summary[\"exposed\"][\"A\"])\n",
    "denominator = (summary[\"diagnosed\"][\"B\"]/summary[\"exposed\"][\"B\"])\n",
    "numerator/denominator"
   ]
  },
  {
   "cell_type": "markdown",
   "metadata": {},
   "source": [
    "The way to interpret the odds ratio is as follows:\n",
    "\n",
    "* If the odds ratio is equal to one then the variables are independent.\n",
    "* If the odds ratio is greater than one then there is a positive correlation between variables.\n",
    "* If the odds ratio is less than one then there is a negative correlation between the variables.\n",
    "\n",
    "Just for completeness, let's look at an example where there is a known association between the variables:"
   ]
  },
  {
   "cell_type": "code",
   "execution_count": 14,
   "metadata": {},
   "outputs": [
    {
     "data": {
      "text/html": [
       "<div>\n",
       "<style scoped>\n",
       "    .dataframe tbody tr th:only-of-type {\n",
       "        vertical-align: middle;\n",
       "    }\n",
       "\n",
       "    .dataframe tbody tr th {\n",
       "        vertical-align: top;\n",
       "    }\n",
       "\n",
       "    .dataframe thead th {\n",
       "        text-align: right;\n",
       "    }\n",
       "</style>\n",
       "<table border=\"1\" class=\"dataframe\">\n",
       "  <thead>\n",
       "    <tr style=\"text-align: right;\">\n",
       "      <th></th>\n",
       "      <th>diagnosed</th>\n",
       "      <th>exposed</th>\n",
       "    </tr>\n",
       "    <tr>\n",
       "      <th>group</th>\n",
       "      <th></th>\n",
       "      <th></th>\n",
       "    </tr>\n",
       "  </thead>\n",
       "  <tbody>\n",
       "    <tr>\n",
       "      <th>A One</th>\n",
       "      <td>79</td>\n",
       "      <td>175</td>\n",
       "    </tr>\n",
       "    <tr>\n",
       "      <th>A Two</th>\n",
       "      <td>64</td>\n",
       "      <td>168</td>\n",
       "    </tr>\n",
       "  </tbody>\n",
       "</table>\n",
       "</div>"
      ],
      "text/plain": [
       "       diagnosed  exposed\n",
       "group                    \n",
       "A One         79      175\n",
       "A Two         64      168"
      ]
     },
     "execution_count": 14,
     "metadata": {},
     "output_type": "execute_result"
    }
   ],
   "source": [
    "import pandas as pd\n",
    "import numpy as np\n",
    "from scipy import stats\n",
    "\n",
    "A_size = 1000\n",
    "\n",
    "A_probability = 0.15\n",
    "A_exposed_probability = 0.3\n",
    "A_dist = stats.bernoulli(A_probability)\n",
    "A_exposed_dist = stats.bernoulli(A_exposed_probability)\n",
    "\n",
    "df_A = pd.DataFrame()\n",
    "df_A[\"diagnosed\"] = A_dist.rvs(size=A_size)\n",
    "df_A[\"exposed\"] = A_exposed_dist.rvs(size=A_size)\n",
    "df_A[\"group\"] = np.nan\n",
    "for i in range(500):\n",
    "    df_A.iloc[i, df_A.columns.get_loc('group')] = \"A One\"\n",
    "for i in range(500, 1000):\n",
    "    df_A.iloc[i, df_A.columns.get_loc('group')] = \"A Two\"\n",
    "\n",
    "summary = df_A.pivot_table(values=\"diagnosed\", index='group', aggfunc=np.sum)\n",
    "# add additional columns to the pivot table\n",
    "summary['exposed'] = df_A.pivot_table(values=\"exposed\", index='group', aggfunc=np.sum)\n",
    "summary"
   ]
  },
  {
   "cell_type": "code",
   "execution_count": 15,
   "metadata": {},
   "outputs": [
    {
     "data": {
      "text/plain": [
       "1.185"
      ]
     },
     "execution_count": 15,
     "metadata": {},
     "output_type": "execute_result"
    }
   ],
   "source": [
    "numerator = (summary[\"diagnosed\"][\"A One\"]/summary[\"exposed\"][\"A One\"])\n",
    "denominator = (summary[\"diagnosed\"][\"A Two\"]/summary[\"exposed\"][\"A Two\"])\n",
    "numerator/denominator"
   ]
  },
  {
   "cell_type": "markdown",
   "metadata": {},
   "source": [
    "As you can see the value is clearly over one now because both samples came from the same distribution!  Now let's bring in the log function.  The log odds is known as the logit function.  It has the following domain and codomain:\n",
    "\n",
    "$$ logit: (0,1) \\rightarrow (-\\inf, \\inf) $$\n",
    "\n",
    "We can see this visually as:"
   ]
  },
  {
   "cell_type": "code",
   "execution_count": 38,
   "metadata": {},
   "outputs": [
    {
     "data": {
      "image/png": "[encoded data removed]",
      "text/plain": [
       "<IPython.core.display.Image object>"
      ]
     },
     "execution_count": 38,
     "metadata": {
      "image/png": {
       "height": 600,
       "width": 600
      }
     },
     "output_type": "execute_result"
    }
   ],
   "source": [
    "from IPython.display import Image\n",
    "Image(filename=\"logit.png\", height=600, width=600)"
   ]
  },
  {
   "cell_type": "markdown",
   "metadata": {},
   "source": [
    "As you can see, asymptotically approach (-infinity, +infinity) on the y axis.  This allows us to \"recover\" a linear regression problem by transforming our discrete dependent variable into a continuous one.  Next we apply a logistic function, which looks like:\n",
    "\n",
    "$$ f(x) = \\frac{L}{1 + e^{-k(x-x_{0})}} $$\n",
    "\n",
    "Where \n",
    "\n",
    "* $L$ = the cur'ves maximum value\n",
    "\n",
    "* $e$ = the natural log base, aka Euler's number\n",
    "\n",
    "* $x_{0}$ = the x-value of the sigmoid's midpoint\n",
    "\n",
    "* $k$ = the logistic growth rate or steepness of the curve\n",
    "\n",
    "This logistic function takes the output x to the range (0,1).  Thus the mapping looks like:\n",
    "\n",
    "$$ logistic: (-\\inf, \\inf) \\rightarrow (0,1) $$ \n",
    "\n",
    "So basically, we start with a binary dependent variable problem, transform it into a linear regression problem and then transform it back into a binary dependent variable problem.  This is the general framework for interpretting an already fit logistic regression.  It helps us motivate the link function (if you don't understand link functions, see the chapter on linear regression) for logistic regression.  However, this intuition does not translate towards fitting a logistic regression model.  This is because our dependent variable is Bernoulli distributed rather than normally distributed.  This implies, we do not have a closed form solution and therefore cannot apply least squares to our transformed linear model.  Therefore we must make use of an iterative model to carry out our logistic regression.  For this we will use stochast gradient descent.\n",
    "\n",
    "-- note: add more detail here as to why this won't work.  Mentioning is not enough.\n",
    "\n",
    "## Stochastic Gradient Descent\n",
    "\n",
    "Like in the linear regression chapter we will make use of the gradient to approximate our parameters for logistic regression.  The fitting procedure will be similar therefore an exhaustive explanation will not be provided.  First let's set up the general procedure for gradient descent:\n",
    "\n",
    "1. Initialize the weights\n",
    "2. get the scores by taking the dot product of weights and features\n",
    "3. apply the link function to get predictions\n",
    "4. apply the decision function to the predictions\n",
    "5. calculate the loss\n",
    "6. calculate the gradient of the loss\n",
    "7. update the weights\n",
    "8. repeat until cost is below the threshold"
   ]
  },
  {
   "cell_type": "code",
   "execution_count": 7,
   "metadata": {},
   "outputs": [
    {
     "name": "stdout",
     "output_type": "stream",
     "text": [
      "percent correct 0.5025\n",
      "cost 49749.5025\n",
      "percent correct 0.4975\n",
      "cost 50249.4975\n",
      "percent correct 0.5025\n",
      "cost 49749.5025\n",
      "percent correct 0.5025\n",
      "cost 49749.5025\n",
      "percent correct 0.4975\n",
      "cost 50249.4975\n",
      "percent correct 0.5025\n",
      "cost 49749.5025\n",
      "percent correct 0.5025\n",
      "cost 49749.5025\n",
      "percent correct 0.5025\n",
      "cost 49749.5025\n",
      "percent correct 0.4975\n",
      "cost 50249.4975\n",
      "percent correct 0.5025\n",
      "cost 49749.5025\n",
      "percent correct 0.5025\n",
      "cost 49749.5025\n"
     ]
    },
    {
     "data": {
      "text/plain": [
       "array([ 0.0806502 , -1.13655345,  2.15671482,  7.54445712,  2.53471749])"
      ]
     },
     "execution_count": 7,
     "metadata": {},
     "output_type": "execute_result"
    }
   ],
   "source": [
    "import numpy as np \n",
    "import math\n",
    "\n",
    "# Put stochastic gradient descent \n",
    "def sigmoid(scores):\n",
    "    return 1 / (1 + np.exp(-scores))\n",
    "\n",
    "def inf_log(arr):\n",
    "    arr = np.log(arr)\n",
    "    arr[arr == np.inf] = 99999\n",
    "    arr[arr == -np.inf] = -99999\n",
    "    return arr\n",
    "\n",
    "def cost_function(y, predictions): \n",
    "    step1 = (y * inf_log(predictions))\n",
    "    step2 = (1 - y) * inf_log(1 - predictions)\n",
    "    final = step1 + step2\n",
    "    final *= -1 \n",
    "    return np.nanmean(final)\n",
    "\n",
    "def decision_function(arr, threshold=0.5):\n",
    "    return np.where(arr>threshold, 1, 0)\n",
    "\n",
    "def logistic_regression(X, y, learning_rate, steepness=1, tolerance=0.1, max_iter=10000, add_intercept = False, debugging=False):\n",
    "    if add_intercept:\n",
    "        intercept = np.ones((X.shape[0], 1))\n",
    "        X = np.hstack((intercept, X))\n",
    "    \n",
    "    step = 0\n",
    "    weights = np.zeros(X.shape[1])\n",
    "    cost = 100000\n",
    "    costs = set()\n",
    "    while cost > tolerance:\n",
    "        scores = np.dot(X, weights)\n",
    "        scores *= steepness\n",
    "        predictions = sigmoid(scores)\n",
    "        predictions = decision_function(predictions)\n",
    "        error = y - predictions\n",
    "        gradient = np.dot(X.T, error)\n",
    "        weights += learning_rate * gradient\n",
    "        cost = cost_function(y, predictions)\n",
    "        cost = abs(cost)\n",
    "        if pd.isnull(cost):\n",
    "            cost = 10000\n",
    "        if debugging:\n",
    "            if step % 1000 == 0:\n",
    "                print(\"percent correct\", len(error[error == 0])/len(error))\n",
    "                print(\"cost\", cost)\n",
    "        step += 1\n",
    "        if step > max_iter:\n",
    "            break\n",
    "    return weights\n",
    "\n",
    "logistic_regression(X_cov, y_cov, learning_rate = 5e-8, add_intercept=True, debugging=True)"
   ]
  },
  {
   "cell_type": "markdown",
   "metadata": {},
   "source": [
    "Some things to note about this code:\n",
    "\n",
    "1. The cost function - We never explicitly talked about this, so what is our cost function?  Here we use cross entropy loss.  This is discussed in detailed in the An Introduction To Information Theory chapter so we won't cover it in detail here.  However let's at least note the formula:\n",
    "\n",
    "\n",
    "\n",
    "$$ -log(P(y_{true} | y_{prediction})) = -(y_{true}*log(y_{prediction}) + (1 - y_{true})*log(1 - y_{prediction})) $$\n",
    "\n",
    "2. The cost never converges - We might look at this and think, is our logistic regression implementation faulty?  And in fact, when first looking at this, that is what I thought as well.  But I think this is actually correct.  The reason it doesn't converge is because there isn't a connection between the independent and dependent variables.  Any connection that an algorithm picks up, is in fact a spurious connection.  So we shouldn't expect to see a convergence!\n",
    "\n",
    "3. percent correct - This is basically accuracy.  It counts the number of times the predicted label - true label is zero.  This will be the case whenever the label is correct.  As you can see logistic regression struggles with this quiet a bit!  And for the reason stated above, all associations are spurious.  Therefore we shouldn't expect logistic regression to do better than random!  \n",
    "\n",
    "4. Why we initialize the cost so high - the reason we start the cost so high is to ensure the learning process kicks off.  If we start the cost at zero, then the condition `cost > tolerance` would not hold and we would learn nothing!  We set it that high because tolerance is a setable parameter.  And it is highly unlikely someone would randomly choose a tolerance that high.  Yet of course, tolerance should always be a relatively small number!\n",
    "\n",
    "Next, let's look at how our implementation does when we actually have an association between our input and output data:"
   ]
  },
  {
   "cell_type": "code",
   "execution_count": 80,
   "metadata": {},
   "outputs": [
    {
     "name": "stdout",
     "output_type": "stream",
     "text": [
      "percent correct 0.4995\n",
      "cost 50049.4995\n",
      "percent correct 0.9385\n",
      "cost 6149.9385\n",
      "percent correct 0.9045\n",
      "cost 9549.9045\n",
      "percent correct 0.939\n",
      "cost 6099.939\n",
      "percent correct 0.9385\n",
      "cost 6149.9385\n",
      "percent correct 0.937\n",
      "cost 6299.937\n",
      "percent correct 0.9385\n",
      "cost 6149.9385\n",
      "percent correct 0.935\n",
      "cost 6499.935\n",
      "percent correct 0.8085\n",
      "cost 19149.8085\n",
      "percent correct 0.938\n",
      "cost 6199.938\n",
      "percent correct 0.938\n",
      "cost 6199.938\n"
     ]
    }
   ],
   "source": [
    "from sklearn.datasets import make_classification\n",
    "\n",
    "X_synthetic, y_synthetic = make_classification(n_samples=2000, n_features=5, n_informative=2)\n",
    "weights = logistic_regression(\n",
    "    X_synthetic, y_synthetic, \n",
    "    learning_rate = 5e-5, \n",
    "    max_iter=10000,  \n",
    "    debugging=True,\n",
    "    tolerance=0.0001\n",
    ")"
   ]
  },
  {
   "cell_type": "markdown",
   "metadata": {},
   "source": [
    "While our cost does not go down uniformly, clearly it does much better when there is an actual association!  So this is inline with what we'd expect.  Let's look at how scikit-learn handles both of these cases:"
   ]
  },
  {
   "cell_type": "code",
   "execution_count": 96,
   "metadata": {},
   "outputs": [
    {
     "name": "stdout",
     "output_type": "stream",
     "text": [
      "              precision    recall  f1-score   support\n",
      "\n",
      "           0       0.72      0.79      0.75       253\n",
      "           1       0.76      0.68      0.72       247\n",
      "\n",
      "    accuracy                           0.74       500\n",
      "   macro avg       0.74      0.74      0.74       500\n",
      "weighted avg       0.74      0.74      0.74       500\n",
      "\n",
      "[[-7.39671440e-02 -7.21439394e-06  3.84394184e-02  5.47035795e-03]]\n"
     ]
    }
   ],
   "source": [
    "from sklearn.linear_model import LogisticRegression\n",
    "\n",
    "logit_clf = LogisticRegression(C= 1e15)\n",
    "logit_clf.fit(X_train_cov, y_train_cov)\n",
    "y_hat_cov = logit_clf.predict(X_test_cov)\n",
    "print(classification_report(y_test_cov, y_hat_cov))\n",
    "print(logit_clf.coef_)"
   ]
  },
  {
   "cell_type": "markdown",
   "metadata": {},
   "source": [
    "It looks like scikit-learn's implementation \"finds\" a pattern even though this is a spurious correlation.  This is probably due to the various normalizations that scikit-learn's implementation produces.  Even if you set C very close to zero, unregularizing the classifier, normalization is still happening.  So a spurious assocation is discovered.  How might you deal with this in the real world?  I'd recommend checking to see if your independent variable and dependent variable are correlated before carrying out any modeling procedure.  As well as to see if they are correlated.  One can do that as follows:\n",
    "\n",
    "### Test For Independence\n",
    "\n",
    "In this case we have a binary dependent variable and continuous independent variables, so we need a test that accounts for this.  So we will make use of the Kruskal Wallis H test:"
   ]
  },
  {
   "cell_type": "code",
   "execution_count": 9,
   "metadata": {},
   "outputs": [
    {
     "name": "stdout",
     "output_type": "stream",
     "text": [
      "Age KruskalResult(statistic=2891.739819977506, pvalue=0.0)\n",
      "Salary KruskalResult(statistic=3096.007590212157, pvalue=0.0)\n",
      "Longitude KruskalResult(statistic=3096.0075914106146, pvalue=0.0)\n",
      "Latitude KruskalResult(statistic=3062.060559126142, pvalue=0.0)\n"
     ]
    }
   ],
   "source": [
    "from scipy import stats\n",
    "\n",
    "print(\"Age\", stats.kruskal(y_cov, X_cov.T[0]))\n",
    "print(\"Salary\", stats.kruskal(y_cov, X_cov.T[1]))\n",
    "print(\"Longitude\", stats.kruskal(y_cov, X_cov.T[2]))\n",
    "print(\"Latitude\", stats.kruskal(y_cov, X_cov.T[3]))"
   ]
  },
  {
   "cell_type": "markdown",
   "metadata": {},
   "source": [
    "The null hypothesis states that the samples are independent.  With a pvalue of 0 for all tests, we reject the null hypothesis.  Next let's check for correlation."
   ]
  },
  {
   "cell_type": "code",
   "execution_count": 8,
   "metadata": {},
   "outputs": [
    {
     "name": "stdout",
     "output_type": "stream",
     "text": [
      "Age PointbiserialrResult(correlation=-0.5353503486539664, pvalue=1.0050449552375386e-148)\n",
      "Salary PointbiserialrResult(correlation=-0.2555718407894013, pvalue=3.4254419601593957e-31)\n",
      "Longitude PointbiserialrResult(correlation=-0.0042012798366462805, pvalue=0.8510567096555385)\n",
      "Latitude PointbiserialrResult(correlation=-0.09632396567232096, pvalue=1.5954338456662734e-05)\n"
     ]
    }
   ],
   "source": [
    "from scipy import stats\n",
    "\n",
    "print(\"Age\", stats.pointbiserialr(y_cov, X_cov.T[0]))\n",
    "print(\"Salary\", stats.pointbiserialr(y_cov, X_cov.T[1]))\n",
    "print(\"Longitude\", stats.pointbiserialr(y_cov, X_cov.T[2]))\n",
    "print(\"Latitude\", stats.pointbiserialr(y_cov, X_cov.T[3]))"
   ]
  },
  {
   "cell_type": "markdown",
   "metadata": {},
   "source": [
    "The null hypothesis states that the two variables are uncorrelated.  Since we segmented our data based on party affiliation, it should come as no surprise that the data is correlated, except for Longitude.  Recall that we draw from the same distribution with the same shape parameters for Longitude.\n",
    "\n",
    "So it's clear that there _is_ a relationship that can be learned and what our algorithm recovered is not in fact spurious.  Next let's look how to interpret logistic regression:"
   ]
  },
  {
   "cell_type": "code",
   "execution_count": 83,
   "metadata": {},
   "outputs": [
    {
     "name": "stdout",
     "output_type": "stream",
     "text": [
      "              precision    recall  f1-score   support\n",
      "\n",
      "           0       0.89      0.92      0.90       251\n",
      "           1       0.91      0.88      0.90       249\n",
      "\n",
      "    accuracy                           0.90       500\n",
      "   macro avg       0.90      0.90      0.90       500\n",
      "weighted avg       0.90      0.90      0.90       500\n",
      "\n",
      "[[ 1.29595774 -0.18735592 -0.0976952   1.67962722 -0.84751533]]\n"
     ]
    }
   ],
   "source": [
    "from sklearn.linear_model import LogisticRegression\n",
    "\n",
    "X_synthetic, y_synthetic = make_classification(n_samples=2000, n_features=5, n_informative=2)\n",
    "X_train_synthetic, X_test_synthetic, y_train_synthetic, y_test_synthetic = train_test_split(X_synthetic, y_synthetic)\n",
    "logit_clf = LogisticRegression(C= 1e15)\n",
    "logit_clf.fit(X_train_synthetic, y_train_synthetic)\n",
    "y_hat_synthetic = logit_clf.predict(X_test_synthetic)\n",
    "print(classification_report(y_test_synthetic, y_hat_synthetic))\n",
    "print(logit_clf.coef_)"
   ]
  },
  {
   "cell_type": "markdown",
   "metadata": {},
   "source": [
    "To understand how to interpret our coefficients recall the original form of our logistic regression:\n",
    "\n",
    "$$ log(\\frac{p}{1-p}) = \\beta_{1}x_{1} + \\beta_{2}x_{2} + \\beta_{3}x_{3} + \\beta_{4}x_{4} + \\beta_{5}x_{5} $$\n",
    "\n",
    "We can invert this equation to be:\n",
    "\n",
    "$$ p = \\frac{1}{1- b^{-(\\beta_{1}x_{1} + \\beta_{2}x_{2} + \\beta_{3}x_{3} + \\beta_{4}x_{4} + \\beta_{5}x_{5})}} $$\n",
    "\n",
    "The important thing to note is of course:\n",
    "\n",
    "$$ \\beta_{1}x_{1} + \\beta_{2}x_{2} + \\beta_{3}x_{3} + \\beta_{4}x_{4} + \\beta_{5}x_{5} $$\n",
    "\n",
    "Let's look at our specific example, plugging in the coefficients:\n",
    "\n",
    "$$ 1.29595774 * x_{1} + -0.18735592 * x_{2} + -0.0976952 * x_{3} + 1.67962722 * x_{4} + -0.84751533 * x_{5} $$\n",
    "\n",
    "We can now look marginally at some of the parameters:\n",
    "\n",
    "It's important to note that for binary classification, everything is in the context of `Y=1`.\n",
    "\n",
    "So if $x_{1}$ were to increase by one that would lead to an increase in the probability that the classifer predicts one by:\n",
    "\n",
    "$$ b^{1.29595774} $$\n",
    "\n",
    "From scikit-learn's github implementation as well as this blog post: http://fa.bianp.net/blog/2013/numerical-optimizers-for-logistic-regression/ it appears as though the base is the natural number $e$\n",
    "\n",
    "Therefore we have:\n",
    "\n",
    "$$ e^{1.29595774} = 3.6544943540273094 $$\n",
    "\n",
    "So if $x_{1}$ increases generally then the probability that `Y=1` increases by a rate of `3.6544943540273094`.  Similarly the rates of towards a decision of `Y=1` and away from decision `Y=1` can be shown by increasing or decreasing each of the $x_{i}$'s.  Let's just look at one more case:\n",
    "\n",
    "For $x_{4}$ the coefficient is: `1.67962722`.\n",
    "\n",
    "This means the rate of increase will be:\n",
    "\n",
    "$$ e^{1.67962722} = 5.363556171932789 $$\n",
    "\n",
    "Which is almost double!!! So even small changes in our coefficients lead to large shifts in the decision boundary.  So logistic regression can be sensitive to underfitting and overfitting.  Therefore care ought to be taken.  This sort of explains why scikit-learns implementation is scaled and regularized by default.  You want to be sure about your parameters!!  Because being off by a little can lead to large shifts in decisions."
   ]
  },
  {
   "cell_type": "markdown",
   "metadata": {},
   "source": [
    "References:\n",
    "* https://www.datascienceblog.net/post/machine-learning/linear-discriminant-analysis/\n",
    "* https://github.com/scikit-learn/scikit-learn/blob/master/sklearn/discriminant_analysis.py\n",
    "* https://beckernick.github.io/logistic-regression-from-scratch/\n",
    "* https://www.geeksforgeeks.org/understanding-logistic-regression/\n",
    "* http://fa.bianp.net/blog/2013/numerical-optimizers-for-logistic-regression/"
   ]
  },
  {
   "cell_type": "code",
   "execution_count": null,
   "metadata": {},
   "outputs": [],
   "source": []
  }
 ],
 "metadata": {
  "kernelspec": {
   "display_name": "Python 3",
   "language": "python",
   "name": "python3"
  },
  "language_info": {
   "codemirror_mode": {
    "name": "ipython",
    "version": 3
   },
   "file_extension": ".py",
   "mimetype": "text/x-python",
   "name": "python",
   "nbconvert_exporter": "python",
   "pygments_lexer": "ipython3",
   "version": "3.7.9"
  }
 },
 "nbformat": 4,
 "nbformat_minor": 2
}
