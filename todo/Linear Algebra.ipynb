{
 "cells": [
  {
   "cell_type": "markdown",
   "metadata": {},
   "source": [
    "# Linear Algebra\n",
    "\n",
    "Linear algebra is one of the cornerstones of statistical analysis and applied mathematics.  It will come up so often in this book that is considered essential for internalization.  I will not provide an exhaustive list of techniques or tools here and the material will be covered quickly.  If you've never taken a linear algebra course I highly recommend any of Gilbert Strang's courses, all of which are freely available on the internet.  \n",
    "\n",
    "As for text books, I highly recommend Linear Algebra and it's applications by Lay, Lay and McDonald.  It was one of the best books I've ever read on the subject.\n",
    "\n",
    "Topics:\n",
    "\n",
    "* systems of equations as matrices\n",
    "* matrices as functions - linear transformations\n",
    "* rank order and invertability\n",
    "* matrix multiplication\n",
    "* eigen values and eigen vectors\n",
    "* decomposition"
   ]
  },
  {
   "cell_type": "code",
   "execution_count": null,
   "metadata": {},
   "outputs": [],
   "source": []
  }
 ],
 "metadata": {
  "kernelspec": {
   "display_name": "Python 3",
   "language": "python",
   "name": "python3"
  },
  "language_info": {
   "codemirror_mode": {
    "name": "ipython",
    "version": 3
   },
   "file_extension": ".py",
   "mimetype": "text/x-python",
   "name": "python",
   "nbconvert_exporter": "python",
   "pygments_lexer": "ipython3",
   "version": "3.6.9"
  }
 },
 "nbformat": 4,
 "nbformat_minor": 2
}
