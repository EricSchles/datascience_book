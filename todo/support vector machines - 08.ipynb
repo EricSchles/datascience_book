{
 "cells": [
  {
   "cell_type": "markdown",
   "metadata": {},
   "source": [
    "# Support Vector Machines\n",
    "\n",
    "Support vector machines come from a number of interesting ideas:\n",
    "\n",
    "* decision boundaries with soft margins\n",
    "* kernels for higher dimensional representations\n",
    "\n",
    "Each of these ideas will allow us to extend the curve fitting power of model to a large extent!  Recall from introduction to classification, the Linear Discriminant Analysis (LDA) model.  The LDA model can be thought of as the basis for the support vector machine with the above mentioned additions.  It is primarily a supervised algorithm, used for classification.  We'll look at each of the above mentioned features of Support Vector Machines, and the problems each of those features solves.  When properly tuned, SVMs are a powerful tool.  In fact, there \n",
    "\n",
    "http://ecomunsing.com/build-your-own-support-vector-machine\n",
    "http://tullo.ch/articles/svm-py/\n",
    "https://github.com/ajtulloch/svmpy"
   ]
  },
  {
   "cell_type": "code",
   "execution_count": null,
   "metadata": {},
   "outputs": [],
   "source": []
  }
 ],
 "metadata": {
  "kernelspec": {
   "display_name": "Python 3",
   "language": "python",
   "name": "python3"
  },
  "language_info": {
   "codemirror_mode": {
    "name": "ipython",
    "version": 3
   },
   "file_extension": ".py",
   "mimetype": "text/x-python",
   "name": "python",
   "nbconvert_exporter": "python",
   "pygments_lexer": "ipython3",
   "version": "3.7.7"
  }
 },
 "nbformat": 4,
 "nbformat_minor": 4
}
