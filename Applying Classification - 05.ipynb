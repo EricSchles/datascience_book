{
 "cells": [
  {
   "cell_type": "markdown",
   "metadata": {},
   "source": [
    "# Applying Classification\n",
    "\n",
    "In this chapter we'll look at a few examples of applying classification.  We'll start by looking at A/B testing like we did for applying hypothesis testing.  Then we'll move onto an example with customer churn where the data is unbalanced.  We'll end the chapter with an example of credit card fraud.  \n",
    "\n",
    "## A/B Testing\n",
    "\n",
    "Recall from the Applying Statistical Tests chapter we want to send an email about a towel sale.  We will have both a control and test group - one in which something about the email changed (test) and one in which the email stays the same as in the past (control).  We will use these two samples to set up an experiment.  Did changing the email effect things?\n",
    "\n",
    "Last time we answered this question with hypothesis testing.  Now we will answer it with a classifier!\n",
    "\n",
    "### Recall Set Up\n",
    "\n",
    "In order to test this question, we can set up an experiment.  Here we will set up a randomized test group and a randomized control group.  \n",
    "\n",
    "The test group will be sent an email, with slightly different copy, or possibly with a picture.  Some specific change will be made, in any event.\n",
    "\n",
    "The control group will get the same email as last time.  This way, we can directly compare, as much as possible between the old email and the new one.  There are many things you typically need to control for, or account for in experimental design.  Some things to account for in this scenario are:\n",
    "\n",
    "1) Age\n",
    "\n",
    "2) Gender\n",
    "\n",
    "3) Race\n",
    "\n",
    "4) Location\n",
    "\n",
    "5) Approximate Disposable Income\n",
    "\n",
    "\n",
    "## Simulating Some Data"
   ]
  },
  {
   "cell_type": "code",
   "execution_count": 2,
   "metadata": {},
   "outputs": [],
   "source": [
    "import warnings\n",
    "warnings.filterwarnings('ignore')\n",
    "%matplotlib inline"
   ]
  },
  {
   "cell_type": "code",
   "execution_count": 138,
   "metadata": {},
   "outputs": [
    {
     "name": "stdout",
     "output_type": "stream",
     "text": [
      "1    0.7364\n",
      "0    0.2636\n",
      "Name: converted, dtype: float64\n",
      "0    0.7814\n",
      "1    0.2186\n",
      "Name: converted, dtype: float64\n",
      "0    0.7939\n",
      "1    0.2061\n",
      "Name: converted, dtype: float64\n"
     ]
    }
   ],
   "source": [
    "import random\n",
    "import pandas as pd\n",
    "import numpy as np\n",
    "\n",
    "def generate_categorical_data(df, column, choices, size):\n",
    "    \"\"\"\n",
    "    Generates categorical data given choices.\n",
    "    \n",
    "    Parameters:\n",
    "    * df - pd.DataFrame: the data to add a column to\n",
    "    * column - str: the column to generate\n",
    "    * choices - list: the list of possible choices\n",
    "    \n",
    "    Returns:\n",
    "    A dataframe with the newly generated column.\n",
    "    \"\"\"\n",
    "    df[column] = [random.choice(choices)\n",
    "                  for _ in range(size)]\n",
    "    df = pd.concat([df, pd.get_dummies(df[column])], axis=1)\n",
    "    df = df.drop(column, axis=1)\n",
    "    return df\n",
    "\n",
    "def converted_score(x):\n",
    "    if x[\"male\"] == 1:\n",
    "        gender = 0.7\n",
    "    elif x[\"female\"] == 1:\n",
    "        gender = 1.4\n",
    "    if x[\"white\"] == 1:\n",
    "        race = 0.5\n",
    "    elif x[\"black\"] == 1:\n",
    "        race = 1.4\n",
    "    elif x[\"asian\"] == 1:\n",
    "        race = 2.8\n",
    "    elif x[\"hispanic\"] == 1:\n",
    "        race = 3.7\n",
    "    disposable_income_alpha = gender * race\n",
    "    age_alpha = gender + race\n",
    "    return disposable_income_alpha * x[\"disposable_income\"] + age_alpha * x[\"age\"]\n",
    "\n",
    "def decision_boundary(result):\n",
    "    if result > 95000:\n",
    "        return 1\n",
    "    else:\n",
    "        return 0\n",
    "\n",
    "def generate_data(size, salary_mean, salary_variance):\n",
    "    df = pd.DataFrame()\n",
    "\n",
    "    gender_choices = [\"male\", \"female\"]\n",
    "    race_choices = [\"white\", \"black\", \"asian\", \"hispanic\"]\n",
    "    location_choices = [\"high\", \"medium\", \"low\"]\n",
    "\n",
    "    df = generate_categorical_data(df, \"gender\", gender_choices, size)\n",
    "    df = generate_categorical_data(df, \"race\", race_choices, size)\n",
    "    df = generate_categorical_data(df, \"location\", location_choices, size)\n",
    "    df[\"age\"] = np.random.normal(50, 25, size=len(df))\n",
    "    df[\"age\"] = df[\"age\"].astype(int)\n",
    "    df[\"salary\"] = np.random.normal(salary_mean, \n",
    "                                    salary_variance, \n",
    "                                    size=len(df))\n",
    "    df[\"salary\"] = df[\"salary\"].apply(lambda x: round(x, 2))\n",
    "    df.index = range(len(df))\n",
    "    disposable_income = []\n",
    "    for index, row in df.iterrows():\n",
    "        if df.iloc[index][\"high\"] == 1:\n",
    "            disposable_income.append(df.iloc[index][\"salary\"] - 55000)\n",
    "        if df.iloc[index][\"medium\"] == 1:\n",
    "            disposable_income.append(df.iloc[index][\"salary\"] - 35000)\n",
    "        if df.iloc[index][\"low\"] == 1:\n",
    "            disposable_income.append(df.iloc[index][\"salary\"] - 15000)\n",
    "\n",
    "    df[\"disposable_income\"] = np.array(disposable_income)\n",
    "    df[\"converted\"] = df.apply(converted_score, axis=1)\n",
    "    df[\"converted\"] = df[\"converted\"].apply(decision_boundary)\n",
    "    return df\n",
    "\n",
    "size = 5000\n",
    "test_salary_mean = 150000\n",
    "test_salary_variance = 30000 \n",
    "control_salary_mean = 55000\n",
    "control_salary_variance = 2000\n",
    "\n",
    "test_df = generate_data(size, test_salary_mean, test_salary_variance)\n",
    "control_df = generate_data(size, control_salary_mean, test_salary_variance)\n",
    "original_df = generate_data(size*2, control_salary_mean, test_salary_variance)\n",
    "print(test_df[\"converted\"].value_counts()/len(test_df))\n",
    "print(control_df[\"converted\"].value_counts()/len(control_df))\n",
    "print(original_df[\"converted\"].value_counts()/len(original_df))"
   ]
  },
  {
   "cell_type": "markdown",
   "metadata": {},
   "source": [
    "Now we will look at some strategies for telling if data is different based on the classifier.  \n",
    "\n",
    "## Comparing Data Based On Classifiers\n",
    "\n",
    "* training a surrogate model\n",
    "* comparing predicted probability distribtions\n",
    "\n",
    "It's important to note that the overall size of the datasets will matter for all of these analyses.  So please make sure to only apply these techniques when test and control have the same overall size.\n",
    "\n",
    "### Training a surrogate model\n",
    "\n",
    "For this setup we will make use of three labeled datasets - \n",
    "\n",
    "1. `original_df` this is data collected before the start of the experiment.  It's the current state prior to any intervention.  For our example it's the number of towels we sell now, from emailing folks, using the original language about a sale.  We are making a pretty big assumption here, that each sale is an \"apples to apples\" comparison.  That our set up and general assumptions are the same from previous sales to this one.\n",
    "\n",
    "2. `test_df` this is data collected during the experiment, where something about the email telling folks about the sale has changed.  \n",
    "\n",
    "3. `control_df` this is also data collected during the experiment, where the email is the same as the original email used.  By looking at a `control_df` and an `original_df` we can ensure that we are likely making an \"apples to apples\" comparison.\n",
    "\n",
    "As you can see above, the conversion rates are about the same for `original_df` and `control_df`.  Because this is a worked example, we know that the parameters for folks going into the data were also the same.  The reason why the `original_df` more conversions is because we are using double the data for `original_df`.\n",
    " \n",
    "Now that we understand our data, let's walk through what we are going to do:\n",
    "\n",
    "1. split `original_df` into `X_train` and `X_val`\n",
    "2. Use `X_train` to train a classifier\n",
    "3. Predict and record the classifier's performance on `X_val`\n",
    "4. Predict on `X_test` with the original classifier and train a surrogate classifier on `X_test` and the predictions from `X_test` with the original classifier.\n",
    "5. Use the surrogate model to predict on `X_control`.  \n",
    "6. Look at the metrics for both classifiers.\n",
    "\n",
    "The above steps outline the ability to discern between two states:\n",
    "\n",
    "1. The state where `control_df` and `original_df` are the same but `test_df` is different\n",
    "2. The state where `control_df`, `test_df` and `original_df` are the same.\n",
    "\n",
    "We are able to discern which state we are in by observing:\n",
    "* precision\n",
    "* recall\n",
    "* F1 score\n",
    "* ROC AUC \n",
    "\n",
    "Between the predictions on the surrogate classifier, the one trained on the test data as well as the predicted labels from the original data.  And the predictions on the original classifier, trained on the original data and the original labels.  \n",
    "\n",
    "The reason this works is because a model is simply a description of our data.  By assuming we are in state two, training on the predictions from our original classifier, if our predictions are off, then we have some confidence we are actually in state one.  If our predictions are close to what our original classifier found, then we are in fact in state two.  \n",
    "\n",
    "In this way, we can see our predictions on our original data set as a reference point for what we should expect from new data, namely our test data.  If our `X_test` is indeed different then our predictions on `X_control` will differ from it's true labels more so than occurs with our original dataset, `original_df`.  Essentially, this is our way of accounting for the fact that all models are merely representations of data, and therefore subject to error.\n",
    "\n",
    "With the motivation out of the way, let's look at our example:"
   ]
  },
  {
   "cell_type": "code",
   "execution_count": 139,
   "metadata": {},
   "outputs": [
    {
     "name": "stdout",
     "output_type": "stream",
     "text": [
      "prediction on the control group\n",
      "              precision    recall  f1-score   support\n",
      "\n",
      "           0       0.95      0.74      0.83      3983\n",
      "           1       0.45      0.85      0.59      1017\n",
      "\n",
      "    accuracy                           0.76      5000\n",
      "   macro avg       0.70      0.80      0.71      5000\n",
      "weighted avg       0.85      0.76      0.78      5000\n",
      "\n",
      "ROC AUC 0.7951757111282438\n"
     ]
    },
    {
     "data": {
      "image/png": "[encoded data removed]",
      "text/plain": [
       "<Figure size 432x288 with 1 Axes>"
      ]
     },
     "metadata": {
      "needs_background": "light"
     },
     "output_type": "display_data"
    }
   ],
   "source": [
    "from sklearn.linear_model import LogisticRegression\n",
    "from sklearn.discriminant_analysis import LinearDiscriminantAnalysis\n",
    "from sklearn.tree import DecisionTreeClassifier\n",
    "from sklearn.model_selection import train_test_split\n",
    "from sklearn.metrics import classification_report, roc_auc_score\n",
    "import matplotlib.pyplot as plt\n",
    "import numpy as np\n",
    "\n",
    "def get_xy(df):\n",
    "    y = df[\"converted\"]\n",
    "    cols = df.columns.tolist()\n",
    "    cols.remove(\"converted\")\n",
    "    X = df[cols]\n",
    "    return X, y\n",
    "\n",
    "X_original, y_original = get_xy(original_df)\n",
    "X_control, y_control = get_xy(control_df)\n",
    "X_test, y_test = get_xy(test_df)\n",
    "\n",
    "X_train, X_val, y_train, y_val = train_test_split(\n",
    "    X_original, y_original, test_size=0.5\n",
    ")\n",
    "clf = LogisticRegression(\n",
    "    max_iter=1000, class_weight=\"balanced\", \n",
    "    C=100, penalty=\"l2\"\n",
    ")\n",
    "clf.fit(X_train, y_train)\n",
    "y_pred = clf.predict(X_val)\n",
    "print(\"prediction on the control group\")\n",
    "print(classification_report(y_val, y_pred))\n",
    "print(\"ROC AUC\", roc_auc_score(y_val, y_pred))\n",
    "plt.hist(clf.predict_proba(X_val).T[1])\n",
    "plt.title('Did Convert Probability Distribution')\n",
    "plt.show()"
   ]
  },
  {
   "cell_type": "code",
   "execution_count": 74,
   "metadata": {
    "scrolled": true
   },
   "outputs": [
    {
     "name": "stdout",
     "output_type": "stream",
     "text": [
      "prediction on the test group\n",
      "              precision    recall  f1-score   support\n",
      "\n",
      "           0       0.95      0.77      0.85      3983\n",
      "           1       0.48      0.83      0.61      1017\n",
      "\n",
      "    accuracy                           0.78      5000\n",
      "   macro avg       0.71      0.80      0.73      5000\n",
      "weighted avg       0.85      0.78      0.80      5000\n",
      "\n",
      "ROC AUC 0.8004173835161283\n"
     ]
    },
    {
     "data": {
      "image/png": "[encoded data removed]",
      "text/plain": [
       "<Figure size 432x288 with 1 Axes>"
      ]
     },
     "metadata": {
      "needs_background": "light"
     },
     "output_type": "display_data"
    }
   ],
   "source": [
    "surrogate_clf = LogisticRegression(**clf.get_params())\n",
    "y_test_pred = clf.predict(X_test)\n",
    "surrogate_clf.fit(X_test, y_test_pred)\n",
    "y_control_pred = surrogate_clf.predict(X_control)\n",
    "print(\"prediction on the test group\")\n",
    "print(classification_report(y_control, y_control_pred))\n",
    "print(\"ROC AUC\", roc_auc_score(y_control, y_control_pred))\n",
    "plt.hist(surrogate_clf.predict_proba(X_control).T[1])\n",
    "plt.title('Did Convert Probability Distribution')\n",
    "plt.show()"
   ]
  },
  {
   "cell_type": "markdown",
   "metadata": {},
   "source": [
    "## Interpretation\n",
    "\n",
    "As you can see above the precision, recall, F1 score and ROC AUC are very similar for both models.  So we can likely conclude that our intervention changed very little about buying habits.  Just for thoroughness, let's look at our three datasets:"
   ]
  },
  {
   "cell_type": "code",
   "execution_count": 75,
   "metadata": {},
   "outputs": [
    {
     "data": {
      "text/html": [
       "<div>\n",
       "<style scoped>\n",
       "    .dataframe tbody tr th:only-of-type {\n",
       "        vertical-align: middle;\n",
       "    }\n",
       "\n",
       "    .dataframe tbody tr th {\n",
       "        vertical-align: top;\n",
       "    }\n",
       "\n",
       "    .dataframe thead th {\n",
       "        text-align: right;\n",
       "    }\n",
       "</style>\n",
       "<table border=\"1\" class=\"dataframe\">\n",
       "  <thead>\n",
       "    <tr style=\"text-align: right;\">\n",
       "      <th></th>\n",
       "      <th>female</th>\n",
       "      <th>male</th>\n",
       "      <th>asian</th>\n",
       "      <th>black</th>\n",
       "      <th>hispanic</th>\n",
       "      <th>white</th>\n",
       "      <th>high</th>\n",
       "      <th>low</th>\n",
       "      <th>medium</th>\n",
       "      <th>age</th>\n",
       "      <th>salary</th>\n",
       "      <th>disposable_income</th>\n",
       "      <th>converted</th>\n",
       "    </tr>\n",
       "  </thead>\n",
       "  <tbody>\n",
       "    <tr>\n",
       "      <th>count</th>\n",
       "      <td>5000.000000</td>\n",
       "      <td>5000.000000</td>\n",
       "      <td>5000.000000</td>\n",
       "      <td>5000.000000</td>\n",
       "      <td>5000.000000</td>\n",
       "      <td>5000.000000</td>\n",
       "      <td>5000.000000</td>\n",
       "      <td>5000.000000</td>\n",
       "      <td>5000.000000</td>\n",
       "      <td>5000.000000</td>\n",
       "      <td>5000.000000</td>\n",
       "      <td>5000.000000</td>\n",
       "      <td>5000.000000</td>\n",
       "    </tr>\n",
       "    <tr>\n",
       "      <th>mean</th>\n",
       "      <td>0.505800</td>\n",
       "      <td>0.494200</td>\n",
       "      <td>0.243000</td>\n",
       "      <td>0.248400</td>\n",
       "      <td>0.251600</td>\n",
       "      <td>0.257000</td>\n",
       "      <td>0.321200</td>\n",
       "      <td>0.327800</td>\n",
       "      <td>0.351000</td>\n",
       "      <td>49.448800</td>\n",
       "      <td>149718.134086</td>\n",
       "      <td>114850.134086</td>\n",
       "      <td>0.732000</td>\n",
       "    </tr>\n",
       "    <tr>\n",
       "      <th>std</th>\n",
       "      <td>0.500016</td>\n",
       "      <td>0.500016</td>\n",
       "      <td>0.428938</td>\n",
       "      <td>0.432128</td>\n",
       "      <td>0.433976</td>\n",
       "      <td>0.437023</td>\n",
       "      <td>0.466984</td>\n",
       "      <td>0.469458</td>\n",
       "      <td>0.477331</td>\n",
       "      <td>25.015286</td>\n",
       "      <td>30040.547729</td>\n",
       "      <td>33987.683316</td>\n",
       "      <td>0.442962</td>\n",
       "    </tr>\n",
       "    <tr>\n",
       "      <th>min</th>\n",
       "      <td>0.000000</td>\n",
       "      <td>0.000000</td>\n",
       "      <td>0.000000</td>\n",
       "      <td>0.000000</td>\n",
       "      <td>0.000000</td>\n",
       "      <td>0.000000</td>\n",
       "      <td>0.000000</td>\n",
       "      <td>0.000000</td>\n",
       "      <td>0.000000</td>\n",
       "      <td>-37.000000</td>\n",
       "      <td>45295.990000</td>\n",
       "      <td>4408.980000</td>\n",
       "      <td>0.000000</td>\n",
       "    </tr>\n",
       "    <tr>\n",
       "      <th>25%</th>\n",
       "      <td>0.000000</td>\n",
       "      <td>0.000000</td>\n",
       "      <td>0.000000</td>\n",
       "      <td>0.000000</td>\n",
       "      <td>0.000000</td>\n",
       "      <td>0.000000</td>\n",
       "      <td>0.000000</td>\n",
       "      <td>0.000000</td>\n",
       "      <td>0.000000</td>\n",
       "      <td>33.000000</td>\n",
       "      <td>129124.750000</td>\n",
       "      <td>91634.542500</td>\n",
       "      <td>0.000000</td>\n",
       "    </tr>\n",
       "    <tr>\n",
       "      <th>50%</th>\n",
       "      <td>1.000000</td>\n",
       "      <td>0.000000</td>\n",
       "      <td>0.000000</td>\n",
       "      <td>0.000000</td>\n",
       "      <td>0.000000</td>\n",
       "      <td>0.000000</td>\n",
       "      <td>0.000000</td>\n",
       "      <td>0.000000</td>\n",
       "      <td>0.000000</td>\n",
       "      <td>50.000000</td>\n",
       "      <td>149666.990000</td>\n",
       "      <td>114443.695000</td>\n",
       "      <td>1.000000</td>\n",
       "    </tr>\n",
       "    <tr>\n",
       "      <th>75%</th>\n",
       "      <td>1.000000</td>\n",
       "      <td>1.000000</td>\n",
       "      <td>0.000000</td>\n",
       "      <td>0.000000</td>\n",
       "      <td>1.000000</td>\n",
       "      <td>1.000000</td>\n",
       "      <td>1.000000</td>\n",
       "      <td>1.000000</td>\n",
       "      <td>1.000000</td>\n",
       "      <td>66.250000</td>\n",
       "      <td>170611.505000</td>\n",
       "      <td>137981.645000</td>\n",
       "      <td>1.000000</td>\n",
       "    </tr>\n",
       "    <tr>\n",
       "      <th>max</th>\n",
       "      <td>1.000000</td>\n",
       "      <td>1.000000</td>\n",
       "      <td>1.000000</td>\n",
       "      <td>1.000000</td>\n",
       "      <td>1.000000</td>\n",
       "      <td>1.000000</td>\n",
       "      <td>1.000000</td>\n",
       "      <td>1.000000</td>\n",
       "      <td>1.000000</td>\n",
       "      <td>133.000000</td>\n",
       "      <td>256091.170000</td>\n",
       "      <td>238710.250000</td>\n",
       "      <td>1.000000</td>\n",
       "    </tr>\n",
       "  </tbody>\n",
       "</table>\n",
       "</div>"
      ],
      "text/plain": [
       "            female         male        asian        black     hispanic  \\\n",
       "count  5000.000000  5000.000000  5000.000000  5000.000000  5000.000000   \n",
       "mean      0.505800     0.494200     0.243000     0.248400     0.251600   \n",
       "std       0.500016     0.500016     0.428938     0.432128     0.433976   \n",
       "min       0.000000     0.000000     0.000000     0.000000     0.000000   \n",
       "25%       0.000000     0.000000     0.000000     0.000000     0.000000   \n",
       "50%       1.000000     0.000000     0.000000     0.000000     0.000000   \n",
       "75%       1.000000     1.000000     0.000000     0.000000     1.000000   \n",
       "max       1.000000     1.000000     1.000000     1.000000     1.000000   \n",
       "\n",
       "             white         high          low       medium          age  \\\n",
       "count  5000.000000  5000.000000  5000.000000  5000.000000  5000.000000   \n",
       "mean      0.257000     0.321200     0.327800     0.351000    49.448800   \n",
       "std       0.437023     0.466984     0.469458     0.477331    25.015286   \n",
       "min       0.000000     0.000000     0.000000     0.000000   -37.000000   \n",
       "25%       0.000000     0.000000     0.000000     0.000000    33.000000   \n",
       "50%       0.000000     0.000000     0.000000     0.000000    50.000000   \n",
       "75%       1.000000     1.000000     1.000000     1.000000    66.250000   \n",
       "max       1.000000     1.000000     1.000000     1.000000   133.000000   \n",
       "\n",
       "              salary  disposable_income    converted  \n",
       "count    5000.000000        5000.000000  5000.000000  \n",
       "mean   149718.134086      114850.134086     0.732000  \n",
       "std     30040.547729       33987.683316     0.442962  \n",
       "min     45295.990000        4408.980000     0.000000  \n",
       "25%    129124.750000       91634.542500     0.000000  \n",
       "50%    149666.990000      114443.695000     1.000000  \n",
       "75%    170611.505000      137981.645000     1.000000  \n",
       "max    256091.170000      238710.250000     1.000000  "
      ]
     },
     "execution_count": 75,
     "metadata": {},
     "output_type": "execute_result"
    }
   ],
   "source": [
    "test_df.describe()"
   ]
  },
  {
   "cell_type": "code",
   "execution_count": 76,
   "metadata": {},
   "outputs": [
    {
     "data": {
      "text/html": [
       "<div>\n",
       "<style scoped>\n",
       "    .dataframe tbody tr th:only-of-type {\n",
       "        vertical-align: middle;\n",
       "    }\n",
       "\n",
       "    .dataframe tbody tr th {\n",
       "        vertical-align: top;\n",
       "    }\n",
       "\n",
       "    .dataframe thead th {\n",
       "        text-align: right;\n",
       "    }\n",
       "</style>\n",
       "<table border=\"1\" class=\"dataframe\">\n",
       "  <thead>\n",
       "    <tr style=\"text-align: right;\">\n",
       "      <th></th>\n",
       "      <th>female</th>\n",
       "      <th>male</th>\n",
       "      <th>asian</th>\n",
       "      <th>black</th>\n",
       "      <th>hispanic</th>\n",
       "      <th>white</th>\n",
       "      <th>high</th>\n",
       "      <th>low</th>\n",
       "      <th>medium</th>\n",
       "      <th>age</th>\n",
       "      <th>salary</th>\n",
       "      <th>disposable_income</th>\n",
       "      <th>converted</th>\n",
       "    </tr>\n",
       "  </thead>\n",
       "  <tbody>\n",
       "    <tr>\n",
       "      <th>count</th>\n",
       "      <td>5000.000000</td>\n",
       "      <td>5000.000000</td>\n",
       "      <td>5000.000000</td>\n",
       "      <td>5000.000000</td>\n",
       "      <td>5000.000000</td>\n",
       "      <td>5000.000000</td>\n",
       "      <td>5000.000000</td>\n",
       "      <td>5000.000000</td>\n",
       "      <td>5000.000000</td>\n",
       "      <td>5000.000000</td>\n",
       "      <td>5000.000000</td>\n",
       "      <td>5000.000000</td>\n",
       "      <td>5000.000000</td>\n",
       "    </tr>\n",
       "    <tr>\n",
       "      <th>mean</th>\n",
       "      <td>0.499200</td>\n",
       "      <td>0.500800</td>\n",
       "      <td>0.260000</td>\n",
       "      <td>0.246400</td>\n",
       "      <td>0.240000</td>\n",
       "      <td>0.253600</td>\n",
       "      <td>0.342200</td>\n",
       "      <td>0.330400</td>\n",
       "      <td>0.327400</td>\n",
       "      <td>49.568400</td>\n",
       "      <td>54580.240402</td>\n",
       "      <td>19344.240402</td>\n",
       "      <td>0.203400</td>\n",
       "    </tr>\n",
       "    <tr>\n",
       "      <th>std</th>\n",
       "      <td>0.500049</td>\n",
       "      <td>0.500049</td>\n",
       "      <td>0.438678</td>\n",
       "      <td>0.430957</td>\n",
       "      <td>0.427126</td>\n",
       "      <td>0.435115</td>\n",
       "      <td>0.474494</td>\n",
       "      <td>0.470404</td>\n",
       "      <td>0.469312</td>\n",
       "      <td>24.918032</td>\n",
       "      <td>30688.027926</td>\n",
       "      <td>34746.902744</td>\n",
       "      <td>0.402568</td>\n",
       "    </tr>\n",
       "    <tr>\n",
       "      <th>min</th>\n",
       "      <td>0.000000</td>\n",
       "      <td>0.000000</td>\n",
       "      <td>0.000000</td>\n",
       "      <td>0.000000</td>\n",
       "      <td>0.000000</td>\n",
       "      <td>0.000000</td>\n",
       "      <td>0.000000</td>\n",
       "      <td>0.000000</td>\n",
       "      <td>0.000000</td>\n",
       "      <td>-42.000000</td>\n",
       "      <td>-67337.100000</td>\n",
       "      <td>-100401.680000</td>\n",
       "      <td>0.000000</td>\n",
       "    </tr>\n",
       "    <tr>\n",
       "      <th>25%</th>\n",
       "      <td>0.000000</td>\n",
       "      <td>0.000000</td>\n",
       "      <td>0.000000</td>\n",
       "      <td>0.000000</td>\n",
       "      <td>0.000000</td>\n",
       "      <td>0.000000</td>\n",
       "      <td>0.000000</td>\n",
       "      <td>0.000000</td>\n",
       "      <td>0.000000</td>\n",
       "      <td>32.000000</td>\n",
       "      <td>33118.727500</td>\n",
       "      <td>-4888.745000</td>\n",
       "      <td>0.000000</td>\n",
       "    </tr>\n",
       "    <tr>\n",
       "      <th>50%</th>\n",
       "      <td>0.000000</td>\n",
       "      <td>1.000000</td>\n",
       "      <td>0.000000</td>\n",
       "      <td>0.000000</td>\n",
       "      <td>0.000000</td>\n",
       "      <td>0.000000</td>\n",
       "      <td>0.000000</td>\n",
       "      <td>0.000000</td>\n",
       "      <td>0.000000</td>\n",
       "      <td>50.000000</td>\n",
       "      <td>54572.295000</td>\n",
       "      <td>18414.445000</td>\n",
       "      <td>0.000000</td>\n",
       "    </tr>\n",
       "    <tr>\n",
       "      <th>75%</th>\n",
       "      <td>1.000000</td>\n",
       "      <td>1.000000</td>\n",
       "      <td>1.000000</td>\n",
       "      <td>0.000000</td>\n",
       "      <td>0.000000</td>\n",
       "      <td>1.000000</td>\n",
       "      <td>1.000000</td>\n",
       "      <td>1.000000</td>\n",
       "      <td>1.000000</td>\n",
       "      <td>67.000000</td>\n",
       "      <td>75420.480000</td>\n",
       "      <td>42517.287500</td>\n",
       "      <td>0.000000</td>\n",
       "    </tr>\n",
       "    <tr>\n",
       "      <th>max</th>\n",
       "      <td>1.000000</td>\n",
       "      <td>1.000000</td>\n",
       "      <td>1.000000</td>\n",
       "      <td>1.000000</td>\n",
       "      <td>1.000000</td>\n",
       "      <td>1.000000</td>\n",
       "      <td>1.000000</td>\n",
       "      <td>1.000000</td>\n",
       "      <td>1.000000</td>\n",
       "      <td>132.000000</td>\n",
       "      <td>179189.460000</td>\n",
       "      <td>131496.400000</td>\n",
       "      <td>1.000000</td>\n",
       "    </tr>\n",
       "  </tbody>\n",
       "</table>\n",
       "</div>"
      ],
      "text/plain": [
       "            female         male        asian        black     hispanic  \\\n",
       "count  5000.000000  5000.000000  5000.000000  5000.000000  5000.000000   \n",
       "mean      0.499200     0.500800     0.260000     0.246400     0.240000   \n",
       "std       0.500049     0.500049     0.438678     0.430957     0.427126   \n",
       "min       0.000000     0.000000     0.000000     0.000000     0.000000   \n",
       "25%       0.000000     0.000000     0.000000     0.000000     0.000000   \n",
       "50%       0.000000     1.000000     0.000000     0.000000     0.000000   \n",
       "75%       1.000000     1.000000     1.000000     0.000000     0.000000   \n",
       "max       1.000000     1.000000     1.000000     1.000000     1.000000   \n",
       "\n",
       "             white         high          low       medium          age  \\\n",
       "count  5000.000000  5000.000000  5000.000000  5000.000000  5000.000000   \n",
       "mean      0.253600     0.342200     0.330400     0.327400    49.568400   \n",
       "std       0.435115     0.474494     0.470404     0.469312    24.918032   \n",
       "min       0.000000     0.000000     0.000000     0.000000   -42.000000   \n",
       "25%       0.000000     0.000000     0.000000     0.000000    32.000000   \n",
       "50%       0.000000     0.000000     0.000000     0.000000    50.000000   \n",
       "75%       1.000000     1.000000     1.000000     1.000000    67.000000   \n",
       "max       1.000000     1.000000     1.000000     1.000000   132.000000   \n",
       "\n",
       "              salary  disposable_income    converted  \n",
       "count    5000.000000        5000.000000  5000.000000  \n",
       "mean    54580.240402       19344.240402     0.203400  \n",
       "std     30688.027926       34746.902744     0.402568  \n",
       "min    -67337.100000     -100401.680000     0.000000  \n",
       "25%     33118.727500       -4888.745000     0.000000  \n",
       "50%     54572.295000       18414.445000     0.000000  \n",
       "75%     75420.480000       42517.287500     0.000000  \n",
       "max    179189.460000      131496.400000     1.000000  "
      ]
     },
     "execution_count": 76,
     "metadata": {},
     "output_type": "execute_result"
    }
   ],
   "source": [
    "control_df.describe()"
   ]
  },
  {
   "cell_type": "code",
   "execution_count": 77,
   "metadata": {},
   "outputs": [
    {
     "data": {
      "text/html": [
       "<div>\n",
       "<style scoped>\n",
       "    .dataframe tbody tr th:only-of-type {\n",
       "        vertical-align: middle;\n",
       "    }\n",
       "\n",
       "    .dataframe tbody tr th {\n",
       "        vertical-align: top;\n",
       "    }\n",
       "\n",
       "    .dataframe thead th {\n",
       "        text-align: right;\n",
       "    }\n",
       "</style>\n",
       "<table border=\"1\" class=\"dataframe\">\n",
       "  <thead>\n",
       "    <tr style=\"text-align: right;\">\n",
       "      <th></th>\n",
       "      <th>female</th>\n",
       "      <th>male</th>\n",
       "      <th>asian</th>\n",
       "      <th>black</th>\n",
       "      <th>hispanic</th>\n",
       "      <th>white</th>\n",
       "      <th>high</th>\n",
       "      <th>low</th>\n",
       "      <th>medium</th>\n",
       "      <th>age</th>\n",
       "      <th>salary</th>\n",
       "      <th>disposable_income</th>\n",
       "      <th>converted</th>\n",
       "    </tr>\n",
       "  </thead>\n",
       "  <tbody>\n",
       "    <tr>\n",
       "      <th>count</th>\n",
       "      <td>10000.000000</td>\n",
       "      <td>10000.000000</td>\n",
       "      <td>10000.00000</td>\n",
       "      <td>10000.000000</td>\n",
       "      <td>10000.000000</td>\n",
       "      <td>10000.000000</td>\n",
       "      <td>10000.000000</td>\n",
       "      <td>10000.000000</td>\n",
       "      <td>10000.000000</td>\n",
       "      <td>10000.00000</td>\n",
       "      <td>10000.000000</td>\n",
       "      <td>10000.000000</td>\n",
       "      <td>10000.000000</td>\n",
       "    </tr>\n",
       "    <tr>\n",
       "      <th>mean</th>\n",
       "      <td>0.490500</td>\n",
       "      <td>0.509500</td>\n",
       "      <td>0.25370</td>\n",
       "      <td>0.244700</td>\n",
       "      <td>0.254800</td>\n",
       "      <td>0.246800</td>\n",
       "      <td>0.324400</td>\n",
       "      <td>0.332600</td>\n",
       "      <td>0.343000</td>\n",
       "      <td>49.36310</td>\n",
       "      <td>54933.781937</td>\n",
       "      <td>20097.781937</td>\n",
       "      <td>0.217800</td>\n",
       "    </tr>\n",
       "    <tr>\n",
       "      <th>std</th>\n",
       "      <td>0.499935</td>\n",
       "      <td>0.499935</td>\n",
       "      <td>0.43515</td>\n",
       "      <td>0.429931</td>\n",
       "      <td>0.435771</td>\n",
       "      <td>0.431171</td>\n",
       "      <td>0.468174</td>\n",
       "      <td>0.471168</td>\n",
       "      <td>0.474735</td>\n",
       "      <td>25.26508</td>\n",
       "      <td>30043.041810</td>\n",
       "      <td>34068.392911</td>\n",
       "      <td>0.412771</td>\n",
       "    </tr>\n",
       "    <tr>\n",
       "      <th>min</th>\n",
       "      <td>0.000000</td>\n",
       "      <td>0.000000</td>\n",
       "      <td>0.00000</td>\n",
       "      <td>0.000000</td>\n",
       "      <td>0.000000</td>\n",
       "      <td>0.000000</td>\n",
       "      <td>0.000000</td>\n",
       "      <td>0.000000</td>\n",
       "      <td>0.000000</td>\n",
       "      <td>-48.00000</td>\n",
       "      <td>-61391.770000</td>\n",
       "      <td>-114280.390000</td>\n",
       "      <td>0.000000</td>\n",
       "    </tr>\n",
       "    <tr>\n",
       "      <th>25%</th>\n",
       "      <td>0.000000</td>\n",
       "      <td>0.000000</td>\n",
       "      <td>0.00000</td>\n",
       "      <td>0.000000</td>\n",
       "      <td>0.000000</td>\n",
       "      <td>0.000000</td>\n",
       "      <td>0.000000</td>\n",
       "      <td>0.000000</td>\n",
       "      <td>0.000000</td>\n",
       "      <td>33.00000</td>\n",
       "      <td>34677.185000</td>\n",
       "      <td>-3063.357500</td>\n",
       "      <td>0.000000</td>\n",
       "    </tr>\n",
       "    <tr>\n",
       "      <th>50%</th>\n",
       "      <td>0.000000</td>\n",
       "      <td>1.000000</td>\n",
       "      <td>0.00000</td>\n",
       "      <td>0.000000</td>\n",
       "      <td>0.000000</td>\n",
       "      <td>0.000000</td>\n",
       "      <td>0.000000</td>\n",
       "      <td>0.000000</td>\n",
       "      <td>0.000000</td>\n",
       "      <td>50.00000</td>\n",
       "      <td>54925.500000</td>\n",
       "      <td>20312.720000</td>\n",
       "      <td>0.000000</td>\n",
       "    </tr>\n",
       "    <tr>\n",
       "      <th>75%</th>\n",
       "      <td>1.000000</td>\n",
       "      <td>1.000000</td>\n",
       "      <td>1.00000</td>\n",
       "      <td>0.000000</td>\n",
       "      <td>1.000000</td>\n",
       "      <td>0.000000</td>\n",
       "      <td>1.000000</td>\n",
       "      <td>1.000000</td>\n",
       "      <td>1.000000</td>\n",
       "      <td>66.00000</td>\n",
       "      <td>75564.272500</td>\n",
       "      <td>43323.185000</td>\n",
       "      <td>0.000000</td>\n",
       "    </tr>\n",
       "    <tr>\n",
       "      <th>max</th>\n",
       "      <td>1.000000</td>\n",
       "      <td>1.000000</td>\n",
       "      <td>1.00000</td>\n",
       "      <td>1.000000</td>\n",
       "      <td>1.000000</td>\n",
       "      <td>1.000000</td>\n",
       "      <td>1.000000</td>\n",
       "      <td>1.000000</td>\n",
       "      <td>1.000000</td>\n",
       "      <td>148.00000</td>\n",
       "      <td>162595.460000</td>\n",
       "      <td>138077.200000</td>\n",
       "      <td>1.000000</td>\n",
       "    </tr>\n",
       "  </tbody>\n",
       "</table>\n",
       "</div>"
      ],
      "text/plain": [
       "             female          male        asian         black      hispanic  \\\n",
       "count  10000.000000  10000.000000  10000.00000  10000.000000  10000.000000   \n",
       "mean       0.490500      0.509500      0.25370      0.244700      0.254800   \n",
       "std        0.499935      0.499935      0.43515      0.429931      0.435771   \n",
       "min        0.000000      0.000000      0.00000      0.000000      0.000000   \n",
       "25%        0.000000      0.000000      0.00000      0.000000      0.000000   \n",
       "50%        0.000000      1.000000      0.00000      0.000000      0.000000   \n",
       "75%        1.000000      1.000000      1.00000      0.000000      1.000000   \n",
       "max        1.000000      1.000000      1.00000      1.000000      1.000000   \n",
       "\n",
       "              white          high           low        medium          age  \\\n",
       "count  10000.000000  10000.000000  10000.000000  10000.000000  10000.00000   \n",
       "mean       0.246800      0.324400      0.332600      0.343000     49.36310   \n",
       "std        0.431171      0.468174      0.471168      0.474735     25.26508   \n",
       "min        0.000000      0.000000      0.000000      0.000000    -48.00000   \n",
       "25%        0.000000      0.000000      0.000000      0.000000     33.00000   \n",
       "50%        0.000000      0.000000      0.000000      0.000000     50.00000   \n",
       "75%        0.000000      1.000000      1.000000      1.000000     66.00000   \n",
       "max        1.000000      1.000000      1.000000      1.000000    148.00000   \n",
       "\n",
       "              salary  disposable_income     converted  \n",
       "count   10000.000000       10000.000000  10000.000000  \n",
       "mean    54933.781937       20097.781937      0.217800  \n",
       "std     30043.041810       34068.392911      0.412771  \n",
       "min    -61391.770000     -114280.390000      0.000000  \n",
       "25%     34677.185000       -3063.357500      0.000000  \n",
       "50%     54925.500000       20312.720000      0.000000  \n",
       "75%     75564.272500       43323.185000      0.000000  \n",
       "max    162595.460000      138077.200000      1.000000  "
      ]
     },
     "execution_count": 77,
     "metadata": {},
     "output_type": "execute_result"
    }
   ],
   "source": [
    "original_df.describe()"
   ]
  },
  {
   "cell_type": "markdown",
   "metadata": {},
   "source": [
    "We can see a huge difference in salary!  Let's look at how big the difference is on average:"
   ]
  },
  {
   "cell_type": "code",
   "execution_count": 78,
   "metadata": {},
   "outputs": [
    {
     "data": {
      "text/plain": [
       "95137.89368400001"
      ]
     },
     "execution_count": 78,
     "metadata": {},
     "output_type": "execute_result"
    }
   ],
   "source": [
    "test_df[\"salary\"].mean() - control_df[\"salary\"].mean()"
   ]
  },
  {
   "cell_type": "markdown",
   "metadata": {},
   "source": [
    "Around 95K!  That's a huge difference in standard of living.  Let's go back to our model and look at our coefficients:"
   ]
  },
  {
   "cell_type": "code",
   "execution_count": 79,
   "metadata": {},
   "outputs": [
    {
     "name": "stdout",
     "output_type": "stream",
     "text": [
      "female 0.0003208334043427795\n",
      "male -0.022485068868729544\n",
      "asian -0.03359746304814557\n",
      "black 0.009960850420642514\n",
      "hispanic 0.008589031729164314\n",
      "white -0.007116654566048063\n",
      "high 0.038800305545552936\n",
      "low 1.5309446611197052e-05\n",
      "medium -0.06097985045655087\n",
      "age -6.850696693020392\n",
      "salary -0.01256632290792235\n",
      "disposable_income 0.03575295179205097\n"
     ]
    }
   ],
   "source": [
    "for index, coef in enumerate(surrogate_clf.coef_[0]):\n",
    "    print(test_df.columns[index], coef)"
   ]
  },
  {
   "cell_type": "code",
   "execution_count": 80,
   "metadata": {},
   "outputs": [
    {
     "name": "stdout",
     "output_type": "stream",
     "text": [
      "female 0.00026483850132171996\n",
      "male -0.0005516986458904975\n",
      "asian 0.00014863018238960596\n",
      "black -0.00035226344947406426\n",
      "hispanic 0.00042828858689245784\n",
      "white -0.0005115154643767762\n",
      "high 0.00012922721936690074\n",
      "low -0.0003727723526543467\n",
      "medium -4.331501128133094e-05\n",
      "age -0.016559306701229876\n",
      "salary -2.9369888929442916e-05\n",
      "disposable_income 8.424959333483499e-05\n"
     ]
    }
   ],
   "source": [
    "for index, coef in enumerate(clf.coef_[0]):\n",
    "    print(control_df.columns[index], coef)"
   ]
  },
  {
   "cell_type": "markdown",
   "metadata": {},
   "source": [
    "The big thing to pay attention to here is effect size - how the size of the variable and it's weight changes the decision or result of the model.\n",
    "\n",
    "Let's look at the surrogate model first:\n",
    "\n",
    "The effect size of salary may _seem_ small based on these coefficients, but I assure you it's not.  Recall, that for logistic regression the equation is:\n",
    "\n",
    "$$ \\theta_{i}x_{i} $$\n",
    "\n",
    "That means we need to consider the _multiplication_ of these two variables.  Let's just look at the average salary for the two groups to get a sense of effect size:\n",
    "\n",
    "$$ \\theta * mean(salary) = 1881.4064180962919 $$\n",
    "\n",
    "That is, `0.01256632290792235 * 149718.134086  = 1881.4064180962919`.\n",
    "\n",
    "Given that effect size is exponentiated by the base, in this case $e$, the natural number.  We have, an increase in salary by 1 dollar leading to an increase in P(Y=1) of:\n",
    "\n",
    "$$ e^{1881.4064180962919} = 1.2145785208091 × 10^817 $$\n",
    "\n",
    "Which is _a lot_.  Especially given the effect size of the other coefficients.\n",
    "\n",
    "Now let's look at the original model:\n",
    "\n",
    "$$ \\theta * mean(salary) = 1.6133990739639275 $$\n",
    "\n",
    "That is, `2.9369888929442916e-05 * 54933.781937 = 1.6133990739639275`.\n",
    "\n",
    "Given that effect size is exponentiated by the base, in this case $e$, the natural number.  We have, an increase in salary by 1 dollar leading to an increase in P(Y=1) of:\n",
    "\n",
    "$$ e^{1.6133990739639275} = 5.019845086496961 $$\n",
    "\n",
    "As you can see the effect size for salary for test is a lot bigger than it is for the control.  Which tells us that our test and control group are not comparable, since they differ so greatly on salary.  In other words, we aren't making an apples to apples comparison.  And therefore this is not a valid experiment.\n",
    "\n",
    "## Comparing Probability Distributions\n",
    "\n",
    "Now that we have one way to analyze our results, we'll look at a second method, comparing probability distributions.  For this the set up will be as well follows:\n",
    "\n",
    "1. split `test_df` and `control_df` into training and testing data.\n",
    "2. observe associated metrics and probability distribution\n",
    "3. analyze resulting probability distribution and coefficients.\n",
    "\n",
    "The basic idea here is pretty similar to what we did before.  If the probability distributions for the model is similar in both cases, then the data is similar enough such that an apples to apples comparison can be made."
   ]
  },
  {
   "cell_type": "code",
   "execution_count": 140,
   "metadata": {},
   "outputs": [
    {
     "name": "stdout",
     "output_type": "stream",
     "text": [
      "              precision    recall  f1-score   support\n",
      "\n",
      "           0       0.92      0.94      0.93       345\n",
      "           1       0.98      0.97      0.97       905\n",
      "\n",
      "    accuracy                           0.96      1250\n",
      "   macro avg       0.95      0.95      0.95      1250\n",
      "weighted avg       0.96      0.96      0.96      1250\n",
      "\n",
      "ROC AUC 0.9529906317559452\n"
     ]
    },
    {
     "data": {
      "image/png": "[encoded data removed]",
      "text/plain": [
       "<Figure size 432x288 with 1 Axes>"
      ]
     },
     "metadata": {
      "needs_background": "light"
     },
     "output_type": "display_data"
    }
   ],
   "source": [
    "from sklearn.linear_model import LogisticRegression\n",
    "from sklearn.model_selection import train_test_split\n",
    "from sklearn.metrics import classification_report, roc_auc_score\n",
    "import matplotlib.pyplot as plt\n",
    "import numpy as np\n",
    "\n",
    "augmented_df = test_df.copy()\n",
    "augmented_y = augmented_df[\"converted\"]\n",
    "cols = augmented_df.columns.tolist()\n",
    "cols.remove(\"converted\")\n",
    "cols.remove(\"salary\")\n",
    "augmented_X = augmented_df[cols]\n",
    "\n",
    "X_train, X_test_augmented, y_train, y_test = train_test_split(\n",
    "    augmented_X, augmented_y\n",
    ")\n",
    "test_clf = LogisticRegression(\n",
    "    max_iter=1000, class_weight=\"balanced\", \n",
    "    C=100, penalty=\"l2\", solver=\"liblinear\"\n",
    ")\n",
    "test_clf.fit(X_train, y_train)\n",
    "y_pred = test_clf.predict(X_test_augmented)\n",
    "print(classification_report(y_test, y_pred))\n",
    "print(\"ROC AUC\", roc_auc_score(y_test, y_pred))\n",
    "plt.hist(test_clf.predict_proba(X_test_augmented).T[1])\n",
    "plt.title('Did Convert Probability Distribution')\n",
    "plt.show()"
   ]
  },
  {
   "cell_type": "code",
   "execution_count": 114,
   "metadata": {},
   "outputs": [
    {
     "name": "stdout",
     "output_type": "stream",
     "text": [
      "735\n",
      "0.588\n",
      "262\n",
      "0.2096\n"
     ]
    }
   ],
   "source": [
    "class_one = test_clf.predict_proba(X_test_augmented).T[1]\n",
    "print(len(class_one[class_one > 0.7]))\n",
    "print(len(class_one[class_one > 0.7])/len(class_one))\n",
    "\n",
    "print(len(class_one[class_one < 0.3]))\n",
    "print(len(class_one[class_one < 0.3])/len(class_one))"
   ]
  },
  {
   "cell_type": "code",
   "execution_count": 141,
   "metadata": {},
   "outputs": [
    {
     "name": "stdout",
     "output_type": "stream",
     "text": [
      "              precision    recall  f1-score   support\n",
      "\n",
      "           0       0.94      0.71      0.81       982\n",
      "           1       0.44      0.84      0.58       268\n",
      "\n",
      "    accuracy                           0.74      1250\n",
      "   macro avg       0.69      0.78      0.69      1250\n",
      "weighted avg       0.84      0.74      0.76      1250\n",
      "\n",
      "ROC AUC 0.7760206097820469\n"
     ]
    },
    {
     "data": {
      "image/png": "[encoded data removed]",
      "text/plain": [
       "<Figure size 432x288 with 1 Axes>"
      ]
     },
     "metadata": {
      "needs_background": "light"
     },
     "output_type": "display_data"
    }
   ],
   "source": [
    "from sklearn.linear_model import LogisticRegression\n",
    "from sklearn.model_selection import train_test_split\n",
    "from sklearn.metrics import classification_report, roc_auc_score\n",
    "import matplotlib.pyplot as plt\n",
    "import numpy as np\n",
    "\n",
    "control_y = control_df[\"converted\"]\n",
    "cols = control_df.columns.tolist()\n",
    "cols.remove(\"converted\")\n",
    "cols.remove(\"salary\")\n",
    "control_X = control_df[cols]\n",
    "\n",
    "X_train, X_test_control, y_train, y_test = train_test_split(\n",
    "    control_X, control_y\n",
    ")\n",
    "control_clf = LogisticRegression(\n",
    "    max_iter=1000, class_weight=\"balanced\", \n",
    "    C=100, penalty=\"l2\", solver=\"liblinear\"\n",
    ")\n",
    "control_clf.fit(X_train, y_train)\n",
    "y_pred = control_clf.predict(X_test_control)\n",
    "print(classification_report(y_test, y_pred))\n",
    "print(\"ROC AUC\", roc_auc_score(y_test, y_pred))\n",
    "plt.hist(control_clf.predict_proba(X_test_control).T[1])\n",
    "plt.title('Did Convert Probability Distribution')\n",
    "plt.show()"
   ]
  },
  {
   "cell_type": "code",
   "execution_count": 116,
   "metadata": {},
   "outputs": [
    {
     "name": "stdout",
     "output_type": "stream",
     "text": [
      "318\n",
      "0.2544\n",
      "497\n",
      "0.3976\n"
     ]
    }
   ],
   "source": [
    "class_one = control_clf.predict_proba(X_test_control).T[1]\n",
    "print(len(class_one[class_one > 0.7]))\n",
    "print(len(class_one[class_one > 0.7])/len(class_one))\n",
    "\n",
    "print(len(class_one[class_one < 0.3]))\n",
    "print(len(class_one[class_one < 0.3])/len(class_one))"
   ]
  },
  {
   "cell_type": "markdown",
   "metadata": {},
   "source": [
    "## Interpretation\n",
    "\n",
    "So we record all of the standard metrics to make sure our model explains what we are seeing well.  Then we look at the probability distributions for convert (y=1) and not convert (y=0).  If\n",
    "\n",
    "$$ P(converted | test) \\nsim P(converted | control)$$ \n",
    "\n",
    "then we can say our trial produced a meaningful result and we can say that our test data indeed changed something.\n",
    "\n",
    "Note: this is a worked example!  If this was the real world and you saw those accuracy measures, you ought to be very, very skeptical.  Especially the second set.\n",
    "\n",
    "Let's look at the specifics of our example:\n",
    "\n",
    "For test:\n",
    "\n",
    "* 735 converted with a high probability and only 262 converted with a low probability.\n",
    "\n",
    "For control:\n",
    "\n",
    "* only 318 people converted with a high probability and 497 converted with a low probability.\n",
    "\n",
    "Also, the spread of the decision functions is somewhat different.  This is can be explained by the difference in precision, recall and F1 score.  The model for control is far less confident about it's predictions than it is for test.  Let's recall the difference in average disposable income between test and control:"
   ]
  },
  {
   "cell_type": "code",
   "execution_count": 117,
   "metadata": {},
   "outputs": [
    {
     "name": "stdout",
     "output_type": "stream",
     "text": [
      "114850.13408600002\n",
      "19344.240402\n"
     ]
    },
    {
     "data": {
      "text/plain": [
       "95505.89368400002"
      ]
     },
     "execution_count": 117,
     "metadata": {},
     "output_type": "execute_result"
    }
   ],
   "source": [
    "print(test_df[\"disposable_income\"].mean())\n",
    "print(control_df[\"disposable_income\"].mean())\n",
    "test_df[\"disposable_income\"].mean() - control_df[\"disposable_income\"].mean()"
   ]
  },
  {
   "cell_type": "markdown",
   "metadata": {},
   "source": [
    "Around 95K!  That's a huge difference in standard of living.  Let's go back to our model and look at our coefficients:"
   ]
  },
  {
   "cell_type": "code",
   "execution_count": 119,
   "metadata": {},
   "outputs": [
    {
     "name": "stdout",
     "output_type": "stream",
     "text": [
      "female 0.2946846118333844\n",
      "male -0.6549736068562345\n",
      "asian 0.8730138463568186\n",
      "black 0.27632450992553664\n",
      "hispanic 0.936456354519452\n",
      "white -2.446083705824654\n",
      "high -0.3051595488035577\n",
      "low -0.0006419496824594507\n",
      "medium -0.054487496536828564\n",
      "age -0.005946087760671756\n",
      "disposable_income 1.6091160193835538e-05\n"
     ]
    }
   ],
   "source": [
    "for index, coef in enumerate(test_clf.coef_[0]):\n",
    "    if test_df.columns[index] == \"salary\":\n",
    "        print(\"disposable_income\", coef)\n",
    "    else:\n",
    "        print(test_df.columns[index], coef)"
   ]
  },
  {
   "cell_type": "markdown",
   "metadata": {},
   "source": [
    "Making use of the calculation for effect size, as we did before.  We see that the effect size for salary is:\n",
    "\n",
    "$$ \\theta * mean(salary) = 1.8480719058613175 $$\n",
    "\n",
    "that is, \n",
    "\n",
    "`1.6091160193835538e-05 * 114850.13 = 1.8480719058613175`\n",
    "\n",
    "Given that effect size is exponentiated by the base, in this case $e$, the natural number.  We have, an increase in salary by 1 dollar leading to an increase in P(Y=1) of:\n",
    "\n",
    "$$ e^{1.8480719058613175} = 6.347569005727271 $$\n",
    "\n",
    "Now let's look at how much of an effect salary has on our control model:"
   ]
  },
  {
   "cell_type": "code",
   "execution_count": 120,
   "metadata": {},
   "outputs": [
    {
     "name": "stdout",
     "output_type": "stream",
     "text": [
      "female -6.3426394918945975e-06\n",
      "male -0.000850855103282869\n",
      "asian 0.00011363699508624182\n",
      "black -0.00045744173539578105\n",
      "hispanic 0.00022389906317156683\n",
      "white -0.0007372920656367937\n",
      "high -0.00039847470031215116\n",
      "low -0.00017578497928210558\n",
      "medium -0.00028293806318050867\n",
      "age -0.027454865997094135\n",
      "disposable_income 4.965844768559796e-05\n"
     ]
    }
   ],
   "source": [
    "for index, coef in enumerate(control_clf.coef_[0]):\n",
    "    if test_df.columns[index] == \"salary\":\n",
    "        print(\"disposable_income\", coef)\n",
    "    else:\n",
    "        print(test_df.columns[index], coef)"
   ]
  },
  {
   "cell_type": "markdown",
   "metadata": {},
   "source": [
    "$$ \\theta * mean(salary) = 0.9606049500203474 $$\n",
    "\n",
    "that is, \n",
    "\n",
    "`4.965844768559796e-05 * 19344.240402 = 0.9606049500203474`\n",
    "\n",
    "Given that effect size is exponentiated by the base, in this case $e$, the natural number.  We have, an increase in salary by 1 dollar leading to an increase in P(Y=1) of:\n",
    "\n",
    "$$ e^{0.9606049500203474} = 2.6132768972483706 $$\n",
    "\n",
    "This implies disposable income has about three times as much effect in the test model than the control model.  Which feels like it might matter!\n",
    "\n",
    "Last but not least we will look at the KL-divergence between the two models probabilities to help us figure out how significant the difference in prediction is:"
   ]
  },
  {
   "cell_type": "code",
   "execution_count": 145,
   "metadata": {},
   "outputs": [
    {
     "name": "stdout",
     "output_type": "stream",
     "text": [
      "0.5595076378390338\n"
     ]
    },
    {
     "data": {
      "text/plain": [
       "0.8212894958878589"
      ]
     },
     "execution_count": 145,
     "metadata": {},
     "output_type": "execute_result"
    }
   ],
   "source": [
    "from scipy import stats\n",
    "\n",
    "print(stats.entropy(\n",
    "    test_clf.predict_proba(X_test_augmented).T[1], \n",
    "    qk=control_clf.predict_proba(X_test_control).T[1]\n",
    "))\n",
    "stats.entropy(\n",
    "    test_clf.predict_proba(X_test_augmented).T[0], \n",
    "    qk=control_clf.predict_proba(X_test_control).T[0]\n",
    ")"
   ]
  },
  {
   "cell_type": "markdown",
   "metadata": {},
   "source": [
    "While not a metric, the KL divergence can give us a sense for how different these two models probability distributions are.  If the KL divergence is zero, then the two probability distributions are the same.  According to this they are somewhat close!  Overall, what this tells us is that if we find a way to sample test and control, accounting for salary (and therefore disposable income) then we will have an apples to apples comparison.  \n",
    "\n",
    "We were able to figure out that something was different between our two samples because the probability distributions were different.  By looking at the coeficients and average values, we were able to discern that salary is making our two samples distinct.  This is what shows _how_ we were off.  We were able to conclude things aren't that different by looking at the KL divergence.  We could also look at the descriptive statistics on the individual variables, however comparing all of these might be challenging.  Measures of \"closeness\" might be hard to obtain between the variables directly.  Therefore KL divergence can act as an okay proxy.  \n",
    "\n",
    "Just to confirm that the above thinking is correct - let's run the experiment again!  We'll make sure the salaries are sampled from similar distributions this time."
   ]
  },
  {
   "cell_type": "code",
   "execution_count": 147,
   "metadata": {},
   "outputs": [
    {
     "name": "stdout",
     "output_type": "stream",
     "text": [
      "0    0.8374\n",
      "1    0.1626\n",
      "Name: converted, dtype: float64\n",
      "0    0.8412\n",
      "1    0.1588\n",
      "Name: converted, dtype: float64\n",
      "0    0.8429\n",
      "1    0.1571\n",
      "Name: converted, dtype: float64\n"
     ]
    }
   ],
   "source": [
    "size = 5000\n",
    "test_salary_mean = 55000\n",
    "test_salary_variance = 2000 \n",
    "control_salary_mean = 55000\n",
    "control_salary_variance = 2000\n",
    "\n",
    "test_df = generate_data(size, test_salary_mean, test_salary_variance)\n",
    "control_df = generate_data(size, control_salary_mean, test_salary_variance)\n",
    "original_df = generate_data(size*2, control_salary_mean, test_salary_variance)\n",
    "print(test_df[\"converted\"].value_counts()/len(test_df))\n",
    "print(control_df[\"converted\"].value_counts()/len(control_df))\n",
    "print(original_df[\"converted\"].value_counts()/len(original_df))"
   ]
  },
  {
   "cell_type": "markdown",
   "metadata": {},
   "source": [
    "Now that we've sampled again, let's go ahead and recalculate what we need:"
   ]
  },
  {
   "cell_type": "code",
   "execution_count": 148,
   "metadata": {},
   "outputs": [
    {
     "name": "stdout",
     "output_type": "stream",
     "text": [
      "              precision    recall  f1-score   support\n",
      "\n",
      "           0       1.00      0.90      0.95      1040\n",
      "           1       0.67      0.99      0.80       210\n",
      "\n",
      "    accuracy                           0.92      1250\n",
      "   macro avg       0.83      0.94      0.87      1250\n",
      "weighted avg       0.94      0.92      0.92      1250\n",
      "\n",
      "ROC AUC 0.9433379120879121\n"
     ]
    },
    {
     "data": {
      "image/png": "[encoded data removed]",
      "text/plain": [
       "<Figure size 432x288 with 1 Axes>"
      ]
     },
     "metadata": {
      "needs_background": "light"
     },
     "output_type": "display_data"
    }
   ],
   "source": [
    "from sklearn.linear_model import LogisticRegression\n",
    "from sklearn.model_selection import train_test_split\n",
    "from sklearn.metrics import classification_report, roc_auc_score\n",
    "import matplotlib.pyplot as plt\n",
    "import numpy as np\n",
    "\n",
    "augmented_df = test_df.copy()\n",
    "augmented_y = augmented_df[\"converted\"]\n",
    "cols = augmented_df.columns.tolist()\n",
    "cols.remove(\"converted\")\n",
    "cols.remove(\"salary\")\n",
    "augmented_X = augmented_df[cols]\n",
    "\n",
    "X_train, X_test_augmented, y_train, y_test = train_test_split(\n",
    "    augmented_X, augmented_y\n",
    ")\n",
    "test_clf = LogisticRegression(\n",
    "    max_iter=1000, class_weight=\"balanced\", \n",
    "    C=100, penalty=\"l2\", solver=\"liblinear\"\n",
    ")\n",
    "test_clf.fit(X_train, y_train)\n",
    "y_pred = test_clf.predict(X_test_augmented)\n",
    "print(classification_report(y_test, y_pred))\n",
    "print(\"ROC AUC\", roc_auc_score(y_test, y_pred))\n",
    "plt.hist(test_clf.predict_proba(X_test_augmented).T[1])\n",
    "plt.title('Did Convert Probability Distribution')\n",
    "plt.show()"
   ]
  },
  {
   "cell_type": "code",
   "execution_count": 128,
   "metadata": {},
   "outputs": [
    {
     "name": "stdout",
     "output_type": "stream",
     "text": [
      "196\n",
      "0.1568\n",
      "772\n",
      "0.6176\n"
     ]
    }
   ],
   "source": [
    "class_one = test_clf.predict_proba(X_test_augmented).T[1]\n",
    "print(len(class_one[class_one > 0.7]))\n",
    "print(len(class_one[class_one > 0.7])/len(class_one))\n",
    "\n",
    "print(len(class_one[class_one < 0.3]))\n",
    "print(len(class_one[class_one < 0.3])/len(class_one))"
   ]
  },
  {
   "cell_type": "code",
   "execution_count": 149,
   "metadata": {},
   "outputs": [
    {
     "name": "stdout",
     "output_type": "stream",
     "text": [
      "              precision    recall  f1-score   support\n",
      "\n",
      "           0       1.00      0.96      0.98      1040\n",
      "           1       0.85      1.00      0.92       210\n",
      "\n",
      "    accuracy                           0.97      1250\n",
      "   macro avg       0.93      0.98      0.95      1250\n",
      "weighted avg       0.97      0.97      0.97      1250\n",
      "\n",
      "ROC AUC 0.9822115384615385\n"
     ]
    },
    {
     "data": {
      "image/png": "[encoded data removed]",
      "text/plain": [
       "<Figure size 432x288 with 1 Axes>"
      ]
     },
     "metadata": {
      "needs_background": "light"
     },
     "output_type": "display_data"
    }
   ],
   "source": [
    "from sklearn.linear_model import LogisticRegression\n",
    "from sklearn.model_selection import train_test_split\n",
    "from sklearn.metrics import classification_report, roc_auc_score\n",
    "import matplotlib.pyplot as plt\n",
    "import numpy as np\n",
    "\n",
    "control_y = control_df[\"converted\"]\n",
    "cols = control_df.columns.tolist()\n",
    "cols.remove(\"converted\")\n",
    "cols.remove(\"salary\")\n",
    "control_X = control_df[cols]\n",
    "\n",
    "X_train, X_test_control, y_train, y_test = train_test_split(\n",
    "    control_X, control_y\n",
    ")\n",
    "control_clf = LogisticRegression(\n",
    "    max_iter=1000, class_weight=\"balanced\", \n",
    "    C=100, penalty=\"l2\", solver=\"liblinear\"\n",
    ")\n",
    "control_clf.fit(X_train, y_train)\n",
    "y_pred = control_clf.predict(X_test_control)\n",
    "print(classification_report(y_test, y_pred))\n",
    "print(\"ROC AUC\", roc_auc_score(y_test, y_pred))\n",
    "plt.hist(control_clf.predict_proba(X_test_control).T[1])\n",
    "plt.title('Did Convert Probability Distribution')\n",
    "plt.show()"
   ]
  },
  {
   "cell_type": "code",
   "execution_count": 129,
   "metadata": {},
   "outputs": [
    {
     "name": "stdout",
     "output_type": "stream",
     "text": [
      "218\n",
      "0.1744\n",
      "729\n",
      "0.5832\n"
     ]
    }
   ],
   "source": [
    "class_one = control_clf.predict_proba(X_test_control).T[1]\n",
    "print(len(class_one[class_one > 0.7]))\n",
    "print(len(class_one[class_one > 0.7])/len(class_one))\n",
    "\n",
    "print(len(class_one[class_one < 0.3]))\n",
    "print(len(class_one[class_one < 0.3])/len(class_one))"
   ]
  },
  {
   "cell_type": "markdown",
   "metadata": {},
   "source": [
    "So far everything looks pretty similar!  Let's go ahead and look at the coeficients on our models:"
   ]
  },
  {
   "cell_type": "code",
   "execution_count": 130,
   "metadata": {},
   "outputs": [
    {
     "name": "stdout",
     "output_type": "stream",
     "text": [
      "female 0.39969047133645125\n",
      "male -1.4504322821135125\n",
      "asian -0.2596477353155232\n",
      "black -1.2888227354207535\n",
      "hispanic 1.8837280502167568\n",
      "white -1.385999390257541\n",
      "high -0.8515803278356436\n",
      "low 0.16948398065245837\n",
      "medium -0.3686454635938748\n",
      "age -0.017115176234678845\n",
      "disposable_income 7.22119500728732e-05\n"
     ]
    }
   ],
   "source": [
    "for index, coef in enumerate(test_clf.coef_[0]):\n",
    "    if test_df.columns[index] == \"salary\":\n",
    "        print(\"disposable_income\", coef)\n",
    "    else:\n",
    "        print(test_df.columns[index], coef)"
   ]
  },
  {
   "cell_type": "code",
   "execution_count": 131,
   "metadata": {},
   "outputs": [
    {
     "name": "stdout",
     "output_type": "stream",
     "text": [
      "female 0.41153164334448583\n",
      "male -1.3396666638763157\n",
      "asian -0.2384917480148528\n",
      "black -1.078216580983576\n",
      "hispanic 1.4138815188081577\n",
      "white -1.0253082103415576\n",
      "high -0.692847296741106\n",
      "low 0.2081631408675101\n",
      "medium -0.443450864658234\n",
      "age -0.014480776960789773\n",
      "disposable_income 6.888622733234604e-05\n"
     ]
    }
   ],
   "source": [
    "for index, coef in enumerate(control_clf.coef_[0]):\n",
    "    if test_df.columns[index] == \"salary\":\n",
    "        print(\"disposable_income\", coef)\n",
    "    else:\n",
    "        print(test_df.columns[index], coef)"
   ]
  },
  {
   "cell_type": "markdown",
   "metadata": {},
   "source": [
    "As you can see, all our coeficients are pretty similar!  Since our data is similar, we don't need to carry out the full calculation to infer effect size.  Finally, let's look at our KL divergence:"
   ]
  },
  {
   "cell_type": "code",
   "execution_count": 150,
   "metadata": {},
   "outputs": [
    {
     "name": "stdout",
     "output_type": "stream",
     "text": [
      "1.8911807020032905\n"
     ]
    },
    {
     "data": {
      "text/plain": [
       "0.38326048518028133"
      ]
     },
     "execution_count": 150,
     "metadata": {},
     "output_type": "execute_result"
    }
   ],
   "source": [
    "from scipy import stats\n",
    "\n",
    "print(stats.entropy(\n",
    "    test_clf.predict_proba(X_test_augmented).T[1], \n",
    "    qk=control_clf.predict_proba(X_test_control).T[1]\n",
    "))\n",
    "stats.entropy(\n",
    "    test_clf.predict_proba(X_test_augmented).T[0], \n",
    "    qk=control_clf.predict_proba(X_test_control).T[0]\n",
    ")"
   ]
  },
  {
   "cell_type": "markdown",
   "metadata": {},
   "source": [
    "As you can see, the KL divergence is still small!  So this model is now pretty good.  And we can say definitively, in this case, the change in email for the sale had no effect!  Recall that KL divergence is not a true metric, so just because the KL divergence is bigger here than before says nothing about how much closer these two probability distributions are than the other two we looked at for the previous experiment.  KL divergence only tells us how close these two probability distributions are in \"relative\" terms.  So a good rule of thumb is anything that produces small numbers is probably close."
   ]
  },
  {
   "cell_type": "markdown",
   "metadata": {},
   "source": [
    "## Example Two - Customer Churn\n",
    "\n",
    "The next typical data science problem we are going to tackle is customer churn!  This is huge for product development, sales cycles and just keeping a business afloat.  If you know and can predict how much your customers are going to churn you can reliably forecast how much revenue to expect per quarter.  Which is basically essential to any and all businesses.  \n",
    "\n",
    "Since customer churn is so important, it's worth noting that there is more to churn than just what's in your model.  It can help drive decisions, but it's very important to include domain experts in churn conversations.  This means designers, UX and design folks, sales folks, executives and other stakeholders.  All of these folks matter.  For one, your model may not take into account critical variables.  For another thing, you may not be measuring enough.  A good model doesn't replace people, it helps inform a conversation and aids in decision making.\n",
    "\n",
    "Let's start with some context for what Customer Churn is and go through some possible definitions:\n",
    "\n",
    "Customer churn, loosely, is the number of customers that will stop paying for your service over a specified period of time.\n",
    "\n",
    "Definition one:\n",
    "\n",
    "$$ \\frac{customers \\space lost \\space during \\space fixed \\space period}{total \\space customers \\space at \\space the \\space start \\space of \\space the \\space fixed \\space period} $$\n",
    "\n",
    "Notice, this does not take into account the total number of customers gained.  Say for instance you started out with 100 customers, then you gained 1 million over the course of the fixed period, say a month, and then 15 thousand churned.  Your churn for the month would be:\n",
    "\n",
    "$$ \\frac{15000}{100} = 150 \\% $$\n",
    "\n",
    "If 150% of your customers churn, you might think your business is _not_ doing great.  But you gained like a million new customers over the period!  So in actuality, this is very good news, _overall_.  If you don't get a ton of new customers, this might be a good enough metric.\n",
    "\n",
    "Definition two:\n",
    "\n",
    "$$ \\frac{Churn}{Customers_{1} + Customers_{n} / 2} $$\n",
    "\n",
    "Where:\n",
    "\n",
    "$ Customer_{1} $ := number of customers at the start of the month\n",
    "\n",
    "$ Customer_{n} $ := number of customers at the end of the month\n",
    "\n",
    "So over the same window we get:\n",
    "\n",
    "$$ \\frac{15000}{(100 + 1000000)/2} = 0.029\\% $$\n",
    "\n",
    "Which sounds much more reasonable, and accurate.\n",
    "\n",
    "Definition three:\n",
    "\n",
    "$$ \\frac{Churn}{\\frac{1}{n} \\displaystyle \\sum_{i=1}^{n} Customer_{i}} $$\n",
    "\n",
    "Here we take the average of the customer count over the period of interest, this further normalizes the churn.\n",
    "\n",
    "## Modeling Churn\n",
    "\n",
    "Once you have a good measure of Churn, that works for you, the next step is to understand your Churn number.  For this we'll create a model of the world that incorpates other data to understand when and more importantly why customers churn.\n",
    "\n",
    "For this example we will be making use of this dataset from kaggle:\n",
    "\n",
    "https://www.kaggle.com/adammaus/predicting-churn-for-bank-customers\n",
    "\n",
    "To get this part of the notebook to run, you'll need to download and unzip the data locally (a pain I know).\n",
    "\n"
   ]
  },
  {
   "cell_type": "code",
   "execution_count": 1,
   "metadata": {},
   "outputs": [
    {
     "name": "stdout",
     "output_type": "stream",
     "text": [
      "<class 'pandas.core.frame.DataFrame'>\n",
      "RangeIndex: 10000 entries, 0 to 9999\n",
      "Data columns (total 12 columns):\n",
      "Surname            10000 non-null object\n",
      "CreditScore        10000 non-null int64\n",
      "Geography          10000 non-null object\n",
      "Gender             10000 non-null object\n",
      "Age                10000 non-null int64\n",
      "Tenure             10000 non-null int64\n",
      "Balance            10000 non-null float64\n",
      "NumOfProducts      10000 non-null int64\n",
      "HasCrCard          10000 non-null int64\n",
      "IsActiveMember     10000 non-null int64\n",
      "EstimatedSalary    10000 non-null float64\n",
      "Churn              10000 non-null int64\n",
      "dtypes: float64(2), int64(7), object(3)\n",
      "memory usage: 937.6+ KB\n"
     ]
    }
   ],
   "source": [
    "import pandas as pd\n",
    "import numpy as np\n",
    "\n",
    "df = pd.read_csv(\"Churn_Modelling.csv\")\n",
    "df.drop(\"RowNumber\", inplace=True, axis=1)\n",
    "df.drop(\"CustomerId\", inplace=True, axis=1)\n",
    "df[\"Churn\"] = df[\"Exited\"] \n",
    "df.drop(\"Exited\", inplace=True, axis=1)\n",
    "df.info()"
   ]
  },
  {
   "cell_type": "markdown",
   "metadata": {},
   "source": [
    "We drop the `RowNumber` and the `CustomerId` since they won't be useful for understanding why our customers churn or stay.  Some of the other information may be useful.  First let's look at `Gender`:"
   ]
  },
  {
   "cell_type": "code",
   "execution_count": 3,
   "metadata": {},
   "outputs": [
    {
     "data": {
      "text/html": [
       "<div>\n",
       "<style scoped>\n",
       "    .dataframe tbody tr th:only-of-type {\n",
       "        vertical-align: middle;\n",
       "    }\n",
       "\n",
       "    .dataframe tbody tr th {\n",
       "        vertical-align: top;\n",
       "    }\n",
       "\n",
       "    .dataframe thead th {\n",
       "        text-align: right;\n",
       "    }\n",
       "</style>\n",
       "<table border=\"1\" class=\"dataframe\">\n",
       "  <thead>\n",
       "    <tr style=\"text-align: right;\">\n",
       "      <th></th>\n",
       "      <th>Churn %</th>\n",
       "      <th>Churn Total</th>\n",
       "    </tr>\n",
       "    <tr>\n",
       "      <th>Gender</th>\n",
       "      <th></th>\n",
       "      <th></th>\n",
       "    </tr>\n",
       "  </thead>\n",
       "  <tbody>\n",
       "    <tr>\n",
       "      <th>Female</th>\n",
       "      <td>0.250715</td>\n",
       "      <td>1139</td>\n",
       "    </tr>\n",
       "    <tr>\n",
       "      <th>Male</th>\n",
       "      <td>0.164559</td>\n",
       "      <td>898</td>\n",
       "    </tr>\n",
       "  </tbody>\n",
       "</table>\n",
       "</div>"
      ],
      "text/plain": [
       "         Churn %  Churn Total\n",
       "Gender                       \n",
       "Female  0.250715         1139\n",
       "Male    0.164559          898"
      ]
     },
     "execution_count": 3,
     "metadata": {},
     "output_type": "execute_result"
    }
   ],
   "source": [
    "summary = df.pivot_table(values=\"Churn\", index='Gender', aggfunc=np.mean)\n",
    "summary[\"Churn %\"] = summary[\"Churn\"] \n",
    "summary[\"Churn Total\"] = df.pivot_table(values=\"Churn\", index=\"Gender\", aggfunc=np.sum)\n",
    "summary.drop(\"Churn\", axis=1, inplace=True)\n",
    "summary"
   ]
  },
  {
   "cell_type": "markdown",
   "metadata": {},
   "source": [
    "It seems pretty clear that `Gender` is going to matter, and that `Churn` is going to be higher for women than men.\n",
    "\n",
    "Now let's see if this is True for all countries under consideration:"
   ]
  },
  {
   "cell_type": "code",
   "execution_count": 4,
   "metadata": {},
   "outputs": [
    {
     "name": "stdout",
     "output_type": "stream",
     "text": [
      "['France' 'Spain' 'Germany']\n"
     ]
    },
    {
     "data": {
      "text/html": [
       "<div>\n",
       "<style scoped>\n",
       "    .dataframe tbody tr th:only-of-type {\n",
       "        vertical-align: middle;\n",
       "    }\n",
       "\n",
       "    .dataframe tbody tr th {\n",
       "        vertical-align: top;\n",
       "    }\n",
       "\n",
       "    .dataframe thead th {\n",
       "        text-align: right;\n",
       "    }\n",
       "</style>\n",
       "<table border=\"1\" class=\"dataframe\">\n",
       "  <thead>\n",
       "    <tr style=\"text-align: right;\">\n",
       "      <th>Geography</th>\n",
       "      <th>France</th>\n",
       "      <th>Germany</th>\n",
       "      <th>Spain</th>\n",
       "    </tr>\n",
       "    <tr>\n",
       "      <th>Gender</th>\n",
       "      <th></th>\n",
       "      <th></th>\n",
       "      <th></th>\n",
       "    </tr>\n",
       "  </thead>\n",
       "  <tbody>\n",
       "    <tr>\n",
       "      <th>Female</th>\n",
       "      <td>0.203450</td>\n",
       "      <td>0.375524</td>\n",
       "      <td>0.212121</td>\n",
       "    </tr>\n",
       "    <tr>\n",
       "      <th>Male</th>\n",
       "      <td>0.127134</td>\n",
       "      <td>0.278116</td>\n",
       "      <td>0.131124</td>\n",
       "    </tr>\n",
       "  </tbody>\n",
       "</table>\n",
       "</div>"
      ],
      "text/plain": [
       "Geography    France   Germany     Spain\n",
       "Gender                                 \n",
       "Female     0.203450  0.375524  0.212121\n",
       "Male       0.127134  0.278116  0.131124"
      ]
     },
     "execution_count": 4,
     "metadata": {},
     "output_type": "execute_result"
    }
   ],
   "source": [
    "print(df[\"Geography\"].unique())\n",
    "summary = df.pivot_table(values=\"Churn\", index=['Gender'], columns=[\"Geography\"], aggfunc=np.mean)\n",
    "summary"
   ]
  },
  {
   "cell_type": "markdown",
   "metadata": {},
   "source": [
    "It appears churn rates are higher across the board for women over men, however churn rates do vary from country to country:"
   ]
  },
  {
   "cell_type": "code",
   "execution_count": 5,
   "metadata": {},
   "outputs": [
    {
     "name": "stdout",
     "output_type": "stream",
     "text": [
      "['France' 'Spain' 'Germany']\n"
     ]
    },
    {
     "data": {
      "text/html": [
       "<div>\n",
       "<style scoped>\n",
       "    .dataframe tbody tr th:only-of-type {\n",
       "        vertical-align: middle;\n",
       "    }\n",
       "\n",
       "    .dataframe tbody tr th {\n",
       "        vertical-align: top;\n",
       "    }\n",
       "\n",
       "    .dataframe thead th {\n",
       "        text-align: right;\n",
       "    }\n",
       "</style>\n",
       "<table border=\"1\" class=\"dataframe\">\n",
       "  <thead>\n",
       "    <tr style=\"text-align: right;\">\n",
       "      <th>Geography</th>\n",
       "      <th>France</th>\n",
       "      <th>Germany</th>\n",
       "      <th>Spain</th>\n",
       "    </tr>\n",
       "    <tr>\n",
       "      <th>Gender</th>\n",
       "      <th></th>\n",
       "      <th></th>\n",
       "      <th></th>\n",
       "    </tr>\n",
       "  </thead>\n",
       "  <tbody>\n",
       "    <tr>\n",
       "      <th>Female</th>\n",
       "      <td>460</td>\n",
       "      <td>448</td>\n",
       "      <td>231</td>\n",
       "    </tr>\n",
       "    <tr>\n",
       "      <th>Male</th>\n",
       "      <td>350</td>\n",
       "      <td>366</td>\n",
       "      <td>182</td>\n",
       "    </tr>\n",
       "  </tbody>\n",
       "</table>\n",
       "</div>"
      ],
      "text/plain": [
       "Geography  France  Germany  Spain\n",
       "Gender                           \n",
       "Female        460      448    231\n",
       "Male          350      366    182"
      ]
     },
     "execution_count": 5,
     "metadata": {},
     "output_type": "execute_result"
    }
   ],
   "source": [
    "print(df[\"Geography\"].unique())\n",
    "summary = df.pivot_table(values=\"Churn\", index=['Gender'], columns=[\"Geography\"], aggfunc=np.sum)\n",
    "summary"
   ]
  },
  {
   "cell_type": "markdown",
   "metadata": {},
   "source": [
    "This is probably a function of population size.  However this means explicitly controlling for `Geography` is probably important, because otherwise we may lose a confounding effect, which would lower the generalizability of our analysis.\n",
    "\n",
    "Next let's look at the effect of age on Churn.  For this we should first run the test for independence followed by a test for correlation.  Recall, we will use Kruskal-Wallis for independence and point bi serial correlation for correlation:"
   ]
  },
  {
   "cell_type": "code",
   "execution_count": 6,
   "metadata": {},
   "outputs": [
    {
     "name": "stdout",
     "output_type": "stream",
     "text": [
      "KruskalResult(statistic=16030.329492796818, pvalue=0.0)\n",
      "PointbiserialrResult(correlation=0.28532303783506824, pvalue=1.2399313093495365e-186)\n"
     ]
    }
   ],
   "source": [
    "from scipy import stats\n",
    "\n",
    "print(stats.kruskal(df[\"Age\"], df[\"Churn\"]))\n",
    "print(stats.pointbiserialr(df[\"Age\"], df[\"Churn\"]))"
   ]
  },
  {
   "cell_type": "markdown",
   "metadata": {},
   "source": [
    "With a pvalue of zero we reject the null hypothesis that the two variables are independent.  Additionally, we see a pvalue of close to zero for point bi serial correlation, therefore we reject the null hypothesis of no correlation.  So `Age` is a variable of interest.  We can also confirm this with mutual information:"
   ]
  },
  {
   "cell_type": "code",
   "execution_count": 7,
   "metadata": {},
   "outputs": [
    {
     "data": {
      "text/plain": [
       "array([0.05610117])"
      ]
     },
     "execution_count": 7,
     "metadata": {},
     "output_type": "execute_result"
    }
   ],
   "source": [
    "from sklearn import feature_selection\n",
    "feature_selection.mutual_info_regression(df[\"Age\"].values.reshape(-1, 1), df[\"Churn\"])"
   ]
  },
  {
   "cell_type": "markdown",
   "metadata": {},
   "source": [
    "If you haven't read An Introduction to Information Theory yet, the important things to note are when mutual information is 1, the variables are perfectly dependent.  When it's zero they are the same.  So there is some weak information sharing between `Age` and `Churn`."
   ]
  },
  {
   "cell_type": "markdown",
   "metadata": {},
   "source": [
    "We can actually go through the rest of the variables to see which ones are likely useful for predicting churn with mutual information:"
   ]
  },
  {
   "cell_type": "code",
   "execution_count": 21,
   "metadata": {},
   "outputs": [
    {
     "data": {
      "text/plain": [
       "[('Age', 0.09048326288892028),\n",
       " ('NumOfProducts', 0.07303749592710229),\n",
       " ('IsActiveMember', 0.013130240845428354),\n",
       " ('Tenure', 0.00409941408302128),\n",
       " ('EstimatedSalary', 0.0027089277988778804),\n",
       " ('Balance', 0.00161677556992057),\n",
       " ('CreditScore', 0.0006704402476174209),\n",
       " ('HasCrCard', 0.0)]"
      ]
     },
     "execution_count": 21,
     "metadata": {},
     "output_type": "execute_result"
    }
   ],
   "source": [
    "features = [column for column in df.columns if df[column].dtype != \"object\"]\n",
    "features.remove(\"Churn\")\n",
    "X = df[features]\n",
    "y = df[\"Churn\"]\n",
    "ranks = feature_selection.mutual_info_regression(X, y)\n",
    "rankings = []\n",
    "for index, feature in enumerate(features):\n",
    "    rankings.append((feature, ranks[index]))\n",
    "sorted(rankings, key=lambda t: t[1], reverse=True)"
   ]
  },
  {
   "cell_type": "markdown",
   "metadata": {},
   "source": [
    "So we see that `NumOfProducts` is the most important and `HasCrCard` is the least important.  Or rather carries the least information about probability of churning.  This is possibly because most people have a credit card these days.\n",
    "\n",
    "Next let's kick out any variables that don't likely matter.  In this case, we can probably safely remove `HasCrCard`:"
   ]
  },
  {
   "cell_type": "code",
   "execution_count": 2,
   "metadata": {},
   "outputs": [],
   "source": [
    "df.drop(\"HasCrCard\", axis=1, inplace=True)"
   ]
  },
  {
   "cell_type": "markdown",
   "metadata": {},
   "source": [
    "Let's also drop `Surname`, since any information it gives us is probably spurious:"
   ]
  },
  {
   "cell_type": "code",
   "execution_count": 3,
   "metadata": {},
   "outputs": [],
   "source": [
    "df.drop(\"Surname\", axis=1, inplace=True)"
   ]
  },
  {
   "cell_type": "markdown",
   "metadata": {},
   "source": [
    "Last but not least, let's look at how balanced our classes are.  This will inform what type of classifier we use and what kind of accuracy we can expect:"
   ]
  },
  {
   "cell_type": "code",
   "execution_count": 10,
   "metadata": {},
   "outputs": [
    {
     "data": {
      "text/plain": [
       "0    7963\n",
       "1    2037\n",
       "Name: Churn, dtype: int64"
      ]
     },
     "execution_count": 10,
     "metadata": {},
     "output_type": "execute_result"
    }
   ],
   "source": [
    "df[\"Churn\"].value_counts()"
   ]
  },
  {
   "cell_type": "markdown",
   "metadata": {},
   "source": [
    "As you can see there is some imbalance with about 80% of people not churning from the service.  So we'll need to explicitly account for this."
   ]
  },
  {
   "cell_type": "markdown",
   "metadata": {},
   "source": [
    "Now we are almost ready to fit our model!  Let's first get our categorical variables ready:"
   ]
  },
  {
   "cell_type": "code",
   "execution_count": 4,
   "metadata": {},
   "outputs": [],
   "source": [
    "for column in df.columns:\n",
    "    if df[column].dtype == \"object\":\n",
    "        df = pd.concat([df, pd.get_dummies(df[column])], axis=1)\n",
    "        df = df.drop(column, axis=1)\n"
   ]
  },
  {
   "cell_type": "code",
   "execution_count": 30,
   "metadata": {},
   "outputs": [
    {
     "name": "stdout",
     "output_type": "stream",
     "text": [
      "              precision    recall  f1-score   support\n",
      "\n",
      "           0       0.87      0.65      0.74      1944\n",
      "           1       0.35      0.66      0.46       556\n",
      "\n",
      "    accuracy                           0.65      2500\n",
      "   macro avg       0.61      0.66      0.60      2500\n",
      "weighted avg       0.76      0.65      0.68      2500\n",
      "\n",
      "0.6562953341030878\n",
      "11.978264824417066\n"
     ]
    }
   ],
   "source": [
    "from sklearn.model_selection import train_test_split\n",
    "from sklearn.linear_model import LogisticRegression\n",
    "from sklearn.metrics import classification_report, roc_auc_score, log_loss\n",
    "\n",
    "y = df[\"Churn\"]\n",
    "cols = df.columns.tolist()\n",
    "cols.remove(\"Churn\")\n",
    "X = df[cols]\n",
    "\n",
    "X_train, X_test, y_train, y_test = train_test_split(X, y, random_state=12)\n",
    "logit = LogisticRegression(\n",
    "    C=1, penalty=\"l2\", max_iter=1000, \n",
    "    class_weight=\"balanced\"\n",
    ")\n",
    "logit.fit(X_train, y_train)\n",
    "y_pred = logit.predict(X_test)\n",
    "print(classification_report(y_test, y_pred))\n",
    "print(roc_auc_score(y_test, y_pred))\n",
    "print(log_loss(y_test, y_pred))"
   ]
  },
  {
   "cell_type": "markdown",
   "metadata": {},
   "source": [
    "One strategy to deal with class imbalance is by making that explicit.  Here we the `class_weight` hyperparameter to try and adjust for this class imbalance.  What this does is weight examples from the minority class higher than those from the majority class.  Unfortunately our model doesn't do great, so let's see if there are any obvious variables we can remove:"
   ]
  },
  {
   "cell_type": "code",
   "execution_count": 31,
   "metadata": {},
   "outputs": [
    {
     "name": "stdout",
     "output_type": "stream",
     "text": [
      "CreditScore -0.0031436478957918785\n",
      "Age 0.05898746159233117\n",
      "Tenure -0.08679665322930301\n",
      "Balance 3.905155260992167e-06\n",
      "NumOfProducts -0.039819154004494525\n",
      "IsActiveMember -0.07847513122067634\n",
      "EstimatedSalary -9.223377167585139e-07\n",
      "France -0.04440259570810289\n",
      "Germany 0.05012964004326264\n",
      "Spain -0.022347366299728076\n",
      "Female 0.04293418313482472\n",
      "Male -0.059554505098413556\n"
     ]
    }
   ],
   "source": [
    "for index, col in enumerate(cols):\n",
    "    print(col, logit.coef_[0][index])"
   ]
  },
  {
   "cell_type": "markdown",
   "metadata": {},
   "source": [
    "None of the variables really jump out as the issue.  You might think that `EstimatedSalary` and `Balance` are the issue, but both of them have much larger values than the rest of the variables.  Let's just confirm that:"
   ]
  },
  {
   "cell_type": "code",
   "execution_count": 27,
   "metadata": {},
   "outputs": [
    {
     "data": {
      "text/html": [
       "<div>\n",
       "<style scoped>\n",
       "    .dataframe tbody tr th:only-of-type {\n",
       "        vertical-align: middle;\n",
       "    }\n",
       "\n",
       "    .dataframe tbody tr th {\n",
       "        vertical-align: top;\n",
       "    }\n",
       "\n",
       "    .dataframe thead th {\n",
       "        text-align: right;\n",
       "    }\n",
       "</style>\n",
       "<table border=\"1\" class=\"dataframe\">\n",
       "  <thead>\n",
       "    <tr style=\"text-align: right;\">\n",
       "      <th></th>\n",
       "      <th>CreditScore</th>\n",
       "      <th>Age</th>\n",
       "      <th>Tenure</th>\n",
       "      <th>Balance</th>\n",
       "      <th>NumOfProducts</th>\n",
       "      <th>IsActiveMember</th>\n",
       "      <th>EstimatedSalary</th>\n",
       "      <th>Churn</th>\n",
       "    </tr>\n",
       "  </thead>\n",
       "  <tbody>\n",
       "    <tr>\n",
       "      <th>count</th>\n",
       "      <td>10000.000000</td>\n",
       "      <td>10000.000000</td>\n",
       "      <td>10000.000000</td>\n",
       "      <td>10000.000000</td>\n",
       "      <td>10000.000000</td>\n",
       "      <td>10000.000000</td>\n",
       "      <td>10000.000000</td>\n",
       "      <td>10000.000000</td>\n",
       "    </tr>\n",
       "    <tr>\n",
       "      <th>mean</th>\n",
       "      <td>650.528800</td>\n",
       "      <td>38.921800</td>\n",
       "      <td>5.012800</td>\n",
       "      <td>76485.889288</td>\n",
       "      <td>1.530200</td>\n",
       "      <td>0.515100</td>\n",
       "      <td>100090.239881</td>\n",
       "      <td>0.203700</td>\n",
       "    </tr>\n",
       "    <tr>\n",
       "      <th>std</th>\n",
       "      <td>96.653299</td>\n",
       "      <td>10.487806</td>\n",
       "      <td>2.892174</td>\n",
       "      <td>62397.405202</td>\n",
       "      <td>0.581654</td>\n",
       "      <td>0.499797</td>\n",
       "      <td>57510.492818</td>\n",
       "      <td>0.402769</td>\n",
       "    </tr>\n",
       "    <tr>\n",
       "      <th>min</th>\n",
       "      <td>350.000000</td>\n",
       "      <td>18.000000</td>\n",
       "      <td>0.000000</td>\n",
       "      <td>0.000000</td>\n",
       "      <td>1.000000</td>\n",
       "      <td>0.000000</td>\n",
       "      <td>11.580000</td>\n",
       "      <td>0.000000</td>\n",
       "    </tr>\n",
       "    <tr>\n",
       "      <th>25%</th>\n",
       "      <td>584.000000</td>\n",
       "      <td>32.000000</td>\n",
       "      <td>3.000000</td>\n",
       "      <td>0.000000</td>\n",
       "      <td>1.000000</td>\n",
       "      <td>0.000000</td>\n",
       "      <td>51002.110000</td>\n",
       "      <td>0.000000</td>\n",
       "    </tr>\n",
       "    <tr>\n",
       "      <th>50%</th>\n",
       "      <td>652.000000</td>\n",
       "      <td>37.000000</td>\n",
       "      <td>5.000000</td>\n",
       "      <td>97198.540000</td>\n",
       "      <td>1.000000</td>\n",
       "      <td>1.000000</td>\n",
       "      <td>100193.915000</td>\n",
       "      <td>0.000000</td>\n",
       "    </tr>\n",
       "    <tr>\n",
       "      <th>75%</th>\n",
       "      <td>718.000000</td>\n",
       "      <td>44.000000</td>\n",
       "      <td>7.000000</td>\n",
       "      <td>127644.240000</td>\n",
       "      <td>2.000000</td>\n",
       "      <td>1.000000</td>\n",
       "      <td>149388.247500</td>\n",
       "      <td>0.000000</td>\n",
       "    </tr>\n",
       "    <tr>\n",
       "      <th>max</th>\n",
       "      <td>850.000000</td>\n",
       "      <td>92.000000</td>\n",
       "      <td>10.000000</td>\n",
       "      <td>250898.090000</td>\n",
       "      <td>4.000000</td>\n",
       "      <td>1.000000</td>\n",
       "      <td>199992.480000</td>\n",
       "      <td>1.000000</td>\n",
       "    </tr>\n",
       "  </tbody>\n",
       "</table>\n",
       "</div>"
      ],
      "text/plain": [
       "        CreditScore           Age        Tenure        Balance  NumOfProducts  \\\n",
       "count  10000.000000  10000.000000  10000.000000   10000.000000   10000.000000   \n",
       "mean     650.528800     38.921800      5.012800   76485.889288       1.530200   \n",
       "std       96.653299     10.487806      2.892174   62397.405202       0.581654   \n",
       "min      350.000000     18.000000      0.000000       0.000000       1.000000   \n",
       "25%      584.000000     32.000000      3.000000       0.000000       1.000000   \n",
       "50%      652.000000     37.000000      5.000000   97198.540000       1.000000   \n",
       "75%      718.000000     44.000000      7.000000  127644.240000       2.000000   \n",
       "max      850.000000     92.000000     10.000000  250898.090000       4.000000   \n",
       "\n",
       "       IsActiveMember  EstimatedSalary         Churn  \n",
       "count    10000.000000     10000.000000  10000.000000  \n",
       "mean         0.515100    100090.239881      0.203700  \n",
       "std          0.499797     57510.492818      0.402769  \n",
       "min          0.000000        11.580000      0.000000  \n",
       "25%          0.000000     51002.110000      0.000000  \n",
       "50%          1.000000    100193.915000      0.000000  \n",
       "75%          1.000000    149388.247500      0.000000  \n",
       "max          1.000000    199992.480000      1.000000  "
      ]
     },
     "execution_count": 27,
     "metadata": {},
     "output_type": "execute_result"
    }
   ],
   "source": [
    "df.describe()"
   ]
  },
  {
   "cell_type": "markdown",
   "metadata": {},
   "source": [
    "As you can see, the averages for `EstimatedSalary` and `Balance` are much much higher than the other variables.  So even though they have smaller coefficients, their effect size will be large enough to contribute to the decision boundary.  Next, let's see if the solver or penalty is the issue:"
   ]
  },
  {
   "cell_type": "code",
   "execution_count": 32,
   "metadata": {
    "scrolled": true
   },
   "outputs": [
    {
     "name": "stdout",
     "output_type": "stream",
     "text": [
      "              precision    recall  f1-score   support\n",
      "\n",
      "           0       0.89      0.72      0.80      1944\n",
      "           1       0.42      0.70      0.53       556\n",
      "\n",
      "    accuracy                           0.72      2500\n",
      "   macro avg       0.66      0.71      0.66      2500\n",
      "weighted avg       0.79      0.72      0.74      2500\n",
      "\n",
      "0.7127298161470823\n",
      "9.740107656409736\n"
     ]
    }
   ],
   "source": [
    "logit_linear = LogisticRegression(\n",
    "    solver=\"liblinear\",\n",
    "    C=1, penalty=\"l1\", max_iter=10000, \n",
    "    class_weight=\"balanced\"\n",
    ")\n",
    "logit_linear.fit(X_train, y_train)\n",
    "y_pred = logit_linear.predict(X_test)\n",
    "print(classification_report(y_test, y_pred))\n",
    "print(roc_auc_score(y_test, y_pred))\n",
    "print(log_loss(y_test, y_pred))"
   ]
  },
  {
   "cell_type": "code",
   "execution_count": 140,
   "metadata": {},
   "outputs": [
    {
     "name": "stdout",
     "output_type": "stream",
     "text": [
      "CreditScore -0.0006180222871635596\n",
      "Age 0.0782462365221455\n",
      "Tenure -0.006832107433490348\n",
      "Balance 2.6100726865106033e-06\n",
      "NumOfProducts -0.125957377561036\n",
      "IsActiveMember -0.8492739668684903\n",
      "EstimatedSalary 1.2544822574956195e-07\n",
      "France -0.807417662931865\n",
      "Germany 0.0\n",
      "Spain -0.8244401538543713\n",
      "Female -0.34300710576221705\n",
      "Male -0.9037524239656831\n"
     ]
    }
   ],
   "source": [
    "for index, col in enumerate(cols):\n",
    "    print(col, logit_linear.coef_[0][index])"
   ]
  },
  {
   "cell_type": "markdown",
   "metadata": {},
   "source": [
    "We do a little bit better with this model, but still not well enough.  Time to bring in another library specifically created to deal with imbalanced classes.\n",
    "\n",
    "## Dealing with imbalanced data explicitly\n",
    "\n",
    "There are a few strategies for dealing with imbalanced data.  We've already looked at class weight balancing, which can work in some cases.  But unfortunately doesn't work for our example problem.  Next let's look at under and over sampling.  Before we go through that, let's define what sampling is and why it can be effective.\n",
    "\n",
    "### Sampling\n",
    "\n",
    "In a perfect world, we would never need to sample.  We would always have enough data and that data would be our population of interest.  We would know everything about it that was relevant and we would be able to accurately come up with policy interventions or understand some phenomenon.  Unfortunately, in the real world, we have no such luck.  We rarely, if ever, have all the data about our population of interest.  Does that mean that our models are not faithful to the real world, if they are trained on limited data?  The answer is not necessarily!\n",
    "\n",
    "In chapter one we introduced the notion of the distribution and descriptive statistics.  Loosely defined, a sample is a distribution of data that comes from a large population distribution.  One way to measure similarity between the sample and the population distribution is to see if their descriptive statistics, also known as their characteristics, are similar.\n",
    "\n",
    "Let's look at an example!\n",
    "\n",
    "Suppose there exists the following population distribution:"
   ]
  },
  {
   "cell_type": "code",
   "execution_count": 41,
   "metadata": {},
   "outputs": [
    {
     "data": {
      "image/png": "[encoded data removed]",
      "text/plain": [
       "<Figure size 432x288 with 1 Axes>"
      ]
     },
     "metadata": {
      "needs_background": "light"
     },
     "output_type": "display_data"
    },
    {
     "name": "stdout",
     "output_type": "stream",
     "text": [
      "Mean: -0.038410954520667805\n",
      "Standard Devation: 9.991669662907558\n"
     ]
    }
   ],
   "source": [
    "import matplotlib.pyplot as plt\n",
    "import numpy as np\n",
    "%matplotlib inline\n",
    "\n",
    "population = np.random.normal(0, 10, size=100000)\n",
    "\n",
    "bins = 100\n",
    "plt.hist(population, bins=bins)\n",
    "plt.show()\n",
    "print(\"Mean:\", np.mean(population))\n",
    "print(\"Standard Devation:\", np.std(population))"
   ]
  },
  {
   "cell_type": "markdown",
   "metadata": {},
   "source": [
    "Now assume we can only take samples of this population and that the financial cost of extracting the next sample increases overtime.  So let's say that the cost increases linearly with each sample extracted, by a rate of 2 cents more per sample.  Let's see how cost increases as we draw more samples:"
   ]
  },
  {
   "cell_type": "code",
   "execution_count": 43,
   "metadata": {},
   "outputs": [
    {
     "data": {
      "image/png": "[encoded data removed]",
      "text/plain": [
       "<Figure size 432x288 with 1 Axes>"
      ]
     },
     "metadata": {
      "needs_background": "light"
     },
     "output_type": "display_data"
    }
   ],
   "source": [
    "sample_size = np.linspace(0, 10000)\n",
    "cost_for_sample_i = sample_size ** 2\n",
    "\n",
    "plt.plot(sample_size, cost_for_sample_i)\n",
    "plt.show()"
   ]
  },
  {
   "cell_type": "markdown",
   "metadata": {},
   "source": [
    "This means that the 10,000th sample costs 10,000,000 dollars in total!!!  That's a huge cost!  And that's at a rate of increase of 2 cents more per sample!  So these things can get very, very pricey.  The cost associated with obtaining a large sample or obtaining the entire population can be prohibitive.  If you think this example is an overstatement of reality, the 2010 census cost 13 billion dollars.  That's approximately 100 times more expensive than our worked example.  \n",
    "\n",
    "Hopefully I've motivated sampling for you and it's importance.  Now let's go through some techniques:  \n",
    "\n",
    "The first is just a random sample of the population distribution:"
   ]
  },
  {
   "cell_type": "code",
   "execution_count": 49,
   "metadata": {},
   "outputs": [
    {
     "data": {
      "image/png": "[encoded data removed]",
      "text/plain": [
       "<Figure size 432x288 with 1 Axes>"
      ]
     },
     "metadata": {
      "needs_background": "light"
     },
     "output_type": "display_data"
    },
    {
     "name": "stdout",
     "output_type": "stream",
     "text": [
      "Mean: -0.7528969913432664\n",
      "Standard Devation: 9.8871479957865\n"
     ]
    }
   ],
   "source": [
    "import random\n",
    "\n",
    "sample_size = 100\n",
    "sample = np.random.choice(population, size=sample_size, replace=False)\n",
    "bins = 50\n",
    "plt.hist(sample, bins=bins)\n",
    "plt.show()\n",
    "print(\"Mean:\", np.mean(sample))\n",
    "print(\"Standard Devation:\", np.std(sample))"
   ]
  },
  {
   "cell_type": "markdown",
   "metadata": {},
   "source": [
    "There are a few things to call out here:\n",
    "\n",
    "1) The sample is much less bell shaped than our population.  This is to be expected, since there is a lot less data and therefore the shape of our distribution is a lot less smooth.\n",
    "\n",
    "2) The population mean and the sample mean are close.  This is exactly what we'd hope for from a representative sample, our descriptive statistics aren't that far off from one another.  Recall, statistics like the mean are sensitive to outliers, which in some cases are a negative, but here that sensitivity actually helps ensure that we are as close as possible.  Of course, you should still look out for outliers, because if your sample is made up mostly of outliers, it may be the case that your sample \"appears\" good from your descriptive statistics, when in reality, your data is not representative.  That is why it's a good idea to capture multiple measures of center and spread and ensure they all align.\n",
    "\n",
    "3) The population standard deviation and sample standard deviation are close.  The fact that the spread about the center is similar is a good sign.  Unfortunately, the standard deviation is also not great at dealing with outliers, so it's best to include other statistics as well to compensate for this.\n",
    "\n",
    "4) We chose to sample without replacement, via `replace=False`.  This means once we've drawn a sample from our population we cannot draw that sample again.  Sampling with and without replacement is a huge decision in modeling.  If you sample with replacement then it's possible your model could just memorize the data and have terrible generalization.  So it's important, if you do sample with replacement that you truly need to.\n",
    "\n",
    "Now that we have seen _a_ sampling technique in action, let's apply it to our problem.  We are going to do the following things:\n",
    "\n",
    "1) write a function that samples from our training data (not our testing data)\n",
    "2) this function must create samples that satisify the descriptive statistics of our original dataset (as close as we can get them)\n",
    "3) we will specifically be upsampling, aka sampling with replacement from the minority class.  And taking a random sample from our majority class.  By down sampling, aka sampling without replacement, from our majority class we need to upsample less from our minority class.  \n",
    "4) We'll try different levels of upsampling and downsampling such that our test set accuracy is maximized.  \n",
    "5) finally we'll look at results on a validation set of previously unseen examples to make sure everything wasn't overtuned for the test set."
   ]
  },
  {
   "cell_type": "code",
   "execution_count": 1,
   "metadata": {},
   "outputs": [],
   "source": [
    "from scipy.stats import iqr\n",
    "import numpy as np\n",
    "from sklearn.ensemble import IsolationForest\n",
    "\n",
    "def trimean(arr):\n",
    "    q1 = np.percentile(arr, 25)\n",
    "    q3 = np.percentile(arr, 75)\n",
    "    median = np.percentile(arr, 50)\n",
    "    return (q1 + 2*median + q3)/4\n",
    "\n",
    "def compare_categorical_indices(population_value_proportions, sample_index, population_index, missing_tolerance, include_outliers):\n",
    "    if include_outliers:\n",
    "        if (sample_index != population_index).all():\n",
    "            object_outside_tolerance = True\n",
    "        else:\n",
    "            object_outside_tolerance = False\n",
    "    else:\n",
    "        majority_population_indices = []\n",
    "        for index in population_index:\n",
    "            if population_value_proportions[index] > missing_tolerance:\n",
    "                majority_population_indices.append(index)\n",
    "        sample_index_list = list(sample_index)\n",
    "        sample_index_list.sort()\n",
    "        majority_population_indices.sort()\n",
    "        if sample_index_list == majority_population_indices:\n",
    "            object_outside_tolerance = True\n",
    "        else:\n",
    "            object_outside_tolerance = False\n",
    "    return object_outside_tolerance\n",
    "\n",
    "def compare_categorical_statistic(tolerance, population_value_proportions, sample_value_proportions, sample_index):\n",
    "    population_proportions_in_sample = population_value_proportions[sample_index]\n",
    "    proportional_differences = population_proportions_in_sample - sample_value_proportions\n",
    "    delta = 0\n",
    "    outside_tolerance = False\n",
    "    for proportion_difference in proportional_differences:\n",
    "        if proportion_difference > tolerance:\n",
    "            outside_tolerance = True\n",
    "        delta += abs(proportion_difference)\n",
    "    return outside_tolerance, delta\n",
    "\n",
    "def compare_categorical(df, sample, column, tolerance, missing_tolerance, include_outliers):\n",
    "    population_value_proportions = df[column].value_counts()/len(df)\n",
    "    sample_value_proportions = sample[column].value_counts()/len(sample)\n",
    "    \n",
    "    sample_index = sample_value_proportions.index.sort_values()\n",
    "    population_index = population_value_proportions.index.sort_values()\n",
    "    \n",
    "    outside_tolerance_indices = compare_categorical_indices(\n",
    "        population_value_proportions, sample_index, population_index, \n",
    "        missing_tolerance, include_outliers\n",
    "    )\n",
    "    outside_tolerance_statistic, delta = compare_categorical_statistic(\n",
    "        tolerance, population_value_proportions, sample_value_proportions, sample_index\n",
    "    )\n",
    "    outside_tolerance = outside_tolerance_indices and outside_tolerance_statistic\n",
    "    return outside_tolerance, delta\n",
    "    \n",
    "def prune_outliers(df, sample, column):\n",
    "    forest = IsolationForest(n_estimators=10, warm_start=False)\n",
    "    forest.fit(df[column].values.reshape(-1, 1))\n",
    "    is_inlier_population = forest.predict(df[column].values.reshape(-1, 1))\n",
    "    is_inlier_population = pd.Series(is_inlier_population)\n",
    "    is_inlier_population.index = df.index\n",
    "    is_inlier_population = is_inlier_population.map({1: True, -1: False})\n",
    "    population_column = df[column][is_inlier_population]\n",
    "    is_inlier_sample = forest.predict(sample[column].values.reshape(-1, 1))\n",
    "    is_inlier_sample = pd.Series(is_inlier_sample)\n",
    "    is_inlier_sample.index = sample.index\n",
    "    is_inlier_sample = is_inlier_sample.map({1: True, -1: False})\n",
    "    sample_column = sample[column][is_inlier_sample]\n",
    "    return population_column, sample_column \n",
    "    \n",
    "def compare_continuous(df, sample, column, tolerance, include_outliers):\n",
    "    mean_outside_tolerance = False\n",
    "    trimean_outside_tolerance = False\n",
    "    stdev_outside_tolerance = False\n",
    "    iqr_outside_tolerance = False\n",
    "    \n",
    "    if not include_outliers:\n",
    "        population_column, sample_column = prune_outliers(df, sample, column)\n",
    "    else:\n",
    "        population_column, sample_column = df[column], sample[column]\n",
    "        \n",
    "    mean_deviation = abs(population_column.mean() - sample_column.mean())\n",
    "    trimean_deviation = abs(trimean(population_column) - trimean(sample_column))\n",
    "    stdev_deviation = abs(population_column.std() - sample_column.std())\n",
    "    iqr_deviation = abs(iqr(population_column) - iqr(sample_column))\n",
    "    \n",
    "    if mean_deviation > tolerance:\n",
    "        mean_outside_tolerance = True\n",
    "    if trimean_deviation > tolerance:\n",
    "        trimean_outside_tolerance = True\n",
    "    if stdev_deviation > tolerance:\n",
    "        stdev_outside_tolerance = True\n",
    "    if iqr_deviation > tolerance:\n",
    "        iqr_outside_tolerance = True\n",
    "    delta = mean_deviation + trimean_deviation + stdev_deviation + iqr_deviation\n",
    "    outside_tolerance = mean_outside_tolerance and trimean_outside_tolerance \n",
    "    outside_tolerance = outside_tolerance and stdev_outside_tolerance\n",
    "    outside_tolerance = outside_tolerance and iqr_outside_tolerance\n",
    "    return outside_tolerance, delta\n",
    "    \n",
    "def compare_columns(df, sample, column, column_type,\n",
    "                    tolerance, outside_tolerance, \n",
    "                    missing_tolerance, include_outliers):\n",
    "    if column_type == \"categorical\":\n",
    "        categorical_outside_tolerance, delta = compare_categorical(\n",
    "            df, sample, column, tolerance, \n",
    "            missing_tolerance, include_outliers\n",
    "        )\n",
    "        outside_tolerance = outside_tolerance and categorical_outside_tolerance\n",
    "    if column_type == \"continuous\":\n",
    "        continuous_outside_tolerance, delta = compare_continuous(\n",
    "            df, sample, column, tolerance, include_outliers\n",
    "        )\n",
    "        outside_tolerance = outside_tolerance and continuous_outside_tolerance\n",
    "    return outside_tolerance, delta\n",
    "        \n",
    "def bootstrap(df, column_types, size=1000, tolerance=0.1, \n",
    "              max_iter=1000, missing_tolerance=0.1, \n",
    "              with_replacement=False, include_outliers=False):\n",
    "    outside_tolerance = True\n",
    "    best_sample = None\n",
    "    cur_iter = 0\n",
    "    if max_iter != -1:\n",
    "        limited_iter = True\n",
    "    else:\n",
    "        limited_iter = False\n",
    "    while outside_tolerance:\n",
    "        sample = df.sample(n=size, replace=with_replacement)\n",
    "        overall_delta = 0\n",
    "        min_overall_delta = 1e10\n",
    "        for column in df.columns:\n",
    "            column_type = column_types[column]\n",
    "            outside_tolerance, marginal_delta = compare_columns(\n",
    "                df, sample, column, column_type, \n",
    "                tolerance, outside_tolerance,\n",
    "                missing_tolerance, include_outliers\n",
    "            )\n",
    "            overall_delta += marginal_delta\n",
    "        if not outside_tolerance:\n",
    "            best_sample = sample\n",
    "        elif overall_delta < min_overall_delta:\n",
    "            min_overall_delta = overall_delta\n",
    "            best_sample = sample\n",
    "        cur_iter += 1\n",
    "        if limited_iter and cur_iter == max_iter:\n",
    "            break\n",
    "    return best_sample\n",
    "\n",
    "column_types = {\n",
    "    \"CreditScore\": \"continuous\",\n",
    "    \"Age\": \"continuous\",\n",
    "    \"Tenure\": \"continuous\",\n",
    "    \"Balance\": \"continuous\",\n",
    "    \"NumOfProducts\": \"categorical\",\n",
    "    \"IsActiveMember\": \"categorical\",\n",
    "    \"EstimatedSalary\": \"continuous\",\n",
    "    \"Churn\": \"categorical\",\n",
    "    \"France\": \"categorical\",\n",
    "    \"Germany\": \"categorical\",\n",
    "    \"Spain\": \"categorical\",\n",
    "    \"Female\": \"categorical\",\n",
    "    \"Male\": \"categorical\"\n",
    "}\n",
    "sample = bootstrap(df, column_types)"
   ]
  },
  {
   "cell_type": "markdown",
   "metadata": {},
   "source": [
    "We run our bootstrap to create a sample, just to confirm the representativeness of our sample:"
   ]
  },
  {
   "cell_type": "code",
   "execution_count": 6,
   "metadata": {},
   "outputs": [
    {
     "data": {
      "text/html": [
       "<div>\n",
       "<style scoped>\n",
       "    .dataframe tbody tr th:only-of-type {\n",
       "        vertical-align: middle;\n",
       "    }\n",
       "\n",
       "    .dataframe tbody tr th {\n",
       "        vertical-align: top;\n",
       "    }\n",
       "\n",
       "    .dataframe thead th {\n",
       "        text-align: right;\n",
       "    }\n",
       "</style>\n",
       "<table border=\"1\" class=\"dataframe\">\n",
       "  <thead>\n",
       "    <tr style=\"text-align: right;\">\n",
       "      <th></th>\n",
       "      <th>CreditScore</th>\n",
       "      <th>Age</th>\n",
       "      <th>Tenure</th>\n",
       "      <th>Balance</th>\n",
       "      <th>NumOfProducts</th>\n",
       "      <th>IsActiveMember</th>\n",
       "      <th>EstimatedSalary</th>\n",
       "      <th>Churn</th>\n",
       "      <th>France</th>\n",
       "      <th>Germany</th>\n",
       "      <th>Spain</th>\n",
       "      <th>Female</th>\n",
       "      <th>Male</th>\n",
       "    </tr>\n",
       "  </thead>\n",
       "  <tbody>\n",
       "    <tr>\n",
       "      <th>count</th>\n",
       "      <td>1000.000000</td>\n",
       "      <td>1000.000000</td>\n",
       "      <td>1000.000000</td>\n",
       "      <td>1000.000000</td>\n",
       "      <td>1000.000000</td>\n",
       "      <td>1000.000000</td>\n",
       "      <td>1000.000000</td>\n",
       "      <td>1000.000000</td>\n",
       "      <td>1000.000000</td>\n",
       "      <td>1000.000000</td>\n",
       "      <td>1000.000000</td>\n",
       "      <td>1000.000000</td>\n",
       "      <td>1000.000000</td>\n",
       "    </tr>\n",
       "    <tr>\n",
       "      <th>mean</th>\n",
       "      <td>652.532000</td>\n",
       "      <td>39.304000</td>\n",
       "      <td>5.013000</td>\n",
       "      <td>78722.653150</td>\n",
       "      <td>1.595000</td>\n",
       "      <td>0.544000</td>\n",
       "      <td>98596.245520</td>\n",
       "      <td>0.185000</td>\n",
       "      <td>0.486000</td>\n",
       "      <td>0.268000</td>\n",
       "      <td>0.246000</td>\n",
       "      <td>0.466000</td>\n",
       "      <td>0.534000</td>\n",
       "    </tr>\n",
       "    <tr>\n",
       "      <th>std</th>\n",
       "      <td>96.292893</td>\n",
       "      <td>10.796673</td>\n",
       "      <td>2.908486</td>\n",
       "      <td>63429.830282</td>\n",
       "      <td>0.572103</td>\n",
       "      <td>0.498309</td>\n",
       "      <td>56992.503264</td>\n",
       "      <td>0.388492</td>\n",
       "      <td>0.500054</td>\n",
       "      <td>0.443139</td>\n",
       "      <td>0.430894</td>\n",
       "      <td>0.499092</td>\n",
       "      <td>0.499092</td>\n",
       "    </tr>\n",
       "    <tr>\n",
       "      <th>min</th>\n",
       "      <td>351.000000</td>\n",
       "      <td>18.000000</td>\n",
       "      <td>0.000000</td>\n",
       "      <td>0.000000</td>\n",
       "      <td>1.000000</td>\n",
       "      <td>0.000000</td>\n",
       "      <td>91.750000</td>\n",
       "      <td>0.000000</td>\n",
       "      <td>0.000000</td>\n",
       "      <td>0.000000</td>\n",
       "      <td>0.000000</td>\n",
       "      <td>0.000000</td>\n",
       "      <td>0.000000</td>\n",
       "    </tr>\n",
       "    <tr>\n",
       "      <th>25%</th>\n",
       "      <td>583.500000</td>\n",
       "      <td>32.000000</td>\n",
       "      <td>2.000000</td>\n",
       "      <td>0.000000</td>\n",
       "      <td>1.000000</td>\n",
       "      <td>0.000000</td>\n",
       "      <td>50317.887500</td>\n",
       "      <td>0.000000</td>\n",
       "      <td>0.000000</td>\n",
       "      <td>0.000000</td>\n",
       "      <td>0.000000</td>\n",
       "      <td>0.000000</td>\n",
       "      <td>0.000000</td>\n",
       "    </tr>\n",
       "    <tr>\n",
       "      <th>50%</th>\n",
       "      <td>656.000000</td>\n",
       "      <td>38.000000</td>\n",
       "      <td>5.000000</td>\n",
       "      <td>98629.800000</td>\n",
       "      <td>2.000000</td>\n",
       "      <td>1.000000</td>\n",
       "      <td>96618.600000</td>\n",
       "      <td>0.000000</td>\n",
       "      <td>0.000000</td>\n",
       "      <td>0.000000</td>\n",
       "      <td>0.000000</td>\n",
       "      <td>0.000000</td>\n",
       "      <td>1.000000</td>\n",
       "    </tr>\n",
       "    <tr>\n",
       "      <th>75%</th>\n",
       "      <td>721.000000</td>\n",
       "      <td>45.000000</td>\n",
       "      <td>8.000000</td>\n",
       "      <td>129767.917500</td>\n",
       "      <td>2.000000</td>\n",
       "      <td>1.000000</td>\n",
       "      <td>145189.810000</td>\n",
       "      <td>0.000000</td>\n",
       "      <td>1.000000</td>\n",
       "      <td>1.000000</td>\n",
       "      <td>0.000000</td>\n",
       "      <td>1.000000</td>\n",
       "      <td>1.000000</td>\n",
       "    </tr>\n",
       "    <tr>\n",
       "      <th>max</th>\n",
       "      <td>850.000000</td>\n",
       "      <td>79.000000</td>\n",
       "      <td>10.000000</td>\n",
       "      <td>209490.210000</td>\n",
       "      <td>4.000000</td>\n",
       "      <td>1.000000</td>\n",
       "      <td>199505.530000</td>\n",
       "      <td>1.000000</td>\n",
       "      <td>1.000000</td>\n",
       "      <td>1.000000</td>\n",
       "      <td>1.000000</td>\n",
       "      <td>1.000000</td>\n",
       "      <td>1.000000</td>\n",
       "    </tr>\n",
       "  </tbody>\n",
       "</table>\n",
       "</div>"
      ],
      "text/plain": [
       "       CreditScore          Age       Tenure        Balance  NumOfProducts  \\\n",
       "count  1000.000000  1000.000000  1000.000000    1000.000000    1000.000000   \n",
       "mean    652.532000    39.304000     5.013000   78722.653150       1.595000   \n",
       "std      96.292893    10.796673     2.908486   63429.830282       0.572103   \n",
       "min     351.000000    18.000000     0.000000       0.000000       1.000000   \n",
       "25%     583.500000    32.000000     2.000000       0.000000       1.000000   \n",
       "50%     656.000000    38.000000     5.000000   98629.800000       2.000000   \n",
       "75%     721.000000    45.000000     8.000000  129767.917500       2.000000   \n",
       "max     850.000000    79.000000    10.000000  209490.210000       4.000000   \n",
       "\n",
       "       IsActiveMember  EstimatedSalary        Churn       France      Germany  \\\n",
       "count     1000.000000      1000.000000  1000.000000  1000.000000  1000.000000   \n",
       "mean         0.544000     98596.245520     0.185000     0.486000     0.268000   \n",
       "std          0.498309     56992.503264     0.388492     0.500054     0.443139   \n",
       "min          0.000000        91.750000     0.000000     0.000000     0.000000   \n",
       "25%          0.000000     50317.887500     0.000000     0.000000     0.000000   \n",
       "50%          1.000000     96618.600000     0.000000     0.000000     0.000000   \n",
       "75%          1.000000    145189.810000     0.000000     1.000000     1.000000   \n",
       "max          1.000000    199505.530000     1.000000     1.000000     1.000000   \n",
       "\n",
       "             Spain       Female         Male  \n",
       "count  1000.000000  1000.000000  1000.000000  \n",
       "mean      0.246000     0.466000     0.534000  \n",
       "std       0.430894     0.499092     0.499092  \n",
       "min       0.000000     0.000000     0.000000  \n",
       "25%       0.000000     0.000000     0.000000  \n",
       "50%       0.000000     0.000000     1.000000  \n",
       "75%       0.000000     1.000000     1.000000  \n",
       "max       1.000000     1.000000     1.000000  "
      ]
     },
     "execution_count": 6,
     "metadata": {},
     "output_type": "execute_result"
    }
   ],
   "source": [
    "sample.describe()"
   ]
  },
  {
   "cell_type": "code",
   "execution_count": 7,
   "metadata": {},
   "outputs": [
    {
     "data": {
      "text/html": [
       "<div>\n",
       "<style scoped>\n",
       "    .dataframe tbody tr th:only-of-type {\n",
       "        vertical-align: middle;\n",
       "    }\n",
       "\n",
       "    .dataframe tbody tr th {\n",
       "        vertical-align: top;\n",
       "    }\n",
       "\n",
       "    .dataframe thead th {\n",
       "        text-align: right;\n",
       "    }\n",
       "</style>\n",
       "<table border=\"1\" class=\"dataframe\">\n",
       "  <thead>\n",
       "    <tr style=\"text-align: right;\">\n",
       "      <th></th>\n",
       "      <th>CreditScore</th>\n",
       "      <th>Age</th>\n",
       "      <th>Tenure</th>\n",
       "      <th>Balance</th>\n",
       "      <th>NumOfProducts</th>\n",
       "      <th>IsActiveMember</th>\n",
       "      <th>EstimatedSalary</th>\n",
       "      <th>Churn</th>\n",
       "      <th>France</th>\n",
       "      <th>Germany</th>\n",
       "      <th>Spain</th>\n",
       "      <th>Female</th>\n",
       "      <th>Male</th>\n",
       "    </tr>\n",
       "  </thead>\n",
       "  <tbody>\n",
       "    <tr>\n",
       "      <th>count</th>\n",
       "      <td>10000.000000</td>\n",
       "      <td>10000.000000</td>\n",
       "      <td>10000.000000</td>\n",
       "      <td>10000.000000</td>\n",
       "      <td>10000.000000</td>\n",
       "      <td>10000.000000</td>\n",
       "      <td>10000.000000</td>\n",
       "      <td>10000.000000</td>\n",
       "      <td>10000.000000</td>\n",
       "      <td>10000.000000</td>\n",
       "      <td>10000.000000</td>\n",
       "      <td>10000.000000</td>\n",
       "      <td>10000.000000</td>\n",
       "    </tr>\n",
       "    <tr>\n",
       "      <th>mean</th>\n",
       "      <td>650.528800</td>\n",
       "      <td>38.921800</td>\n",
       "      <td>5.012800</td>\n",
       "      <td>76485.889288</td>\n",
       "      <td>1.530200</td>\n",
       "      <td>0.515100</td>\n",
       "      <td>100090.239881</td>\n",
       "      <td>0.203700</td>\n",
       "      <td>0.501400</td>\n",
       "      <td>0.250900</td>\n",
       "      <td>0.247700</td>\n",
       "      <td>0.454300</td>\n",
       "      <td>0.545700</td>\n",
       "    </tr>\n",
       "    <tr>\n",
       "      <th>std</th>\n",
       "      <td>96.653299</td>\n",
       "      <td>10.487806</td>\n",
       "      <td>2.892174</td>\n",
       "      <td>62397.405202</td>\n",
       "      <td>0.581654</td>\n",
       "      <td>0.499797</td>\n",
       "      <td>57510.492818</td>\n",
       "      <td>0.402769</td>\n",
       "      <td>0.500023</td>\n",
       "      <td>0.433553</td>\n",
       "      <td>0.431698</td>\n",
       "      <td>0.497932</td>\n",
       "      <td>0.497932</td>\n",
       "    </tr>\n",
       "    <tr>\n",
       "      <th>min</th>\n",
       "      <td>350.000000</td>\n",
       "      <td>18.000000</td>\n",
       "      <td>0.000000</td>\n",
       "      <td>0.000000</td>\n",
       "      <td>1.000000</td>\n",
       "      <td>0.000000</td>\n",
       "      <td>11.580000</td>\n",
       "      <td>0.000000</td>\n",
       "      <td>0.000000</td>\n",
       "      <td>0.000000</td>\n",
       "      <td>0.000000</td>\n",
       "      <td>0.000000</td>\n",
       "      <td>0.000000</td>\n",
       "    </tr>\n",
       "    <tr>\n",
       "      <th>25%</th>\n",
       "      <td>584.000000</td>\n",
       "      <td>32.000000</td>\n",
       "      <td>3.000000</td>\n",
       "      <td>0.000000</td>\n",
       "      <td>1.000000</td>\n",
       "      <td>0.000000</td>\n",
       "      <td>51002.110000</td>\n",
       "      <td>0.000000</td>\n",
       "      <td>0.000000</td>\n",
       "      <td>0.000000</td>\n",
       "      <td>0.000000</td>\n",
       "      <td>0.000000</td>\n",
       "      <td>0.000000</td>\n",
       "    </tr>\n",
       "    <tr>\n",
       "      <th>50%</th>\n",
       "      <td>652.000000</td>\n",
       "      <td>37.000000</td>\n",
       "      <td>5.000000</td>\n",
       "      <td>97198.540000</td>\n",
       "      <td>1.000000</td>\n",
       "      <td>1.000000</td>\n",
       "      <td>100193.915000</td>\n",
       "      <td>0.000000</td>\n",
       "      <td>1.000000</td>\n",
       "      <td>0.000000</td>\n",
       "      <td>0.000000</td>\n",
       "      <td>0.000000</td>\n",
       "      <td>1.000000</td>\n",
       "    </tr>\n",
       "    <tr>\n",
       "      <th>75%</th>\n",
       "      <td>718.000000</td>\n",
       "      <td>44.000000</td>\n",
       "      <td>7.000000</td>\n",
       "      <td>127644.240000</td>\n",
       "      <td>2.000000</td>\n",
       "      <td>1.000000</td>\n",
       "      <td>149388.247500</td>\n",
       "      <td>0.000000</td>\n",
       "      <td>1.000000</td>\n",
       "      <td>1.000000</td>\n",
       "      <td>0.000000</td>\n",
       "      <td>1.000000</td>\n",
       "      <td>1.000000</td>\n",
       "    </tr>\n",
       "    <tr>\n",
       "      <th>max</th>\n",
       "      <td>850.000000</td>\n",
       "      <td>92.000000</td>\n",
       "      <td>10.000000</td>\n",
       "      <td>250898.090000</td>\n",
       "      <td>4.000000</td>\n",
       "      <td>1.000000</td>\n",
       "      <td>199992.480000</td>\n",
       "      <td>1.000000</td>\n",
       "      <td>1.000000</td>\n",
       "      <td>1.000000</td>\n",
       "      <td>1.000000</td>\n",
       "      <td>1.000000</td>\n",
       "      <td>1.000000</td>\n",
       "    </tr>\n",
       "  </tbody>\n",
       "</table>\n",
       "</div>"
      ],
      "text/plain": [
       "        CreditScore           Age        Tenure        Balance  NumOfProducts  \\\n",
       "count  10000.000000  10000.000000  10000.000000   10000.000000   10000.000000   \n",
       "mean     650.528800     38.921800      5.012800   76485.889288       1.530200   \n",
       "std       96.653299     10.487806      2.892174   62397.405202       0.581654   \n",
       "min      350.000000     18.000000      0.000000       0.000000       1.000000   \n",
       "25%      584.000000     32.000000      3.000000       0.000000       1.000000   \n",
       "50%      652.000000     37.000000      5.000000   97198.540000       1.000000   \n",
       "75%      718.000000     44.000000      7.000000  127644.240000       2.000000   \n",
       "max      850.000000     92.000000     10.000000  250898.090000       4.000000   \n",
       "\n",
       "       IsActiveMember  EstimatedSalary         Churn        France  \\\n",
       "count    10000.000000     10000.000000  10000.000000  10000.000000   \n",
       "mean         0.515100    100090.239881      0.203700      0.501400   \n",
       "std          0.499797     57510.492818      0.402769      0.500023   \n",
       "min          0.000000        11.580000      0.000000      0.000000   \n",
       "25%          0.000000     51002.110000      0.000000      0.000000   \n",
       "50%          1.000000    100193.915000      0.000000      1.000000   \n",
       "75%          1.000000    149388.247500      0.000000      1.000000   \n",
       "max          1.000000    199992.480000      1.000000      1.000000   \n",
       "\n",
       "            Germany         Spain        Female          Male  \n",
       "count  10000.000000  10000.000000  10000.000000  10000.000000  \n",
       "mean       0.250900      0.247700      0.454300      0.545700  \n",
       "std        0.433553      0.431698      0.497932      0.497932  \n",
       "min        0.000000      0.000000      0.000000      0.000000  \n",
       "25%        0.000000      0.000000      0.000000      0.000000  \n",
       "50%        0.000000      0.000000      0.000000      1.000000  \n",
       "75%        1.000000      0.000000      1.000000      1.000000  \n",
       "max        1.000000      1.000000      1.000000      1.000000  "
      ]
     },
     "execution_count": 7,
     "metadata": {},
     "output_type": "execute_result"
    }
   ],
   "source": [
    "df.describe()"
   ]
  },
  {
   "cell_type": "code",
   "execution_count": 22,
   "metadata": {},
   "outputs": [
    {
     "data": {
      "text/plain": [
       "((10000, 13), (1000, 13))"
      ]
     },
     "execution_count": 22,
     "metadata": {},
     "output_type": "execute_result"
    }
   ],
   "source": [
    "df.shape, sample.shape"
   ]
  },
  {
   "cell_type": "markdown",
   "metadata": {},
   "source": [
    "As you can see all of the proportions are pretty close for all the variables!  Also note, that our sample is a 10th the size from our original!!!  We are now in a place to generate our upsample for the minor class and our down sample for the majority class.\n",
    "\n",
    "We do this with the following steps:\n",
    "\n",
    "1. split into test, train and validation - \n",
    "\n",
    "2. we upsample and down sample on train and tune over test.  \n",
    "\n",
    "3. Then we validate on validation.  We should only validate once!\n",
    "\n",
    "## Don't Balance Test or Validation Data EVER\n",
    "\n",
    "Before we go through the code, I just want to make this point very explicit.  It is _incredibly_ important that we only mess around with our training data and not our testing or validation data.  This is because our testing and validation data should resemble the real world.  The world in which the data is unbalanced.  We cannot and should not assume that eventually there will be a world in which our classes are balanced.  So if we make our testing or validation data set balanced, any metrics we report will be wrong, because they are based on a false assumption."
   ]
  },
  {
   "cell_type": "code",
   "execution_count": 9,
   "metadata": {},
   "outputs": [
    {
     "data": {
      "text/plain": [
       "0    4005\n",
       "1     995\n",
       "Name: Churn, dtype: int64"
      ]
     },
     "execution_count": 9,
     "metadata": {},
     "output_type": "execute_result"
    }
   ],
   "source": [
    "train[\"Churn\"].value_counts()"
   ]
  },
  {
   "cell_type": "code",
   "execution_count": 11,
   "metadata": {},
   "outputs": [
    {
     "name": "stdout",
     "output_type": "stream",
     "text": [
      "              precision    recall  f1-score   support\n",
      "\n",
      "           0       0.91      0.72      0.81      2002\n",
      "           1       0.39      0.70      0.50       498\n",
      "\n",
      "    accuracy                           0.72      2500\n",
      "   macro avg       0.65      0.71      0.65      2500\n",
      "weighted avg       0.80      0.72      0.74      2500\n",
      "\n",
      "0.712539468563565\n",
      "9.684849452245544\n",
      "              precision    recall  f1-score   support\n",
      "\n",
      "           0       0.90      0.73      0.81      1956\n",
      "           1       0.42      0.69      0.52       544\n",
      "\n",
      "    accuracy                           0.72      2500\n",
      "   macro avg       0.66      0.71      0.66      2500\n",
      "weighted avg       0.79      0.72      0.74      2500\n",
      "\n",
      "0.7121526524720317\n",
      "9.532869240938773\n"
     ]
    }
   ],
   "source": [
    "from sklearn.model_selection import train_test_split\n",
    "import numpy as np\n",
    "from sklearn.linear_model import LogisticRegression\n",
    "from sklearn.metrics import (\n",
    "    classification_report, roc_auc_score, log_loss, \n",
    "    precision_score, recall_score, f1_score\n",
    ")\n",
    "\n",
    "def resample_data(training_data, minority_size, majority_size):\n",
    "    minority = training_data[training_data[\"Churn\"] == 1]\n",
    "    majority = training_data[training_data[\"Churn\"] == 0]\n",
    "    \n",
    "    column_types = {\n",
    "        \"CreditScore\": \"continuous\",\n",
    "        \"Age\": \"continuous\",\n",
    "        \"Tenure\": \"continuous\",\n",
    "        \"Balance\": \"continuous\",\n",
    "        \"NumOfProducts\": \"categorical\",\n",
    "        \"IsActiveMember\": \"categorical\",\n",
    "        \"EstimatedSalary\": \"continuous\",\n",
    "        \"Churn\": \"categorical\",\n",
    "        \"France\": \"categorical\",\n",
    "        \"Germany\": \"categorical\",\n",
    "        \"Spain\": \"categorical\",\n",
    "        \"Female\": \"categorical\",\n",
    "        \"Male\": \"categorical\"\n",
    "    }\n",
    "\n",
    "    minority_sample = bootstrap(minority, column_types, size=minority_size, with_replacement=True)\n",
    "    majority_sample = bootstrap(majority, column_types, size=majority_size, with_replacement=False)\n",
    "    new_train = minority_sample.append(majority_sample)\n",
    "    for _ in range(10):\n",
    "        new_train = new_train.sample(frac=1.0)\n",
    "    return new_train\n",
    "\n",
    "# step one\n",
    "y = df[\"Churn\"]\n",
    "cols = df.columns.tolist()\n",
    "cols.remove(\"Churn\")\n",
    "X = df[cols]\n",
    "\n",
    "# split into 50/50 test train\n",
    "X_train, X_test, y_train, y_test = train_test_split(\n",
    "    X, y, random_state=12, test_size=.5\n",
    ")\n",
    "\n",
    "# split test into 50/50 test validation\n",
    "X_test, X_val, y_test, y_val = train_test_split(\n",
    "    X_test, y_test, random_state=12, test_size=.5\n",
    ")\n",
    "\n",
    "train = X_train.copy()\n",
    "train[\"Churn\"] = y_train.copy()\n",
    "\n",
    "minority_sizes = [\n",
    "    3000, 2000, 1000,\n",
    "    1000, 1000, \n",
    "    3000, 3000,\n",
    "    3000, 2000, 1000\n",
    "]\n",
    "majority_sizes = [\n",
    "    3000, 2000, 1000,\n",
    "    3000, 2000,\n",
    "    1000, 2000,\n",
    "    4000, 4000, 4000\n",
    "    \n",
    "]\n",
    "sizes = zip(minority_sizes, majority_sizes)\n",
    "best_overall_score = 0\n",
    "best_y_pred = None\n",
    "best_classifier = None\n",
    "for minority_size, majority_size in sizes:\n",
    "    overall_score = []\n",
    "    new_train = resample_data(\n",
    "        train, minority_size, majority_size\n",
    "    )\n",
    "\n",
    "    y_train = new_train[\"Churn\"]\n",
    "    cols = new_train.columns.tolist()\n",
    "    cols.remove(\"Churn\")\n",
    "    X_train = new_train[cols]\n",
    "\n",
    "    logit_linear = LogisticRegression(\n",
    "        solver=\"liblinear\",\n",
    "        C=1, penalty=\"l1\", max_iter=10000, \n",
    "    )\n",
    "    logit_linear.fit(X_train, y_train)\n",
    "    y_pred = logit_linear.predict(X_test)\n",
    "    overall_score.append(\n",
    "        precision_score(y_test, y_pred)\n",
    "    )\n",
    "    overall_score.append(\n",
    "        recall_score(y_test, y_pred)\n",
    "    )\n",
    "    overall_score.append(\n",
    "        roc_auc_score(y_test, y_pred)\n",
    "    )\n",
    "    overall_score.append(\n",
    "        f1_score(y_test, y_pred)\n",
    "    )\n",
    "    overall_score = np.mean(overall_score)\n",
    "    if overall_score > best_overall_score:\n",
    "        best_overall_score = overall_score\n",
    "        best_y_pred = y_pred\n",
    "        best_classifier = logit_linear\n",
    "    \n",
    "print(classification_report(y_test, best_y_pred))\n",
    "print(roc_auc_score(y_test, best_y_pred))\n",
    "print(log_loss(y_test, best_y_pred))\n",
    "\n",
    "y_pred_val = best_classifier.predict(X_val)\n",
    "print(classification_report(y_val, y_pred_val))\n",
    "print(roc_auc_score(y_val, y_pred_val))\n",
    "print(log_loss(y_val, y_pred_val))"
   ]
  },
  {
   "cell_type": "markdown",
   "metadata": {},
   "source": [
    "Old score:\n",
    "```\n",
    "           precision    recall  f1-score   support\n",
    "\n",
    "           0       0.89      0.72      0.80      1944\n",
    "           1       0.42      0.70      0.53       556\n",
    "\n",
    "    accuracy                           0.72      2500\n",
    "   macro avg       0.66      0.71      0.66      2500\n",
    "weighted avg       0.79      0.72      0.74      2500\n",
    "\n",
    "0.7127298161470823\n",
    "9.740107656409736\n",
    "```"
   ]
  },
  {
   "cell_type": "markdown",
   "metadata": {},
   "source": [
    "As you can see, in this case our naive bootstrap sampling algorithm doesn't do any better.  It makes the data a little bit better for class 0 (no churn), but a little worse for class 1 (churn) on the test set.  Since the changes are so small, this could honestly just be because of a reduction in training size.  The classifier does a little bit better on the validation set, but that might just be how easy it was to classify that section of the data.  We can't draw any real conclusions about increased accuracy.\n",
    "\n",
    "So is sampling useful for classification?  The answer is possibly!  We didn't do much better with our naive sampler, but now let's make use of two sampling techniques built for this type of problem, rather than a generic sampler:\n",
    "\n",
    "* Synthetic Minority Oversampling Technique - SMOTE\n",
    "* Adaptive Synthetic sampling method - ADASYN\n",
    "\n",
    "I won't go super into the details, but these two samplers are part of `imbalanced-learn` a package developed just to deal with imbalanced data.\n",
    "\n",
    "Let's see how these two algorithms do with our problem:"
   ]
  },
  {
   "cell_type": "code",
   "execution_count": 74,
   "metadata": {
    "scrolled": true
   },
   "outputs": [
    {
     "name": "stdout",
     "output_type": "stream",
     "text": [
      "              precision    recall  f1-score   support\n",
      "\n",
      "           0       0.84      0.91      0.88      1564\n",
      "           1       0.56      0.39      0.46       436\n",
      "\n",
      "    accuracy                           0.80      2000\n",
      "   macro avg       0.70      0.65      0.67      2000\n",
      "weighted avg       0.78      0.80      0.79      2000\n",
      "\n",
      "0.6547285248363406\n",
      "6.856000287618878\n"
     ]
    }
   ],
   "source": [
    "from imblearn.over_sampling import SMOTE\n",
    "from sklearn.model_selection import train_test_split\n",
    "from sklearn.linear_model import LogisticRegression\n",
    "\n",
    "y = df[\"Churn\"]\n",
    "cols = df.columns.tolist()\n",
    "cols.remove(\"Churn\")\n",
    "X = df[cols]\n",
    "\n",
    "smote = SMOTE()\n",
    "X_train, X_test, y_train, y_test = train_test_split(\n",
    "    X, y, random_state=12, test_size=0.2\n",
    ")\n",
    "X_train, y_train = smote.fit_resample(X_train, y_train)\n",
    "logit_linear = LogisticRegression(\n",
    "    solver=\"liblinear\",\n",
    "    C=1, penalty=\"l1\", max_iter=10000, \n",
    ")\n",
    "logit_linear.fit(X_train, y_train)\n",
    "y_pred = logit_linear.predict(X_test)\n",
    "print(classification_report(y_test, y_pred))\n",
    "print(roc_auc_score(y_test, y_pred))\n",
    "print(log_loss(y_test, y_pred))"
   ]
  },
  {
   "cell_type": "code",
   "execution_count": 75,
   "metadata": {},
   "outputs": [
    {
     "name": "stdout",
     "output_type": "stream",
     "text": [
      "              precision    recall  f1-score   support\n",
      "\n",
      "           0       0.84      0.92      0.88      1564\n",
      "           1       0.57      0.39      0.46       436\n",
      "\n",
      "    accuracy                           0.80      2000\n",
      "   macro avg       0.71      0.65      0.67      2000\n",
      "weighted avg       0.78      0.80      0.79      2000\n",
      "\n",
      "0.6535260095262676\n",
      "6.786919936238052\n"
     ]
    }
   ],
   "source": [
    "from imblearn.over_sampling import ADASYN\n",
    "from sklearn.model_selection import train_test_split\n",
    "from sklearn.linear_model import LogisticRegression\n",
    "\n",
    "y = df[\"Churn\"]\n",
    "cols = df.columns.tolist()\n",
    "cols.remove(\"Churn\")\n",
    "X = df[cols]\n",
    "\n",
    "adasyn = ADASYN()\n",
    "X_train, X_test, y_train, y_test = train_test_split(\n",
    "    X, y, random_state=12, test_size=0.2\n",
    ")\n",
    "X_train, y_train = adasyn.fit_resample(X_train, y_train)\n",
    "\n",
    "logit_linear = LogisticRegression(\n",
    "    solver=\"liblinear\",\n",
    "    C=1, penalty=\"l1\", max_iter=10000, \n",
    "    class_weight=\"balanced\"\n",
    ")\n",
    "logit_linear.fit(X_train, y_train)\n",
    "y_pred = logit_linear.predict(X_test)\n",
    "print(classification_report(y_test, y_pred))\n",
    "print(roc_auc_score(y_test, y_pred))\n",
    "print(log_loss(y_test, y_pred))"
   ]
  },
  {
   "cell_type": "markdown",
   "metadata": {},
   "source": [
    "So we do a bit better on class 0, but worse on class 1.  \n",
    "\n",
    "**One important thing to note:** _We only resample on training data, never on testing_.  \n",
    "\n",
    "If we resample on testing data then we shouldn't trust our results, because it doesn't actually match the real world anymore.  Imbalanced learn comes with some other tools and techniques.  Let's see if adding those improves things.  I know I said this already, but I'm repeating it so it sticks.\n",
    "\n",
    "First let's get a baseline from scikit-learn:"
   ]
  },
  {
   "cell_type": "code",
   "execution_count": 76,
   "metadata": {},
   "outputs": [
    {
     "name": "stdout",
     "output_type": "stream",
     "text": [
      "              precision    recall  f1-score   support\n",
      "\n",
      "           0       0.88      0.95      0.91      1991\n",
      "           1       0.70      0.50      0.58       509\n",
      "\n",
      "    accuracy                           0.86      2500\n",
      "   macro avg       0.79      0.72      0.75      2500\n",
      "weighted avg       0.84      0.86      0.85      2500\n",
      "\n",
      "0.7226379217283276\n",
      "5.00124904475308\n"
     ]
    }
   ],
   "source": [
    "from sklearn.ensemble import BaggingClassifier\n",
    "from sklearn.tree import DecisionTreeClassifier\n",
    "from sklearn.model_selection import train_test_split\n",
    "\n",
    "y = df[\"Churn\"]\n",
    "cols = df.columns.tolist()\n",
    "cols.remove(\"Churn\")\n",
    "X = df[cols]\n",
    "\n",
    "\n",
    "X_train, X_test, y_train, y_test = train_test_split(\n",
    "    X, y, random_state=0\n",
    ")\n",
    "bc = BaggingClassifier(\n",
    "    base_estimator=DecisionTreeClassifier(), \n",
    "    random_state=0\n",
    ")\n",
    "bc.fit(X_train, y_train) \n",
    "\n",
    "y_pred = bc.predict(X_test)\n",
    "print(classification_report(y_test, y_pred))\n",
    "print(roc_auc_score(y_test, y_pred))\n",
    "print(log_loss(y_test, y_pred))"
   ]
  },
  {
   "cell_type": "markdown",
   "metadata": {},
   "source": [
    "This time we did better, so maybe a decision tree was actually the way to go all along.  Let's see if using the imbalanced bagger will make a difference:"
   ]
  },
  {
   "cell_type": "code",
   "execution_count": 77,
   "metadata": {},
   "outputs": [
    {
     "name": "stdout",
     "output_type": "stream",
     "text": [
      "              precision    recall  f1-score   support\n",
      "\n",
      "           0       0.91      0.85      0.88      1991\n",
      "           1       0.54      0.68      0.60       509\n",
      "\n",
      "    accuracy                           0.82      2500\n",
      "   macro avg       0.73      0.77      0.74      2500\n",
      "weighted avg       0.84      0.82      0.82      2500\n",
      "\n",
      "0.7660498767045024\n",
      "6.313782357647464\n"
     ]
    }
   ],
   "source": [
    "from imblearn.ensemble import BalancedBaggingClassifier\n",
    "\n",
    "bbc = BalancedBaggingClassifier(\n",
    "    base_estimator=DecisionTreeClassifier(),\n",
    "    sampling_strategy='auto',\n",
    "    replacement=False,\n",
    "    random_state=0\n",
    ")\n",
    "bbc.fit(X_train, y_train) \n",
    "\n",
    "y_pred = bbc.predict(X_test)\n",
    "print(classification_report(y_test, y_pred))\n",
    "print(roc_auc_score(y_test, y_pred))\n",
    "print(log_loss(y_test, y_pred))"
   ]
  },
  {
   "cell_type": "markdown",
   "metadata": {},
   "source": [
    "We definitely did better!  Looks like using the imbalanced bagging really helped out a lot!  But still lots of room for improvement.  Notice that the log loss went up by some.  Next let's try doing both a sampler and a balanced classifier:"
   ]
  },
  {
   "cell_type": "code",
   "execution_count": 78,
   "metadata": {},
   "outputs": [
    {
     "name": "stdout",
     "output_type": "stream",
     "text": [
      "              precision    recall  f1-score   support\n",
      "\n",
      "           0       0.88      0.92      0.90      1564\n",
      "           1       0.66      0.57      0.61       436\n",
      "\n",
      "    accuracy                           0.84      2000\n",
      "   macro avg       0.77      0.74      0.76      2000\n",
      "weighted avg       0.84      0.84      0.84      2000\n",
      "\n",
      "0.7438026467068679\n",
      "5.43990805663525\n"
     ]
    }
   ],
   "source": [
    "from imblearn.over_sampling import ADASYN\n",
    "from sklearn.model_selection import train_test_split\n",
    "from imblearn.ensemble import BalancedBaggingClassifier\n",
    "\n",
    "y = df[\"Churn\"]\n",
    "cols = df.columns.tolist()\n",
    "cols.remove(\"Churn\")\n",
    "X = df[cols]\n",
    "\n",
    "adasyn = ADASYN()\n",
    "X_train, X_test, y_train, y_test = train_test_split(\n",
    "    X, y, random_state=12, test_size=0.2\n",
    ")\n",
    "\n",
    "X_train, y_train = adasyn.fit_resample(X_train, y_train)\n",
    "\n",
    "bbc = BalancedBaggingClassifier(\n",
    "    base_estimator=DecisionTreeClassifier(),\n",
    "    sampling_strategy='auto',\n",
    "    replacement=False,\n",
    "    random_state=0\n",
    ")\n",
    "bbc.fit(X_train, y_train) \n",
    "\n",
    "y_pred = bbc.predict(X_test)\n",
    "print(classification_report(y_test, y_pred))\n",
    "print(roc_auc_score(y_test, y_pred))\n",
    "print(log_loss(y_test, y_pred))"
   ]
  },
  {
   "cell_type": "markdown",
   "metadata": {},
   "source": [
    "Here's the score from the logistic regression for comparison:\n",
    "\n",
    "```\n",
    "              precision    recall  f1-score   support\n",
    "\n",
    "           0       0.84      0.92      0.88      1564\n",
    "           1       0.57      0.39      0.46       436\n",
    "\n",
    "    accuracy                           0.80      2000\n",
    "   macro avg       0.71      0.65      0.67      2000\n",
    "weighted avg       0.78      0.80      0.79      2000\n",
    "\n",
    "0.6535260095262676\n",
    "6.786919936238052\n",
    "```"
   ]
  },
  {
   "cell_type": "markdown",
   "metadata": {},
   "source": [
    "So it looks like the balanced decision tree does the best of what we've seen so far!  While we didn't do \"great\", sampling plus using a specialized classifier built for imbalanced data definitely _helps_.  Let's just try one more thing before we head onto anamoly detection:"
   ]
  },
  {
   "cell_type": "code",
   "execution_count": 79,
   "metadata": {},
   "outputs": [
    {
     "name": "stdout",
     "output_type": "stream",
     "text": [
      "              precision    recall  f1-score   support\n",
      "\n",
      "           0       0.88      0.93      0.91      1564\n",
      "           1       0.70      0.56      0.62       436\n",
      "\n",
      "    accuracy                           0.85      2000\n",
      "   macro avg       0.79      0.75      0.77      2000\n",
      "weighted avg       0.84      0.85      0.85      2000\n",
      "\n",
      "0.7465684319200356\n",
      "5.111780485513152\n"
     ]
    }
   ],
   "source": [
    "from imblearn.ensemble import BalancedRandomForestClassifier\n",
    "from imblearn.over_sampling import ADASYN\n",
    "from sklearn.model_selection import train_test_split\n",
    "\n",
    "y = df[\"Churn\"]\n",
    "cols = df.columns.tolist()\n",
    "cols.remove(\"Churn\")\n",
    "X = df[cols]\n",
    "\n",
    "adasyn = ADASYN()\n",
    "X_train, X_test, y_train, y_test = train_test_split(\n",
    "    X, y, random_state=12, test_size=0.2\n",
    ")\n",
    "\n",
    "X_train, y_train = adasyn.fit_resample(X_train, y_train)\n",
    "\n",
    "brf = BalancedRandomForestClassifier(n_estimators=100, random_state=0)\n",
    "brf.fit(X_train, y_train) \n",
    "y_pred = brf.predict(X_test)\n",
    "print(classification_report(y_test, y_pred))\n",
    "print(roc_auc_score(y_test, y_pred))\n",
    "print(log_loss(y_test, y_pred))\n"
   ]
  },
  {
   "cell_type": "markdown",
   "metadata": {},
   "source": [
    "This classifier definitely does the best!  We are almost to pretty solid classification, the only thing that's really lagging is the recall for class 1.  That means, we are only capturing 56% of the total number of cases of Churn.  At least, of those that we think are Churn, we are right 70% of the time!  Basically, it looks like our classifier is a little over eager in classifying folks as not churning.  But I think that's fine!  Since most folks won't churn.  This seems like the best we are going to do.  There is more stuff in the imbalanced-learn package we could try, like adding more metrics and trying different samplers.  But I leave that as an exercise to the reader.  We also didn't exhaust the list of possible classifiers, including using deep learning!!!  But we'll get to that in a later chapter.  Anywho, onto anamoly detection!"
   ]
  },
  {
   "cell_type": "markdown",
   "metadata": {},
   "source": [
    "\n",
    "## Anamoly Detection\n",
    "\n",
    "It's time for to deal with the problem that is the bane of every data scientists existance - anamoly detection.  If you've never dealt with one of these before, don't worry, at some point you will.  These things come up _a lot_ in information extraction from text.  But they also come up generally in a bunch of places.  Normal models won't work, no matter what you try.  And worse then that, you might not even realize you are dealing with an anamoly detection problem until it's far too late.  As in, you've gone to production and the sample data you saw for training and testing was _far_ too curated.  \n",
    "\n",
    "Anamoly detection, is basically when your data falls into a class around 90-95% and about 10% or less the rest of the time.  It may be the case that this happens because, like I stated above the data you saw when you were developing the model was _not_ representative.  This can get _especially_ bad with multiclass classification where multiple classes are relatively rare in production.  You might say, these cases are easy!  Just ignore the rare classes, no point in dredging the swamp for the extra little bit of value!  And honestly, that might be a good answer, _sometimes_.  But you won't always get lucky with who you are employed by, who your boss is, or what they care about.\n",
    "\n",
    "Or in some cases, it may be by the design of the problem.  Of course, the first scenario is _far_ worse, so we will focus on the second case, where there is an anamolous class, by design.  We will also focus on the case of binary classification, because multiclass classification, is frankly speaking, just too hard.\n",
    "\n",
    "### Problem Set up - Credit Card Fraud Detection\n",
    "\n",
    "The problem of fraud is fairly straight forward - someone uses your card for a purchase that's \"weird\" and the credit card company tells you about it.  Of course, this case isn't going to happen often (we hope).  So it's the minority class by _a lot_.  We might not have many examples per customer of this occurring.  However, we may have 'enough' examples over the course of many customers.  This of course, means there will be a lot more cases of transactions where this _didn't_ happen, which can be tough, because your classifier will just learn the majority class.  This also may not be reflected in your metrics since precision, recall and f1 score will all look _great_.  However, really what this means is, they are great for the majority class, not the minority class.\n",
    "\n",
    "### Our data\n",
    "\n",
    "Our data comes from this kaggle competition: https://www.kaggle.com/mlg-ulb/creditcardfraud\n",
    "\n",
    "Let's go ahead and do some exploration:"
   ]
  },
  {
   "cell_type": "code",
   "execution_count": 2,
   "metadata": {},
   "outputs": [
    {
     "name": "stdout",
     "output_type": "stream",
     "text": [
      "<class 'pandas.core.frame.DataFrame'>\n",
      "RangeIndex: 284807 entries, 0 to 284806\n",
      "Data columns (total 31 columns):\n",
      "Time      284807 non-null float64\n",
      "V1        284807 non-null float64\n",
      "V2        284807 non-null float64\n",
      "V3        284807 non-null float64\n",
      "V4        284807 non-null float64\n",
      "V5        284807 non-null float64\n",
      "V6        284807 non-null float64\n",
      "V7        284807 non-null float64\n",
      "V8        284807 non-null float64\n",
      "V9        284807 non-null float64\n",
      "V10       284807 non-null float64\n",
      "V11       284807 non-null float64\n",
      "V12       284807 non-null float64\n",
      "V13       284807 non-null float64\n",
      "V14       284807 non-null float64\n",
      "V15       284807 non-null float64\n",
      "V16       284807 non-null float64\n",
      "V17       284807 non-null float64\n",
      "V18       284807 non-null float64\n",
      "V19       284807 non-null float64\n",
      "V20       284807 non-null float64\n",
      "V21       284807 non-null float64\n",
      "V22       284807 non-null float64\n",
      "V23       284807 non-null float64\n",
      "V24       284807 non-null float64\n",
      "V25       284807 non-null float64\n",
      "V26       284807 non-null float64\n",
      "V27       284807 non-null float64\n",
      "V28       284807 non-null float64\n",
      "Amount    284807 non-null float64\n",
      "Class     284807 non-null int64\n",
      "dtypes: float64(30), int64(1)\n",
      "memory usage: 67.4 MB\n"
     ]
    }
   ],
   "source": [
    "import pandas as pd\n",
    "\n",
    "df = pd.read_csv(\"creditcard.csv\")\n",
    "df.info()"
   ]
  },
  {
   "cell_type": "markdown",
   "metadata": {},
   "source": [
    "As you can see there a bunch of features prepended with a \"V\".  These are probably hidden pieces of information about individuals.  Of course, we don't want to snoop into anyone's personal lives, so we'll just take these features as a given.  Let's look at correlation between each of these features and the \"Class\" which is our label:"
   ]
  },
  {
   "cell_type": "code",
   "execution_count": 67,
   "metadata": {},
   "outputs": [
    {
     "name": "stdout",
     "output_type": "stream",
     "text": [
      "Independent columns ['V19']\n",
      "Columns with no correlation ['V13', 'V15', 'V22', 'V23', 'V25', 'V26']\n"
     ]
    }
   ],
   "source": [
    "from scipy import stats\n",
    "\n",
    "independent = []\n",
    "no_correlation = []\n",
    "for column in df.columns:\n",
    "    if column == \"Class\":\n",
    "        continue\n",
    "    label = df[\"Class\"]\n",
    "    if stats.kruskal(label, df[column]).pvalue > 0.01:\n",
    "        independent.append(column)\n",
    "    if stats.pointbiserialr(label, df[column]).pvalue > 0.01:\n",
    "        no_correlation.append(column)\n",
    "        \n",
    "print(\"Independent columns\", independent)\n",
    "print(\"Columns with no correlation\", no_correlation)"
   ]
  },
  {
   "cell_type": "markdown",
   "metadata": {},
   "source": [
    "Looks like we can kick out some columns at the start.  But just to get a baseline, let's see how the a classifier does with all the columns being used:"
   ]
  },
  {
   "cell_type": "code",
   "execution_count": 66,
   "metadata": {},
   "outputs": [
    {
     "name": "stdout",
     "output_type": "stream",
     "text": [
      "              precision    recall  f1-score   support\n",
      "\n",
      "           0       1.00      0.98      0.99     71078\n",
      "           1       0.06      0.90      0.12       124\n",
      "\n",
      "    accuracy                           0.98     71202\n",
      "   macro avg       0.53      0.94      0.55     71202\n",
      "weighted avg       1.00      0.98      0.99     71202\n",
      "\n",
      "0.9400059362318\n",
      "0.8062240625839364\n"
     ]
    }
   ],
   "source": [
    "from sklearn.metrics import classification_report, roc_auc_score, log_loss\n",
    "from sklearn.linear_model import LogisticRegression\n",
    "from sklearn.model_selection import train_test_split\n",
    "\n",
    "y = df[\"Class\"].copy()\n",
    "columns = df.columns.tolist()\n",
    "columns.remove(\"Class\")\n",
    "X = df[columns].copy()\n",
    "\n",
    "X_train, X_test, y_train, y_test = train_test_split(X, y, random_state=12)\n",
    "\n",
    "logit_clf = LogisticRegression(\n",
    "    C=1, solver=\"liblinear\", penalty=\"l1\", \n",
    "    class_weight=\"balanced\", max_iter=10000\n",
    ")\n",
    "\n",
    "logit_clf.fit(X_train, y_train)\n",
    "y_pred = logit_clf.predict(X_test)\n",
    "print(classification_report(y_test, y_pred))\n",
    "print(roc_auc_score(y_test, y_pred))\n",
    "print(log_loss(y_test, y_pred))"
   ]
  },
  {
   "cell_type": "markdown",
   "metadata": {},
   "source": [
    "It may seem like we did mostly pretty good!  At least we did on class 0.  The real problem is what's happening in class 1, the minority class and unfortunately the one we care about getting right, a lot.\n",
    "\n",
    "So what does high recall, low precision mean?  \n",
    "\n",
    "Remember that precision is:\n",
    "\n",
    "$$ \\frac{true \\space positive}{true \\space positive + false \\space positive} $$\n",
    "\n",
    "This basically tells us of the things that we classified as fraud, how many of them actually were fraud.  So with this classifier, the number of times we actually found fraud was pretty low, but our classifier _thought_ we found it a lot.  Basically 94% of the time when it predicted \"this is fraud\", it wasn't fraud.  Ouch!  That sounds pretty bad!\n",
    "\n",
    "Let's look at the other side of the story:\n",
    "\n",
    "Remember that recall is:\n",
    "\n",
    "$$ \\frac{true \\space positive}{true \\space positive + false \\space negative} $$\n",
    "\n",
    "So the false negatives are the times when we thought we didn't have fraud but we actually did.  The ratio here can be a little bit more tricky, since we don't actually deal with negative cases.  I think this is what trips people up the most about recall - it just looks at the number of cases that were actually in the class.  So 90% of the cases in the test set that were actually class 1, were found by the classifier.  \n",
    "\n",
    "This means, that our classifier is over eager in classifying charges as fraud.  So one of the ways you can deal with this is by having a human verify charges.  Just have everyone that's classified as fraud sent to someone for verification.  This is what actually happens in the real world with most systems.  So are we done?  We've basically matched the performance of the systems that are actually in production, right?  Or at least somewhat close.  \n",
    "\n",
    "The next thing to do is try to improve things.  Let's start by kicking out those features we knew had no correlation or were independent:"
   ]
  },
  {
   "cell_type": "code",
   "execution_count": 68,
   "metadata": {},
   "outputs": [
    {
     "name": "stdout",
     "output_type": "stream",
     "text": [
      "              precision    recall  f1-score   support\n",
      "\n",
      "           0       1.00      0.98      0.99     71078\n",
      "           1       0.06      0.89      0.12       124\n",
      "\n",
      "    accuracy                           0.98     71202\n",
      "   macro avg       0.53      0.93      0.55     71202\n",
      "weighted avg       1.00      0.98      0.99     71202\n",
      "\n",
      "0.9318218331701021\n",
      "0.8154408029094835\n"
     ]
    }
   ],
   "source": [
    "from sklearn.metrics import classification_report, roc_auc_score, log_loss\n",
    "from sklearn.linear_model import LogisticRegression\n",
    "from sklearn.model_selection import train_test_split\n",
    "\n",
    "columns_to_remove = [\n",
    "    \"V19\", 'V13', 'V15', \n",
    "    'V22', 'V23', 'V25', \n",
    "    'V26', \"Class\"\n",
    "]\n",
    "y = df[\"Class\"].copy()\n",
    "columns = df.columns.tolist()\n",
    "for column_to_remove in columns_to_remove:\n",
    "    columns.remove(column_to_remove)\n",
    "X = df[columns].copy()\n",
    "\n",
    "X_train, X_test, y_train, y_test = train_test_split(X, y, random_state=12)\n",
    "\n",
    "logit_clf = LogisticRegression(\n",
    "    C=1, solver=\"liblinear\", penalty=\"l1\", \n",
    "    class_weight=\"balanced\", max_iter=10000\n",
    ")\n",
    "\n",
    "logit_clf.fit(X_train, y_train)\n",
    "y_pred = logit_clf.predict(X_test)\n",
    "print(classification_report(y_test, y_pred))\n",
    "print(roc_auc_score(y_test, y_pred))\n",
    "print(log_loss(y_test, y_pred))"
   ]
  },
  {
   "cell_type": "markdown",
   "metadata": {},
   "source": [
    "So we don't do any better.  Well, let's try our resampling strategy like last time, that might work!"
   ]
  },
  {
   "cell_type": "code",
   "execution_count": 81,
   "metadata": {
    "scrolled": true
   },
   "outputs": [
    {
     "name": "stdout",
     "output_type": "stream",
     "text": [
      "              precision    recall  f1-score   support\n",
      "\n",
      "           0       1.00      1.00      1.00     56869\n",
      "           1       0.56      0.81      0.66        93\n",
      "\n",
      "    accuracy                           1.00     56962\n",
      "   macro avg       0.78      0.90      0.83     56962\n",
      "weighted avg       1.00      1.00      1.00     56962\n",
      "\n",
      "0.9027158625454426\n",
      "0.046083237643766366\n"
     ]
    }
   ],
   "source": [
    "from imblearn.over_sampling import ADASYN\n",
    "from sklearn.model_selection import train_test_split\n",
    "from imblearn.ensemble import BalancedBaggingClassifier\n",
    "\n",
    "y = df[\"Class\"].copy()\n",
    "cols = df.columns.tolist()\n",
    "cols.remove(\"Class\")\n",
    "X = df[cols].copy()\n",
    "\n",
    "adasyn = ADASYN()\n",
    "\n",
    "X_train, X_test, y_train, y_test = train_test_split(\n",
    "    X, y, random_state=12, test_size=0.2\n",
    ")\n",
    "X_train, y_train = adasyn.fit_resample(X_train, y_train)\n",
    "\n",
    "bbc = BalancedBaggingClassifier(\n",
    "    base_estimator=DecisionTreeClassifier(),\n",
    "    sampling_strategy='auto',\n",
    "    replacement=False,\n",
    "    random_state=0\n",
    ")\n",
    "bbc.fit(X_train, y_train) \n",
    "\n",
    "y_pred = bbc.predict(X_test)\n",
    "print(classification_report(y_test, y_pred))\n",
    "print(roc_auc_score(y_test, y_pred))\n",
    "print(log_loss(y_test, y_pred))"
   ]
  },
  {
   "cell_type": "markdown",
   "metadata": {},
   "source": [
    "So this appears to work better!  Not perfect, but we got our precision _way_ up!!  Can we do even better than that?  It's time introduce a new topic that we've lightly touched up, that of outlier detection.  By treating the minority class as outliers, we may be able to more accurately predict the minority class.\n",
    "\n",
    "The naive approach to outlier detection is look at magnitude.  Consider the following example:"
   ]
  },
  {
   "cell_type": "code",
   "execution_count": 20,
   "metadata": {},
   "outputs": [
    {
     "data": {
      "image/png": "[encoded data removed]",
      "text/plain": [
       "<Figure size 432x288 with 1 Axes>"
      ]
     },
     "metadata": {
      "needs_background": "light"
     },
     "output_type": "display_data"
    }
   ],
   "source": [
    "import numpy as np\n",
    "import matplotlib.pyplot as plt\n",
    "\n",
    "distribution = np.random.normal(0, 1, size=50)\n",
    "distribution = np.append(distribution, [100, 200, 300, -400, -500])\n",
    "plt.hist(distribution, bins=9)\n",
    "plt.show()"
   ]
  },
  {
   "cell_type": "markdown",
   "metadata": {},
   "source": [
    "As you can see, the data is mostly centered around one, but there are some outliers.  How might we detect these?  One way is to use the z-score.  Let's define this tool mathematically and then see how to use it:\n",
    "\n",
    "$$ \\frac{x - \\mu}{\\sigma} $$ \n",
    "\n",
    "Where $x$ := the individual element\n",
    "\n",
    "$ \\mu $ := the mean\n",
    "\n",
    "$ \\sigma $ := the standard deviation\n",
    "\n",
    "So the z-score is the element's distance from the mean, accounting for the distribution of all the points.  Let's see how this works for our example:"
   ]
  },
  {
   "cell_type": "code",
   "execution_count": 25,
   "metadata": {},
   "outputs": [
    {
     "name": "stdout",
     "output_type": "stream",
     "text": [
      "100.0\n",
      "200.0\n",
      "300.0\n",
      "-400.0\n",
      "-500.0\n"
     ]
    }
   ],
   "source": [
    "from scipy import stats\n",
    "for index, zscore in enumerate(stats.zscore(distribution)):\n",
    "    if abs(zscore) > 1.0:\n",
    "        print(distribution[index])"
   ]
  },
  {
   "cell_type": "markdown",
   "metadata": {},
   "source": [
    "Looks like we were able to recover all the outliers!  What do we do when the data is multivariate?  Does the notion of the z-score scale?\n",
    "\n",
    "Turns out it does!  \n",
    "\n",
    "## Enter Mahalanobis Distance\n",
    "\n",
    "The Mahalanobis distance is a generalization of the z-score where instead of considering the distance from a point to the mean, we consider the distance between a point and distribution.  There are three big differences between Mahalanobis distance and z-score:\n",
    "\n",
    "1) we are dealing with vectors and matrices\n",
    "2) we use the covariance matrix as our normalization rather than the standard deviation\n",
    "3) since we have no global mean, we use the mean with respect to each variable in our vector\n",
    "\n",
    "Let's look at the equation:\n",
    "\n",
    "$$ D(x) = \\sqrt{(x - \\mu)^{T}S^{-1}(x- \\mu)} $$\n",
    "\n",
    "Here we define:\n",
    "\n",
    "$ x $ := an observation, such that:\n",
    "\n",
    "$$ x := (x_{1}, x_{2}, x_{3}, ... x_{n}) $$\n",
    "\n",
    "So $x_{i}$ represents the ith element in a given observation.\n",
    "\n",
    "$ \\mu $ := the mean for each of the positional elements of the observation, expressed as a vector such that:\n",
    "\n",
    "$$ \\mu := (\\mu_{1}, \\mu_{2}, \\mu_{3}, ... \\mu_{n}) $$\n",
    "\n",
    "So $ \\mu_{i}$ is the mean for the ith position across all the observations.\n",
    "\n",
    "$S$ := the covariance matrix for the multivariate distribution.\n",
    "\n",
    "This formalization of distance leads to the following conclusions about how a Mahalanobis distance behaves:\n",
    "\n",
    "1) It transforms the columns into uncorrelated variables because we normalize by the covariance as well as demean the data.\n",
    "2) Scale the columns to make their variance equal to 1.\n",
    "\n",
    "Now let's look at an implementation of Mahalanobis distance as a classifier!"
   ]
  },
  {
   "cell_type": "code",
   "execution_count": 80,
   "metadata": {},
   "outputs": [
    {
     "name": "stdout",
     "output_type": "stream",
     "text": [
      "              precision    recall  f1-score   support\n",
      "\n",
      "           0       0.00      0.00      0.00      5992\n",
      "           1       0.00      1.00      0.00         8\n",
      "\n",
      "    accuracy                           0.00      6000\n",
      "   macro avg       0.00      0.50      0.00      6000\n",
      "weighted avg       0.00      0.00      0.00      6000\n",
      "\n",
      "0.5\n",
      "34.49352322435109\n"
     ]
    },
    {
     "name": "stderr",
     "output_type": "stream",
     "text": [
      "/usr/local/lib/python3.6/dist-packages/sklearn/metrics/_classification.py:1272: UndefinedMetricWarning: Precision and F-score are ill-defined and being set to 0.0 in labels with no predicted samples. Use `zero_division` parameter to control this behavior.\n",
      "  _warn_prf(average, modifier, msg_start, len(result))\n"
     ]
    }
   ],
   "source": [
    "from scipy import linalg\n",
    "import numpy as np\n",
    "\n",
    "def mahalanobis(x, distribution, covariance=None):\n",
    "    x_demeaned = x - np.mean(distribution)\n",
    "    if covariance is None:\n",
    "        covariance = np.cov(distribution.values.T)\n",
    "    inverse_covariance = linalg.inv(covariance)\n",
    "    left_term = np.dot(x_demeaned, inverse_covariance)\n",
    "    mahalanobis_distance = np.dot(left_term, x_demeaned.T)\n",
    "    return mahalanobis_distance.diagonal()\n",
    "\n",
    "class MahalanobisBinaryClassifier():\n",
    "    def __init__(self):\n",
    "        pass\n",
    "\n",
    "    def fit(self, X_train, y_train):\n",
    "        class_one_index = y_train[y_train == 1].index\n",
    "        class_zero_index = y_train[y_train == 0].index\n",
    "        self.X_train_pos = X_train.loc[class_one_index]\n",
    "        self.X_train_neg = X_train.loc[class_zero_index]\n",
    "        self.positive_cov = np.cov(\n",
    "            self.X_train_pos.values.T\n",
    "        )\n",
    "        self.negative_cov = np.cov(\n",
    "            self.X_train_neg.values.T\n",
    "        )\n",
    "        \n",
    "    def predict_proba(self, X_test):\n",
    "        negative_distribution = mahalanobis(\n",
    "            X_test, self.X_train_neg, \n",
    "            covariance = self.positive_cov\n",
    "        )\n",
    "        positive_distribution = mahalanobis(\n",
    "            X_test, self.X_train_pos, \n",
    "            covariance = self.negative_cov\n",
    "        )\n",
    "        positive_negative_distribution = zip(\n",
    "            positive_distribution, negative_distribution\n",
    "        )\n",
    "        probabilities = []\n",
    "        for positive, negative in positive_negative_distribution:\n",
    "            denominator = positive + negative\n",
    "            probability_class_zero = 1 - (negative/denominator)\n",
    "            probability_class_one = 1 - (positive/denominator)\n",
    "            probabilities.append(\n",
    "                [probability_class_zero, probability_class_one]\n",
    "            ) \n",
    "        return np.array(probabilities)\n",
    "    \n",
    "    def predict(self, X_test):\n",
    "        predictions = []\n",
    "        for row in self.predict_proba(X_test):\n",
    "            predictions.append(np.argmax(row))\n",
    "        return np.array(predictions)\n",
    "\n",
    "sample_size = 30000\n",
    "column_types = {column: \"continuous\" for column in df.columns}\n",
    "sample = bootstrap(df, column_types, size=sample_size, with_replacement=False, include_outliers=True)\n",
    "\n",
    "y = sample[\"Class\"].copy()\n",
    "columns = sample.columns.tolist()\n",
    "columns.remove(\"Class\")\n",
    "X = sample[columns].copy()\n",
    "\n",
    "X_train, X_test, y_train, y_test = train_test_split(\n",
    "    X, y, test_size=0.2, random_state=12\n",
    ")\n",
    "\n",
    "clf = MahalanobisBinaryClassifier()\n",
    "clf.fit(X_train, y_train)\n",
    "y_pred = clf.predict(X_test)\n",
    "\n",
    "print(classification_report(y_test, y_pred))\n",
    "print(roc_auc_score(y_test, y_pred))\n",
    "print(log_loss(y_test, y_pred))"
   ]
  },
  {
   "cell_type": "markdown",
   "metadata": {},
   "source": [
    "\n",
    "For comparison here are the results of the sampling strategy:\n",
    "\n",
    "```\n",
    "              precision    recall  f1-score   support\n",
    "\n",
    "           0       1.00      1.00      1.00     56869\n",
    "           1       0.56      0.81      0.66        93\n",
    "\n",
    "    accuracy                           1.00     56962\n",
    "   macro avg       0.78      0.90      0.83     56962\n",
    "weighted avg       1.00      1.00      1.00     56962\n",
    "```\n",
    "\n",
    "And here are the results of our naive classifer:\n",
    "\n",
    "```\n",
    "              precision    recall  f1-score   support\n",
    "\n",
    "           0       1.00      0.98      0.99     71078\n",
    "           1       0.06      0.90      0.12       124\n",
    "\n",
    "    accuracy                           0.98     71202\n",
    "   macro avg       0.53      0.94      0.55     71202\n",
    "weighted avg       1.00      0.98      0.99     71202\n",
    "\n",
    "0.9400059362318\n",
    "0.8062240625839364\n",
    "```"
   ]
  },
  {
   "cell_type": "markdown",
   "metadata": {},
   "source": [
    "So it may seem like this is a bust, however it does manage to get 100% recall, which is definitely something!  It could be that the mahalanobis distance is simply too naive a strategy.  But given this high recall, there is definitely something to consider for outlier detection.  \n",
    "\n",
    "Also note, that we have to sample just because we run out of memory if we try to train on the full dataset."
   ]
  },
  {
   "cell_type": "markdown",
   "metadata": {},
   "source": [
    "References:\n",
    "* https://towardsdatascience.com/hands-on-predict-customer-churn-5c2a42806266\n",
    "* https://blog.markgrowth.com/eliminating-churn-is-growth-hacking-2-0-47a380194a06\n",
    "* https://towardsdatascience.com/churn-prediction-3a4a36c2129a\n",
    "https://www.profitwell.com/blog/the-complete-saas-guide-to-calculating-churn-rate-and-keeping-it-simple\n",
    "* https://www.machinelearningplus.com/statistics/mahalanobis-distance/\n",
    "* https://towardsdatascience.com/outlier-detection-with-one-class-svms-5403a1a1878c"
   ]
  },
  {
   "cell_type": "code",
   "execution_count": null,
   "metadata": {},
   "outputs": [],
   "source": []
  }
 ],
 "metadata": {
  "kernelspec": {
   "display_name": "Python 3",
   "language": "python",
   "name": "python3"
  },
  "language_info": {
   "codemirror_mode": {
    "name": "ipython",
    "version": 3
   },
   "file_extension": ".py",
   "mimetype": "text/x-python",
   "name": "python",
   "nbconvert_exporter": "python",
   "pygments_lexer": "ipython3",
   "version": "3.7.9"
  }
 },
 "nbformat": 4,
 "nbformat_minor": 2
}
