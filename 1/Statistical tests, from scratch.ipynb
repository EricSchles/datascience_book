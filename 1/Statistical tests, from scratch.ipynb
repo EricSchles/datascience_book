{
 "cells": [
  {
   "cell_type": "markdown",
   "metadata": {
    "slideshow": {
     "slide_type": "slide"
    }
   },
   "source": [
    "# Statistical tests, from scratch"
   ]
  },
  {
   "cell_type": "markdown",
   "metadata": {
    "slideshow": {
     "slide_type": "notes"
    }
   },
   "source": [
    "In this chapter we will build up the foundations of statistical tests.  Starting from a foundational example and building on our understanding from there.  We will be implementing some statistical tests in order to deepen our understanding.  \n",
    "\n",
    "Statistical tests come to us from descriptive statistics.  By making use of descriptive statistics in conjunction, we can build up to analytic tools for discerning truth.  In this way, we can see a statistical test as a clever use of descriptive statistics in order to better understand the world around us."
   ]
  },
  {
   "cell_type": "markdown",
   "metadata": {
    "slideshow": {
     "slide_type": "slide"
    }
   },
   "source": [
    "## Foundational Example"
   ]
  },
  {
   "cell_type": "markdown",
   "metadata": {
    "slideshow": {
     "slide_type": "notes"
    }
   },
   "source": [
    "Let us begin with the foundational example, that of milk poured into tea and tea poured into milk."
   ]
  },
  {
   "cell_type": "markdown",
   "metadata": {
    "slideshow": {
     "slide_type": "notes"
    }
   },
   "source": [
    "### Set up\n",
    "\n",
    "A researcher randomly decided whether to pour tea into milk or milk into tea for eight cups of tea.  Then he presented the eight cups of tea to the person claiming to be able to tell the difference.  Here the null hypothesis is that the person cannot tell which tea cup is which.  The alternative hypothesis is that they cannot.  If the person gets all eight tea cups correctly, then the researcher believed we could reject the null hypothesis and that it was likely the alternative hypothesis was true.\n",
    "\n",
    "How likely was it that the alternative hypothesis was true?  Well thats actually easy to calculate.  Because there are eight cups of tea and each was randomly assigned to case one and case two, that meant that there was no conditional information between cups of tea.  This means that the probability of getting all eight cups of tea correct is:\n",
    "\n",
    "$$ \\frac{1}{2^{8}} = \\frac{1}{256} \\approx 0.003 $$\n",
    "\n",
    "So there is less than a 1% chance that the person gets all eight cups right, given that they were guessing.  So if they do get all eight right, we should assume there is a pretty good chance that they know how to tell the difference.  But is that enough?  Are we confident in saying that this person knows how to do this?  \n",
    "\n",
    "Well one way you could check is run the experiment multiple times on multiple days and check the results.  The chance of any individual one of these tests getting the alternative hypothesis goes up, but it's increasingly likely that the typical case will emerge for most of the tests.  How likely a test is to fail to give a correct response is related to its statistical power - the chance of getting a false positive.  This general procedure of running an experiment multiple times is called a replication study and it is crucial to science.  If you cannot replicate an experiment, then the experiment should not be trusted.  But I digress."
   ]
  },
  {
   "cell_type": "markdown",
   "metadata": {
    "slideshow": {
     "slide_type": "slide"
    }
   },
   "source": [
    "There are some general features of our experiment that we should make explicit:\n",
    "\n",
    "1. Our tea took on one of two states - tea poured into milk or milk poured into tea.  In general we usually break up our experiment into two possible cases - test and control.  In the test set a \"treatment\" is applied and for the control set either no treatment is given or a placebo is given.  \n",
    "\n",
    "2. Enough trials were performed during the experiment to make the possability of an accidental false positive fairly unlikely.  In this case, a less than 1% chance.  For some experiments this is nowhere near enough tolerance.  It really all depends on what you are trying to measure and how important getting it right is.  The industry agreed upon standard is 5% margin of error, which might be good enough or maybe not.\n",
    "\n",
    "3. After the experiment, we should not be 100% confident in our results.  We should be reasonably confident.  We should be as confident as the margin of error, in this case about 99.7% confident.  But we should not, nor should we ever really be 100% confident in a result.  And we should increase our confidence only after some number of replication studies have been performed.  This shows us the importance of creating experiments where replication is relatively easy to perform.  If replicating our experiment is very, very hard, then it might be a bad experiment.  Of course, it all depends."
   ]
  },
  {
   "cell_type": "markdown",
   "metadata": {
    "slideshow": {
     "slide_type": "slide"
    }
   },
   "source": [
    "## A Digression Into Computing Probabilities\n",
    "\n",
    "* sample spaces\n",
    "* event space"
   ]
  },
  {
   "cell_type": "markdown",
   "metadata": {
    "slideshow": {
     "slide_type": "slide"
    }
   },
   "source": [
    "## Sample Spaces"
   ]
  },
  {
   "cell_type": "markdown",
   "metadata": {
    "slideshow": {
     "slide_type": "notes"
    }
   },
   "source": [
    "A sample space is the space of all possible outcomes for a given \"event\".  We define an event as the thing of study.  Speaking in vague terms like this can be difficult, so let's make things clearer with some examples:"
   ]
  },
  {
   "cell_type": "markdown",
   "metadata": {
    "slideshow": {
     "slide_type": "slide"
    }
   },
   "source": [
    "### Gambling"
   ]
  },
  {
   "cell_type": "markdown",
   "metadata": {
    "slideshow": {
     "slide_type": "notes"
    }
   },
   "source": [
    "While gambling can be a terrible habit, it's great for studying probability.  This is because gambling is about games of chance.  In this \"chance\" element we can find a rigorous ground to study the precepts of probability.  Let's start with the simplest possible gambling game, a coin flip."
   ]
  },
  {
   "cell_type": "markdown",
   "metadata": {
    "slideshow": {
     "slide_type": "notes"
    }
   },
   "source": [
    "#### Coin flip\n",
    "\n",
    "In order to study this \"game\" we need to consider first the space of possible outcomes.  In our case, much like the tea example there are two possible \"outcomes\", that is two possible states that the coin can end up in after it is flipped.  You may think this isn't terribly complex, but it can still give us much fertile ground to study the world, as well as to develope many techniques which can be applied elsewhere.  In fact, the computers we rely on every day share some similar properties to this \"simple\" binary outcome space.  But I digress.\n",
    "\n",
    "Let's start off our analysis by looking at the sample space for a single flip.  That is:\n",
    "\n",
    "Sample Space for a coin := `{Heads, Tails}`\n",
    "\n",
    "In mathematics we typically use a short hand so let's further refine our definition to:\n",
    "\n",
    "Sample Space for a coin := `{H, T}`, where `H` stands for `Heads` and `T` stands for `Tails`.\n",
    "\n",
    "So if our \"game\" is defined by people placing bets on heads or tails and then a single flip of the coin discerns who wins, we are done with our initial analysis.  What can we do next?  Well, now that we know the \"space\" of our possible samples in totality we can easy define the \"probability\" of each case occuring:\n",
    "\n",
    "Assuming our coin is \"fair\" then the following is true:\n",
    "\n",
    "* P(H) = 1/2\n",
    "* P(T) = 1/2\n",
    "\n",
    "This doesn't tell us how well or poorly we will do for a given toss of the coin.  However if we were to play many games placing a bet each time, we would know how well we would do \"in the long run\".  Let's try to visualize this.  In order to do so, we'll need a random \"process\" that selects one value half the time and another value the other half of the time.  Fortunately we have a such a \"process\", it's name is the Bernoulli distribution.  \n",
    "\n",
    "Note: we are using the term \"process\" to mean the mathematical object that \"randomly\" produces data that models the real world.  In general anything that spits out data according to some notion of \"randomness\" we will define as a \"process\".\n",
    "\n",
    "Here the reason we use the Bernoulli distribution as our \"process\" is because we can sample from this distribution to simulate what will happen with coin flips.  We might say that a Bernoulli distribution \"models\" coin flips in this case, because it accurately captures the essence of our interest of study.  And without having to actually flip any coins!"
   ]
  },
  {
   "cell_type": "markdown",
   "metadata": {
    "slideshow": {
     "slide_type": "slide"
    }
   },
   "source": [
    "We'll need just a little bit more set up before we are ready to visualize:\n",
    "\n",
    "1. We'll start with one dollar bets\n",
    "2. Everytime we win we win a dollar\n",
    "3. Everytime we lose we lose a dollar\n",
    "4. The game ends when we run out of money."
   ]
  },
  {
   "cell_type": "markdown",
   "metadata": {
    "slideshow": {
     "slide_type": "notes"
    }
   },
   "source": [
    "Now then, let's sample from our Bernoulli distribution and figure out what happens to our money over the long run placing single bets on single coin flips!"
   ]
  },
  {
   "cell_type": "code",
   "execution_count": 16,
   "metadata": {
    "slideshow": {
     "slide_type": "slide"
    }
   },
   "outputs": [
    {
     "data": {
      "image/png": "[encoded data removed]",
      "text/plain": [
       "<Figure size 432x288 with 1 Axes>"
      ]
     },
     "metadata": {
      "needs_background": "light"
     },
     "output_type": "display_data"
    },
    {
     "name": "stdout",
     "output_type": "stream",
     "text": [
      "49\n"
     ]
    }
   ],
   "source": [
    "from scipy import stats\n",
    "import matplotlib.pyplot as plt\n",
    "\n",
    "probability = 0.5\n",
    "\n",
    "money = 1\n",
    "\n",
    "winnings_over_time = []\n",
    "while money > 0:\n",
    "    outcome = stats.bernoulli.rvs(probability, size=1)[0]\n",
    "    if outcome == 1:\n",
    "        money += 1\n",
    "    else:\n",
    "        money -= 1\n",
    "    winnings_over_time.append(money)\n",
    "    \n",
    "plt.plot(winnings_over_time)\n",
    "plt.show()\n",
    "print(max(winnings_over_time))"
   ]
  },
  {
   "cell_type": "markdown",
   "metadata": {
    "slideshow": {
     "slide_type": "notes"
    }
   },
   "source": [
    "Looks like we make some money for a while, going as high as 49 dollars.  But eventually we end up losing everything because when your odds are _always_ 50/50 eventually you'll hit a rough patch.  Another way we can analyze this game is by looking at how the probability converges to 50 % odds.  Let's look at that now:"
   ]
  },
  {
   "cell_type": "code",
   "execution_count": 19,
   "metadata": {
    "slideshow": {
     "slide_type": "slide"
    }
   },
   "outputs": [
    {
     "data": {
      "image/png": "[encoded data removed]",
      "text/plain": [
       "<Figure size 432x288 with 1 Axes>"
      ]
     },
     "metadata": {
      "needs_background": "light"
     },
     "output_type": "display_data"
    }
   ],
   "source": [
    "from scipy import stats\n",
    "import numpy as np\n",
    "import matplotlib.pyplot as plt\n",
    "\n",
    "probability = 0.5\n",
    "\n",
    "average_outcomes = []\n",
    "for size in range(1000):\n",
    "    average_outcomes.append(\n",
    "        np.mean(stats.bernoulli.rvs(probability, size=size))\n",
    "    )\n",
    "\n",
    "plt.plot(average_outcomes)\n",
    "plt.show()"
   ]
  },
  {
   "cell_type": "markdown",
   "metadata": {
    "slideshow": {
     "slide_type": "notes"
    }
   },
   "source": [
    "As you can see, as the number of trials, that is the number of times we flip the coin goes up the expected probability, that is the number of times we get heads on average goes to 50%.  Notice how that band around 0.5 gets closer and closer.  This is because as we do more and more trials things become more and more normalized.  Another way to think of this is as the point of convergence.  We may never get to exactly 0.5, but we get ever closer to 0.5 as we take more trials into consideration.  That's why as we play increasingly more single bet games of flipping the coin, we get \"increasingly close\" to our theoretical expectation.\n",
    "\n",
    "Just to continue on our digression let's look at another variant of this game.  What if now instead of placing bets each game, our total winnings was doubled for each successive head we saw in a row.  \n",
    "\n",
    "So if we see 2 heads in a row we win two dollars, if we win three heads in a row we win 4 dollars, in general if we see \"N\" heads a row we see $2^{N}$ dollars.  Given this set up, do we think the game will still end with us losing it all?  Will we have much longer runs before that happens, assuming it's inevitable?\n",
    "\n",
    "Let's do some experiments to find out:"
   ]
  },
  {
   "cell_type": "code",
   "execution_count": 32,
   "metadata": {
    "slideshow": {
     "slide_type": "slide"
    }
   },
   "outputs": [
    {
     "data": {
      "image/png": "[encoded data removed]",
      "text/plain": [
       "<Figure size 432x288 with 1 Axes>"
      ]
     },
     "metadata": {
      "needs_background": "light"
     },
     "output_type": "display_data"
    },
    {
     "name": "stdout",
     "output_type": "stream",
     "text": [
      "1.0\n"
     ]
    }
   ],
   "source": [
    "from scipy import stats\n",
    "import matplotlib.pyplot as plt\n",
    "\n",
    "def trial():\n",
    "    probability = 0.5\n",
    "    money = 1\n",
    "    winnings_over_time = []\n",
    "    consecutive_wins = 0\n",
    "    num_iter = 0\n",
    "    while money > 0:\n",
    "        num_iter += 1\n",
    "        outcome = stats.bernoulli.rvs(probability, size=1)[0]\n",
    "        if outcome == 1:\n",
    "            money += 2**consecutive_wins\n",
    "            consecutive_wins += 1\n",
    "        else:\n",
    "            money -= 1\n",
    "            consecutive_wins = 0\n",
    "        winnings_over_time.append(money)\n",
    "        if num_iter > 10000:\n",
    "            break\n",
    "    return winnings_over_time[-1] == 0\n",
    "\n",
    "probability_win_something = []\n",
    "for number_of_trials in range(1, 100):\n",
    "    lose_all_money = 0\n",
    "    win_something = 0\n",
    "    for _ in range(number_of_trials):\n",
    "        if trial():\n",
    "            win_something += 1\n",
    "        else:\n",
    "            lose_all_money += 1\n",
    "    probability_win_something.append(\n",
    "        win_something/(win_something+lose_all_money)\n",
    "    )\n",
    "plt.plot(list(range(1, 100)), probability_win_something)\n",
    "plt.show()\n",
    "print(max(probability_win_something))"
   ]
  },
  {
   "cell_type": "markdown",
   "metadata": {
    "slideshow": {
     "slide_type": "notes"
    }
   },
   "source": [
    "Even though the chance of getting N heads in a row is vanishingly small, it makes a huge difference for the \"profitability\" of the game.  Because the event only needs to happen sometimes and because the lose is assymetrically small, the game persists far more often with a much higher win rate.  Just to make sure the point is clear.  Let's look at the probability of `N` heads in a row as `N` gets large:"
   ]
  },
  {
   "cell_type": "code",
   "execution_count": 2,
   "metadata": {
    "slideshow": {
     "slide_type": "slide"
    }
   },
   "outputs": [
    {
     "data": {
      "text/plain": [
       "[2.524354896707238e-29,\n",
       " 1.262177448353619e-29,\n",
       " 6.310887241768095e-30,\n",
       " 3.1554436208840472e-30,\n",
       " 1.5777218104420236e-30]"
      ]
     },
     "execution_count": 2,
     "metadata": {},
     "output_type": "execute_result"
    },
    {
     "data": {
      "image/png": "[encoded data removed]",
      "text/plain": [
       "<Figure size 432x288 with 1 Axes>"
      ]
     },
     "metadata": {
      "needs_background": "light"
     },
     "output_type": "display_data"
    }
   ],
   "source": [
    "import matplotlib.pyplot as plt\n",
    "\n",
    "def probability_of_nth_head(n):\n",
    "    return 1/(2**n)\n",
    "\n",
    "num_heads = list(range(1, 100))\n",
    "probability = [probability_of_nth_head(n) for n in num_heads]\n",
    "plt.plot(num_heads, probability)\n",
    "probability[-5:]"
   ]
  },
  {
   "cell_type": "markdown",
   "metadata": {
    "slideshow": {
     "slide_type": "notes"
    }
   },
   "source": [
    "As you can see, the \"vanishingly\" small probability is truly small, however it never quiet reaches zero.  Thus far we've assumed that our coin was fairly weighted, that is, that a tail was just as likely as a head with each coin flip.  However not all coins are fair.  We could set up an experiment where we hypothesize that the coin is fair and then test whether indeed it is.\n",
    "\n",
    "In order to validate this hypothesis we'll need something to compare against.  So we'll see the distribution we've already made mention of, the bernoulli distribution.  If the coin is indeed fair then when comparing it to a bernoulli distribution, we should get a similar number of heads and tails.  We should also set up error bounds.  If a given experiment falls within the upper and lower bounds of some tolerance, then we just still reject the null hypothesis of fairness.  But if we fall outside that margin, we should reject the null hypothesis."
   ]
  },
  {
   "cell_type": "markdown",
   "metadata": {
    "slideshow": {
     "slide_type": "slide"
    }
   },
   "source": [
    "Let's sketch out how this _could_ work:\n",
    "\n",
    "First we'll state our null hypothesis:\n",
    "\n",
    "The coin follows a bernoulli distribution with probability = 0.5\n",
    "\n",
    "Alternative hypothesis:\n",
    "\n",
    "The coin does not follow a bernoulli distribution with probability = 0.5\n",
    "\n",
    "Next let's set up are margin of error:\n",
    "\n",
    "If the number of heads occurs more than 5% of the time in the reference distribution then we fail to reject the null hypothesis.\n",
    "\n",
    "Now let's write some code to look at how this might work:"
   ]
  },
  {
   "cell_type": "code",
   "execution_count": 3,
   "metadata": {
    "slideshow": {
     "slide_type": "slide"
    }
   },
   "outputs": [
    {
     "data": {
      "text/plain": [
       "0.244"
      ]
     },
     "execution_count": 3,
     "metadata": {},
     "output_type": "execute_result"
    }
   ],
   "source": [
    "from scipy import stats\n",
    "\n",
    "def simulate_coin_flips(number_of_flips, number_of_simulations, probability=0.5):\n",
    "    simulations = []\n",
    "    for _ in range(number_of_simulations):\n",
    "        simulations.append(\n",
    "            sum(stats.bernoulli.rvs(\n",
    "                probability, size=number_of_flips\n",
    "            ))\n",
    "        )\n",
    "    return simulations\n",
    "    \n",
    "experiment = [0, 0, 1, 1, 0, 0, 1, 0, 1, 1]\n",
    "simulations = simulate_coin_flips(10, 1000)\n",
    "experiment_heads = sum(experiment)\n",
    "len([simulation for simulation in simulations if simulation == experiment_heads])/len(simulations)"
   ]
  },
  {
   "cell_type": "markdown",
   "metadata": {
    "slideshow": {
     "slide_type": "notes"
    }
   },
   "source": [
    "So with the above calculation, we count the number of times heads came up.  Then we look at how many times out of a thousand the same number of heads was found.  The reason we can do a simple summation in this case, is because each flip of the coin is \"memoryless\", that is each event is not influenced by the past.  Therefore you are equally likely to get heads in the future as you were in the past.  Because of this, we simply need to count the number of heads.  It doesn't matter whether they occur all in a row or dispersed throughout the flips.  \n",
    "\n",
    "As you can see, we get the same number of heads as our experiment about 25% of the time.  This is enough evidence for me to say that the \"experimental\" coin is probably a fair one.  Or at least close enough to fair.  How else might we verify that the coin is fair?  Can you think of any other ways to verify this?\n",
    "\n",
    "The point of the above exercise is _not_ to provide a definitive way of getting the answer, but instead to inspire you to try things.  There are _surely_ other ways to verify that the coin is fair.  Instead, I'm hoping you'll notice the general outline of what we were talking about:\n",
    "\n",
    "1. set up a null and alternative hypothesis - these are your expectations going into the experiment.\n",
    "2. set up your acceptance criterion for rejection of the null hypothesis.\n",
    "3. compare your experimental result against a known reference distribution.\n",
    "4. come to a conclusion _based_ on your experiment.\n",
    "\n",
    "It is far more important that you internalize this set of steps than it is that you internalize the above code.  If you think in this way, then things become much clearer about how you ought to proceed.  And then designing a new test should be relatively straight forward."
   ]
  },
  {
   "cell_type": "markdown",
   "metadata": {
    "slideshow": {
     "slide_type": "notes"
    }
   },
   "source": [
    "Before we leave this section let's discuss _why_ we've chosen to look at a coin flip.  The coin is actually just a _reference model_.  It's something simple and familiar so that we can understand a much larger and more interesting idea.  And it gives us a way of introducing the bernoulli distribution.  In reality there are lots of random \"processes\" which are governed by a binary choice between two possible states.  Here are just a few examples:\n",
    "\n",
    "1. The states of a bit in a computer - on and off, or 1 and 0\n",
    "2. The states of a turn style - locked and unlocked\n",
    "3. The states of a machine - working and broken\n",
    "\n",
    "All of these can be simulated by a random process, are memoryless and can flow from one state to another.  So probabilistically they are not dissimilar from coin flips.  "
   ]
  },
  {
   "cell_type": "markdown",
   "metadata": {
    "slideshow": {
     "slide_type": "slide"
    }
   },
   "source": [
    "## Dice"
   ]
  },
  {
   "cell_type": "markdown",
   "metadata": {
    "slideshow": {
     "slide_type": "notes"
    }
   },
   "source": [
    "Let's look at another reference model for a random process.  This too will follow a new distribution, allowing us to answer a broader range of questions, with potentially interesting implications.  This distribution will be the uniform discrete distribution.\n",
    "\n",
    "Let's consider a simple example:"
   ]
  },
  {
   "cell_type": "code",
   "execution_count": 14,
   "metadata": {
    "slideshow": {
     "slide_type": "slide"
    }
   },
   "outputs": [
    {
     "data": {
      "text/plain": [
       "[4, 9, 8, 4, 9, 1, 9, 2, 6, 8]"
      ]
     },
     "execution_count": 14,
     "metadata": {},
     "output_type": "execute_result"
    }
   ],
   "source": [
    "from scipy import stats\n",
    "\n",
    "[stats.randint(0, 10).rvs() for _ in range(10)]"
   ]
  },
  {
   "cell_type": "markdown",
   "metadata": {
    "slideshow": {
     "slide_type": "slide"
    }
   },
   "source": [
    "As you can see, the values are drawn from the range randomly, with the probability of each value being drawn as:\n",
    "\n",
    "$$\n",
    "\\frac{1}{b-a}\n",
    "$$\n",
    "\n",
    "Where:\n",
    "\n",
    "* b := the end of the range\n",
    "* a := the beginning of the range\n",
    "\n",
    "In our case this means each number has a $\\frac{1}{10}$ chance of being chosen.  Let's verify this with some quick code:"
   ]
  },
  {
   "cell_type": "code",
   "execution_count": 19,
   "metadata": {
    "slideshow": {
     "slide_type": "slide"
    }
   },
   "outputs": [
    {
     "data": {
      "text/plain": [
       "{0: 0.097,\n",
       " 1: 0.1014,\n",
       " 2: 0.0936,\n",
       " 3: 0.0998,\n",
       " 4: 0.0954,\n",
       " 5: 0.1024,\n",
       " 6: 0.1064,\n",
       " 7: 0.097,\n",
       " 8: 0.0966,\n",
       " 9: 0.1104}"
      ]
     },
     "execution_count": 19,
     "metadata": {},
     "output_type": "execute_result"
    }
   ],
   "source": [
    "dicter = {}.fromkeys(list(range(0,10)), 0)\n",
    "for value in stats.randint(0, 10).rvs(size=5000):\n",
    "    dicter[value] += 1\n",
    "\n",
    "for key in dicter:\n",
    "    dicter[key] /= 5000\n",
    "\n",
    "dicter"
   ]
  },
  {
   "cell_type": "markdown",
   "metadata": {
    "slideshow": {
     "slide_type": "notes"
    }
   },
   "source": [
    "As you can see there is about a $\\frac{1}{10}$ chance of being chosen. Now let's put our new distribution to good use!  Consider a game of dice.  Here we will have two dice, both of which will be six sided.  Your score will be determined based on what number you roll, which is the summation of the two dice.  If you have a higher score, you win!\n",
    "\n",
    "Let's say player one rolls 3, 4.  And player two rolls 4, 3.  In this case, no one wins.  This presents us with a question - how often do players tie?  We'll answer this with code and a simulation:"
   ]
  },
  {
   "cell_type": "code",
   "execution_count": 27,
   "metadata": {
    "slideshow": {
     "slide_type": "slide"
    }
   },
   "outputs": [
    {
     "data": {
      "text/plain": [
       "[<matplotlib.lines.Line2D at 0x7fd9fb938050>]"
      ]
     },
     "execution_count": 27,
     "metadata": {},
     "output_type": "execute_result"
    },
    {
     "data": {
      "image/png": "[encoded data removed]",
      "text/plain": [
       "<Figure size 432x288 with 1 Axes>"
      ]
     },
     "metadata": {
      "needs_background": "light"
     },
     "output_type": "display_data"
    }
   ],
   "source": [
    "from scipy import stats\n",
    "import matplotlib.pyplot as plt\n",
    "\n",
    "def simulate_dice(number_of_games):\n",
    "    simulations = []\n",
    "    for _ in range(number_of_games):\n",
    "        player_one = stats.randint(1, 7).rvs(size=2).sum()\n",
    "        player_two = stats.randint(1, 7).rvs(size=2).sum()\n",
    "        simulations.append(int(player_one == player_two))\n",
    "    return sum(simulations)/len(simulations)\n",
    "    \n",
    "probability_of_tie = [simulate_dice(num_games) for num_games in range(1, 2000, 50)]\n",
    "number_of_games = list(range(1, 2000, 50))\n",
    "plt.plot(number_of_games, probability_of_tie)"
   ]
  },
  {
   "cell_type": "markdown",
   "metadata": {
    "slideshow": {
     "slide_type": "notes"
    }
   },
   "source": [
    "As you can see the probability settles around $\\frac{11}{100}$.  Using this information, we could run a series of experiments to figure out if two players are playing with \"fair\" dice.  If after perhaps a thousand trials the number of ties should approach this $\\frac{11}{100}$ proportion.\n",
    "\n",
    "Next let's use partial information to deduce a third piece of information.  Suppose we know that:\n",
    "\n",
    "1. player one wins 35% of the time\n",
    "2. player one ties 13% of the time\n",
    "\n",
    "Can we conclude how often player two wins?  Yes!  Take a moment to see if you can deduce this for yourself.\n",
    "\n",
    "It turns out this answer is actually quiet trival to calculate:"
   ]
  },
  {
   "cell_type": "code",
   "execution_count": 20,
   "metadata": {
    "slideshow": {
     "slide_type": "slide"
    }
   },
   "outputs": [
    {
     "data": {
      "text/plain": [
       "0.52"
      ]
     },
     "execution_count": 20,
     "metadata": {},
     "output_type": "execute_result"
    }
   ],
   "source": [
    "player_one_wins = 0.35\n",
    "player_one_ties = 0.13\n",
    "1 - (player_one_wins + player_one_ties)"
   ]
  },
  {
   "cell_type": "markdown",
   "metadata": {
    "slideshow": {
     "slide_type": "notes"
    }
   },
   "source": [
    "Here the \"1\" represents the entire sample space.  We can decompose this space into one of three outcomes:\n",
    "\n",
    "1. player one wins\n",
    "2. player two wins\n",
    "3. players one and two tie\n",
    "\n",
    "Since there is no third option, the probability of these three events _must_ sum to 1.\n",
    "\n",
    "This means, if we are given enough partial information about the \"space of events\", we can deduce the rest of the probabilities of the space of events.  Next let's introduce some new probability notions.\n",
    "\n",
    "For this we'll need to formally introduce a new term:"
   ]
  },
  {
   "cell_type": "markdown",
   "metadata": {
    "slideshow": {
     "slide_type": "notes"
    }
   },
   "source": [
    "## Event Space\n",
    "\n",
    "The event space full describes a space of interest.  The sum of all events in the event space is 1.  Also the probability of all events are associated with a number between 0 and 1.\n",
    "\n",
    "We've actually been looking at event spaces already.  But having the formal definition will be helpful for what we are about to discuss.\n",
    "\n",
    "Consider two events:\n",
    "\n",
    "1. Rolling a 6 with one die.\n",
    "2. Rolling an odd number with the other die.\n",
    "\n",
    "The events can be written with the language of probability as:\n",
    "\n",
    "$$\n",
    "E_{1} = P(6)\n",
    "$$\n",
    "\n",
    "$$\n",
    "E_{2} = P(1 \\cup 3 \\cup 5)\n",
    "$$\n",
    "\n",
    "Let's look at how to simulate this in code:"
   ]
  },
  {
   "cell_type": "code",
   "execution_count": 36,
   "metadata": {
    "slideshow": {
     "slide_type": "slide"
    }
   },
   "outputs": [
    {
     "data": {
      "text/plain": [
       "[<matplotlib.lines.Line2D at 0x7fd9f919a690>]"
      ]
     },
     "execution_count": 36,
     "metadata": {},
     "output_type": "execute_result"
    },
    {
     "data": {
      "image/png": "[encoded data removed]",
      "text/plain": [
       "<Figure size 432x288 with 1 Axes>"
      ]
     },
     "metadata": {
      "needs_background": "light"
     },
     "output_type": "display_data"
    }
   ],
   "source": [
    "from scipy import stats\n",
    "import matplotlib.pyplot as plt\n",
    "\n",
    "def simulate_dice(number_of_games):\n",
    "    simulations = []\n",
    "    for _ in range(number_of_games):\n",
    "        dice = stats.randint(1, 7).rvs(size=2)\n",
    "        if (dice[0] == 6) and (dice[1] % 2 == 1):\n",
    "            simulations.append(1)\n",
    "        elif (dice[1] == 6) and (dice[0] % 2 == 1):\n",
    "            simulations.append(1)\n",
    "        else:\n",
    "            simulations.append(0)\n",
    "    return sum(simulations)/len(simulations)\n",
    "\n",
    "probability_of_both_events = [simulate_dice(num_games) for num_games in range(1, 2000, 50)]\n",
    "number_of_games = list(range(1, 2000, 50))\n",
    "plt.plot(number_of_games, probability_of_both_events)"
   ]
  },
  {
   "cell_type": "markdown",
   "metadata": {
    "slideshow": {
     "slide_type": "notes"
    }
   },
   "source": [
    "As you can see around 16% of the time both cases will be true.  But this is the only way we could figure this out?\n",
    "\n",
    "We could also simply look at the space of probability!"
   ]
  },
  {
   "cell_type": "code",
   "execution_count": 38,
   "metadata": {
    "slideshow": {
     "slide_type": "slide"
    }
   },
   "outputs": [
    {
     "data": {
      "text/plain": [
       "(0.16666666666666666, 0.16)"
      ]
     },
     "execution_count": 38,
     "metadata": {},
     "output_type": "execute_result"
    }
   ],
   "source": [
    "probability_of_rolling_a_6 = 1/6\n",
    "probability_of_rolling_an_odd = 1/2\n",
    "2 * (probability_of_rolling_a_6 * probability_of_rolling_an_odd), 0.16"
   ]
  },
  {
   "cell_type": "markdown",
   "metadata": {
    "slideshow": {
     "slide_type": "notes"
    }
   },
   "source": [
    "How did we come up with our calculation?  First we consider the probability of getting a \"6\", which is:\n",
    "\n",
    "$$\n",
    "\\frac{1}{6}\n",
    "$$\n",
    "\n",
    "Then we consider the probability of rolling an odd, which is:\n",
    "\n",
    "$$\n",
    "\\frac{1}{2}\n",
    "$$\n",
    "\n",
    "Since we didn't specify an order, then we multiply by two, because _either_ we can get (6, odd number) _or_ (odd number, 6).  We could also solve this by looking at all the pairs that satisfy our criteria _against_ all those that don't:"
   ]
  },
  {
   "cell_type": "code",
   "execution_count": 45,
   "metadata": {
    "slideshow": {
     "slide_type": "slide"
    }
   },
   "outputs": [
    {
     "data": {
      "text/plain": [
       "0.16666666666666666"
      ]
     },
     "execution_count": 45,
     "metadata": {},
     "output_type": "execute_result"
    }
   ],
   "source": [
    "from itertools import product\n",
    "\n",
    "space_of_events = list(product(\n",
    "    list(range(1, 7)), \n",
    "    list(range(1, 7))\n",
    "))\n",
    "\n",
    "count = 0\n",
    "for event in space_of_events:\n",
    "    if (event[0] == 6) and (event[1] % 2 == 1):\n",
    "        count += 1\n",
    "    elif (event[1] == 6) and (event[0] % 2 == 1):\n",
    "        count += 1\n",
    "count/len(space_of_events)"
   ]
  },
  {
   "cell_type": "markdown",
   "metadata": {
    "slideshow": {
     "slide_type": "notes"
    }
   },
   "source": [
    "We get the same answer!!!  And we didn't even need to run thousands of simulations!!!  This means we can \"quickly\" get to answers when our event space is well defined.  Before we leave this example, let's touch on one last point.  How did we know we could freely multiply our two probabilities together?  We could do this because our two events were independent - what we rolled with one die doesn't effect how the other die will turn out.  \n",
    "\n",
    "If our first event _does_ effect our second, we need to consider the _conditional_ probability of our first event on our second when doing the calculation."
   ]
  },
  {
   "cell_type": "markdown",
   "metadata": {
    "slideshow": {
     "slide_type": "notes"
    }
   },
   "source": [
    "## Conditional Probability\n",
    "\n",
    "Conditional probability allows for us to come up with significantly more scenarios, after all many things _depend_ on one another which is what a conditional probability represents.  In fact, if you are confident in your relationships you can build _statistical models_ of reality with not much more than conditional probability.  An example of such a model is the probabilistic graphical model, which we will look at in more detail later (not in this chapter).  For the curious I recommend checking out:\n",
    "\n",
    "* https://github.com/pgmpy/pgmpy\n",
    "* https://en.wikipedia.org/wiki/Graphical_model\n",
    "\n",
    "\n",
    "Unfortunately the game of dice doesn't really express the notion of \"conditionality\" very well.  This is because there is no \"state\" from roll to roll.  To address this, we'll introduce a new game, high card wins."
   ]
  },
  {
   "cell_type": "markdown",
   "metadata": {
    "slideshow": {
     "slide_type": "notes"
    }
   },
   "source": [
    "## High Card Wins\n",
    "\n",
    "This game is exactly what it sounds like, two players draw cards, the highest card wins.  The method for deciding the game is as follows:\n",
    "\n",
    "2 is the lowest card.  The cards proceed in order of value up till 10.  Then the ordering is Jack, Queen, King, Ace, where Ace is the highest.  If two players draw the same value card a second card is drawn.  If the second card is the same, the process repeats until one player draws a higher card.\n",
    "\n",
    "Now let's figure out the probability of winning, given what the first player drew:\n",
    "\n",
    "Let's assume for this problem that we are one of the players, specifically the player to draw second.  Now let's assume that player one, the player who drew first, drew the 6 of clubs.  What is the probability that you will draw a higher card and win the game?"
   ]
  },
  {
   "cell_type": "markdown",
   "metadata": {
    "slideshow": {
     "slide_type": "notes"
    }
   },
   "source": [
    "This problem decomposes into two events:\n",
    "\n",
    "$ E_{1}$ := 6 of clubs\n",
    "\n",
    "$ E_{2}$ := winning the game\n",
    "\n",
    "So the probability we are interested in is:\n",
    "\n",
    "$$ P(\\textrm{winning the game} | \\textrm{6 of clubs}) $$\n",
    "\n",
    "This reads - \"the probability of winning the game _given_ 6 of clubs was drawn first\"."
   ]
  },
  {
   "cell_type": "markdown",
   "metadata": {
    "slideshow": {
     "slide_type": "notes"
    }
   },
   "source": [
    "So how do we calculate this?\n",
    "\n",
    "Well the generic version of the conditional probability is:\n",
    "\n",
    "$$ P(A | B) = \\frac{P(A \\cap B)}{P(B)} $$\n",
    "\n",
    "So first, let's calculate $P( \\textrm{6 of clubs})$, fortunately this is quiet easy:\n",
    "\n",
    "$$ P(\\textrm{6 of clubs}) = \\frac{1}{52} $$\n",
    "\n",
    "Now for the tricky part: \n",
    "\n",
    "$$ P(\\textrm{winning the game} \\cap \\textrm{6 of clubs}) $$\n",
    "\n",
    "First let's figure out the probability of getting a card that's higher than the 6 of clubs.  For that we need to count the number of cards that will beat a 6:\n",
    "\n",
    "7, 8, 9, 10, Jack, Queen, King, Ace - 8 in total.\n",
    "\n",
    "So we need to do \n",
    "\n",
    "$$ 8 * 4 = 32 $$\n",
    "\n",
    "This is because there are _four_ cards of each number, one for each suit.  Next we need to think about our denominator:\n",
    "\n",
    "Because one card has already been drawn, in this case, the 6 of clubs, we don't have 52 possible choices anymore.  Instead there are 51 choices!  This is because of the \"state\" of the deck.  The state is it's current make up or set of properties at the time of the event.  This idea of state will generalize to any \"system\" or process that is either finite or dependent upon the past.  Hence the need for the complication of conditional probability, it is a natural consequence of having state or a dependence relationship.\n",
    "\n",
    "In any event, now we have our two probabilities:\n",
    "\n",
    "$$ \\frac{\\frac{32}{51} * \\frac{1}{52}}{\\frac{1}{52}} = \\frac{\\frac{32}{51*52}}{\\frac{1}{52}} = \\frac{32}{51*52} * 52 = \\frac{32}{51}$$\n",
    "\n",
    "Note: I included the denominator for ease of calculation.\n",
    "\n",
    "\n"
   ]
  },
  {
   "cell_type": "markdown",
   "metadata": {
    "slideshow": {
     "slide_type": "notes"
    }
   },
   "source": [
    "## Bayes Theorem\n",
    "\n",
    "The conditional probability it turns out is _incredibly_ useful.  The ability to introduce state gives us a very powerful tool for analyzing and understanding the world.  This is because many processes are inherently \"stateful\", as in having state.  One example formula that leverages this is bayes theorem:\n",
    "\n",
    "$$ P(A | B) =  \\frac{P(B | A) * P(A)}{P(B)} $$\n",
    "\n",
    "You may think Bayes' theorem doesn't seem that significant and in fact, Bayes' would likely have agreed with you.  He actually came up with it and then disgarded it for _other work_.  It was only recovered years later by his son, who upon going through his belongings after his death, discovered it much by chance.  Which is _insane_.  If this fact doesn't surprise you, google Bayes Theorem or Bayesian Data Analysis and see how much _stuff_ comes up.  It's a lot.  The \"Bayesian\" way of thinking, derived from this theorem accounts for a significant port of work in the academic and business world.  In fact, armed with little more than a naive bayesian algorithm, like the one above, the right data, modest means and the right experiences, one needs little else to accomplish almost anything you might like.  \n",
    "\n",
    "At the heart of this algorithm is one specific thing, the ability to repeatedly run experiments, and then _learn_ from them.  The ability to learn from repeated experiments is what I mean when I say the right data.  Starting off with decent experience is also incredibly helpful as we will see.  And the final thing we need is the ability to repeat the experiment, that is the means.  Of course, it's also important that our experiment _is_ truly repeatable.\n",
    "\n",
    "Many social scientists fall into this trap when they try to carry out experiments with respect to people.  People unfortunately are not really \"repeatable\" in most senses.  In certain circumstances you can define an experiment.  Perhaps for discrete choices that need to be made repeatedly by individuals.  But whenever you bring preferences or choice into the equation, the only real truth is that people will surprise you.  For this reason, I don't recommend using bayes theorem with respect to people, except in _very_ specific circumstances.  I will try to find space to cover ethical experimental design in a later chapter.  But no guarantees.\n",
    "\n",
    "In any event, let's look at an example of how we might use Bayes Theorem in practice."
   ]
  },
  {
   "cell_type": "markdown",
   "metadata": {
    "slideshow": {
     "slide_type": "notes"
    }
   },
   "source": [
    "## You Might Have COVID 19\n",
    "\n",
    "Suppose you get tested for COVID 19 and the test comes back positive, should you believe the results?\n",
    "\n",
    "Here we must define first our conditional event and then the associated probabilities:\n",
    "\n",
    "$$ P(A | B) = P( \\textrm{you have COVID 19} | \\textrm{you test positive for COVID 19}) $$\n",
    "\n",
    "Now we need to define our other known values:\n",
    "\n",
    "* P(A) - this is the probability you _believe_ have COVID 19\n",
    "\n",
    "$$ P(A) = 0.1 $$\n",
    "\n",
    "Let's assume that you _think_ you probably don't have covid, going into the test.\n",
    "\n",
    "Let's define $P(B | A)$:\n",
    "\n",
    "* P(B | A) - this is the probability that given you have COVID 19, you test positive for it.  This is the \"true\" positive rate.  Based on this:\n",
    "\n",
    "https://medical.mit.edu/covid-19-updates/2020/06/how-accurate-diagnostic-tests-covid-19 let's assume that:\n",
    "\n",
    "$$ P(B | A) = 0.98 $$\n",
    "\n",
    "They don't specify the true positive rate so we are taking a guess.  \n"
   ]
  },
  {
   "cell_type": "markdown",
   "metadata": {
    "slideshow": {
     "slide_type": "notes"
    }
   },
   "source": [
    "Finally, let's define $P(B)$:\n",
    "\n",
    "* P(B) - this is the probability you test positive for COVID 19\n",
    "\n",
    "We actually have all we need to get P(B) from the above information:\n",
    "\n",
    "$$ P(B) = P(A)*P(B | A) + P(~A)*P(B | ~A) $$\n",
    "\n",
    "That is,\n",
    "\n",
    "* P(A)*P(B | A) - The probability you believe you have covid, times the probability that the test tells you have covid, given that you have covid\n",
    "\n",
    "PLUS\n",
    "\n",
    "* P(~A)*P(B | ~A) - The probability you believe you don't have covid, times the probability that the test tells you have covid, given that you don't have covid.\n",
    "\n",
    "The only thing we haven't defined yet is\n",
    "\n",
    "* P(B | ~A) - the probability that the test is positive but you _don't_ have covid.  Since the article says this is where the test is the worst we'll say it's like 0.4\n",
    "\n",
    "$$ P(B) = 0.1*0.98 + 0.9*0.4 = 0.098 + 0.36 = 0.458 $$\n",
    "\n",
    "In any event, now we just calculate our probability:\n",
    "\n",
    "$$ P(A | B) = \\frac{0.98 * 0.1}{0.458} = \\frac{0.098}{0.458} = 0.21 $$\n",
    "\n",
    "So _even_ if there is only a 10% chance that you believe you have the virus, the probability of the test saying you do updates that information as you'd expect.  So now we are worried that we _actually_ might have the virus.  So we get another test with our updated expectations and still get a positive:\n",
    "\n",
    "$$ P(B) = 0.21*0.98 + 0.79*0.4 = 0.20579 + 0.316 = 0.52179 $$\n",
    "\n",
    "$$ P(A | B) = \\frac{0.98 * 0.21}{0.52179} = \\frac{0.20579}{0.52179} = 0.3944 $$\n",
    "\n",
    "As you can see, if we continue to get positive tests, our probability continues to increase.  Now let's say we go for a third test and this time it comes back negative.  How might this change our expectations:"
   ]
  },
  {
   "cell_type": "markdown",
   "metadata": {
    "slideshow": {
     "slide_type": "notes"
    }
   },
   "source": [
    "Well first off, we need some new numbers:\n",
    "\n",
    "1. P(A | ~B) is what we are calculating now.  Partially because we've already had two tests that say we have COVID, but also because now we are testing a different result - what's the chances we have covid, given that we test negative, denoted by ~B.  This may seem like an abuse of notation, but it is in fact _very important_.  We are specifically saying, this is the case we in fact have covid 19 and test negative for it.  Specifically this is the rate of a _false negative_.\n",
    "\n",
    "\n",
    "2. We need P(~B | A), which we assume to be quiet low, say 0.2.\n",
    "\n",
    "\n",
    "3. Now we recall that our current value of P(A) = 0.3944\n",
    "\n",
    "\n",
    "4. We also will need to decide on what P(~B | ~A) is, that is the true negative rate.  Let's assume this is 0.6 since the article says it's low.\n",
    "\n",
    "\n",
    "5. We calculate P(~B):\n",
    "\n",
    "$$ P(\\sim B) = P(A)*P(\\sim B | A) + P( \\sim A)*P(\\sim B | \\sim A) $$\n",
    "\n",
    "$$ P(\\sim B) = 0.3944*0.2 + 0.60558*0.6 = 0.4422 $$\n",
    "\n",
    "\n",
    "6. We calculate our final probability as:\n",
    "\n",
    "$$ P(A | \\sim B) =  \\frac{P(\\sim B | A) * P(A)}{P(\\sim B)} $$\n",
    "\n",
    "$$ P(A | \\sim B) = \\frac{0.2 * 0.3944}{0.4422} = 0.1783 $$\n",
    "\n",
    "As you can see, our expectation falls!  So in this way we can get closer and further from a positive diagnosis, based on what a test says, dependent directly upon the relability of the test.\n",
    "\n",
    "Well, we've done a lot of math.  Let's make use of bayes theorem to do some prediction!\n",
    "\n",
    "What we'll do here is a very simple set up:\n",
    "\n",
    "Assume that we've written a test for a small piece of code.  The test execute in one of four ways:\n",
    "\n",
    "1. True positive - the test should pass and it does\n",
    "2. True negative - the test should fail and it does\n",
    "3. False negative - the test shouldn't fail and it does\n",
    "4. False positive - the test should faila nd it doesn't\n",
    "\n",
    "The reason that there are four states is because of _human error_.  We can't be sure that we coded the test correctly.  "
   ]
  },
  {
   "cell_type": "code",
   "execution_count": 1,
   "metadata": {
    "slideshow": {
     "slide_type": "slide"
    }
   },
   "outputs": [],
   "source": [
    "def naive_bayes(pr_b_given_a, pr_a, pr_not_a, pr_b_given_not_a):\n",
    "    numerator = (pr_b_given_a*pr_a)\n",
    "    denominator = (pr_a*pr_b_given_a) + (pr_not_a*pr_b_given_not_a)\n",
    "    return numerator/denominator"
   ]
  },
  {
   "cell_type": "markdown",
   "metadata": {
    "slideshow": {
     "slide_type": "slide"
    }
   },
   "source": [
    "Now let's look at some simulations of results.  We'll draw from a bernoulli random variable, because we can only return one of two states: True or False.\n",
    "\n",
    "Furthermore, we need to know:\n",
    "\n",
    "* P(A)\n",
    "* P(B | A)\n",
    "* P(B | ~A)\n",
    "\n",
    "So let's start off with high confidence, sort of:\n",
    "\n",
    "* P(A) = 0.9 - the probability we believe our tests should pass\n",
    "* P(B | A) = 0.8 - the probability our test passes given that it should.\n",
    "* P(B | ~A) = 0.6 - the probability our test passes given that it shouldn't.  \n",
    "* P(~B | A) = 0.4 - the probability our test fails given that it should.\n",
    "* P(~B | ~A) = 0.2 - the probabilty our test fails given that it shouldn't.\n",
    "\n",
    "Finally, we need to know what the true probability of passing is, so we can simulate the data, so we'll say it's 70%.  Okay we are ready to code this!"
   ]
  },
  {
   "cell_type": "code",
   "execution_count": 6,
   "metadata": {
    "slideshow": {
     "slide_type": "slide"
    }
   },
   "outputs": [
    {
     "data": {
      "text/plain": [
       "[<matplotlib.lines.Line2D at 0x7fb30fc405d0>]"
      ]
     },
     "execution_count": 6,
     "metadata": {},
     "output_type": "execute_result"
    },
    {
     "data": {
      "image/png": "[encoded data removed]",
      "text/plain": [
       "<Figure size 432x288 with 1 Axes>"
      ]
     },
     "metadata": {
      "needs_background": "light"
     },
     "output_type": "display_data"
    }
   ],
   "source": [
    "import matplotlib.pyplot as plt\n",
    "from scipy import stats\n",
    "\n",
    "def simulate_trials(num_trials, probability=0.7):\n",
    "    pr_a = 0.9\n",
    "    pr_not_a = 0.1\n",
    "    pr_b_given_a = 0.8\n",
    "    pr_b_given_not_a = 0.6\n",
    "    pr_not_b_given_a = 0.4\n",
    "    pr_not_b_given_not_a = 0.2\n",
    "    \n",
    "    expectations = []\n",
    "    for _ in range(num_trials):\n",
    "        if stats.bernoulli.rvs(probability) == 1:\n",
    "            pr_a = naive_bayes(\n",
    "                pr_b_given_a, pr_a, \n",
    "                pr_not_a, pr_b_given_not_a\n",
    "            )\n",
    "        else:\n",
    "            pr_a = naive_bayes(\n",
    "                pr_not_b_given_a, pr_a,\n",
    "                pr_not_a, pr_not_b_given_not_a\n",
    "            )\n",
    "        expectations.append(pr_a)\n",
    "    return expectations\n",
    "\n",
    "expectations = simulate_trials(50)\n",
    "plt.plot(list(range(1, 51)), expectations)"
   ]
  },
  {
   "cell_type": "markdown",
   "metadata": {
    "slideshow": {
     "slide_type": "notes"
    }
   },
   "source": [
    "as you can see we get a \"distribution\" of results.  For each trial we get a slight different probability, so we can see how \"naive bayes\" thinks about updating, given that our test either succeeds or fails.  Looks like we oscilate between 0.925 and 0.95 confidence in our test.  What happens if the likelihood of failure increases?"
   ]
  },
  {
   "cell_type": "code",
   "execution_count": 7,
   "metadata": {
    "slideshow": {
     "slide_type": "slide"
    }
   },
   "outputs": [
    {
     "data": {
      "text/plain": [
       "[<matplotlib.lines.Line2D at 0x7fb30fbb2990>]"
      ]
     },
     "execution_count": 7,
     "metadata": {},
     "output_type": "execute_result"
    },
    {
     "data": {
      "image/png": "[encoded data removed]",
      "text/plain": [
       "<Figure size 432x288 with 1 Axes>"
      ]
     },
     "metadata": {
      "needs_background": "light"
     },
     "output_type": "display_data"
    }
   ],
   "source": [
    "expectations = simulate_trials(50, probability=0.5)\n",
    "plt.plot(list(range(1, 51)), expectations)"
   ]
  },
  {
   "cell_type": "markdown",
   "metadata": {
    "slideshow": {
     "slide_type": "notes"
    }
   },
   "source": [
    "Looks like our confidence in the test we've written won't allow us to break out of our tight band, _even_ when we are met with stronger evidence.  What happens if we get _a lot_ of evidence that our test is failing:"
   ]
  },
  {
   "cell_type": "code",
   "execution_count": 20,
   "metadata": {
    "slideshow": {
     "slide_type": "slide"
    }
   },
   "outputs": [
    {
     "data": {
      "text/plain": [
       "[<matplotlib.lines.Line2D at 0x7fb30fa89bd0>]"
      ]
     },
     "execution_count": 20,
     "metadata": {},
     "output_type": "execute_result"
    },
    {
     "data": {
      "image/png": "[encoded data removed]",
      "text/plain": [
       "<Figure size 432x288 with 1 Axes>"
      ]
     },
     "metadata": {
      "needs_background": "light"
     },
     "output_type": "display_data"
    }
   ],
   "source": [
    "expectations = simulate_trials(50, probability=0.05)\n",
    "plt.plot(list(range(1, 51)), expectations)"
   ]
  },
  {
   "cell_type": "markdown",
   "metadata": {
    "slideshow": {
     "slide_type": "notes"
    }
   },
   "source": [
    "It looks like our confidence, won't allow that probability to fall.  Which makes sense, if we _really_ believe that our test will be correct, then it won't matter how often it fails, it _must_ be the code.\n",
    "\n",
    "In any event, this ends our detour into probabilistical thinking.  Now hopefully we have a good handle on how to think about probabilities and their use.  Let's put them to use to write some of the standard tests from scratch!"
   ]
  },
  {
   "cell_type": "markdown",
   "metadata": {
    "slideshow": {
     "slide_type": "slide"
    }
   },
   "source": [
    "# Writing Our Own Statistical Tests"
   ]
  },
  {
   "cell_type": "markdown",
   "metadata": {
    "slideshow": {
     "slide_type": "notes"
    }
   },
   "source": [
    "Now that we know how to set up an experiment, let's come up with a set of statistical tools to help us test hypotheses in general, without having to calculate the specifics of the test every time.  There are few central concepts needed to implement hypothesis tests.  The first of these is probability and the second is the idea of a p-value.  Since we've gone over probability in detail above, let's focus on this second concept.  The _technical_ definition of a p-value is \"the probability of seeing a test statistic as extreme as the one we found\".  You may think, this means the p-value is a probability.  And the real answer is, sort of.\n",
    "\n",
    "Another more straight forward definition for p-value is: \n",
    "\n",
    "A p-value is the probability that random chance generated the data, or something else that is equally likely or rarer.\n",
    "\n",
    "This definition really only becomes clear in the case where the probability under consideration is discrete.  When working with discrete probabilities like flipping a coin we can make statements like:\n",
    "\n",
    "$$ P(H) = 0.5 $$\n",
    "\n",
    "If we are working with continuous data, we can't account for specific cases, so we always make statements like:\n",
    "\n",
    "$$ P(x < 1) = 0.275 $$\n",
    "\n",
    "Since we are always working over an _interval_ with continuous probabilities, the difference between a p-value and a probability appears difficult to parse.  \n",
    "\n",
    "Let's see how we can calculate a p-value for the examples we provided above.  Specifically let's look at flipping 3 fair coins in a row.\n",
    "\n",
    "Now let's say we want the p-value of 2 heads:\n",
    "\n",
    "First we'll need our total event space:"
   ]
  },
  {
   "cell_type": "code",
   "execution_count": 1,
   "metadata": {},
   "outputs": [],
   "source": [
    "event_space = [\n",
    "    \"HHH\", \"HHT\", \"HTT\", \"TTT\",\n",
    "    \"THH\", \"TTH\", \"HTH\", \"THT\"\n",
    "]"
   ]
  },
  {
   "cell_type": "markdown",
   "metadata": {},
   "source": [
    "Next we will need to calculate the probability of the event, divided by the number of events in the event space:"
   ]
  },
  {
   "cell_type": "code",
   "execution_count": 2,
   "metadata": {},
   "outputs": [
    {
     "data": {
      "text/plain": [
       "0.375"
      ]
     },
     "execution_count": 2,
     "metadata": {},
     "output_type": "execute_result"
    }
   ],
   "source": [
    "event_of_interest = [elem for elem in event_space if \"HH\" in elem]\n",
    "\n",
    "len(event_of_interest)/len(event_space)"
   ]
  },
  {
   "cell_type": "markdown",
   "metadata": {},
   "source": [
    "Finally, we need to add all the events that have probability equal to or _less than_ the probability we are interested in:"
   ]
  },
  {
   "cell_type": "code",
   "execution_count": 4,
   "metadata": {},
   "outputs": [
    {
     "data": {
      "text/plain": [
       "1.0"
      ]
     },
     "execution_count": 4,
     "metadata": {},
     "output_type": "execute_result"
    }
   ],
   "source": [
    "events_of_interest = [\"HH\", \"TT\", \"TTT\", \"HHH\"]\n",
    "\n",
    "p_value = 0\n",
    "for event in events_of_interest:\n",
    "    event_of_interest = [elem for elem in event_space if event in elem]\n",
    "    p_value += len(event_of_interest)/len(event_space)\n",
    "    \n",
    "p_value"
   ]
  },
  {
   "cell_type": "markdown",
   "metadata": {},
   "source": [
    "This tells us it is _incredibly_ unlikely for random chance to have generated the data.  Now let's move onto implementing hypothesis tests.  Each of these tests will rely on _continuous_ distributions."
   ]
  },
  {
   "cell_type": "markdown",
   "metadata": {
    "slideshow": {
     "slide_type": "slide"
    }
   },
   "source": [
    "## Implementing T-Tests"
   ]
  },
  {
   "cell_type": "markdown",
   "metadata": {
    "slideshow": {
     "slide_type": "notes"
    }
   },
   "source": [
    "There are a number of t-tests.  For each t-test we will be using a worked example to illustrate how to use our implementation.  Technically any test is a t-test if the test statistic follows a t-distribution."
   ]
  },
  {
   "cell_type": "markdown",
   "metadata": {
    "slideshow": {
     "slide_type": "slide"
    }
   },
   "source": [
    "### Example One - Designing a good enough pilot cockpit"
   ]
  },
  {
   "cell_type": "markdown",
   "metadata": {
    "slideshow": {
     "slide_type": "notes"
    }
   },
   "source": [
    "Let's say that you are a military contractor and you need to come up with a cockpit for pilots.  If the cockpit is too big, then the plane will not be economical and cost way too much.  If the cockpit is too small then the plane is useless and won't work for enough pilots.  So figuring out what a good size cockpit is, is imperative.\n",
    "\n",
    "Additionally, prior to the current leadership, this problem was solved by selecting pilots that were of a certain maximum height and build.  However, a study from a government think tank showed that pilot effectiveness is partially tied to height because athletes tend to be taller, and have better hand eye coordination.  Therefore the old constraints are being thrown out and all future candidate batches are being tested for core competency on a simulator and then the top 10% of pilots are chosen.\n",
    "\n",
    "You have been supplied with the heights of the candidates that passed as well as the population of heights for current pilots.  Do we need to design a plane design because we need a new cockpit?"
   ]
  },
  {
   "cell_type": "markdown",
   "metadata": {
    "slideshow": {
     "slide_type": "notes"
    }
   },
   "source": [
    "### One Sample T-Test\n",
    "\n",
    "The one sample t-test is perfect for this problem, assuming both populations are normally distributed.  The way all hypothesis tests are done is first you calculate a test statisitic and then compare it against a set of critical values for some reference distribution.  In our case, we will be looking at a t-value as our test statistic and comparing this against critical values from the t-distribution.\n",
    "\n",
    "The formula for calculating the t-value is:\n",
    "\n",
    "$$ \\frac{\\bar{x} - \\mu}{s.e.} $$\n",
    "\n",
    "Where:\n",
    "\n",
    "* s.e. is standard error:= $\\frac{\\bar{\\sigma}}{\\sqrt{n}} $\n",
    "* $ \\bar{x} $:= sample mean\n",
    "* $ \\mu $ := population mean\n",
    "\n",
    "Next we pass the calculated t-value from the above equation into the cumulative density function for the t-distribution along with the degrees of freedom, defined as $ n-1 $.  This gives us the p-value.  Note that the p-value is the same value we calculated above in the example - it is the probability of seeing a test statistic as extreme as the one we found.  So if our p-value is very low, we can confidently reject the null hypothesis, in this case, that the sample and population mean's are close.\n",
    "\n",
    "You may be wondering, why do we make use of the cumulative density function?  Upon inspection of its definition, the answer should become obvious:\n",
    "\n",
    "The cumulative density function \"accumulates\" the density of the probability up until that point.  Mathematically:\n",
    "\n",
    "$$ \\sum_{i=0}^{i=k} p_{i} $$\n",
    "\n",
    "for some value k.  If k = $ \\infty $ then\n",
    "\n",
    "$$ \\sum_{i=0}^{i=k} p_{i} = 1 $$\n",
    "\n",
    "From this we see that our CDF is the density of the probability up until the t-value.  Therefore, by plugging the t-value for k, we get the total probability up until that point.  By taking 1 - CDF up to k=t-value, we are able to recover how much probability is \"left over\" such that our null hypothesis is true."
   ]
  },
  {
   "cell_type": "code",
   "execution_count": 99,
   "metadata": {
    "slideshow": {
     "slide_type": "slide"
    }
   },
   "outputs": [],
   "source": [
    "import numpy as np\n",
    "from scipy import stats\n",
    "\n",
    "def calculate_t_value(sample, population_mean):\n",
    "    standard_error = np.std(sample)/np.sqrt(len(sample))\n",
    "    sample_mean = np.mean(sample)\n",
    "    return (sample_mean - population_mean)/standard_error\n",
    "\n",
    "def compare_with_critical_values(t_value, df):\n",
    "    return (1 - stats.t.cdf(t_value, df))\n"
   ]
  },
  {
   "cell_type": "markdown",
   "metadata": {
    "slideshow": {
     "slide_type": "slide"
    }
   },
   "source": [
    "We'll suppose we are handed the following information:\n",
    "\n",
    "* passing cadets with an average height of 68 inches (a little less than 6 ft) and a standard deviation of 10 inches\n",
    "* the current average height of pilots is 60 inches (5 ft even)"
   ]
  },
  {
   "cell_type": "code",
   "execution_count": 100,
   "metadata": {
    "slideshow": {
     "slide_type": "slide"
    }
   },
   "outputs": [
    {
     "data": {
      "text/plain": [
       "0.0"
      ]
     },
     "execution_count": 100,
     "metadata": {},
     "output_type": "execute_result"
    }
   ],
   "source": [
    "passing_cadets = np.random.normal(68, 10, size=1000)\n",
    "average_height_of_pilots_now = 60\n",
    "t_value = calculate_t_value(passing_cadets, average_height_of_pilots_now)\n",
    "compare_with_critical_values(t_value, len(passing_cadets)-1)"
   ]
  },
  {
   "cell_type": "markdown",
   "metadata": {
    "slideshow": {
     "slide_type": "notes"
    }
   },
   "source": [
    "According to this, we we will need to design a new cockpit for pilots moving forward.  Just to see, let's figure out what a close enough height for the cadets would have been:"
   ]
  },
  {
   "cell_type": "code",
   "execution_count": 174,
   "metadata": {
    "slideshow": {
     "slide_type": "slide"
    }
   },
   "outputs": [
    {
     "data": {
      "text/plain": [
       "0.3818950090372383"
      ]
     },
     "execution_count": 174,
     "metadata": {},
     "output_type": "execute_result"
    }
   ],
   "source": [
    "passing_cadets = np.random.normal(60.4, 10, size=1000)\n",
    "average_height_of_pilots_now = 60\n",
    "t_value = calculate_t_value(passing_cadets, average_height_of_pilots_now)\n",
    "compare_with_critical_values(t_value, len(passing_cadets)-1)"
   ]
  },
  {
   "cell_type": "markdown",
   "metadata": {
    "slideshow": {
     "slide_type": "notes"
    }
   },
   "source": [
    "In the interest of completeness, this hypothesis test doesn't always pass.  This is because the sample matters.  But it passes at least sometimes.  That is, the pvalue is above the 0.05 threshold sometimes."
   ]
  },
  {
   "cell_type": "markdown",
   "metadata": {
    "slideshow": {
     "slide_type": "notes"
    }
   },
   "source": [
    "## Example Two - Replicating The Original Study\n",
    "\n",
    "Since we've already looked at this example a bit, we'll continue forward with it to answer another question.  Now that you've found that you'll likely need to redesign all the cockpits for the various planes, it's time to do some more digging.  We should make absolutely certain that the original study, which presented this notion about athletic ability and it's tie to being an effective fighter pilot.  Is it really true that those who scored the highest are taller?  Or are skills randomly distributed?  This question is important, because it will have an effect on your recommendation for how big or how varied the cockpit sizes will be.\n",
    "\n",
    "For this we will be looking at three seperate bases that are now administering tests to a range of candidates.  We will look at the heights for the top ten percent of each cadet class.  Specifically, we will ask the null hypothesis, of\n",
    "\n",
    "$$ \\mu_{a} = \\mu_{b} = \\mu_{c} $$\n",
    "\n",
    "where $\\mu_{i}$ = mean of base $i$\n"
   ]
  },
  {
   "cell_type": "markdown",
   "metadata": {
    "slideshow": {
     "slide_type": "notes"
    }
   },
   "source": [
    "## F-Test\n",
    "\n",
    "For this we are going to need an F-test which looks at the ratio of explained variance to unexplained variance and compares this with the cumulative density function of an f-distribution.\n",
    "\n",
    "The formula for explained variance is:\n",
    "\n",
    "$$ \\sum_{i=1}^{K} \\frac{n_{i} (\\bar{Y}_{i} - \\bar{Y})^{2}}{K-1} $$\n",
    "\n",
    "where $ \\bar{Y_{i}}$ is the sample mean and $ \\bar{Y} $ is the population mean.\n",
    "\n",
    "We can also think of explained variance as the between group variance.\n",
    "\n",
    "The formula for unexplained variance is:\n",
    "\n",
    "$$ \\sum_{i=1}^{K} \\sum_{j=1}^{n_{i}} \\frac{(Y_{ij} - \\bar{Y_{i}})^{2}}{N-K} $$\n",
    "\n",
    "Here $ Y_{ij} $ represents each individual element.  We can think of unexplained variance as the within group variance."
   ]
  },
  {
   "cell_type": "code",
   "execution_count": 162,
   "metadata": {
    "slideshow": {
     "slide_type": "slide"
    }
   },
   "outputs": [],
   "source": [
    "from scipy import stats\n",
    "\n",
    "def calculate_statistics(samples):\n",
    "    combined_samples = []\n",
    "    for sample in samples:\n",
    "        combined_samples += sample\n",
    "    population_mean = np.mean(combined_samples)\n",
    "    sample_means = [np.mean(sample) for sample in samples]\n",
    "    sample_lengths = [len(sample) for sample in samples]\n",
    "    total_sample_size = len(combined_samples)\n",
    "    return population_mean, sample_means, sample_lengths, total_sample_size \n",
    "\n",
    "def calculate_explained_variance(population_mean, \n",
    "                                 sample_means,\n",
    "                                 sample_lengths, \n",
    "                                 num_samples):\n",
    "    explained_variance = 0\n",
    "    for index in range(num_samples):\n",
    "        sample_mean_deviation = sample_means[index] - population_mean\n",
    "        sample_mean_deviation = sample_mean_deviation**2\n",
    "        sample_mean_deviation *= sample_lengths[index]\n",
    "        explained_variance += sample_mean_deviation\n",
    "    explained_variance /= num_samples - 1\n",
    "    return explained_variance\n",
    "    \n",
    "def calculate_unexplained_variance(samples, \n",
    "                         sample_means, \n",
    "                         num_samples, \n",
    "                         total_sample_size):\n",
    "    total_deviance = 0\n",
    "    for sample_index in range(num_samples):\n",
    "        element_deviance = 0\n",
    "        for elem in samples[sample_index]:\n",
    "            element_deviance += (elem - sample_means[sample_index])**2\n",
    "        total_deviance += element_deviance\n",
    "    total_deviance /= (total_sample_size - num_samples)\n",
    "    return total_deviance\n",
    "    \n",
    "def f_test(samples):\n",
    "    population_mean, sample_means, sample_lengths, total_sample_size = calculate_statistics(samples)\n",
    "    num_samples = len(samples)\n",
    "    explained_variance = calculate_explained_variance(\n",
    "        population_mean, sample_means,\n",
    "        sample_lengths, num_samples\n",
    "    )\n",
    "    unexplained_variance = calculate_unexplained_variance(\n",
    "        samples, sample_means, \n",
    "        num_samples, total_sample_size\n",
    "    )\n",
    "    f_statistic = explained_variance/unexplained_variance\n",
    "    p_value = 1 - stats.f.cdf(\n",
    "        num_samples-1, \n",
    "        total_sample_size-num_samples,\n",
    "        f_statistic\n",
    "    )\n",
    "    return f_statistic, p_value\n"
   ]
  },
  {
   "cell_type": "markdown",
   "metadata": {
    "slideshow": {
     "slide_type": "notes"
    }
   },
   "source": [
    "Here you see we have three seperate bases, which have normally distributed heights.  It is worth noting that the sample sizes are all the same, otherwise you should be less inclined to trust descriptive statistics associated."
   ]
  },
  {
   "cell_type": "code",
   "execution_count": 163,
   "metadata": {
    "slideshow": {
     "slide_type": "slide"
    }
   },
   "outputs": [
    {
     "data": {
      "text/plain": [
       "(21.87861645414123, 0.025842347125262122)"
      ]
     },
     "execution_count": 163,
     "metadata": {},
     "output_type": "execute_result"
    }
   ],
   "source": [
    "base_a = list(np.random.normal(63, 10, size=1000))\n",
    "base_b = list(np.random.normal(72, 10, size=1000))\n",
    "base_c = list(np.random.normal(68, 10, size=1000))\n",
    "\n",
    "f_test([base_a, base_b, base_c])"
   ]
  },
  {
   "cell_type": "markdown",
   "metadata": {
    "slideshow": {
     "slide_type": "notes"
    }
   },
   "source": [
    "As you can see, we reject the null hypothesis, therefore it is unlikely that taller pilots are better.  It is clearly the case that talent is randomly distributed, without an effect from height.  And therefore, we should recommend that multiple cockpit sizes be designed for folks of different sizes, if we want to maximize fighting potential."
   ]
  }
 ],
 "metadata": {
  "celltoolbar": "Slideshow",
  "kernelspec": {
   "display_name": "Python 3",
   "language": "python",
   "name": "python3"
  },
  "language_info": {
   "codemirror_mode": {
    "name": "ipython",
    "version": 3
   },
   "file_extension": ".py",
   "mimetype": "text/x-python",
   "name": "python",
   "nbconvert_exporter": "python",
   "pygments_lexer": "ipython3",
   "version": "3.9.5"
  }
 },
 "nbformat": 4,
 "nbformat_minor": 4
}
