{
 "cells": [
  {
   "cell_type": "markdown",
   "id": "a1b7536b",
   "metadata": {},
   "source": [
    "# Writing Neural Networks\n",
    "\n",
    "Writing neural networks using tensorflow's low level api is an essential skill for implementing most research papers.  The ability to translate from mathematical equations into code, is incredibly powerful.  Not only because you can take the work of others to a functional place, but because you can come up with your own ideas, mathematically, prove some properties and then do an implementation.  The process of reading and understanding techniques through mathematics and then implementing them in code is the most productive way to make progress in your development as a scientist and researcher.  It's also very useful for being an effective engineer.  Through mathematics we can quickly understand and verify that some property ought to hold.  Once you understand the definitions and consequences of an idea in mathematics, verification of it's validity often takes a day or so, much faster than the verification of scientific quantities, because mathematics works in the world of absolute truth.  This means there aren't really grey areas, so you can make definitive statements.  While in general, science does not follow this binary notion of absolutes, hence the extensive use of statistics, scientific tools are primarily written in the language of mathematics.  A given idea or theory (of the real world) may seem enticing, but without scientific evidence to back it up, the theory means little. \n",
    "\n",
    "That said, once a theory can be validated through statistical analysis, it can be folded into a theoretical analysis.  It is from time to time even possible to draw conclusions beyond the phenomenon of inquiry which guides future discovery.  This has been seen several times from the world of mathematical physics.  One striking example of this is the discovery of blackholes which were theorized a century before they were physically discovered.\n",
    "\n",
    "Note: If you don't know how to write tensorflow code, please see [this](https://github.com/EricSchles/datascience_book/blob/master/python_programming/tensorflow_basics/Tensorflow%20Basics.ipynb) notebook.  \n",
    "\n",
    "## The Neural Network framework\n",
    "\n",
    "If you aren't already familar with neural networks, I suggest reading [this chapter](https://github.com/EricSchles/datascience_book/blob/master/5/An%20Introduction%20to%20Neural%20Networks%20-%2007.ipynb) first.  \n",
    "\n",
    "In general, neural nets are essentially a collection of linear regression models tied together through a meta optimization algorithm called backpropagation.  The linear regression models are sometimes tied together with an 'activation' function, which is just a secondary transform applied after the linear regression optimization takes place.  We've already seen that we can use stochastic gradient descent to optimize a linear regression model [here](https://github.com/EricSchles/datascience_book/blob/master/2/An%20Introduction%20to%20Regression%20-%2003.ipynb) and that there is a linear algebra equivalent [here](https://github.com/EricSchles/datascience_book/blob/master/5/An%20Introduction%20to%20Neural%20Networks%20-%2007.ipynb).  Neural networks essentially tie these two ideas together and do _both_ optimization strategies.  The linear algebra optimization strategy happens locally with the so called 'forward pass' and then the gradient is used explicitly to update the weights on the 'backward pass'.  But keep in mind there are two optimizations working together in tandem.  \n",
    "\n",
    "So really a neural network is just an ensemble of sort of linear models or models with easy derivates and each 'layer' of the network is just a given model, optimizing a bit of the ensemble in an explicit way.  The power of neural networks come from their flexability.  Unlike random forests or gradient boosted trees which either optimize in parallel or in sequence, neural networks can do both.  Some of the layers can optimize for certain inputs and others can optimize for others.  Or we can feed copies of the same data to a very wide neural network, which essentially acts like a random forest.  We'll see a number of architectures and ideas in this chapter for how to write down different neural network architectures, EVEN if they aren't necessarily useful, it's still good practice to see how to work with these different tools.\n",
    "\n",
    "## A first primitive example\n",
    "\n",
    "Our first example is going to be a purely linear model that simply does essentially linear regression."
   ]
  },
  {
   "cell_type": "code",
   "execution_count": 44,
   "id": "3c7f3f6c",
   "metadata": {},
   "outputs": [
    {
     "name": "stdout",
     "output_type": "stream",
     "text": [
      "MSE: tf.Tensor(27385605000000.0, shape=(), dtype=float32)\n"
     ]
    }
   ],
   "source": [
    "import numpy as np\n",
    "import tensorflow as tf\n",
    "from sklearn.model_selection import train_test_split\n",
    "from sklearn.datasets import make_regression\n",
    "\n",
    "class LinearRegression:\n",
    "    def __init__(self, shape, learning_rate=0.5):\n",
    "        array = np.random.normal(0, 1, size=shape)\n",
    "        array = tf.cast(array, tf.float32)\n",
    "        self.weights = tf.Variable(array)\n",
    "        self.bias = tf.Variable(1.0)\n",
    "        self.learning_rate = learning_rate\n",
    "        \n",
    "    def predict(self, x):\n",
    "        return tf.tensordot(x, self.weights, axes=1) + self.bias\n",
    "    \n",
    "    def loss(self, y_pred, y_true):\n",
    "        return tf.reduce_mean(\n",
    "           tf.square(y_pred - y_true)\n",
    "        )\n",
    "    \n",
    "    def update_weights(self, X_train, y_true):\n",
    "        with tf.GradientTape() as tape:\n",
    "            y_pred = self.predict(X_train)\n",
    "            loss = self.loss(y_pred, y_true)\n",
    "        gradients = tape.gradient(\n",
    "            loss, [self.weights, self.bias]\n",
    "        )\n",
    "        self.weights.assign_sub(gradients[0] * self.learning_rate)\n",
    "        self.bias.assign_sub(gradients[1] * self.learning_rate)\n",
    "\n",
    "X, y = make_regression()\n",
    "X_train, X_test, y_train, y_test = train_test_split(X, y)\n",
    "epochs = 10\n",
    "lin_reg = LinearRegression(X_train.shape[1])\n",
    "X_train = tf.cast(\n",
    "    tf.constant(X_train), \n",
    "    tf.float32\n",
    ")\n",
    "X_test = tf.cast(\n",
    "    tf.constant(X_test),\n",
    "    tf.float32\n",
    ")\n",
    "y_train = tf.cast(\n",
    "    tf.constant(y_train),\n",
    "    tf.float32\n",
    ")\n",
    "y_test = tf.cast(\n",
    "    tf.constant(y_test),\n",
    "    tf.float32\n",
    ")\n",
    "for i in range(epochs):\n",
    "    lin_reg.update_weights(X_train, y_train)\n",
    "    \n",
    "y_pred = lin_reg.predict(X_test)\n",
    "loss = lin_reg.loss(y_pred, y_test)\n",
    "print(\"MSE:\", loss)"
   ]
  },
  {
   "cell_type": "markdown",
   "id": "35e99a5c",
   "metadata": {},
   "source": [
    "There are a couple of things to note here which are mandatory in order for tensorflow to train a mode successfully:\n",
    "\n",
    "1. You must cast everything to the same type - as an exercise try copy/pasting the above code into a new cell and remove all the type casting (the code with tf.cast).  It fails because all the X, y data is treated as doubles, not floats.\n",
    "\n",
    "2. You must call predict and your loss function inside of the gradient tape context but must apply your gradient updates outside the gradient tape context.  This choice has always felt somewhat arbitrary to me.  However, because of how distributed training works and the fact that only some variables are *trainable* while others are frozen, we need some way to manage state.  It's an annoying trade off, but it needed to be made somewhere.  Fortunately, the code is not particularly ugly, just very pedantic\n",
    "\n",
    "3. In general tensors products are not commutative, so the order of your parameters in your tensor product matter.  This can be seen in the predict function defined above.  If we tried changing around the order then our code would not work.\n",
    "\n",
    "4. Notice the use of tf.Variable for our weights and bias term.  If we made those tf.constant instead, then our gradient tape wouldn't let us update our variables.\n",
    "\n",
    "These basic concerns may seem like an impedement, but this code is far cleaner and scalable than the vanilla numpy implementation found [here in the section: A Naive Implementation of a Neural Network](https://github.com/EricSchles/datascience_book/blob/master/5/An%20Introduction%20to%20Neural%20Networks%20-%2007.ipynb).  Also, we don't need to worry about figuring out the derivative for each of our activation functions.  While some people love calculus (like myself, yes even in higher dimensions), many programmers don't.  Which is why automatic differentiation implemented in packages like tensorflow has openned up a world of mathematics to programmers.  \n",
    "\n",
    "Now that we've seen how the tensorflow framework can be used to train a neural network, let's do a multilayer preceptron.  This will be our first multilayer neural network or ensemble of layers.  We'll look at a deep neural network first, deep because it trains the layers in sequence.  And then we'll look at a wide neural network, because it will train the layers in parallel."
   ]
  },
  {
   "cell_type": "code",
   "execution_count": 7,
   "id": "7f3f0337",
   "metadata": {},
   "outputs": [
    {
     "data": {
      "image/png": "[encoded data removed]",
      "text/plain": [
       "<Figure size 432x288 with 1 Axes>"
      ]
     },
     "metadata": {
      "needs_background": "light"
     },
     "output_type": "display_data"
    }
   ],
   "source": [
    "import tensorflow as tf\n",
    "import numpy as np\n",
    "import pandas as pd\n",
    "import random\n",
    "from sklearn.datasets import make_regression\n",
    "from sklearn.model_selection import train_test_split\n",
    "import matplotlib.pyplot as plt\n",
    "\n",
    "class Dense(tf.Module):\n",
    "    def __init__(self, output_size, name=None, final=False):\n",
    "        super().__init__(name=name)\n",
    "        if final:\n",
    "            weights = np.random.normal(0, 1, size=output_size)\n",
    "            weights = tf.cast(weights, tf.float32)\n",
    "            self.weights = tf.Variable(weights)\n",
    "        else:\n",
    "            weights = np.random.normal(0, 1, size=output_size * output_size)\n",
    "            weights = weights.reshape(output_size, output_size)\n",
    "            weights = tf.cast(weights, tf.float32)\n",
    "            self.weights = tf.Variable(weights)\n",
    "        self.bias = tf.Variable(1.0)\n",
    "        \n",
    "    def __call__(self, x):\n",
    "        return tf.tensordot(x, self.weights, axes=1) + self.bias\n",
    "\n",
    "        \n",
    "class NeuralNet(tf.Module):\n",
    "    def __init__(self, X_in, X_out, optimizer):\n",
    "        super(NeuralNet, self).__init__()\n",
    "        self.layer_one = Dense(X_out)\n",
    "        self.layer_two = Dense(X_out)\n",
    "        self.layer_three = Dense(X_out, final=True)\n",
    "        self.optimizer = optimizer\n",
    "        \n",
    "    def _collect_trainable_variables(self):\n",
    "        return [\n",
    "            self.layer_one.weights,\n",
    "            self.layer_one.bias,\n",
    "            self.layer_two.weights,\n",
    "            self.layer_two.bias,\n",
    "            self.layer_three.weights,\n",
    "            self.layer_three.bias\n",
    "        ]\n",
    "    \n",
    "    def __call__(self, x):\n",
    "        return self.predict(x)\n",
    "    \n",
    "    def predict(self, x):\n",
    "        res = self.layer_one(x)\n",
    "        res = self.layer_two(res)\n",
    "        return self.layer_three(res)\n",
    "\n",
    "    def loss(self, y_pred, y_true):\n",
    "        return tf.reduce_mean(\n",
    "           tf.square(y_pred - y_true)\n",
    "        )\n",
    "    \n",
    "    def step(self, x, y):\n",
    "        x = tf.cast(x, tf.float32)\n",
    "        y = tf.cast(y, tf.float32)\n",
    "        with tf.GradientTape() as tape:\n",
    "            pred = self.predict(x)\n",
    "            loss = self.loss(pred, y)\n",
    "        trainable_variables = self._collect_trainable_variables()\n",
    "        gradients = tape.gradient(loss, trainable_variables)\n",
    "        self.optimizer.apply_gradients(zip(gradients, trainable_variables))\n",
    "\n",
    "if __name__ == '__main__':\n",
    "    X, y = make_regression(n_samples=1000, n_features=100)\n",
    "    X_train, X_test, y_train, y_test = train_test_split(X, y)\n",
    "    X_train = tf.cast(\n",
    "        tf.constant(X_train), \n",
    "        tf.float32\n",
    "    )\n",
    "    X_test = tf.cast(\n",
    "        tf.constant(X_test),\n",
    "        tf.float32\n",
    "    )\n",
    "    y_train = tf.cast(\n",
    "        tf.constant(y_train),\n",
    "        tf.float32\n",
    "    )\n",
    "    y_test = tf.cast(\n",
    "        tf.constant(y_test),\n",
    "        tf.float32\n",
    "    )\n",
    "\n",
    "    learning_rate = 0.9\n",
    "    optimizer = tf.optimizers.Adam(learning_rate)\n",
    "    nn = NeuralNet(1000, X_train.shape[1], optimizer)\n",
    "    num_steps = 110\n",
    "    losses = []\n",
    "    for step in range(num_steps):\n",
    "        nn.step(X_train, y_train)\n",
    "        pred = nn(X_test)\n",
    "        loss = nn.loss(pred, y_test)\n",
    "        losses.append(loss)\n",
    "    plt.plot(losses)"
   ]
  },
  {
   "cell_type": "markdown",
   "id": "90fb88f1",
   "metadata": {},
   "source": [
    "Some things to note here that may not be obvious:\n",
    "\n",
    "1. We need to pass the collection of trainable variables to our gradient, otherwise they won't update explicitly.  We did do this in the first example, but this is more formalized now.  Notice, tensorflow expects the weights in order AND the ordering is expected to be weights then bias for each layer.\n",
    "\n",
    "2. We must past the output of the previous layer into the next layer as input\n",
    "\n",
    "3. Now we make use of the adam optimizer to update our weights through gradient update\n",
    "\n",
    "4. We generalize our sub-models into a layer object called Dense, which does linear regression layer by layer.  \n",
    "\n",
    "5. We only want one output vector, our predictions for the final layer, so we need to pass an optional parameter called final to our Dense object, which acts like linear regression.  All the layers before output a square weight matrix.  \n",
    "\n",
    "Note: In this way we can see that neural networks actually do a series of optimization steps in sequence, where each additional layer after the first essentially starts with an optimized version of the previous layer (through the matrix multiplication) and then the optimization procedure itself more or less gets updated on the backward pass.  So we can think of a neural network as optimizing an optimization through backpropagation.\n",
    "\n",
    "Now let's see a wide neural network:"
   ]
  },
  {
   "cell_type": "code",
   "execution_count": 9,
   "id": "0e630f2e",
   "metadata": {},
   "outputs": [
    {
     "data": {
      "image/png": "[encoded data removed]",
      "text/plain": [
       "<Figure size 432x288 with 1 Axes>"
      ]
     },
     "metadata": {
      "needs_background": "light"
     },
     "output_type": "display_data"
    }
   ],
   "source": [
    "import tensorflow as tf\n",
    "import numpy as np\n",
    "import pandas as pd\n",
    "import random\n",
    "from sklearn.datasets import make_regression\n",
    "from sklearn.model_selection import train_test_split\n",
    "import matplotlib.pyplot as plt\n",
    "\n",
    "class Dense(tf.Module):\n",
    "    def __init__(self, output_size, name=None, final=False):\n",
    "        super().__init__(name=name)\n",
    "        if final:\n",
    "            weights = np.random.normal(0, 1, size=output_size)\n",
    "            weights = tf.cast(weights, tf.float32)\n",
    "            self.weights = tf.Variable(weights)\n",
    "        else:\n",
    "            weights = np.random.normal(0, 1, size=output_size * output_size)\n",
    "            weights = weights.reshape(output_size, output_size)\n",
    "            weights = tf.cast(weights, tf.float32)\n",
    "            self.weights = tf.Variable(weights)\n",
    "        self.bias = tf.Variable(1.0)\n",
    "        \n",
    "    def __call__(self, x):\n",
    "        return tf.tensordot(x, self.weights, axes=1) + self.bias\n",
    "\n",
    "        \n",
    "class NeuralNet(tf.Module):\n",
    "    def __init__(self, X_in, X_out, optimizer):\n",
    "        super(NeuralNet, self).__init__()\n",
    "        self.layer_one = Dense(X_out)\n",
    "        self.layer_two = Dense(X_out)\n",
    "        self.layer_three = Dense(X_out, final=True)\n",
    "        self.optimizer = optimizer\n",
    "        \n",
    "    def _collect_trainable_variables(self):\n",
    "        return [\n",
    "            self.layer_one.weights,\n",
    "            self.layer_one.bias,\n",
    "            self.layer_two.weights,\n",
    "            self.layer_two.bias,\n",
    "            self.layer_three.weights,\n",
    "            self.layer_three.bias\n",
    "        ]\n",
    "    \n",
    "    def __call__(self, x):\n",
    "        return self.predict(x)\n",
    "    \n",
    "    def predict(self, x):\n",
    "        res_one = self.layer_one(x)\n",
    "        res_two = self.layer_two(x)\n",
    "        average_weights = tf.reduce_mean(\n",
    "            [res_one, res_two], axis=0\n",
    "        )\n",
    "        return self.layer_three(average_weights)\n",
    "\n",
    "    def loss(self, y_pred, y_true):\n",
    "        return tf.reduce_mean(\n",
    "           tf.square(y_pred - y_true)\n",
    "        )\n",
    "    \n",
    "    def step(self, x, y):\n",
    "        x = tf.cast(x, tf.float32)\n",
    "        y = tf.cast(y, tf.float32)\n",
    "        with tf.GradientTape() as tape:\n",
    "            pred = self.predict(x)\n",
    "            loss = self.loss(pred, y)\n",
    "        trainable_variables = self._collect_trainable_variables()\n",
    "        gradients = tape.gradient(loss, trainable_variables)\n",
    "        self.optimizer.apply_gradients(zip(gradients, trainable_variables))\n",
    "\n",
    "if __name__ == '__main__':\n",
    "    X, y = make_regression(n_samples=1000, n_features=100)\n",
    "    X_train, X_test, y_train, y_test = train_test_split(X, y)\n",
    "    X_train = tf.cast(\n",
    "        tf.constant(X_train), \n",
    "        tf.float32\n",
    "    )\n",
    "    X_test = tf.cast(\n",
    "        tf.constant(X_test),\n",
    "        tf.float32\n",
    "    )\n",
    "    y_train = tf.cast(\n",
    "        tf.constant(y_train),\n",
    "        tf.float32\n",
    "    )\n",
    "    y_test = tf.cast(\n",
    "        tf.constant(y_test),\n",
    "        tf.float32\n",
    "    )\n",
    "    \n",
    "    learning_rate = 0.9\n",
    "    optimizer = tf.optimizers.Adam(learning_rate)\n",
    "    \n",
    "    nn = NeuralNet(1000, X_train.shape[1], optimizer)\n",
    "    num_steps = 110\n",
    "    losses = []\n",
    "    for step in range(num_steps):\n",
    "        nn.step(X_train, y_train)\n",
    "        pred = nn(X_test)\n",
    "        loss = nn.loss(pred, y_test)\n",
    "        losses.append(loss)\n",
    "    plt.plot(losses)"
   ]
  },
  {
   "cell_type": "markdown",
   "id": "07ed7ef7",
   "metadata": {},
   "source": [
    "This is the first strategy we see for optimizing a wide network - take the average of the weights at each update step.  We could also sum the weights:"
   ]
  },
  {
   "cell_type": "code",
   "execution_count": 10,
   "id": "5af0bbb9",
   "metadata": {},
   "outputs": [
    {
     "data": {
      "image/png": "[encoded data removed]",
      "text/plain": [
       "<Figure size 432x288 with 1 Axes>"
      ]
     },
     "metadata": {
      "needs_background": "light"
     },
     "output_type": "display_data"
    }
   ],
   "source": [
    "import tensorflow as tf\n",
    "import numpy as np\n",
    "import pandas as pd\n",
    "import random\n",
    "from sklearn.datasets import make_regression\n",
    "from sklearn.model_selection import train_test_split\n",
    "import matplotlib.pyplot as plt\n",
    "\n",
    "class Dense(tf.Module):\n",
    "    def __init__(self, output_size, name=None, final=False):\n",
    "        super().__init__(name=name)\n",
    "        if final:\n",
    "            weights = np.random.normal(0, 1, size=output_size)\n",
    "            weights = tf.cast(weights, tf.float32)\n",
    "            self.weights = tf.Variable(weights)\n",
    "        else:\n",
    "            weights = np.random.normal(0, 1, size=output_size * output_size)\n",
    "            weights = weights.reshape(output_size, output_size)\n",
    "            weights = tf.cast(weights, tf.float32)\n",
    "            self.weights = tf.Variable(weights)\n",
    "        self.bias = tf.Variable(1.0)\n",
    "        \n",
    "    def __call__(self, x):\n",
    "        return tf.tensordot(x, self.weights, axes=1) + self.bias\n",
    "\n",
    "        \n",
    "class NeuralNet(tf.Module):\n",
    "    def __init__(self, X_in, X_out, optimizer):\n",
    "        super(NeuralNet, self).__init__()\n",
    "        self.layer_one = Dense(X_out)\n",
    "        self.layer_two = Dense(X_out)\n",
    "        self.layer_three = Dense(X_out, final=True)\n",
    "        self.optimizer = optimizer\n",
    "        \n",
    "    def _collect_trainable_variables(self):\n",
    "        return [\n",
    "            self.layer_one.weights,\n",
    "            self.layer_one.bias,\n",
    "            self.layer_two.weights,\n",
    "            self.layer_two.bias,\n",
    "            self.layer_three.weights,\n",
    "            self.layer_three.bias\n",
    "        ]\n",
    "    \n",
    "    def __call__(self, x):\n",
    "        return self.predict(x)\n",
    "    \n",
    "    def predict(self, x):\n",
    "        res_one = self.layer_one(x)\n",
    "        res_two = self.layer_two(x)\n",
    "        average_weights = tf.reduce_sum(\n",
    "            [res_one, res_two], axis=0\n",
    "        )\n",
    "        return self.layer_three(average_weights)\n",
    "\n",
    "    def loss(self, y_pred, y_true):\n",
    "        return tf.reduce_mean(\n",
    "           tf.square(y_pred - y_true)\n",
    "        )\n",
    "    \n",
    "    def step(self, x, y):\n",
    "        x = tf.cast(x, tf.float32)\n",
    "        y = tf.cast(y, tf.float32)\n",
    "        with tf.GradientTape() as tape:\n",
    "            pred = self.predict(x)\n",
    "            loss = self.loss(pred, y)\n",
    "        trainable_variables = self._collect_trainable_variables()\n",
    "        gradients = tape.gradient(loss, trainable_variables)\n",
    "        self.optimizer.apply_gradients(zip(gradients, trainable_variables))\n",
    "\n",
    "if __name__ == '__main__':\n",
    "    X, y = make_regression(n_samples=1000, n_features=100)\n",
    "    X_train, X_test, y_train, y_test = train_test_split(X, y)\n",
    "    X_train = tf.cast(\n",
    "        tf.constant(X_train), \n",
    "        tf.float32\n",
    "    )\n",
    "    X_test = tf.cast(\n",
    "        tf.constant(X_test),\n",
    "        tf.float32\n",
    "    )\n",
    "    y_train = tf.cast(\n",
    "        tf.constant(y_train),\n",
    "        tf.float32\n",
    "    )\n",
    "    y_test = tf.cast(\n",
    "        tf.constant(y_test),\n",
    "        tf.float32\n",
    "    )\n",
    "    \n",
    "    learning_rate = 0.9\n",
    "    optimizer = tf.optimizers.Adam(learning_rate)\n",
    "    \n",
    "    nn = NeuralNet(1000, X_train.shape[1], optimizer)\n",
    "    num_steps = 110\n",
    "    losses = []\n",
    "    for step in range(num_steps):\n",
    "        nn.step(X_train, y_train)\n",
    "        pred = nn(X_test)\n",
    "        loss = nn.loss(pred, y_test)\n",
    "        losses.append(loss)\n",
    "    plt.plot(losses)"
   ]
  },
  {
   "cell_type": "markdown",
   "id": "bf5dfb3c",
   "metadata": {},
   "source": [
    "And finally we can do a reduce multiply:"
   ]
  },
  {
   "cell_type": "code",
   "execution_count": 12,
   "id": "37eb41f4",
   "metadata": {},
   "outputs": [
    {
     "data": {
      "image/png": "[encoded data removed]",
      "text/plain": [
       "<Figure size 432x288 with 1 Axes>"
      ]
     },
     "metadata": {
      "needs_background": "light"
     },
     "output_type": "display_data"
    }
   ],
   "source": [
    "import tensorflow as tf\n",
    "import numpy as np\n",
    "import pandas as pd\n",
    "import random\n",
    "from sklearn.datasets import make_regression\n",
    "from sklearn.model_selection import train_test_split\n",
    "import matplotlib.pyplot as plt\n",
    "\n",
    "class Dense(tf.Module):\n",
    "    def __init__(self, output_size, name=None, final=False):\n",
    "        super().__init__(name=name)\n",
    "        if final:\n",
    "            weights = np.random.normal(0, 1, size=output_size)\n",
    "            weights = tf.cast(weights, tf.float32)\n",
    "            self.weights = tf.Variable(weights)\n",
    "        else:\n",
    "            weights = np.random.normal(0, 1, size=output_size * output_size)\n",
    "            weights = weights.reshape(output_size, output_size)\n",
    "            weights = tf.cast(weights, tf.float32)\n",
    "            self.weights = tf.Variable(weights)\n",
    "        self.bias = tf.Variable(1.0)\n",
    "        \n",
    "    def __call__(self, x):\n",
    "        return tf.tensordot(x, self.weights, axes=1) + self.bias\n",
    "\n",
    "        \n",
    "class NeuralNet(tf.Module):\n",
    "    def __init__(self, X_in, X_out, optimizer):\n",
    "        super(NeuralNet, self).__init__()\n",
    "        self.layer_one = Dense(X_out)\n",
    "        self.layer_two = Dense(X_out)\n",
    "        self.layer_three = Dense(X_out, final=True)\n",
    "        self.optimizer = optimizer\n",
    "        \n",
    "    def _collect_trainable_variables(self):\n",
    "        return [\n",
    "            self.layer_one.weights,\n",
    "            self.layer_one.bias,\n",
    "            self.layer_two.weights,\n",
    "            self.layer_two.bias,\n",
    "            self.layer_three.weights,\n",
    "            self.layer_three.bias\n",
    "        ]\n",
    "    \n",
    "    def __call__(self, x):\n",
    "        return self.predict(x)\n",
    "    \n",
    "    def predict(self, x):\n",
    "        res_one = self.layer_one(x)\n",
    "        res_two = self.layer_two(x)\n",
    "        average_weights = tf.reduce_prod(\n",
    "            [res_one, res_two], axis=0\n",
    "        )\n",
    "        return self.layer_three(average_weights)\n",
    "\n",
    "    def loss(self, y_pred, y_true):\n",
    "        return tf.reduce_mean(\n",
    "           tf.square(y_pred - y_true)\n",
    "        )\n",
    "    \n",
    "    def step(self, x, y):\n",
    "        x = tf.cast(x, tf.float32)\n",
    "        y = tf.cast(y, tf.float32)\n",
    "        with tf.GradientTape() as tape:\n",
    "            pred = self.predict(x)\n",
    "            loss = self.loss(pred, y)\n",
    "        trainable_variables = self._collect_trainable_variables()\n",
    "        gradients = tape.gradient(loss, trainable_variables)\n",
    "        self.optimizer.apply_gradients(zip(gradients, trainable_variables))\n",
    "\n",
    "if __name__ == '__main__':\n",
    "    X, y = make_regression(n_samples=1000, n_features=100)\n",
    "    X_train, X_test, y_train, y_test = train_test_split(X, y)\n",
    "    X_train = tf.cast(\n",
    "        tf.constant(X_train), \n",
    "        tf.float32\n",
    "    )\n",
    "    X_test = tf.cast(\n",
    "        tf.constant(X_test),\n",
    "        tf.float32\n",
    "    )\n",
    "    y_train = tf.cast(\n",
    "        tf.constant(y_train),\n",
    "        tf.float32\n",
    "    )\n",
    "    y_test = tf.cast(\n",
    "        tf.constant(y_test),\n",
    "        tf.float32\n",
    "    )\n",
    "    \n",
    "    learning_rate = 0.9\n",
    "    optimizer = tf.optimizers.Adam(learning_rate)\n",
    "    \n",
    "    nn = NeuralNet(1000, X_train.shape[1], optimizer)\n",
    "    num_steps = 110\n",
    "    losses = []\n",
    "    for step in range(num_steps):\n",
    "        nn.step(X_train, y_train)\n",
    "        pred = nn(X_test)\n",
    "        loss = nn.loss(pred, y_test)\n",
    "        losses.append(loss)\n",
    "    plt.plot(losses)"
   ]
  },
  {
   "cell_type": "markdown",
   "id": "5c756da7",
   "metadata": {},
   "source": [
    "As you can see, all three methods produce more or less the same result.  Averaging seems to be the most obvious way to build wide networks, although summing is probably the fastest training time is a concern.  \n",
    "\n",
    "Now that we've seen a number of variations of general network patterns, let's begin to add non-linearities, we'll only do this for deep neural networks because the ideas are obvious and translate directly to wide networks:"
   ]
  },
  {
   "cell_type": "code",
   "execution_count": 1,
   "id": "a2e9a164",
   "metadata": {},
   "outputs": [
    {
     "data": {
      "image/png": "[encoded data removed]",
      "text/plain": [
       "<Figure size 432x288 with 1 Axes>"
      ]
     },
     "metadata": {
      "needs_background": "light"
     },
     "output_type": "display_data"
    }
   ],
   "source": [
    "import tensorflow as tf\n",
    "import numpy as np\n",
    "import pandas as pd\n",
    "import random\n",
    "from tensorflow.nn import (\n",
    "    tanh,\n",
    "    leaky_relu,\n",
    "    silu,\n",
    "    relu,\n",
    "    selu\n",
    ")\n",
    "from sklearn.datasets import make_regression\n",
    "from sklearn.model_selection import train_test_split\n",
    "import matplotlib.pyplot as plt\n",
    "\n",
    "class Dense(tf.Module):\n",
    "    def __init__(self, output_size, activation='linear', name=None, final=False):\n",
    "        super().__init__(name=name)\n",
    "        if final:\n",
    "            weights = np.random.normal(0, 1, size=output_size)\n",
    "            weights = tf.cast(weights, tf.float32)\n",
    "            self.weights = tf.Variable(weights)\n",
    "        else:\n",
    "            weights = np.random.normal(0, 1, size=output_size * output_size)\n",
    "            weights = weights.reshape(output_size, output_size)\n",
    "            weights = tf.cast(weights, tf.float32)\n",
    "            self.weights = tf.Variable(weights)\n",
    "        self.bias = tf.Variable(1.0)\n",
    "        self.activation_name = activation\n",
    "        \n",
    "    def get_activation(self):\n",
    "        activation_map = {\n",
    "            'linear': None,\n",
    "            'tanh': tanh,\n",
    "            'leaky_relu': leaky_relu,\n",
    "            'silu': silu,\n",
    "            'relu': relu,\n",
    "            'selu': selu\n",
    "        }\n",
    "        return activation_map[self.activation_name]\n",
    "        \n",
    "    def __call__(self, x):\n",
    "        activation = self.get_activation()\n",
    "        if activation:\n",
    "            return activation(tf.tensordot(x, self.weights, axes=1)) + self.bias\n",
    "        else:\n",
    "            return tf.tensordot(x, self.weights, axes=1) + self.bias\n",
    "\n",
    "        \n",
    "class NeuralNet(tf.Module):\n",
    "    def __init__(self, X_in, X_out, optimizer):\n",
    "        super(NeuralNet, self).__init__()\n",
    "        self.layer_one = Dense(X_out, activation='relu')\n",
    "        self.layer_two = Dense(X_out, activation='selu')\n",
    "        self.layer_three = Dense(X_out, activation='linear', final=True)\n",
    "        self.optimizer = optimizer\n",
    "        \n",
    "    def _collect_trainable_variables(self):\n",
    "        return [\n",
    "            self.layer_one.weights,\n",
    "            self.layer_one.bias,\n",
    "            self.layer_two.weights,\n",
    "            self.layer_two.bias,\n",
    "            self.layer_three.weights,\n",
    "            self.layer_three.bias\n",
    "        ]\n",
    "    \n",
    "    def __call__(self, x):\n",
    "        return self.predict(x)\n",
    "    \n",
    "    def predict(self, x):\n",
    "        res = self.layer_one(x)\n",
    "        res = self.layer_two(res)\n",
    "        return self.layer_three(res)\n",
    "\n",
    "    def loss(self, y_pred, y_true):\n",
    "        return tf.reduce_mean(\n",
    "           tf.square(y_pred - y_true)\n",
    "        )\n",
    "    \n",
    "    def step(self, x, y):\n",
    "        x = tf.cast(x, tf.float32)\n",
    "        y = tf.cast(y, tf.float32)\n",
    "        with tf.GradientTape() as tape:\n",
    "            pred = self.predict(x)\n",
    "            loss = self.loss(pred, y)\n",
    "        trainable_variables = self._collect_trainable_variables()\n",
    "        gradients = tape.gradient(loss, trainable_variables)\n",
    "        self.optimizer.apply_gradients(zip(gradients, trainable_variables))\n",
    "\n",
    "if __name__ == '__main__':\n",
    "    X, y = make_regression(n_samples=1000, n_features=100)\n",
    "    X_train, X_test, y_train, y_test = train_test_split(X, y)\n",
    "    X_train = tf.cast(\n",
    "        tf.constant(X_train), \n",
    "        tf.float32\n",
    "    )\n",
    "    X_test = tf.cast(\n",
    "        tf.constant(X_test),\n",
    "        tf.float32\n",
    "    )\n",
    "    y_train = tf.cast(\n",
    "        tf.constant(y_train),\n",
    "        tf.float32\n",
    "    )\n",
    "    y_test = tf.cast(\n",
    "        tf.constant(y_test),\n",
    "        tf.float32\n",
    "    )\n",
    "\n",
    "    learning_rate = 1e-3\n",
    "    optimizer = tf.optimizers.Adam(learning_rate)\n",
    "    nn = NeuralNet(1000, X_train.shape[1], optimizer)\n",
    "    num_steps = 100\n",
    "    losses = []\n",
    "    for step in range(num_steps):\n",
    "        nn.step(X_train, y_train)\n",
    "        pred = nn(X_test)\n",
    "        loss = nn.loss(pred, y_test)\n",
    "        losses.append(loss)\n",
    "    plt.plot(losses)"
   ]
  },
  {
   "cell_type": "markdown",
   "id": "339ee9fa",
   "metadata": {},
   "source": [
    "As you can see, adding non-linearities to our network is very easy!  We simply add it after we do our linear optimization through our dot product and we are essentially done!\n",
    "\n",
    "Let's do a quick review of the shapes of our non-linearities:"
   ]
  },
  {
   "cell_type": "code",
   "execution_count": 10,
   "id": "6d30ec86",
   "metadata": {},
   "outputs": [
    {
     "data": {
      "text/plain": [
       "[<matplotlib.lines.Line2D at 0x7fa5c8177850>]"
      ]
     },
     "execution_count": 10,
     "metadata": {},
     "output_type": "execute_result"
    },
    {
     "data": {
      "image/png": "[encoded data removed]",
      "text/plain": [
       "<Figure size 432x288 with 1 Axes>"
      ]
     },
     "metadata": {
      "needs_background": "light"
     },
     "output_type": "display_data"
    }
   ],
   "source": [
    "import numpy as np\n",
    "import matplotlib.pyplot as plt\n",
    "\n",
    "x = np.linspace(-100, 100, num=100)\n",
    "y = tanh(x)\n",
    "plt.plot(x, y)"
   ]
  },
  {
   "cell_type": "markdown",
   "id": "38d7d86c",
   "metadata": {},
   "source": [
    "As you can see, the tanh function basically collapses our outputspace between -1 and 1 despite how big our predictions get.  This is great for dealing with exploding gradients."
   ]
  },
  {
   "cell_type": "code",
   "execution_count": 11,
   "id": "1ca9cad5",
   "metadata": {},
   "outputs": [
    {
     "data": {
      "text/plain": [
       "[<matplotlib.lines.Line2D at 0x7fa5c83b7f70>]"
      ]
     },
     "execution_count": 11,
     "metadata": {},
     "output_type": "execute_result"
    },
    {
     "data": {
      "image/png": "[encoded data removed]",
      "text/plain": [
       "<Figure size 432x288 with 1 Axes>"
      ]
     },
     "metadata": {
      "needs_background": "light"
     },
     "output_type": "display_data"
    }
   ],
   "source": [
    "import numpy as np\n",
    "import matplotlib.pyplot as plt\n",
    "\n",
    "x = np.linspace(-100, 100, num=100)\n",
    "y = relu(x)\n",
    "plt.plot(x, y)"
   ]
  },
  {
   "cell_type": "markdown",
   "id": "71b847e8",
   "metadata": {},
   "source": [
    "The ReLU function is piece-wise linear with a discontinuity at zero.  This allows us to linear sort of a 'tree' like structure for our data with the discontinuity acting like a break so we can fit a series of smaller linear sections with our models.  This turns out to be very flexible."
   ]
  },
  {
   "cell_type": "code",
   "execution_count": 12,
   "id": "5a6a7ec7",
   "metadata": {},
   "outputs": [
    {
     "data": {
      "text/plain": [
       "[<matplotlib.lines.Line2D at 0x7fa5c83e4040>]"
      ]
     },
     "execution_count": 12,
     "metadata": {},
     "output_type": "execute_result"
    },
    {
     "data": {
      "image/png": "[encoded data removed]",
      "text/plain": [
       "<Figure size 432x288 with 1 Axes>"
      ]
     },
     "metadata": {
      "needs_background": "light"
     },
     "output_type": "display_data"
    }
   ],
   "source": [
    "import numpy as np\n",
    "import matplotlib.pyplot as plt\n",
    "\n",
    "x = np.linspace(-100, 100, num=100)\n",
    "y = leaky_relu(x)\n",
    "plt.plot(x, y)"
   ]
  },
  {
   "cell_type": "markdown",
   "id": "8a833497",
   "metadata": {},
   "source": [
    "Leaky ReLU retains the discontinuity so that we can have a 'smooth' piecewise linear model.  But the tail of the function is more flexible allowing us to fit more curvy functions.  This added flexibility can be both a benefit or negative.  It's best to use Leaky ReLUs on data with lots of breaks and changes in the second derivative."
   ]
  },
  {
   "cell_type": "code",
   "execution_count": 14,
   "id": "bad1207e",
   "metadata": {},
   "outputs": [
    {
     "data": {
      "text/plain": [
       "[<matplotlib.lines.Line2D at 0x7fa5c86ad1f0>]"
      ]
     },
     "execution_count": 14,
     "metadata": {},
     "output_type": "execute_result"
    },
    {
     "data": {
      "image/png": "[encoded data removed]",
      "text/plain": [
       "<Figure size 432x288 with 1 Axes>"
      ]
     },
     "metadata": {
      "needs_background": "light"
     },
     "output_type": "display_data"
    }
   ],
   "source": [
    "import numpy as np\n",
    "import matplotlib.pyplot as plt\n",
    "\n",
    "x = np.linspace(-10, 10, num=100)\n",
    "y = silu(x)\n",
    "plt.plot(x, y)"
   ]
  },
  {
   "cell_type": "markdown",
   "id": "97735c76",
   "metadata": {},
   "source": [
    "The SiLU activation function is slightly curvier than ReLU but basically has the same idea.  This function makes use of a sigmoid."
   ]
  },
  {
   "cell_type": "code",
   "execution_count": 15,
   "id": "58d80aaf",
   "metadata": {},
   "outputs": [
    {
     "data": {
      "text/plain": [
       "[<matplotlib.lines.Line2D at 0x7fa5c85f7be0>]"
      ]
     },
     "execution_count": 15,
     "metadata": {},
     "output_type": "execute_result"
    },
    {
     "data": {
      "image/png": "[encoded data removed]",
      "text/plain": [
       "<Figure size 432x288 with 1 Axes>"
      ]
     },
     "metadata": {
      "needs_background": "light"
     },
     "output_type": "display_data"
    }
   ],
   "source": [
    "import numpy as np\n",
    "import matplotlib.pyplot as plt\n",
    "\n",
    "x = np.linspace(-10, 10, num=100)\n",
    "y = selu(x)\n",
    "plt.plot(x, y)"
   ]
  },
  {
   "cell_type": "markdown",
   "id": "e4c0d054",
   "metadata": {},
   "source": [
    "The SeLU is pretty similar to the SiLU activation function and accomplishs more or less the same thing except it uses a scaling factor and simple exponential instead of a sigmoid.  Notice also the SeLU drops down to -2 to instead of 0, so it's a little more flexible and a little faster."
   ]
  },
  {
   "cell_type": "code",
   "execution_count": null,
   "id": "c4d2000c",
   "metadata": {},
   "outputs": [],
   "source": []
  }
 ],
 "metadata": {
  "kernelspec": {
   "display_name": "Python 3",
   "language": "python",
   "name": "python3"
  },
  "language_info": {
   "codemirror_mode": {
    "name": "ipython",
    "version": 3
   },
   "file_extension": ".py",
   "mimetype": "text/x-python",
   "name": "python",
   "nbconvert_exporter": "python",
   "pygments_lexer": "ipython3",
   "version": "3.9.5"
  }
 },
 "nbformat": 4,
 "nbformat_minor": 5
}
