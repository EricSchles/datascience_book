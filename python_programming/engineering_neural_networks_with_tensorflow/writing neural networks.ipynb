{
 "cells": [
  {
   "cell_type": "markdown",
   "id": "a1b7536b",
   "metadata": {},
   "source": [
    "# Writing Neural Networks\n",
    "\n",
    "Writing neural networks using tensorflow's low level api is an essential skill for implementing most research papers.  The ability to translate from mathematical equations into code, is incredibly powerful.  Not only because you can take the work of others to a functional place, but because you can come up with your own ideas, mathematically, prove some properties and then do an implementation.  The process of reading and understanding techniques through mathematics and then implementing them in code is the most productive way to make progress in your development as a scientist and researcher.  It's also very useful for being an effective engineer.  Through mathematics we can quickly understand and verify that some property ought to hold.  Once you understand the definitions and consequences of an idea in mathematics, verification of it's validity often takes a day or so, much faster than the verification of scientific quantities, because mathematics works in the world of absolute truth.  This means there aren't really grey areas, so you can make definitive statements.  While in general, science does not follow this binary notion of absolutes, hence the extensive use of statistics, scientific tools are primarily written in the language of mathematics.  A given idea or theory (of the real world) may seem enticing, but without scientific evidence to back it up, the theory means little. \n",
    "\n",
    "That said, once a theory can be validated through statistical analysis, it can be folded into a theoretical analysis.  It is from time to time even possible to draw conclusions beyond the phenomenon of inquiry which guides future discovery.  This has been seen several times from the world of mathematical physics.  One striking example of this is the discovery of blackholes which were theorized a century before they were physically discovered.\n",
    "\n",
    "Note: If you don't know how to write tensorflow code, please see [this](https://github.com/EricSchles/datascience_book/blob/master/python_programming/tensorflow_basics/Tensorflow%20Basics.ipynb) notebook.  \n",
    "\n",
    "## The Neural Network framework\n",
    "\n",
    "If you aren't already familar with neural networks, I suggest reading [this chapter](https://github.com/EricSchles/datascience_book/blob/master/5/An%20Introduction%20to%20Neural%20Networks%20-%2007.ipynb) first.  \n",
    "\n",
    "In general, neural nets are essentially a collection of linear regression models tied together through a meta optimization algorithm called backpropagation.  The linear regression models are sometimes tied together with an 'activation' function, which is just a secondary transform applied after the linear regression optimization takes place.  We've already seen that we can use stochastic gradient descent to optimize a linear regression model [here](https://github.com/EricSchles/datascience_book/blob/master/2/An%20Introduction%20to%20Regression%20-%2003.ipynb) and that there is a linear algebra equivalent [here](https://github.com/EricSchles/datascience_book/blob/master/5/An%20Introduction%20to%20Neural%20Networks%20-%2007.ipynb).  Neural networks essentially tie these two ideas together and do _both_ optimization strategies.  The linear algebra optimization strategy happens locally with the so called 'forward pass' and then the gradient is used explicitly to update the weights on the 'backward pass'.  But keep in mind there are two optimizations working together in tandem.  \n",
    "\n",
    "So really a neural network is just an ensemble of sort of linear models or models with easy derivates and each 'layer' of the network is just a given model, optimizing a bit of the ensemble in an explicit way.  The power of neural networks come from their flexability.  Unlike random forests or gradient boosted trees which either optimize in parallel or in sequence, neural networks can do both.  Some of the layers can optimize for certain inputs and others can optimize for others.  Or we can feed copies of the same data to a very wide neural network, which essentially acts like a random forest.  We'll see a number of architectures and ideas in this chapter for how to write down different neural network architectures, EVEN if they aren't necessarily useful, it's still good practice to see how to work with these different tools.\n",
    "\n",
    "## A first primitive example\n",
    "\n",
    "Our first example is going to be a purely linear model that simply does essentially linear regression."
   ]
  },
  {
   "cell_type": "code",
   "execution_count": 44,
   "id": "3c7f3f6c",
   "metadata": {},
   "outputs": [
    {
     "name": "stdout",
     "output_type": "stream",
     "text": [
      "MSE: tf.Tensor(27385605000000.0, shape=(), dtype=float32)\n"
     ]
    }
   ],
   "source": [
    "import numpy as np\n",
    "import tensorflow as tf\n",
    "from sklearn.model_selection import train_test_split\n",
    "from sklearn.datasets import make_regression\n",
    "\n",
    "class LinearRegression:\n",
    "    def __init__(self, shape, learning_rate=0.5):\n",
    "        array = np.random.normal(0, 1, size=shape)\n",
    "        array = tf.cast(array, tf.float32)\n",
    "        self.weights = tf.Variable(array)\n",
    "        self.bias = tf.Variable(1.0)\n",
    "        self.learning_rate = learning_rate\n",
    "        \n",
    "    def predict(self, x):\n",
    "        return tf.tensordot(x, self.weights, axes=1) + self.bias\n",
    "    \n",
    "    def loss(self, y_pred, y_true):\n",
    "        return tf.reduce_mean(\n",
    "           tf.square(y_pred - y_true)\n",
    "        )\n",
    "    \n",
    "    def update_weights(self, X_train, y_true):\n",
    "        with tf.GradientTape() as tape:\n",
    "            y_pred = self.predict(X_train)\n",
    "            loss = self.loss(y_pred, y_true)\n",
    "        gradients = tape.gradient(\n",
    "            loss, [self.weights, self.bias]\n",
    "        )\n",
    "        self.weights.assign_sub(gradients[0] * self.learning_rate)\n",
    "        self.bias.assign_sub(gradients[1] * self.learning_rate)\n",
    "\n",
    "X, y = make_regression()\n",
    "X_train, X_test, y_train, y_test = train_test_split(X, y)\n",
    "epochs = 10\n",
    "lin_reg = LinearRegression(X_train.shape[1])\n",
    "X_train = tf.cast(\n",
    "    tf.constant(X_train), \n",
    "    tf.float32\n",
    ")\n",
    "X_test = tf.cast(\n",
    "    tf.constant(X_test),\n",
    "    tf.float32\n",
    ")\n",
    "y_train = tf.cast(\n",
    "    tf.constant(y_train),\n",
    "    tf.float32\n",
    ")\n",
    "y_test = tf.cast(\n",
    "    tf.constant(y_test),\n",
    "    tf.float32\n",
    ")\n",
    "for i in range(epochs):\n",
    "    lin_reg.update_weights(X_train, y_train)\n",
    "    \n",
    "y_pred = lin_reg.predict(X_test)\n",
    "loss = lin_reg.loss(y_pred, y_test)\n",
    "print(\"MSE:\", loss)"
   ]
  },
  {
   "cell_type": "markdown",
   "id": "35e99a5c",
   "metadata": {},
   "source": [
    "There are a couple of things to note here which are mandatory in order for tensorflow to train a mode successfully:\n",
    "\n",
    "1. You must cast everything to the same type - as an exercise try copy/pasting the above code into a new cell and remove all the type casting (the code with tf.cast).  It fails because all the X, y data is treated as doubles, not floats.\n",
    "\n",
    "2. You must call predict and your loss function inside of the gradient tape context but must apply your gradient updates outside the gradient tape context.  This choice has always felt somewhat arbitrary to me.  However, because of how distributed training works and the fact that only some variables are *trainable* while others are frozen, we need some way to manage state.  It's an annoying trade off, but it needed to be made somewhere.  Fortunately, the code is not particularly ugly, just very pedantic\n",
    "\n",
    "3. In general tensors products are not commutative, so the order of your parameters in your tensor product matter.  This can be seen in the predict function defined above.  If we tried changing around the order then our code would not work.\n",
    "\n",
    "4. Notice the use of tf.Variable for our weights and bias term.  If we made those tf.constant instead, then our gradient tape wouldn't let us update our variables.\n",
    "\n",
    "These basic concerns may seem like an impedement, but this code is far cleaner and scalable than the vanilla numpy implementation found [here in the section: A Naive Implementation of a Neural Network](https://github.com/EricSchles/datascience_book/blob/master/5/An%20Introduction%20to%20Neural%20Networks%20-%2007.ipynb).  Also, we don't need to worry about figuring out the derivative for each of our activation functions.  While some people love calculus (like myself, yes even in higher dimensions), many programmers don't.  Which is why automatic differentiation implemented in packages like tensorflow has openned up a world of mathematics to programmers.  \n",
    "\n",
    "Now that we've seen how the tensorflow framework can be used to train a neural network, let's do a multilayer preceptron.  This will be our first multilayer neural network or ensemble of layers.  We'll look at a deep neural network first, deep because it trains the layers in sequence.  And then we'll look at a wide neural network, because it will train the layers in parallel."
   ]
  },
  {
   "cell_type": "code",
   "execution_count": 7,
   "id": "7f3f0337",
   "metadata": {},
   "outputs": [
    {
     "data": {
      "image/png": "[encoded data removed]",
      "text/plain": [
       "<Figure size 432x288 with 1 Axes>"
      ]
     },
     "metadata": {
      "needs_background": "light"
     },
     "output_type": "display_data"
    }
   ],
   "source": [
    "import tensorflow as tf\n",
    "import numpy as np\n",
    "import pandas as pd\n",
    "import random\n",
    "from sklearn.datasets import make_regression\n",
    "from sklearn.model_selection import train_test_split\n",
    "import matplotlib.pyplot as plt\n",
    "\n",
    "class Dense(tf.Module):\n",
    "    def __init__(self, output_size, name=None, final=False):\n",
    "        super().__init__(name=name)\n",
    "        if final:\n",
    "            weights = np.random.normal(0, 1, size=output_size)\n",
    "            weights = tf.cast(weights, tf.float32)\n",
    "            self.weights = tf.Variable(weights)\n",
    "        else:\n",
    "            weights = np.random.normal(0, 1, size=output_size * output_size)\n",
    "            weights = weights.reshape(output_size, output_size)\n",
    "            weights = tf.cast(weights, tf.float32)\n",
    "            self.weights = tf.Variable(weights)\n",
    "        self.bias = tf.Variable(1.0)\n",
    "        \n",
    "    def __call__(self, x):\n",
    "        return tf.tensordot(x, self.weights, axes=1) + self.bias\n",
    "\n",
    "        \n",
    "class NeuralNet(tf.Module):\n",
    "    def __init__(self, X_in, X_out, optimizer):\n",
    "        super(NeuralNet, self).__init__()\n",
    "        self.layer_one = Dense(X_out)\n",
    "        self.layer_two = Dense(X_out)\n",
    "        self.layer_three = Dense(X_out, final=True)\n",
    "        self.optimizer = optimizer\n",
    "        \n",
    "    def _collect_trainable_variables(self):\n",
    "        return [\n",
    "            self.layer_one.weights,\n",
    "            self.layer_one.bias,\n",
    "            self.layer_two.weights,\n",
    "            self.layer_two.bias,\n",
    "            self.layer_three.weights,\n",
    "            self.layer_three.bias\n",
    "        ]\n",
    "    \n",
    "    def __call__(self, x):\n",
    "        return self.predict(x)\n",
    "    \n",
    "    def predict(self, x):\n",
    "        res = self.layer_one(x)\n",
    "        res = self.layer_two(res)\n",
    "        return self.layer_three(res)\n",
    "\n",
    "    def loss(self, y_pred, y_true):\n",
    "        return tf.reduce_mean(\n",
    "           tf.square(y_pred - y_true)\n",
    "        )\n",
    "    \n",
    "    def step(self, x, y):\n",
    "        x = tf.cast(x, tf.float32)\n",
    "        y = tf.cast(y, tf.float32)\n",
    "        with tf.GradientTape() as tape:\n",
    "            pred = self.predict(x)\n",
    "            loss = self.loss(pred, y)\n",
    "        trainable_variables = self._collect_trainable_variables()\n",
    "        gradients = tape.gradient(loss, trainable_variables)\n",
    "        self.optimizer.apply_gradients(zip(gradients, trainable_variables))\n",
    "\n",
    "if __name__ == '__main__':\n",
    "    X, y = make_regression(n_samples=1000, n_features=100)\n",
    "    X_train, X_test, y_train, y_test = train_test_split(X, y)\n",
    "    X_train = tf.cast(\n",
    "        tf.constant(X_train), \n",
    "        tf.float32\n",
    "    )\n",
    "    X_test = tf.cast(\n",
    "        tf.constant(X_test),\n",
    "        tf.float32\n",
    "    )\n",
    "    y_train = tf.cast(\n",
    "        tf.constant(y_train),\n",
    "        tf.float32\n",
    "    )\n",
    "    y_test = tf.cast(\n",
    "        tf.constant(y_test),\n",
    "        tf.float32\n",
    "    )\n",
    "\n",
    "    learning_rate = 0.9\n",
    "    optimizer = tf.optimizers.Adam(learning_rate)\n",
    "    nn = NeuralNet(1000, X_train.shape[1], optimizer)\n",
    "    num_steps = 110\n",
    "    losses = []\n",
    "    for step in range(num_steps):\n",
    "        nn.step(X_train, y_train)\n",
    "        pred = nn(X_test)\n",
    "        loss = nn.loss(pred, y_test)\n",
    "        losses.append(loss)\n",
    "    plt.plot(losses)"
   ]
  },
  {
   "cell_type": "markdown",
   "id": "90fb88f1",
   "metadata": {},
   "source": [
    "Some things to note here that may not be obvious:\n",
    "\n",
    "1. We need to pass the collection of trainable variables to our gradient, otherwise they won't update explicitly.  We did do this in the first example, but this is more formalized now.  Notice, tensorflow expects the weights in order AND the ordering is expected to be weights then bias for each layer.\n",
    "\n",
    "2. We must past the output of the previous layer into the next layer as input\n",
    "\n",
    "3. Now we make use of the adam optimizer to update our weights through gradient update\n",
    "\n",
    "4. We generalize our sub-models into a layer object called Dense, which does linear regression layer by layer.  \n",
    "\n",
    "5. We only want one output vector, our predictions for the final layer, so we need to pass an optional parameter called final to our Dense object, which acts like linear regression.  All the layers before output a square weight matrix.  \n",
    "\n",
    "Note: In this way we can see that neural networks actually do a series of optimization steps in sequence, where each additional layer after the first essentially starts with an optimized version of the previous layer (through the matrix multiplication) and then the optimization procedure itself more or less gets updated on the backward pass.  So we can think of a neural network as optimizing an optimization through backpropagation.\n",
    "\n",
    "Now let's see a wide neural network:"
   ]
  },
  {
   "cell_type": "code",
   "execution_count": 9,
   "id": "0e630f2e",
   "metadata": {},
   "outputs": [
    {
     "data": {
      "image/png": "[encoded data removed]",
      "text/plain": [
       "<Figure size 432x288 with 1 Axes>"
      ]
     },
     "metadata": {
      "needs_background": "light"
     },
     "output_type": "display_data"
    }
   ],
   "source": [
    "import tensorflow as tf\n",
    "import numpy as np\n",
    "import pandas as pd\n",
    "import random\n",
    "from sklearn.datasets import make_regression\n",
    "from sklearn.model_selection import train_test_split\n",
    "import matplotlib.pyplot as plt\n",
    "\n",
    "class Dense(tf.Module):\n",
    "    def __init__(self, output_size, name=None, final=False):\n",
    "        super().__init__(name=name)\n",
    "        if final:\n",
    "            weights = np.random.normal(0, 1, size=output_size)\n",
    "            weights = tf.cast(weights, tf.float32)\n",
    "            self.weights = tf.Variable(weights)\n",
    "        else:\n",
    "            weights = np.random.normal(0, 1, size=output_size * output_size)\n",
    "            weights = weights.reshape(output_size, output_size)\n",
    "            weights = tf.cast(weights, tf.float32)\n",
    "            self.weights = tf.Variable(weights)\n",
    "        self.bias = tf.Variable(1.0)\n",
    "        \n",
    "    def __call__(self, x):\n",
    "        return tf.tensordot(x, self.weights, axes=1) + self.bias\n",
    "\n",
    "        \n",
    "class NeuralNet(tf.Module):\n",
    "    def __init__(self, X_in, X_out, optimizer):\n",
    "        super(NeuralNet, self).__init__()\n",
    "        self.layer_one = Dense(X_out)\n",
    "        self.layer_two = Dense(X_out)\n",
    "        self.layer_three = Dense(X_out, final=True)\n",
    "        self.optimizer = optimizer\n",
    "        \n",
    "    def _collect_trainable_variables(self):\n",
    "        return [\n",
    "            self.layer_one.weights,\n",
    "            self.layer_one.bias,\n",
    "            self.layer_two.weights,\n",
    "            self.layer_two.bias,\n",
    "            self.layer_three.weights,\n",
    "            self.layer_three.bias\n",
    "        ]\n",
    "    \n",
    "    def __call__(self, x):\n",
    "        return self.predict(x)\n",
    "    \n",
    "    def predict(self, x):\n",
    "        res_one = self.layer_one(x)\n",
    "        res_two = self.layer_two(x)\n",
    "        average_weights = tf.reduce_mean(\n",
    "            [res_one, res_two], axis=0\n",
    "        )\n",
    "        return self.layer_three(average_weights)\n",
    "\n",
    "    def loss(self, y_pred, y_true):\n",
    "        return tf.reduce_mean(\n",
    "           tf.square(y_pred - y_true)\n",
    "        )\n",
    "    \n",
    "    def step(self, x, y):\n",
    "        x = tf.cast(x, tf.float32)\n",
    "        y = tf.cast(y, tf.float32)\n",
    "        with tf.GradientTape() as tape:\n",
    "            pred = self.predict(x)\n",
    "            loss = self.loss(pred, y)\n",
    "        trainable_variables = self._collect_trainable_variables()\n",
    "        gradients = tape.gradient(loss, trainable_variables)\n",
    "        self.optimizer.apply_gradients(zip(gradients, trainable_variables))\n",
    "\n",
    "if __name__ == '__main__':\n",
    "    X, y = make_regression(n_samples=1000, n_features=100)\n",
    "    X_train, X_test, y_train, y_test = train_test_split(X, y)\n",
    "    X_train = tf.cast(\n",
    "        tf.constant(X_train), \n",
    "        tf.float32\n",
    "    )\n",
    "    X_test = tf.cast(\n",
    "        tf.constant(X_test),\n",
    "        tf.float32\n",
    "    )\n",
    "    y_train = tf.cast(\n",
    "        tf.constant(y_train),\n",
    "        tf.float32\n",
    "    )\n",
    "    y_test = tf.cast(\n",
    "        tf.constant(y_test),\n",
    "        tf.float32\n",
    "    )\n",
    "    \n",
    "    learning_rate = 0.9\n",
    "    optimizer = tf.optimizers.Adam(learning_rate)\n",
    "    \n",
    "    nn = NeuralNet(1000, X_train.shape[1], optimizer)\n",
    "    num_steps = 110\n",
    "    losses = []\n",
    "    for step in range(num_steps):\n",
    "        nn.step(X_train, y_train)\n",
    "        pred = nn(X_test)\n",
    "        loss = nn.loss(pred, y_test)\n",
    "        losses.append(loss)\n",
    "    plt.plot(losses)"
   ]
  },
  {
   "cell_type": "markdown",
   "id": "07ed7ef7",
   "metadata": {},
   "source": [
    "This is the first strategy we see for optimizing a wide network - take the average of the weights at each update step.  We could also sum the weights:"
   ]
  },
  {
   "cell_type": "code",
   "execution_count": 10,
   "id": "5af0bbb9",
   "metadata": {},
   "outputs": [
    {
     "data": {
      "image/png": "[encoded data removed]",
      "text/plain": [
       "<Figure size 432x288 with 1 Axes>"
      ]
     },
     "metadata": {
      "needs_background": "light"
     },
     "output_type": "display_data"
    }
   ],
   "source": [
    "import tensorflow as tf\n",
    "import numpy as np\n",
    "import pandas as pd\n",
    "import random\n",
    "from sklearn.datasets import make_regression\n",
    "from sklearn.model_selection import train_test_split\n",
    "import matplotlib.pyplot as plt\n",
    "\n",
    "class Dense(tf.Module):\n",
    "    def __init__(self, output_size, name=None, final=False):\n",
    "        super().__init__(name=name)\n",
    "        if final:\n",
    "            weights = np.random.normal(0, 1, size=output_size)\n",
    "            weights = tf.cast(weights, tf.float32)\n",
    "            self.weights = tf.Variable(weights)\n",
    "        else:\n",
    "            weights = np.random.normal(0, 1, size=output_size * output_size)\n",
    "            weights = weights.reshape(output_size, output_size)\n",
    "            weights = tf.cast(weights, tf.float32)\n",
    "            self.weights = tf.Variable(weights)\n",
    "        self.bias = tf.Variable(1.0)\n",
    "        \n",
    "    def __call__(self, x):\n",
    "        return tf.tensordot(x, self.weights, axes=1) + self.bias\n",
    "\n",
    "        \n",
    "class NeuralNet(tf.Module):\n",
    "    def __init__(self, X_in, X_out, optimizer):\n",
    "        super(NeuralNet, self).__init__()\n",
    "        self.layer_one = Dense(X_out)\n",
    "        self.layer_two = Dense(X_out)\n",
    "        self.layer_three = Dense(X_out, final=True)\n",
    "        self.optimizer = optimizer\n",
    "        \n",
    "    def _collect_trainable_variables(self):\n",
    "        return [\n",
    "            self.layer_one.weights,\n",
    "            self.layer_one.bias,\n",
    "            self.layer_two.weights,\n",
    "            self.layer_two.bias,\n",
    "            self.layer_three.weights,\n",
    "            self.layer_three.bias\n",
    "        ]\n",
    "    \n",
    "    def __call__(self, x):\n",
    "        return self.predict(x)\n",
    "    \n",
    "    def predict(self, x):\n",
    "        res_one = self.layer_one(x)\n",
    "        res_two = self.layer_two(x)\n",
    "        average_weights = tf.reduce_sum(\n",
    "            [res_one, res_two], axis=0\n",
    "        )\n",
    "        return self.layer_three(average_weights)\n",
    "\n",
    "    def loss(self, y_pred, y_true):\n",
    "        return tf.reduce_mean(\n",
    "           tf.square(y_pred - y_true)\n",
    "        )\n",
    "    \n",
    "    def step(self, x, y):\n",
    "        x = tf.cast(x, tf.float32)\n",
    "        y = tf.cast(y, tf.float32)\n",
    "        with tf.GradientTape() as tape:\n",
    "            pred = self.predict(x)\n",
    "            loss = self.loss(pred, y)\n",
    "        trainable_variables = self._collect_trainable_variables()\n",
    "        gradients = tape.gradient(loss, trainable_variables)\n",
    "        self.optimizer.apply_gradients(zip(gradients, trainable_variables))\n",
    "\n",
    "if __name__ == '__main__':\n",
    "    X, y = make_regression(n_samples=1000, n_features=100)\n",
    "    X_train, X_test, y_train, y_test = train_test_split(X, y)\n",
    "    X_train = tf.cast(\n",
    "        tf.constant(X_train), \n",
    "        tf.float32\n",
    "    )\n",
    "    X_test = tf.cast(\n",
    "        tf.constant(X_test),\n",
    "        tf.float32\n",
    "    )\n",
    "    y_train = tf.cast(\n",
    "        tf.constant(y_train),\n",
    "        tf.float32\n",
    "    )\n",
    "    y_test = tf.cast(\n",
    "        tf.constant(y_test),\n",
    "        tf.float32\n",
    "    )\n",
    "    \n",
    "    learning_rate = 0.9\n",
    "    optimizer = tf.optimizers.Adam(learning_rate)\n",
    "    \n",
    "    nn = NeuralNet(1000, X_train.shape[1], optimizer)\n",
    "    num_steps = 110\n",
    "    losses = []\n",
    "    for step in range(num_steps):\n",
    "        nn.step(X_train, y_train)\n",
    "        pred = nn(X_test)\n",
    "        loss = nn.loss(pred, y_test)\n",
    "        losses.append(loss)\n",
    "    plt.plot(losses)"
   ]
  },
  {
   "cell_type": "markdown",
   "id": "bf5dfb3c",
   "metadata": {},
   "source": [
    "And finally we can do a reduce multiply:"
   ]
  },
  {
   "cell_type": "code",
   "execution_count": 12,
   "id": "37eb41f4",
   "metadata": {},
   "outputs": [
    {
     "data": {
      "image/png": "[encoded data removed]",
      "text/plain": [
       "<Figure size 432x288 with 1 Axes>"
      ]
     },
     "metadata": {
      "needs_background": "light"
     },
     "output_type": "display_data"
    }
   ],
   "source": [
    "import tensorflow as tf\n",
    "import numpy as np\n",
    "import pandas as pd\n",
    "import random\n",
    "from sklearn.datasets import make_regression\n",
    "from sklearn.model_selection import train_test_split\n",
    "import matplotlib.pyplot as plt\n",
    "\n",
    "class Dense(tf.Module):\n",
    "    def __init__(self, output_size, name=None, final=False):\n",
    "        super().__init__(name=name)\n",
    "        if final:\n",
    "            weights = np.random.normal(0, 1, size=output_size)\n",
    "            weights = tf.cast(weights, tf.float32)\n",
    "            self.weights = tf.Variable(weights)\n",
    "        else:\n",
    "            weights = np.random.normal(0, 1, size=output_size * output_size)\n",
    "            weights = weights.reshape(output_size, output_size)\n",
    "            weights = tf.cast(weights, tf.float32)\n",
    "            self.weights = tf.Variable(weights)\n",
    "        self.bias = tf.Variable(1.0)\n",
    "        \n",
    "    def __call__(self, x):\n",
    "        return tf.tensordot(x, self.weights, axes=1) + self.bias\n",
    "\n",
    "        \n",
    "class NeuralNet(tf.Module):\n",
    "    def __init__(self, X_in, X_out, optimizer):\n",
    "        super(NeuralNet, self).__init__()\n",
    "        self.layer_one = Dense(X_out)\n",
    "        self.layer_two = Dense(X_out)\n",
    "        self.layer_three = Dense(X_out, final=True)\n",
    "        self.optimizer = optimizer\n",
    "        \n",
    "    def _collect_trainable_variables(self):\n",
    "        return [\n",
    "            self.layer_one.weights,\n",
    "            self.layer_one.bias,\n",
    "            self.layer_two.weights,\n",
    "            self.layer_two.bias,\n",
    "            self.layer_three.weights,\n",
    "            self.layer_three.bias\n",
    "        ]\n",
    "    \n",
    "    def __call__(self, x):\n",
    "        return self.predict(x)\n",
    "    \n",
    "    def predict(self, x):\n",
    "        res_one = self.layer_one(x)\n",
    "        res_two = self.layer_two(x)\n",
    "        average_weights = tf.reduce_prod(\n",
    "            [res_one, res_two], axis=0\n",
    "        )\n",
    "        return self.layer_three(average_weights)\n",
    "\n",
    "    def loss(self, y_pred, y_true):\n",
    "        return tf.reduce_mean(\n",
    "           tf.square(y_pred - y_true)\n",
    "        )\n",
    "    \n",
    "    def step(self, x, y):\n",
    "        x = tf.cast(x, tf.float32)\n",
    "        y = tf.cast(y, tf.float32)\n",
    "        with tf.GradientTape() as tape:\n",
    "            pred = self.predict(x)\n",
    "            loss = self.loss(pred, y)\n",
    "        trainable_variables = self._collect_trainable_variables()\n",
    "        gradients = tape.gradient(loss, trainable_variables)\n",
    "        self.optimizer.apply_gradients(zip(gradients, trainable_variables))\n",
    "\n",
    "if __name__ == '__main__':\n",
    "    X, y = make_regression(n_samples=1000, n_features=100)\n",
    "    X_train, X_test, y_train, y_test = train_test_split(X, y)\n",
    "    X_train = tf.cast(\n",
    "        tf.constant(X_train), \n",
    "        tf.float32\n",
    "    )\n",
    "    X_test = tf.cast(\n",
    "        tf.constant(X_test),\n",
    "        tf.float32\n",
    "    )\n",
    "    y_train = tf.cast(\n",
    "        tf.constant(y_train),\n",
    "        tf.float32\n",
    "    )\n",
    "    y_test = tf.cast(\n",
    "        tf.constant(y_test),\n",
    "        tf.float32\n",
    "    )\n",
    "    \n",
    "    learning_rate = 0.9\n",
    "    optimizer = tf.optimizers.Adam(learning_rate)\n",
    "    \n",
    "    nn = NeuralNet(1000, X_train.shape[1], optimizer)\n",
    "    num_steps = 110\n",
    "    losses = []\n",
    "    for step in range(num_steps):\n",
    "        nn.step(X_train, y_train)\n",
    "        pred = nn(X_test)\n",
    "        loss = nn.loss(pred, y_test)\n",
    "        losses.append(loss)\n",
    "    plt.plot(losses)"
   ]
  },
  {
   "cell_type": "markdown",
   "id": "5c756da7",
   "metadata": {},
   "source": [
    "As you can see, all three methods produce more or less the same result.  Averaging seems to be the most obvious way to build wide networks, although summing is probably the fastest training time is a concern.  \n",
    "\n",
    "Now that we've seen a number of variations of general network patterns, let's begin to add non-linearities, we'll only do this for deep neural networks because the ideas are obvious and translate directly to wide networks:"
   ]
  },
  {
   "cell_type": "code",
   "execution_count": 2,
   "id": "a2e9a164",
   "metadata": {},
   "outputs": [
    {
     "data": {
      "image/png": "[encoded data removed]",
      "text/plain": [
       "<Figure size 432x288 with 1 Axes>"
      ]
     },
     "metadata": {
      "needs_background": "light"
     },
     "output_type": "display_data"
    }
   ],
   "source": [
    "import tensorflow as tf\n",
    "import numpy as np\n",
    "import pandas as pd\n",
    "import random\n",
    "from tensorflow.nn import (\n",
    "    tanh,\n",
    "    leaky_relu,\n",
    "    silu,\n",
    "    relu,\n",
    "    selu\n",
    ")\n",
    "from sklearn.datasets import make_regression\n",
    "from sklearn.model_selection import train_test_split\n",
    "import matplotlib.pyplot as plt\n",
    "\n",
    "class Dense(tf.Module):\n",
    "    def __init__(self, output_size, activation='linear', name=None, final=False):\n",
    "        super().__init__(name=name)\n",
    "        if final:\n",
    "            weights = np.random.normal(0, 1, size=output_size)\n",
    "            weights = tf.cast(weights, tf.float32)\n",
    "            self.weights = tf.Variable(weights)\n",
    "        else:\n",
    "            weights = np.random.normal(0, 1, size=output_size * output_size)\n",
    "            weights = weights.reshape(output_size, output_size)\n",
    "            weights = tf.cast(weights, tf.float32)\n",
    "            self.weights = tf.Variable(weights)\n",
    "        self.bias = tf.Variable(1.0)\n",
    "        self.activation_name = activation\n",
    "        \n",
    "    def get_activation(self):\n",
    "        activation_map = {\n",
    "            'linear': None,\n",
    "            'tanh': tanh,\n",
    "            'leaky_relu': leaky_relu,\n",
    "            'silu': silu,\n",
    "            'relu': relu,\n",
    "            'selu': selu\n",
    "        }\n",
    "        return activation_map[self.activation_name]\n",
    "        \n",
    "    def __call__(self, x):\n",
    "        activation = self.get_activation()\n",
    "        if activation:\n",
    "            return activation(tf.tensordot(x, self.weights, axes=1)) + self.bias\n",
    "        else:\n",
    "            return tf.tensordot(x, self.weights, axes=1) + self.bias\n",
    "\n",
    "        \n",
    "class NeuralNet(tf.Module):\n",
    "    def __init__(self, X_in, X_out, optimizer):\n",
    "        super(NeuralNet, self).__init__()\n",
    "        self.layer_one = Dense(X_out, activation='relu')\n",
    "        self.layer_two = Dense(X_out, activation='selu')\n",
    "        self.layer_three = Dense(X_out, activation='linear', final=True)\n",
    "        self.optimizer = optimizer\n",
    "        \n",
    "    def _collect_trainable_variables(self):\n",
    "        return [\n",
    "            self.layer_one.weights,\n",
    "            self.layer_one.bias,\n",
    "            self.layer_two.weights,\n",
    "            self.layer_two.bias,\n",
    "            self.layer_three.weights,\n",
    "            self.layer_three.bias\n",
    "        ]\n",
    "    \n",
    "    def __call__(self, x):\n",
    "        return self.predict(x)\n",
    "    \n",
    "    def predict(self, x):\n",
    "        res = self.layer_one(x)\n",
    "        res = self.layer_two(res)\n",
    "        return self.layer_three(res)\n",
    "\n",
    "    def loss(self, y_pred, y_true):\n",
    "        return tf.reduce_mean(\n",
    "           tf.square(y_pred - y_true)\n",
    "        )\n",
    "    \n",
    "    def step(self, x, y):\n",
    "        x = tf.cast(x, tf.float32)\n",
    "        y = tf.cast(y, tf.float32)\n",
    "        with tf.GradientTape() as tape:\n",
    "            pred = self.predict(x)\n",
    "            loss = self.loss(pred, y)\n",
    "        trainable_variables = self._collect_trainable_variables()\n",
    "        gradients = tape.gradient(loss, trainable_variables)\n",
    "        self.optimizer.apply_gradients(zip(gradients, trainable_variables))\n",
    "\n",
    "if __name__ == '__main__':\n",
    "    X, y = make_regression(n_samples=1000, n_features=100)\n",
    "    X_train, X_test, y_train, y_test = train_test_split(X, y)\n",
    "    X_train = tf.cast(\n",
    "        tf.constant(X_train), \n",
    "        tf.float32\n",
    "    )\n",
    "    X_test = tf.cast(\n",
    "        tf.constant(X_test),\n",
    "        tf.float32\n",
    "    )\n",
    "    y_train = tf.cast(\n",
    "        tf.constant(y_train),\n",
    "        tf.float32\n",
    "    )\n",
    "    y_test = tf.cast(\n",
    "        tf.constant(y_test),\n",
    "        tf.float32\n",
    "    )\n",
    "\n",
    "    learning_rate = 1e-3\n",
    "    optimizer = tf.optimizers.Adam(learning_rate)\n",
    "    nn = NeuralNet(1000, X_train.shape[1], optimizer)\n",
    "    num_steps = 100\n",
    "    losses = []\n",
    "    for step in range(num_steps):\n",
    "        nn.step(X_train, y_train)\n",
    "        pred = nn(X_test)\n",
    "        loss = nn.loss(pred, y_test)\n",
    "        losses.append(loss)\n",
    "    plt.plot(losses)"
   ]
  },
  {
   "cell_type": "markdown",
   "id": "339ee9fa",
   "metadata": {},
   "source": [
    "As you can see, adding non-linearities to our network is very easy!  We simply add it after we do our linear optimization through our dot product and we are essentially done!\n",
    "\n",
    "Let's do a quick review of the shapes of our non-linearities:"
   ]
  },
  {
   "cell_type": "code",
   "execution_count": 10,
   "id": "6d30ec86",
   "metadata": {},
   "outputs": [
    {
     "data": {
      "text/plain": [
       "[<matplotlib.lines.Line2D at 0x7fa5c8177850>]"
      ]
     },
     "execution_count": 10,
     "metadata": {},
     "output_type": "execute_result"
    },
    {
     "data": {
      "image/png": "[encoded data removed]",
      "text/plain": [
       "<Figure size 432x288 with 1 Axes>"
      ]
     },
     "metadata": {
      "needs_background": "light"
     },
     "output_type": "display_data"
    }
   ],
   "source": [
    "import numpy as np\n",
    "import matplotlib.pyplot as plt\n",
    "\n",
    "x = np.linspace(-100, 100, num=100)\n",
    "y = tanh(x)\n",
    "plt.plot(x, y)"
   ]
  },
  {
   "cell_type": "markdown",
   "id": "843fdd1e",
   "metadata": {},
   "source": [
    "As you can see, the tanh function basically collapses our outputspace between -1 and 1 despite how big our predictions get.  This is great for dealing with exploding gradients."
   ]
  },
  {
   "cell_type": "code",
   "execution_count": 11,
   "id": "b3904830",
   "metadata": {},
   "outputs": [
    {
     "data": {
      "text/plain": [
       "[<matplotlib.lines.Line2D at 0x7fa5c83b7f70>]"
      ]
     },
     "execution_count": 11,
     "metadata": {},
     "output_type": "execute_result"
    },
    {
     "data": {
      "image/png": "[encoded data removed]",
      "text/plain": [
       "<Figure size 432x288 with 1 Axes>"
      ]
     },
     "metadata": {
      "needs_background": "light"
     },
     "output_type": "display_data"
    }
   ],
   "source": [
    "import numpy as np\n",
    "import matplotlib.pyplot as plt\n",
    "\n",
    "x = np.linspace(-100, 100, num=100)\n",
    "y = relu(x)\n",
    "plt.plot(x, y)"
   ]
  },
  {
   "cell_type": "markdown",
   "id": "79659698",
   "metadata": {},
   "source": [
    "The ReLU function is piece-wise linear with a discontinuity at zero.  This allows us to linear sort of a 'tree' like structure for our data with the discontinuity acting like a break so we can fit a series of smaller linear sections with our models.  This turns out to be very flexible."
   ]
  },
  {
   "cell_type": "code",
   "execution_count": 12,
   "id": "995f0abd",
   "metadata": {},
   "outputs": [
    {
     "data": {
      "text/plain": [
       "[<matplotlib.lines.Line2D at 0x7fa5c83e4040>]"
      ]
     },
     "execution_count": 12,
     "metadata": {},
     "output_type": "execute_result"
    },
    {
     "data": {
      "image/png": "[encoded data removed]",
      "text/plain": [
       "<Figure size 432x288 with 1 Axes>"
      ]
     },
     "metadata": {
      "needs_background": "light"
     },
     "output_type": "display_data"
    }
   ],
   "source": [
    "import numpy as np\n",
    "import matplotlib.pyplot as plt\n",
    "\n",
    "x = np.linspace(-100, 100, num=100)\n",
    "y = leaky_relu(x)\n",
    "plt.plot(x, y)"
   ]
  },
  {
   "cell_type": "markdown",
   "id": "45304dc4",
   "metadata": {},
   "source": [
    "Leaky ReLU retains the discontinuity so that we can have a 'smooth' piecewise linear model.  But the tail of the function is more flexible allowing us to fit more curvy functions.  This added flexibility can be both a benefit or negative.  It's best to use Leaky ReLUs on data with lots of breaks and changes in the second derivative."
   ]
  },
  {
   "cell_type": "code",
   "execution_count": 14,
   "id": "dde13c94",
   "metadata": {},
   "outputs": [
    {
     "data": {
      "text/plain": [
       "[<matplotlib.lines.Line2D at 0x7fa5c86ad1f0>]"
      ]
     },
     "execution_count": 14,
     "metadata": {},
     "output_type": "execute_result"
    },
    {
     "data": {
      "image/png": "[encoded data removed]",
      "text/plain": [
       "<Figure size 432x288 with 1 Axes>"
      ]
     },
     "metadata": {
      "needs_background": "light"
     },
     "output_type": "display_data"
    }
   ],
   "source": [
    "import numpy as np\n",
    "import matplotlib.pyplot as plt\n",
    "\n",
    "x = np.linspace(-10, 10, num=100)\n",
    "y = silu(x)\n",
    "plt.plot(x, y)"
   ]
  },
  {
   "cell_type": "markdown",
   "id": "9fd0ce69",
   "metadata": {},
   "source": [
    "The SiLU activation function is slightly curvier than ReLU but basically has the same idea.  This function makes use of a sigmoid."
   ]
  },
  {
   "cell_type": "code",
   "execution_count": 15,
   "id": "8c8363a7",
   "metadata": {},
   "outputs": [
    {
     "data": {
      "text/plain": [
       "[<matplotlib.lines.Line2D at 0x7fa5c85f7be0>]"
      ]
     },
     "execution_count": 15,
     "metadata": {},
     "output_type": "execute_result"
    },
    {
     "data": {
      "image/png": "[encoded data removed]",
      "text/plain": [
       "<Figure size 432x288 with 1 Axes>"
      ]
     },
     "metadata": {
      "needs_background": "light"
     },
     "output_type": "display_data"
    }
   ],
   "source": [
    "import numpy as np\n",
    "import matplotlib.pyplot as plt\n",
    "\n",
    "x = np.linspace(-10, 10, num=100)\n",
    "y = selu(x)\n",
    "plt.plot(x, y)"
   ]
  },
  {
   "cell_type": "markdown",
   "id": "f2eaa38e",
   "metadata": {},
   "source": [
    "The SeLU is pretty similar to the SiLU activation function and accomplishs more or less the same thing except it uses a scaling factor and simple exponential instead of a sigmoid.  Notice also the SeLU drops down to -2 to instead of 0, so it's a little more flexible and a little faster.\n",
    "\n",
    "## An introduction to time series modeling\n",
    "\n",
    "One of the major types of data, that's easy to work with but still has some kind of structure, is time series data.  We won't do anything exhaustive here because [this chapter](https://github.com/EricSchles/datascience_book/blob/master/6/Introduction%20to%20timeseries%20modeling.ipynb) exists.\n",
    "\n",
    "But we will use the same dataset.  So, time series data is data that occurs _over time_.  Things like the stock market or weather occur in this sequential form.  We'll be looking at stock market data for our purposes."
   ]
  },
  {
   "cell_type": "code",
   "execution_count": 2,
   "id": "55d44325",
   "metadata": {},
   "outputs": [],
   "source": [
    "# uncomment this line and run if you don't have these libraries installed already\n",
    "# !python -m pip install yfinance requests pandas_datareader"
   ]
  },
  {
   "cell_type": "code",
   "execution_count": 1,
   "id": "57297e98",
   "metadata": {},
   "outputs": [
    {
     "name": "stdout",
     "output_type": "stream",
     "text": [
      "[*********************100%***********************]  1 of 1 completed\n"
     ]
    }
   ],
   "source": [
    "import warnings\n",
    "warnings.filterwarnings('ignore')\n",
    "\n",
    "from pandas_datareader import data as pdr\n",
    "import yfinance as yf\n",
    "\n",
    "yf.pdr_override()\n",
    "\n",
    "df = pdr.get_data_yahoo(\"SPY\", start=\"2017-01-01\", end=\"2023-04-30\")"
   ]
  },
  {
   "cell_type": "code",
   "execution_count": 3,
   "id": "1eb759aa",
   "metadata": {},
   "outputs": [
    {
     "data": {
      "image/png": "[encoded data removed]",
      "text/plain": [
       "<Figure size 432x288 with 1 Axes>"
      ]
     },
     "metadata": {
      "needs_background": "light"
     },
     "output_type": "display_data"
    },
    {
     "name": "stdout",
     "output_type": "stream",
     "text": [
      "102815.93\n"
     ]
    },
    {
     "data": {
      "text/plain": [
       "[<matplotlib.lines.Line2D at 0x7fe0327fda60>]"
      ]
     },
     "execution_count": 3,
     "metadata": {},
     "output_type": "execute_result"
    },
    {
     "data": {
      "image/png": "[encoded data removed]",
      "text/plain": [
       "<Figure size 432x288 with 1 Axes>"
      ]
     },
     "metadata": {
      "needs_background": "light"
     },
     "output_type": "display_data"
    }
   ],
   "source": [
    "from sklearn.model_selection import train_test_split\n",
    "from sklearn.svm import SVR\n",
    "from sklearn.metrics import mean_squared_error \n",
    "import matplotlib.pyplot as plt\n",
    "import tensorflow as tf\n",
    "\n",
    "def generate_dataset(df, column, shift_range=7):\n",
    "    for i in range(1, shift_range):\n",
    "        shift = i * -1\n",
    "        df[f\"{column}_shifted_{i}\"] = df[column].shift(shift)\n",
    "    columns = df.columns.tolist()\n",
    "    columns = [col for col in columns if column in col]\n",
    "    return df[columns].dropna()\n",
    "\n",
    "sample = df[df.index.year > 2020]\n",
    "open_training = generate_dataset(sample, \"Open\", shift_range=7)\n",
    "\n",
    "y = open_training[\"Open\"]\n",
    "open_training = open_training.drop(\"Open\", axis=1)\n",
    "X = open_training\n",
    "X_train, X_test, y_train, y_test = train_test_split(X, y)\n",
    "X_train = tf.cast(\n",
    "    tf.constant(X_train), \n",
    "    tf.float32\n",
    ")\n",
    "X_test = tf.cast(\n",
    "    tf.constant(X_test),\n",
    "    tf.float32\n",
    ")\n",
    "y_train = tf.cast(\n",
    "    tf.constant(y_train),\n",
    "    tf.float32\n",
    ")\n",
    "y_test = tf.cast(\n",
    "    tf.constant(y_test),\n",
    "    tf.float32\n",
    ")\n",
    "\n",
    "learning_rate = 1e-3\n",
    "optimizer = tf.optimizers.Adam(learning_rate)\n",
    "model = NeuralNet(1000, X_train.shape[1], optimizer)\n",
    "num_steps = 100\n",
    "losses = []\n",
    "for step in range(num_steps):\n",
    "    model.step(X_train, y_train)\n",
    "    pred = model(X_test)\n",
    "    loss = model.loss(pred, y_test)\n",
    "    losses.append(loss)\n",
    "plt.plot(losses)\n",
    "plt.show()\n",
    "y_pred = model(X_test)\n",
    "print(mean_squared_error(y_pred, y_test))\n",
    "X_test = pd.DataFrame(X_test.numpy())\n",
    "viz_results_df = X_test.copy()\n",
    "viz_results_df[\"y_test\"] = y_test.numpy()\n",
    "viz_results_df[\"y_pred\"] = y_pred.numpy()\n",
    "viz_results_df.sort_index(inplace=True)\n",
    "\n",
    "plt.plot(list(viz_results_df.index), list(viz_results_df[\"y_test\"].values), color=\"blue\")\n",
    "plt.plot(list(viz_results_df.index), list(viz_results_df[\"y_pred\"].values), color=\"green\")"
   ]
  },
  {
   "cell_type": "markdown",
   "id": "2c16686d",
   "metadata": {},
   "source": [
    "As you can see, our neural network does pretty shabby, that's because it's not good at learning the over time structure of our time series.  Is all hope lost?!  Nope!  There are explicit neural network architectures for dealing with data that comes with an inherent 'structure' like time series.  These architectures are:\n",
    "\n",
    "* convolutional neural networks\n",
    "* involutional neural networks\n",
    "* recurrent neural networks\n",
    "* transformer neural networks\n",
    "* graph neural networks\n",
    "\n",
    "There are a few more semi famous ones, but CNN, RNN, graph, and transformer are the major ones.  I included the involution because I think it's a super neat architecture and doesn't get enough love.  It's worth noting these architectures can work with higher dimension data, that is data that's organized as a three tensor or higher.  We won't go into that here, but perhaps in a future chapter!\n",
    "\n",
    "Anywho, let's start with convolutions since those are the easiest to understand!\n",
    "\n",
    "## Convolutional Neural Network\n",
    "\n",
    "The convolution is a fairly simple idea, it's basically sort of like a more flexible average.  It can be used for lots of things, but it's easiest to start here and we'll build up more intuition over time.  For the purposes of programming these things, we'll only work with a discrete convolution.  The continuous case just exchanges sums for integration, so pretty standard, and essentially all the intuition just carries over.  Let's start with the mathematical description of a convolution:\n",
    "\n",
    "$$ \\sum_{0}^{n}{f(n) * g(m - n)} $$\n",
    "\n",
    "Basically, we have some kernel function (the term kernel function gets used in a lot of places, often times in machine learning it measures the similarity or dissimilarity between two points however not here) which takes in a given index and then outputs a value.  Then we have some other function, which in our case will be our data.  Let's write down a specific convolution and then run it over our data:"
   ]
  },
  {
   "cell_type": "code",
   "execution_count": 26,
   "id": "fbf67af3",
   "metadata": {},
   "outputs": [
    {
     "data": {
      "image/png": "[encoded data removed]",
      "text/plain": [
       "<Figure size 432x288 with 1 Axes>"
      ]
     },
     "metadata": {
      "needs_background": "light"
     },
     "output_type": "display_data"
    },
    {
     "data": {
      "text/plain": [
       "[<matplotlib.lines.Line2D at 0x7fc6b1e18a90>]"
      ]
     },
     "execution_count": 26,
     "metadata": {},
     "output_type": "execute_result"
    },
    {
     "data": {
      "image/png": "[encoded data removed]",
      "text/plain": [
       "<Figure size 432x288 with 1 Axes>"
      ]
     },
     "metadata": {
      "needs_background": "light"
     },
     "output_type": "display_data"
    }
   ],
   "source": [
    "import matplotlib.pyplot as plt\n",
    "\n",
    "def f(size):\n",
    "    return 1/size\n",
    "\n",
    "def convolve(x, window_size=6):\n",
    "    convolved = []\n",
    "    prev_i = 0\n",
    "    for i in range(window_size, len(x), window_size):\n",
    "        f_x = f(window_size)\n",
    "        res = f_x * x[prev_i:i]\n",
    "        convolved.append(sum(res))\n",
    "        prev_i = i\n",
    "    return convolved\n",
    "\n",
    "res = convolve(y)\n",
    "index = list(range(len(res)))\n",
    "plt.plot(index, res)\n",
    "plt.show()\n",
    "index = list(range(len(y)))\n",
    "plt.plot(index, np.array(y))"
   ]
  },
  {
   "cell_type": "markdown",
   "id": "430ed385",
   "metadata": {},
   "source": [
    "Here we pick a kernel which basically does the moving average - each of the values is multiplied by the size of the window and then everything is summed.  But we need not pick the same value or even a number less than one for our kernel.  All that matters is that every element in our window is sent somewhere.  So this is just as valid:"
   ]
  },
  {
   "cell_type": "code",
   "execution_count": 29,
   "id": "8b2d0778",
   "metadata": {},
   "outputs": [
    {
     "data": {
      "image/png": "[encoded data removed]",
      "text/plain": [
       "<Figure size 432x288 with 1 Axes>"
      ]
     },
     "metadata": {
      "needs_background": "light"
     },
     "output_type": "display_data"
    },
    {
     "data": {
      "text/plain": [
       "[<matplotlib.lines.Line2D at 0x7fc6adb8c250>]"
      ]
     },
     "execution_count": 29,
     "metadata": {},
     "output_type": "execute_result"
    },
    {
     "data": {
      "image/png": "[encoded data removed]",
      "text/plain": [
       "<Figure size 432x288 with 1 Axes>"
      ]
     },
     "metadata": {
      "needs_background": "light"
     },
     "output_type": "display_data"
    }
   ],
   "source": [
    "import matplotlib.pyplot as plt\n",
    "\n",
    "def f(size):\n",
    "    return size * 10\n",
    "\n",
    "def convolve(x, window_size=2):\n",
    "    convolved = []\n",
    "    prev_i = 0\n",
    "    for i in range(window_size, len(x), window_size):\n",
    "        f_x = f(window_size)\n",
    "        res = f_x * x[prev_i:i]\n",
    "        convolved.append(sum(res))\n",
    "        prev_i = i\n",
    "    return convolved\n",
    "\n",
    "res = convolve(y)\n",
    "index = list(range(len(res)))\n",
    "plt.plot(index, res)\n",
    "plt.show()\n",
    "index = list(range(len(y)))\n",
    "plt.plot(index, np.array(y))"
   ]
  },
  {
   "cell_type": "markdown",
   "id": "002de7bb",
   "metadata": {},
   "source": [
    "Notice, that as our window size gets smaller, we recover more and more of our original pattern.  And the larger our window size, the more of a smoothed summary we are working with.  This is the power of convolutions, we get a local 'scaled' summary of our data.  It's clearly capable of handling non-linear data, despite being a 'linear' function.  It's just basically 'piece-wise' linear, kind of like the ReLU, since it glues together windows of data, so global patterns persist.  \n",
    "\n",
    "In a convolutional neural network, the kernel is learned to optimize the deformation from one signal into the predicted signal.  Other than that, there really isn't anything new here.  Let's look at an example for how to code one of these up!\n",
    "\n",
    "We'll start by looking at tensorflow's built in convolve method:"
   ]
  },
  {
   "cell_type": "code",
   "execution_count": 5,
   "id": "ebb6d25d",
   "metadata": {},
   "outputs": [
    {
     "name": "stdout",
     "output_type": "stream",
     "text": [
      "Help on function conv1d_v2 in module tensorflow.python.ops.nn_ops:\n",
      "\n",
      "conv1d_v2(input, filters, stride, padding, data_format='NWC', dilations=None, name=None)\n",
      "    Computes a 1-D convolution given 3-D input and filter tensors.\n",
      "    \n",
      "    Given an input tensor of shape\n",
      "      `batch_shape + [in_width, in_channels]`\n",
      "    if `data_format` is `\"NWC\"`, or\n",
      "      `batch_shape + [in_channels, in_width]`\n",
      "    if `data_format` is `\"NCW\"`,\n",
      "    and a filter / kernel tensor of shape\n",
      "    `[filter_width, in_channels, out_channels]`, this op reshapes\n",
      "    the arguments to pass them to `conv2d` to perform the equivalent\n",
      "    convolution operation.\n",
      "    \n",
      "    Internally, this op reshapes the input tensors and invokes `tf.nn.conv2d`.\n",
      "    For example, if `data_format` does not start with `\"NC\"`, a tensor of shape\n",
      "      `batch_shape + [in_width, in_channels]`\n",
      "    is reshaped to\n",
      "      `batch_shape + [1, in_width, in_channels]`,\n",
      "    and the filter is reshaped to\n",
      "      `[1, filter_width, in_channels, out_channels]`.\n",
      "    The result is then reshaped back to\n",
      "      `batch_shape + [out_width, out_channels]`\n",
      "    \\(where out_width is a function of the stride and padding as in conv2d\\) and\n",
      "    returned to the caller.\n",
      "    \n",
      "    Args:\n",
      "      input: A Tensor of rank at least 3. Must be of type `float16`, `float32`, or\n",
      "        `float64`.\n",
      "      filters: A Tensor of rank at least 3.  Must have the same type as `input`.\n",
      "      stride: An int or list of `ints` that has length `1` or `3`.  The number of\n",
      "        entries by which the filter is moved right at each step.\n",
      "      padding: 'SAME' or 'VALID'\n",
      "      data_format: An optional `string` from `\"NWC\", \"NCW\"`.  Defaults to `\"NWC\"`,\n",
      "        the data is stored in the order of\n",
      "        `batch_shape + [in_width, in_channels]`.  The `\"NCW\"` format stores data\n",
      "        as `batch_shape + [in_channels, in_width]`.\n",
      "      dilations: An int or list of `ints` that has length `1` or `3` which\n",
      "        defaults to 1. The dilation factor for each dimension of input. If set to\n",
      "        k > 1, there will be k-1 skipped cells between each filter element on that\n",
      "        dimension. Dilations in the batch and depth dimensions must be 1.\n",
      "      name: A name for the operation (optional).\n",
      "    \n",
      "    Returns:\n",
      "      A `Tensor`.  Has the same type as input.\n",
      "    \n",
      "    Raises:\n",
      "      ValueError: if `data_format` is invalid.\n",
      "\n"
     ]
    }
   ],
   "source": [
    "help(tf.nn.conv1d)"
   ]
  },
  {
   "cell_type": "markdown",
   "id": "c94fdd8d",
   "metadata": {},
   "source": [
    "This looks pretty reasonable!  Let's look at the expected shape for the filter and the data via an example.  Then we'll be ready to write a convolutional layer!"
   ]
  },
  {
   "cell_type": "code",
   "execution_count": 8,
   "id": "ecc23ce2",
   "metadata": {},
   "outputs": [
    {
     "data": {
      "text/plain": [
       "<tf.Tensor: shape=(1, 10, 10), dtype=float32, numpy=\n",
       "array([[[ -2.0254931 ,  -2.2417974 ,   0.51878214,  -2.5908682 ,\n",
       "          -6.6008797 ,   0.5045136 ,  -0.8114885 ,  -4.967957  ,\n",
       "          -0.5497129 ,   3.3487234 ],\n",
       "        [ -2.8269103 ,  -2.3048804 ,  -4.0402284 ,  -4.4751935 ,\n",
       "           1.078631  ,  -2.7946608 ,   3.9435031 ,  -2.4571567 ,\n",
       "          -0.11305809,  -2.8713312 ],\n",
       "        [ -1.484452  ,  -0.68724674,   6.419431  ,   4.055015  ,\n",
       "          -9.001113  ,   3.486238  , -10.058787  ,  -0.45145866,\n",
       "           2.110779  ,  -4.572446  ],\n",
       "        [  0.9690869 ,  -6.9576535 ,   0.8372947 ,  -3.1651733 ,\n",
       "           2.4205027 ,  -3.220695  ,   4.6720304 ,   1.1900971 ,\n",
       "          -1.7742012 ,  -1.6048522 ],\n",
       "        [ -0.43239865,   9.46621   ,  -4.275375  ,  -1.8224891 ,\n",
       "           1.3836923 ,   0.77848154,  -0.38968948,  -5.7313175 ,\n",
       "           0.3040377 ,   3.5135105 ],\n",
       "        [  7.9174986 ,   2.2071528 ,  -0.9329866 ,  -2.5469716 ,\n",
       "           0.41907436,  -1.1896588 ,  -0.760078  ,   6.943656  ,\n",
       "           0.9106707 ,  -7.236896  ],\n",
       "        [  2.629804  ,  -1.5872327 ,   1.2786734 ,   2.7594998 ,\n",
       "          -3.1396167 ,  -0.74242836,   0.77820385,  -1.4026104 ,\n",
       "           1.8074629 ,   3.2904077 ],\n",
       "        [  2.0638032 ,  -2.171961  ,  -2.0475771 ,  -2.134683  ,\n",
       "          -2.4370103 ,  -1.9672902 ,   6.9202695 ,  -8.620155  ,\n",
       "          -5.3399634 ,  11.634795  ],\n",
       "        [ -0.08071989,  -7.945702  ,  -3.0593536 ,  -7.6594567 ,\n",
       "           4.4179645 ,  -2.7554789 ,   3.3846893 ,   5.3060875 ,\n",
       "          -1.6243634 ,   3.6981273 ],\n",
       "        [ -3.4823408 ,  -2.5911224 ,  -0.7386443 ,  -2.2610223 ,\n",
       "           1.1179258 ,  -1.4691147 ,   4.032498  ,  -5.1974664 ,\n",
       "          -3.5600233 ,   1.0138116 ]]], dtype=float32)>"
      ]
     },
     "execution_count": 8,
     "metadata": {},
     "output_type": "execute_result"
    }
   ],
   "source": [
    "import numpy as np\n",
    "\n",
    "data, _filter = (\n",
    "    np.random.normal(0,1, size=100).reshape(1, 10, 10),\n",
    "    np.random.normal(0,1, size=100).reshape(1, 10, 10)\n",
    ")\n",
    "data = tf.cast(\n",
    "    tf.constant(data), \n",
    "    tf.float32\n",
    ")\n",
    "_filter = tf.cast(\n",
    "    tf.constant(_filter), \n",
    "    tf.float32\n",
    ")\n",
    "stride = 1\n",
    "padding = \"SAME\"\n",
    "res = tf.nn.conv1d(data, _filter, stride, padding)\n",
    "res"
   ]
  },
  {
   "cell_type": "markdown",
   "id": "b9c1f86a",
   "metadata": {},
   "source": [
    "Jackpot!  So now we can pass a filter and input data to a convolution and get out a convolved tensor!  Note we'll need to get rid of our artificial third dimension:"
   ]
  },
  {
   "cell_type": "code",
   "execution_count": 9,
   "id": "8f56bd5a",
   "metadata": {},
   "outputs": [
    {
     "name": "stdout",
     "output_type": "stream",
     "text": [
      "(1, 10, 10)\n",
      "(10, 10)\n"
     ]
    }
   ],
   "source": [
    "print(res.shape)\n",
    "res = tf.reshape(res, [10, 10])\n",
    "print(res.shape)"
   ]
  },
  {
   "cell_type": "markdown",
   "id": "c1eeb25e",
   "metadata": {},
   "source": [
    "We now have all the pieces we'll need to write our convolutional layer:"
   ]
  },
  {
   "cell_type": "code",
   "execution_count": 31,
   "id": "5210862a",
   "metadata": {},
   "outputs": [],
   "source": [
    "class Conv2D(tf.Module):\n",
    "    def __init__(self, output_size, stride, padding, activation='linear', name=None):\n",
    "        super().__init__(name=name)\n",
    "        weights = np.random.normal(0, 1, size=output_size * output_size)\n",
    "        weights = weights.reshape(output_size, output_size)\n",
    "        weights = tf.cast(weights, tf.float32)\n",
    "        weights = self._3d_reshape_tensor(self, weights)\n",
    "        self.weights = tf.Variable(weights)\n",
    "        self.activation_name = activation\n",
    "        self.stride = stride\n",
    "        self.padding = padding\n",
    "        self.bias = tf.Variable(1.0)\n",
    "        self.output_size = output_size\n",
    "        \n",
    "    def _3d_reshape_tensor(self, tensor):\n",
    "        tensor_shape = list(tensor.shape)\n",
    "        # adding index dimension so we can convolve\n",
    "        tensor_shape.insert(0, 1)\n",
    "        return tf.reshape(tensor, tensor_shape)\n",
    "        \n",
    "    def _2d_reshape_tensor(self, tensor):\n",
    "        tensor_shape = [self.output_size, self.output_size]\n",
    "        return tf.reshape(tensor, tensor_shape)\n",
    "    \n",
    "    def get_activation(self):\n",
    "        activation_map = {\n",
    "            'linear': None,\n",
    "            'tanh': tanh,\n",
    "            'leaky_relu': leaky_relu,\n",
    "            'silu': silu,\n",
    "            'relu': relu,\n",
    "            'selu': selu\n",
    "        }\n",
    "        return activation_map[self.activation_name]\n",
    "        \n",
    "    def __call__(self, x):\n",
    "        x = self._3d_reshape_tensor(x)\n",
    "        convolved_tensor = tf.nn.conv1d(x, self.weights, self.stride, self.padding)\n",
    "        convolved_tensor = self._2d_reshape_tensor(convolved_tensor)\n",
    "        activation = self.get_activation()\n",
    "        if activation:\n",
    "            return activation(convolved_tensor) + self.bias\n",
    "        else:\n",
    "            return convolved_tensor + self.bias\n"
   ]
  },
  {
   "cell_type": "markdown",
   "id": "cf9d96b1",
   "metadata": {},
   "source": [
    "Notice that our convolutional layer simply takes the pieces that we've already defined and joins them together.  Let's look at the `__call__` method first:\n",
    "\n",
    "1. We reshape our 2-D into three dimensions to run our convolution.\n",
    "2. Then we call our helper function to actually do the convolution, that tensorflow provides for us.\n",
    "3. We then reshape back to a 2-D tensor so we can pass to the next layer\n",
    "4. we get our activation and call it on our convolved tensor like normal\n",
    "\n",
    "So basically a convolutional layer is the same thing as our regular dense layer except we do this extra convolve step, which acts like a sliding window over our data.  For data that doesn't change much from moment to moment, it's best to set the stride to be one.  But for data with lots of sparsity, it's probably best for a slightly larger stride length.  In any event, in general, the convolution smooths out or summarizes our data, making it easier to 'see' larger more generalized patterns, hence it's popularity in many architectures.\n",
    "\n",
    "Notice there is sort of a relationship with attention, in the sense that we don't observe everything in the data, but attend to small areas at a time.  Of course, the way attention works in neural networks is completely different mechanically, but there is sort of a naive 'attention' idea here.\n",
    "\n",
    "Without further ado here is the complete network, a CNN:"
   ]
  },
  {
   "cell_type": "code",
   "execution_count": 10,
   "id": "f5fb05d0",
   "metadata": {},
   "outputs": [
    {
     "data": {
      "image/png": "[encoded data removed]",
      "text/plain": [
       "<Figure size 432x288 with 1 Axes>"
      ]
     },
     "metadata": {
      "needs_background": "light"
     },
     "output_type": "display_data"
    }
   ],
   "source": [
    "import tensorflow as tf\n",
    "import numpy as np\n",
    "import pandas as pd\n",
    "import random\n",
    "from tensorflow.nn import (\n",
    "    tanh,\n",
    "    leaky_relu,\n",
    "    silu,\n",
    "    relu,\n",
    "    selu\n",
    ")\n",
    "from sklearn.datasets import make_regression\n",
    "from sklearn.model_selection import train_test_split\n",
    "import matplotlib.pyplot as plt\n",
    "\n",
    "class Conv2D(tf.Module):\n",
    "    def __init__(self, output_size, stride, padding, activation='linear', name=None):\n",
    "        super().__init__(name=name)\n",
    "        weights = np.random.normal(0, 1, size=output_size * output_size)\n",
    "        weights = weights.reshape(output_size, output_size)\n",
    "        weights = tf.cast(weights, tf.float32)\n",
    "        weights = self._3d_reshape_tensor(weights)\n",
    "        self.weights = tf.Variable(weights)\n",
    "        self.activation_name = activation\n",
    "        self.stride = stride\n",
    "        self.padding = padding\n",
    "        self.bias = tf.Variable(1.0)\n",
    "        self.output_size = output_size\n",
    "        \n",
    "    def _3d_reshape_tensor(self, tensor):\n",
    "        tensor_shape = list(tensor.shape)\n",
    "        # adding index dimension so we can convolve\n",
    "        tensor_shape.insert(0, 1)\n",
    "        return tf.reshape(tensor, tensor_shape)\n",
    "        \n",
    "    def _2d_reshape_tensor(self, tensor):\n",
    "        tensor_shape = list(tensor.shape)\n",
    "        # first dimension is index by convention in this network\n",
    "        tensor_shape = tensor_shape[1:]\n",
    "        return tf.reshape(tensor, tensor_shape)\n",
    "    \n",
    "    def get_activation(self):\n",
    "        activation_map = {\n",
    "            'linear': None,\n",
    "            'tanh': tanh,\n",
    "            'leaky_relu': leaky_relu,\n",
    "            'silu': silu,\n",
    "            'relu': relu,\n",
    "            'selu': selu\n",
    "        }\n",
    "        return activation_map[self.activation_name]\n",
    "        \n",
    "    def __call__(self, x):\n",
    "        x = self._3d_reshape_tensor(x)\n",
    "        convolved_tensor = tf.nn.conv1d(x, self.weights, self.stride, self.padding)\n",
    "        convolved_tensor = self._2d_reshape_tensor(convolved_tensor)\n",
    "        activation = self.get_activation()\n",
    "        if activation:\n",
    "            return activation(convolved_tensor) + self.bias\n",
    "        else:\n",
    "            return convolved_tensor + self.bias\n",
    "        \n",
    "class Dense(tf.Module):\n",
    "    def __init__(self, output_size, activation='linear', name=None, final=False):\n",
    "        super().__init__(name=name)\n",
    "        if final:\n",
    "            weights = np.random.normal(0, 1, size=output_size)\n",
    "            weights = tf.cast(weights, tf.float32)\n",
    "            self.weights = tf.Variable(weights)\n",
    "        else:\n",
    "            weights = np.random.normal(0, 1, size=output_size * output_size)\n",
    "            weights = weights.reshape(output_size, output_size)\n",
    "            weights = tf.cast(weights, tf.float32)\n",
    "            self.weights = tf.Variable(weights)\n",
    "        self.bias = tf.Variable(1.0)\n",
    "        self.activation_name = activation\n",
    "        \n",
    "    def get_activation(self):\n",
    "        activation_map = {\n",
    "            'linear': None,\n",
    "            'tanh': tanh,\n",
    "            'leaky_relu': leaky_relu,\n",
    "            'silu': silu,\n",
    "            'relu': relu,\n",
    "            'selu': selu\n",
    "        }\n",
    "        return activation_map[self.activation_name]\n",
    "        \n",
    "    def __call__(self, x):\n",
    "        activation = self.get_activation()\n",
    "        if activation:\n",
    "            return activation(tf.tensordot(x, self.weights, axes=1)) + self.bias\n",
    "        else:\n",
    "            return tf.tensordot(x, self.weights, axes=1) + self.bias\n",
    "\n",
    "        \n",
    "class NeuralNet(tf.Module):\n",
    "    def __init__(self, X_in, X_out, optimizer, stride = 1, padding = \"SAME\"):\n",
    "        super(NeuralNet, self).__init__()\n",
    "        self.layer_one = Dense(X_out, activation='relu')\n",
    "        self.layer_two = Conv2D(X_out, stride, padding, activation='selu')\n",
    "        self.layer_three = Dense(X_out, activation='linear', final=True)\n",
    "        self.optimizer = optimizer\n",
    "        \n",
    "    def _collect_trainable_variables(self):\n",
    "        return [\n",
    "            self.layer_one.weights,\n",
    "            self.layer_one.bias,\n",
    "            self.layer_two.weights,\n",
    "            self.layer_two.bias,\n",
    "            self.layer_three.weights,\n",
    "            self.layer_three.bias\n",
    "        ]\n",
    "    \n",
    "    def __call__(self, x):\n",
    "        return self.predict(x)\n",
    "    \n",
    "    def predict(self, x):\n",
    "        res = self.layer_one(x)\n",
    "        res = self.layer_two(res)\n",
    "        return self.layer_three(res)\n",
    "\n",
    "    def loss(self, y_pred, y_true):\n",
    "        return tf.reduce_mean(\n",
    "           tf.square(y_pred - y_true)\n",
    "        )\n",
    "    \n",
    "    def step(self, x, y):\n",
    "        x = tf.cast(x, tf.float32)\n",
    "        y = tf.cast(y, tf.float32)\n",
    "        with tf.GradientTape() as tape:\n",
    "            pred = self.predict(x)\n",
    "            loss = self.loss(pred, y)\n",
    "        trainable_variables = self._collect_trainable_variables()\n",
    "        gradients = tape.gradient(loss, trainable_variables)\n",
    "        self.optimizer.apply_gradients(zip(gradients, trainable_variables))\n",
    "\n",
    "if __name__ == '__main__':\n",
    "    X, y = make_regression(n_samples=1000, n_features=100)\n",
    "    X_train, X_test, y_train, y_test = train_test_split(X, y)\n",
    "    X_train = tf.cast(\n",
    "        tf.constant(X_train), \n",
    "        tf.float32\n",
    "    )\n",
    "    X_test = tf.cast(\n",
    "        tf.constant(X_test),\n",
    "        tf.float32\n",
    "    )\n",
    "    y_train = tf.cast(\n",
    "        tf.constant(y_train),\n",
    "        tf.float32\n",
    "    )\n",
    "    y_test = tf.cast(\n",
    "        tf.constant(y_test),\n",
    "        tf.float32\n",
    "    )\n",
    "\n",
    "    learning_rate = 1e-3\n",
    "    optimizer = tf.optimizers.Adam(learning_rate)\n",
    "    nn = NeuralNet(1000, X_train.shape[1], optimizer)\n",
    "    num_steps = 100\n",
    "    losses = []\n",
    "    for step in range(num_steps):\n",
    "        nn.step(X_train, y_train)\n",
    "        pred = nn(X_test)\n",
    "        loss = nn.loss(pred, y_test)\n",
    "        losses.append(loss)\n",
    "    plt.plot(losses)"
   ]
  },
  {
   "cell_type": "markdown",
   "id": "b52a921e",
   "metadata": {},
   "source": [
    "The next thing we will look at is a popular CNN architecture, the residual network.  You may think, convolution is all you need, but in general, there are some extra tricks for designing neural networks that come in handy at the architecture level.  Networks like these help to deal with some of the potential negative consequences that can occur in neural networks like exploding or vanishing gradients.  And residual networks in particular were designed to deal with these sorts of issues.  In both regimes the network fails to learn information about the data and tends to not be useful.\n",
    "\n",
    "In order to build a Residual Network from scratch we'll need a few ideas.  Below is a keras implementation which we will translate into low level tensorflow code:"
   ]
  },
  {
   "cell_type": "code",
   "execution_count": 11,
   "id": "071212a2",
   "metadata": {},
   "outputs": [],
   "source": [
    "def get_resnet_model():\n",
    "    def residual_block(X, kernels, stride):\n",
    "        out = tf.keras.layers.Conv1D(kernels, stride, padding='same')(X)\n",
    "        out = tf.keras.layers.ReLU()(out)\n",
    "        out = tf.keras.layers.Conv1D(kernels, stride, padding='same')(out)\n",
    "        out = tf.keras.layers.add([X, out])\n",
    "        out = tf.keras.layers.ReLU()(out)\n",
    "        out = tf.keras.layers.MaxPool1D(2, 1)(out)\n",
    "        return out\n",
    "\n",
    "    kernels = 4\n",
    "    stride = 1\n",
    "\n",
    "    inputs = tf.keras.layers.Input([8,1])\n",
    "    X = tf.keras.layers.Conv1D(kernels, stride)(inputs)\n",
    "    X = residual_block(X, kernels, stride)\n",
    "    X = residual_block(X, kernels, stride)\n",
    "    X = residual_block(X, kernels, stride)\n",
    "    X = tf.keras.layers.Flatten()(X)\n",
    "    X = tf.keras.layers.Dense(32, activation='relu')(X)\n",
    "    X = tf.keras.layers.Dense(32, activation='relu')(X)\n",
    "    output = tf.keras.layers.Dense(1, activation='linear')(X)\n",
    "\n",
    "    optimizer = tf.keras.optimizers.Adam(learning_rate=0.0001)\n",
    "    model = tf.keras.Model(inputs=inputs, outputs=output)\n",
    "    model.compile(optimizer=optimizer, loss=mean_squared_error, metrics=[mean_squared_error])\n",
    "\n",
    "    return model"
   ]
  },
  {
   "cell_type": "markdown",
   "id": "20bad0a7",
   "metadata": {},
   "source": [
    "As you can see, we already have most of this implemented.  What we'll need specifically are:\n",
    "\n",
    "* add\n",
    "* maxpooling\n",
    "* flatten\n",
    "\n",
    "Let's start with the add:\n",
    "\n",
    "As you can see, the add layer takes in the original signal and the output of the residual block right before the final ReLU.  This happens in case we have a vanishing gradient, so that not all of the signal is lost.  This always works over the original data, so even if the weights get really small we'll still capture something in the final ReLU layer, essentially making the block a piece wise linear layer if the convolution washes out too much signal through over smoothing."
   ]
  },
  {
   "cell_type": "code",
   "execution_count": 14,
   "id": "26962bae",
   "metadata": {},
   "outputs": [],
   "source": [
    "X = tf.constant(np.random.normal(0, 1, size=100).reshape(10, 10))\n",
    "out = tf.constant(np.random.normal(0, 1, size=100).reshape(10, 10))\n",
    "res = tf.keras.layers.add([X, out])"
   ]
  },
  {
   "cell_type": "code",
   "execution_count": 21,
   "id": "0875ca7f",
   "metadata": {},
   "outputs": [
    {
     "data": {
      "text/plain": [
       "(<tf.Tensor: shape=(10,), dtype=float32, numpy=\n",
       " array([-0.16015059,  0.41206357,  1.6907461 , -0.13928151,  1.3594213 ,\n",
       "         3.820858  ,  1.0799555 ,  1.2620817 , -2.9175296 , -0.4500765 ],\n",
       "       dtype=float32)>,\n",
       " <tf.Tensor: shape=(10,), dtype=float64, numpy=\n",
       " array([-0.1601506 ,  0.41206359,  1.690746  , -0.13928154,  1.35942135,\n",
       "         3.82085809,  1.07995542,  1.26208177, -2.91752961, -0.45007648])>)"
      ]
     },
     "execution_count": 21,
     "metadata": {},
     "output_type": "execute_result"
    }
   ],
   "source": [
    "res2 = X + out\n",
    "\n",
    "res[0], res2[0]"
   ]
  },
  {
   "cell_type": "markdown",
   "id": "b3d5b4f1",
   "metadata": {},
   "source": [
    "As you can see, the add is just an element-wise addition of the two tensors, so that's fairly simple to implement.\n",
    "\n",
    "Next let's look at the flatten:"
   ]
  },
  {
   "cell_type": "code",
   "execution_count": 31,
   "id": "c5eeaa11",
   "metadata": {},
   "outputs": [
    {
     "name": "stdout",
     "output_type": "stream",
     "text": [
      "(10, 10)\n",
      "(10, 10)\n"
     ]
    },
    {
     "data": {
      "text/plain": [
       "True"
      ]
     },
     "execution_count": 31,
     "metadata": {},
     "output_type": "execute_result"
    }
   ],
   "source": [
    "X = tf.cast(X, tf.float32)\n",
    "new_X = tf.cast(tf.keras.layers.Flatten()(X), tf.float32)\n",
    "print(X.shape)\n",
    "print(new_X.shape)\n",
    "tf.math.equal(X, new_X).numpy().all()"
   ]
  },
  {
   "cell_type": "markdown",
   "id": "dcd22e70",
   "metadata": {},
   "source": [
    "As you can see, on a 2-D tensor this does effectively nothing.  Let's see what happens if we add more dimensions!"
   ]
  },
  {
   "cell_type": "code",
   "execution_count": 34,
   "id": "8b392a9d",
   "metadata": {},
   "outputs": [
    {
     "name": "stdout",
     "output_type": "stream",
     "text": [
      "(10, 10, 10)\n",
      "(10, 100)\n"
     ]
    }
   ],
   "source": [
    "X = tf.constant(np.random.normal(0, 1, size=1000).reshape(10, 10, 10))\n",
    "X = tf.cast(X, tf.float32)\n",
    "new_X = tf.cast(tf.keras.layers.Flatten()(X), tf.float32)\n",
    "print(X.shape)\n",
    "print(new_X.shape)"
   ]
  },
  {
   "cell_type": "markdown",
   "id": "dd2e1c8b",
   "metadata": {},
   "source": [
    "As you can see, anything over 3-D tensors are 'flattened' down to 2-D, so we technically already have that functionality just in the convolutional layer, we've made some different design choices than keras, but basically we are done there.  \n",
    "\n",
    "The last step we need is the maxpooling layer.\n",
    "\n",
    "More or less a maxpooling layer finds the maximum value over a grid.  Let's look at an example with a 4 x 4 x 4 3-D tensor:"
   ]
  },
  {
   "cell_type": "code",
   "execution_count": 1,
   "id": "91107817",
   "metadata": {},
   "outputs": [],
   "source": [
    "import tensorflow as tf\n",
    "import numpy as np"
   ]
  },
  {
   "cell_type": "code",
   "execution_count": 10,
   "id": "eb0af14b",
   "metadata": {},
   "outputs": [
    {
     "data": {
      "text/plain": [
       "<tf.Tensor: shape=(4, 1, 4), dtype=float32, numpy=\n",
       "array([[[ 1.1146646 ,  0.54790723,  0.8224933 , -0.11073915]],\n",
       "\n",
       "       [[ 0.14665857,  1.3661262 ,  0.19879064,  0.8287574 ]],\n",
       "\n",
       "       [[ 0.05237718,  1.9494268 ,  1.1538922 ,  0.00539377]],\n",
       "\n",
       "       [[ 1.705279  ,  1.2561301 ,  0.79612565,  1.1514167 ]]],\n",
       "      dtype=float32)>"
      ]
     },
     "execution_count": 10,
     "metadata": {},
     "output_type": "execute_result"
    }
   ],
   "source": [
    "X = tf.constant(np.random.normal(0, 1, size=64).reshape(4, 4, 4))\n",
    "tf.keras.layers.MaxPool1D(pool_size=4, strides=1)(X)"
   ]
  },
  {
   "cell_type": "markdown",
   "id": "0ef5d4a2",
   "metadata": {},
   "source": [
    "The convention for max pooling in tensorflow is to treat the first axis as sort of an index dimension, representing the batch.  Then the rows are the second dimension and the columns are the third dimension.  This is the expectation for 1D data in the sense that the second dimension is typically either time or geographic area.  In general the second dimension is some differentiating 'channel' which segments the data based on something and then measures are recorded.  \n",
    "The way max pooling works is by taking the max over some window of the data.  The window is always with respect to the rows so that columns are perserved, otherwise semantic information is lost.  In this case, we set the pool size equal to 4 which is the same as the number of rows, so we simply take the max of each column.  Let's verify this:"
   ]
  },
  {
   "cell_type": "code",
   "execution_count": 11,
   "id": "e5e239b2",
   "metadata": {},
   "outputs": [
    {
     "name": "stdout",
     "output_type": "stream",
     "text": [
      "tf.Tensor(0.4000247338073222, shape=(), dtype=float64)\n",
      "tf.Tensor(0.6630748865748418, shape=(), dtype=float64)\n",
      "tf.Tensor(1.1877503598451657, shape=(), dtype=float64)\n",
      "tf.Tensor(1.6246577069818215, shape=(), dtype=float64)\n"
     ]
    }
   ],
   "source": [
    "X = tf.constant(np.random.normal(0, 1, size=16).reshape(1, 4, 4))\n",
    "for col in range(4):\n",
    "    print(tf.reduce_max(X[:,:,col]))"
   ]
  },
  {
   "cell_type": "code",
   "execution_count": 12,
   "id": "88290ada",
   "metadata": {},
   "outputs": [
    {
     "data": {
      "text/plain": [
       "<tf.Tensor: shape=(1, 1, 4), dtype=float32, numpy=array([[[0.40002474, 0.6630749 , 1.1877503 , 1.6246578 ]]], dtype=float32)>"
      ]
     },
     "execution_count": 12,
     "metadata": {},
     "output_type": "execute_result"
    }
   ],
   "source": [
    "tf.keras.layers.MaxPool1D(pool_size=4, strides=1)(X)"
   ]
  },
  {
   "cell_type": "markdown",
   "id": "9a8fea5d",
   "metadata": {},
   "source": [
    "As you can see, the numbers equate.  We can specify other things like the stride, which we preset as 1.  Most of the time unless you are dealing with images or time data that is sampled _super_ often you just want to set stride to 1.  The stride is how much the window should shift after taking each max from a given set of points per column.  For images, down sampling the number of pixels can be very useful for creating internal representations.  In this way RNNs and CNNs in practice become fairly similar in that both models create vectors that have increasingly large amount of information stored in a tensor.  RNNs tend to regularize this via long term short term memory, trying to create the 'best' representation that is time invariant.  While CNNs, specifically any CNN with max pooling do this by creating increasingly dense representations of data across the network, it's interesting that the most compressed representation is typically the one closest to the error update in backpropagation.  This shows that these dense representations, that capture only the biggest signals are used to update the error the most, which the nuance is captured and updates the error in increasingly small ways, which makes sense.  You want big shifts to shift your error a lot and smaller signals to shift it a little.  \n",
    "\n",
    "The major difference between the above code and a true max pooling layer is the use of a variable sliding window.  For this, we simply index over the batch and columns, mutating the rows.  Let's see an implementation in numpy, because updating tensors in tensorflow is essentially impossible to do in an elegant way:"
   ]
  },
  {
   "cell_type": "code",
   "execution_count": 72,
   "id": "de1c5e8d",
   "metadata": {},
   "outputs": [
    {
     "name": "stdout",
     "output_type": "stream",
     "text": [
      "tf.Tensor(\n",
      "[[-1.68763552  0.6283153   1.27733028 -0.77895851]\n",
      " [-0.36371621 -0.92511613  0.42744413  1.72623987]\n",
      " [ 0.42115311  1.33209247 -0.83621317 -0.84142983]\n",
      " [-0.66444867  0.45233541  0.9729522  -0.14579753]], shape=(4, 4), dtype=float64)\n",
      "[[0.6283153  1.27733028 1.72623987]\n",
      " [1.33209247 1.33209247 1.72623987]\n",
      " [1.33209247 1.33209247 0.9729522 ]]\n"
     ]
    }
   ],
   "source": [
    "def get_pools(X, pool_size, stride):\n",
    "    pools = []\n",
    "    \n",
    "    for i in np.arange(X.shape[0], step=stride):\n",
    "        for j in np.arange(X.shape[0], step=stride):\n",
    "            mat = X[i:i+pool_size, j:j+pool_size]\n",
    "            \n",
    "            # allows us to use the above elegant indexing\n",
    "            if mat.shape == (pool_size, pool_size):\n",
    "                pools.append(mat)\n",
    "                \n",
    "    return np.array(pools)\n",
    "\n",
    "def max_pooling(X, pool_size=1, stride=1):\n",
    "    pools = get_pools(X, pool_size, stride)\n",
    "    num_pools = pools.shape[0]\n",
    "    new_shape = (int(np.sqrt(num_pools)), int(np.sqrt(num_pools)))\n",
    "    pooled = []\n",
    "    \n",
    "    for pool in pools:\n",
    "        pooled.append(np.max(pool))\n",
    "        \n",
    "    return np.array(pooled).reshape(new_shape)\n",
    "\n",
    "X = tf.constant(np.random.normal(0, 1, size=16).reshape(4, 4))\n",
    "print(X)\n",
    "print(max_pooling(X.numpy(), pool_size=2, stride=1))"
   ]
  },
  {
   "cell_type": "markdown",
   "id": "d02c6b5c",
   "metadata": {},
   "source": [
    "We can manually verify this is correct by writing down each 2 x 2 matrix and then finding the max element of each pool.  As we see, this is in fact a correct implementation.  We'll use this one in our implementation since it's obvious how to reason about even if it isn't optimized for speed, our tensors are faily small and thus speed in the max pooling layer is not imperative."
   ]
  },
  {
   "cell_type": "code",
   "execution_count": null,
   "id": "5be3430c",
   "metadata": {},
   "outputs": [],
   "source": []
  }
 ],
 "metadata": {
  "kernelspec": {
   "display_name": "Python 3",
   "language": "python",
   "name": "python3"
  },
  "language_info": {
   "codemirror_mode": {
    "name": "ipython",
    "version": 3
   },
   "file_extension": ".py",
   "mimetype": "text/x-python",
   "name": "python",
   "nbconvert_exporter": "python",
   "pygments_lexer": "ipython3",
   "version": "3.9.5"
  }
 },
 "nbformat": 4,
 "nbformat_minor": 5
}
