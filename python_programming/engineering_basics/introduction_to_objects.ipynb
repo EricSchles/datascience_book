{
 "cells": [
  {
   "cell_type": "markdown",
   "id": "8cbbb033",
   "metadata": {},
   "source": [
    "# Objects\n",
    "\n",
    "Objects in programming solve a couple of problems, but the major problem they solve is _grouping_.  Suppose you had a variable x, that is part of an equation, like this:\n",
    "\n",
    "`F(x) = F(x-1) + F(x-2)`\n",
    "\n",
    "Now suppose you had a different equation:\n",
    "\n",
    "`G(x, y) = G(x-1, y) + G(x, y-1)`\n",
    "\n",
    "If you implemented these two functions in code it would look like this:"
   ]
  },
  {
   "cell_type": "code",
   "execution_count": 2,
   "id": "a4b7ccec",
   "metadata": {},
   "outputs": [],
   "source": [
    "def F(x):\n",
    "    if x == 1 or x == 0:\n",
    "        return 1\n",
    "    else:\n",
    "        return F(x-1) + F(x-2)\n",
    "    \n",
    "def G(x, y):\n",
    "    if x == 0 or y == 0:\n",
    "        return 1\n",
    "    else:\n",
    "        return G(x-1, y) + G(x, y-1)"
   ]
  },
  {
   "cell_type": "markdown",
   "id": "93b63925",
   "metadata": {},
   "source": [
    "Now suppose we want to initialize the variables x and y.  It would make sense that we would want to give the variables the same names as those passed to the functions, right?"
   ]
  },
  {
   "cell_type": "code",
   "execution_count": 3,
   "id": "c31bdd23",
   "metadata": {},
   "outputs": [
    {
     "name": "stdout",
     "output_type": "stream",
     "text": [
      "Result of F(x)=21\n",
      "Result of G(x, y)=50388\n"
     ]
    }
   ],
   "source": [
    "x = 7\n",
    "y = 12\n",
    "\n",
    "F_result = F(x)\n",
    "print(f\"Result of F(x)={F_result}\")\n",
    "G_result = G(x, y)\n",
    "print(f\"Result of G(x, y)={G_result}\")"
   ]
  },
  {
   "cell_type": "markdown",
   "id": "cbedce83",
   "metadata": {},
   "source": [
    "The above code is fine, _until_ we want to pass different values of x to F and G.  Now we will need to reassign x for each function that we wish to test.  Here we are only testing _two_ functions.  But we could in theory be testing _many_.  This might make managing all the state difficult.  As the number of parameters to each function grows, or the number of functions grows, your program can get very messy, very fast.  And debugging can become unweildy.  \n",
    "\n",
    "This is the power of objects.  The idea of an object comes from this simple notion:\n",
    "\n",
    "What if we just specified a longer name for the variable passed into F and G respectively, like so:"
   ]
  },
  {
   "cell_type": "code",
   "execution_count": 4,
   "id": "9595ef8f",
   "metadata": {},
   "outputs": [
    {
     "name": "stdout",
     "output_type": "stream",
     "text": [
      "Result of F(x)=21\n",
      "Result of G(x, y)=51895935\n"
     ]
    }
   ],
   "source": [
    "x_F = 7\n",
    "x_G = 17\n",
    "y = 12\n",
    "\n",
    "F_result = F(x_F)\n",
    "print(f\"Result of F(x)={F_result}\")\n",
    "G_result = G(x_G, y)\n",
    "print(f\"Result of G(x, y)={G_result}\")"
   ]
  },
  {
   "cell_type": "markdown",
   "id": "ba4eca3d",
   "metadata": {},
   "source": [
    "Now our variables are _scoped_ to the function of interest.  From the notational conveinence arose the objects we know today:"
   ]
  },
  {
   "cell_type": "code",
   "execution_count": 7,
   "id": "36c6c7d7",
   "metadata": {},
   "outputs": [
    {
     "name": "stdout",
     "output_type": "stream",
     "text": [
      "10\n",
      "89\n"
     ]
    }
   ],
   "source": [
    "class Fib:\n",
    "    def __init__(self, x):\n",
    "        self.x = x\n",
    "        \n",
    "    def calc_F(self):\n",
    "        return F(self.x)\n",
    "    \n",
    "    \n",
    "fib = Fib(10)\n",
    "print(fib.x)\n",
    "print(fib.calc_F())"
   ]
  },
  {
   "cell_type": "markdown",
   "id": "70284f87",
   "metadata": {},
   "source": [
    "Now we can inspect the state of our function, as well as the state of the input parameter, such that our functions and data are _grouped_ together.  \n",
    "\n",
    "In general, this means we can have separate _namespaces_ for our variables and functions (called methods when associated with a class).  This process of grouping code together allows us to create cleaner structures and more easily work with as well as organize larger code blocks.\n",
    "\n",
    "In fact, all the libraries we've made use of thus far have actually been objects.  Even basic types in python are _technically_ objects.\n",
    "\n",
    "## Object Syntax\n",
    "\n",
    "In general objects are created from a class template.  In a class, like the one we saw above, we first create a class, which is a template for each instance of the class.  An instantiated class is one with data associated with it.  So the functions are specified ahead of time, and the data or state of the class is passed in to create an instance of the object.  This means we can write code such that we have many instances with many states, all making use of a fundamental set of functions to operate on that state.  \n",
    "\n",
    "The initial state of an object is passed into the object via a function called a constructor.  The general syntax for a constructor is:\n",
    "\n",
    "```\n",
    "class CLASS_NAME:\n",
    "    def __init__(self, param_a, param_b):\n",
    "        self.param_a = param_a\n",
    "        self.param_b = param_b\n",
    "```\n",
    "\n",
    "the `__init__` is the constructor function.  It tells Python what variables to set up our object with.\n",
    "\n",
    "Let's look at an example:"
   ]
  },
  {
   "cell_type": "code",
   "execution_count": 11,
   "id": "bbb7a974",
   "metadata": {},
   "outputs": [
    {
     "name": "stdout",
     "output_type": "stream",
     "text": [
      "['__class__', '__delattr__', '__dict__', '__dir__', '__doc__', '__eq__', '__format__', '__ge__', '__getattribute__', '__gt__', '__hash__', '__init__', '__init_subclass__', '__le__', '__lt__', '__module__', '__ne__', '__new__', '__reduce__', '__reduce_ex__', '__repr__', '__setattr__', '__sizeof__', '__str__', '__subclasshook__', '__weakref__', 'a', 'b']\n",
      "\n",
      "The state of variable a=1\n"
     ]
    }
   ],
   "source": [
    "class One:\n",
    "    def __init__(self, a, b):\n",
    "        self.a = a\n",
    "        self.b = b\n",
    "        \n",
    "one = One(1,2)\n",
    "print(dir(one))\n",
    "print()\n",
    "print(f\"The state of variable a={one.a}\")"
   ]
  },
  {
   "cell_type": "markdown",
   "id": "638c791f",
   "metadata": {},
   "source": [
    "As you can see the instance of the class comes with a number of builtin methods as well as two variables - `a` and `b`.  We can check the state of `a` by saying `one.a`.  The name of the instance creates the _namespace_ around which we reference the variable a.\n",
    "\n",
    "Before we leave this example, one more thing to note - the first parameter passed to the method `__init__` in our class `One` is `self`.  The `self` keyword is a reserved name for the stub, to be replaced later with the instance name.\n",
    "\n",
    "In this case, we did:\n",
    "\n",
    "`one = One(1, 2)`\n",
    "\n",
    "The assignment of the instance `One(1, 2)` to the name `one` replaces all the references to self with `one` in this case.  That's why we refer to a class as a template.  The assignment done during construction replaces this stub variable `self` with the variable name assigned during instantiation.\n",
    "\n",
    "Next let's talk about other examples of so called _dunder methods_ and the Python object data model.\n",
    "\n",
    "## Dunder Methods and the Python Data Model\n",
    "\n",
    "Python like other object oriented languages comes with a set of convience methods associated with any object that make it easy to leverage the builtin properties of the language to do things.  \n",
    "\n",
    "The first example of this is the constructor method `__init__`.  Now let's look at a to string method:"
   ]
  },
  {
   "cell_type": "code",
   "execution_count": 13,
   "id": "296f10de",
   "metadata": {},
   "outputs": [
    {
     "name": "stdout",
     "output_type": "stream",
     "text": [
      "'x=1, y=2, z=3'\n"
     ]
    }
   ],
   "source": [
    "class B:\n",
    "    def __init__(self, x, y, z):\n",
    "        self.x = x\n",
    "        self.y = y\n",
    "        self.z = z\n",
    "        \n",
    "    def __str__(self):\n",
    "        return repr(f\"x={self.x}, y={self.y}, z={self.z}\")\n",
    "    \n",
    "b = B(1,2,3)\n",
    "print(b)"
   ]
  },
  {
   "cell_type": "markdown",
   "id": "a62c44a8",
   "metadata": {},
   "source": [
    "The above code, let's us print out b, in this case by telling us the values of the state of the instance object.  This means we can easily inspect our state with just a print function, rather than having to explicit inspect the state of each variable.\n",
    "\n",
    "As an aside, we can also, update the state of instance variables:"
   ]
  },
  {
   "cell_type": "code",
   "execution_count": 14,
   "id": "244f1763",
   "metadata": {},
   "outputs": [
    {
     "name": "stdout",
     "output_type": "stream",
     "text": [
      "'x=7, y=2, z=3'\n"
     ]
    }
   ],
   "source": [
    "b.x = 7\n",
    "print(b)"
   ]
  },
  {
   "cell_type": "markdown",
   "id": "8d780edf",
   "metadata": {},
   "source": [
    "And the change is reflected in our to string method!\n",
    "\n",
    "Now let's look at how we might leverage slicing in our objects:"
   ]
  },
  {
   "cell_type": "code",
   "execution_count": 21,
   "id": "42685218",
   "metadata": {},
   "outputs": [
    {
     "name": "stdout",
     "output_type": "stream",
     "text": [
      "Randomly chosen card Card(rank='4', suit='hearts')\n",
      "A second randomly chose card Card(rank='8', suit='spades')\n",
      "\n",
      "\n",
      "cards of the deck:\n",
      "Card(rank='2', suit='spades')\n",
      "Card(rank='3', suit='spades')\n",
      "Card(rank='4', suit='spades')\n",
      "Card(rank='5', suit='spades')\n",
      "Card(rank='6', suit='spades')\n",
      "Card(rank='7', suit='spades')\n",
      "Card(rank='8', suit='spades')\n",
      "Card(rank='9', suit='spades')\n",
      "Card(rank='10', suit='spades')\n",
      "Card(rank='J', suit='spades')\n",
      "Card(rank='Q', suit='spades')\n",
      "Card(rank='K', suit='spades')\n",
      "Card(rank='A', suit='spades')\n",
      "Card(rank='2', suit='diamonds')\n",
      "Card(rank='3', suit='diamonds')\n",
      "Card(rank='4', suit='diamonds')\n",
      "Card(rank='5', suit='diamonds')\n",
      "Card(rank='6', suit='diamonds')\n",
      "Card(rank='7', suit='diamonds')\n",
      "Card(rank='8', suit='diamonds')\n",
      "Card(rank='9', suit='diamonds')\n",
      "Card(rank='10', suit='diamonds')\n",
      "Card(rank='J', suit='diamonds')\n",
      "Card(rank='Q', suit='diamonds')\n",
      "Card(rank='K', suit='diamonds')\n",
      "Card(rank='A', suit='diamonds')\n",
      "Card(rank='2', suit='clubs')\n",
      "Card(rank='3', suit='clubs')\n",
      "Card(rank='4', suit='clubs')\n",
      "Card(rank='5', suit='clubs')\n",
      "Card(rank='6', suit='clubs')\n",
      "Card(rank='7', suit='clubs')\n",
      "Card(rank='8', suit='clubs')\n",
      "Card(rank='9', suit='clubs')\n",
      "Card(rank='10', suit='clubs')\n",
      "Card(rank='J', suit='clubs')\n",
      "Card(rank='Q', suit='clubs')\n",
      "Card(rank='K', suit='clubs')\n",
      "Card(rank='A', suit='clubs')\n",
      "Card(rank='2', suit='hearts')\n",
      "Card(rank='3', suit='hearts')\n",
      "Card(rank='4', suit='hearts')\n",
      "Card(rank='5', suit='hearts')\n",
      "Card(rank='6', suit='hearts')\n",
      "Card(rank='7', suit='hearts')\n",
      "Card(rank='8', suit='hearts')\n",
      "Card(rank='9', suit='hearts')\n",
      "Card(rank='10', suit='hearts')\n",
      "Card(rank='J', suit='hearts')\n",
      "Card(rank='Q', suit='hearts')\n",
      "Card(rank='K', suit='hearts')\n",
      "Card(rank='A', suit='hearts')\n",
      "\n",
      "\n",
      "Queen of hearts in the deck? True\n",
      "Queen of beasts in the deck? False\n",
      "\n",
      "\n",
      "cards sorted spades high\n",
      "Card(rank='2', suit='clubs')\n",
      "Card(rank='2', suit='diamonds')\n",
      "Card(rank='2', suit='hearts')\n",
      "Card(rank='2', suit='spades')\n",
      "Card(rank='3', suit='clubs')\n",
      "Card(rank='3', suit='diamonds')\n",
      "Card(rank='3', suit='hearts')\n",
      "Card(rank='3', suit='spades')\n",
      "Card(rank='4', suit='clubs')\n",
      "Card(rank='4', suit='diamonds')\n",
      "Card(rank='4', suit='hearts')\n",
      "Card(rank='4', suit='spades')\n",
      "Card(rank='5', suit='clubs')\n",
      "Card(rank='5', suit='diamonds')\n",
      "Card(rank='5', suit='hearts')\n",
      "Card(rank='5', suit='spades')\n",
      "Card(rank='6', suit='clubs')\n",
      "Card(rank='6', suit='diamonds')\n",
      "Card(rank='6', suit='hearts')\n",
      "Card(rank='6', suit='spades')\n",
      "Card(rank='7', suit='clubs')\n",
      "Card(rank='7', suit='diamonds')\n",
      "Card(rank='7', suit='hearts')\n",
      "Card(rank='7', suit='spades')\n",
      "Card(rank='8', suit='clubs')\n",
      "Card(rank='8', suit='diamonds')\n",
      "Card(rank='8', suit='hearts')\n",
      "Card(rank='8', suit='spades')\n",
      "Card(rank='9', suit='clubs')\n",
      "Card(rank='9', suit='diamonds')\n",
      "Card(rank='9', suit='hearts')\n",
      "Card(rank='9', suit='spades')\n",
      "Card(rank='10', suit='clubs')\n",
      "Card(rank='10', suit='diamonds')\n",
      "Card(rank='10', suit='hearts')\n",
      "Card(rank='10', suit='spades')\n",
      "Card(rank='J', suit='clubs')\n",
      "Card(rank='J', suit='diamonds')\n",
      "Card(rank='J', suit='hearts')\n",
      "Card(rank='J', suit='spades')\n",
      "Card(rank='Q', suit='clubs')\n",
      "Card(rank='Q', suit='diamonds')\n",
      "Card(rank='Q', suit='hearts')\n",
      "Card(rank='Q', suit='spades')\n",
      "Card(rank='K', suit='clubs')\n",
      "Card(rank='K', suit='diamonds')\n",
      "Card(rank='K', suit='hearts')\n",
      "Card(rank='K', suit='spades')\n",
      "Card(rank='A', suit='clubs')\n",
      "Card(rank='A', suit='diamonds')\n",
      "Card(rank='A', suit='hearts')\n",
      "Card(rank='A', suit='spades')\n"
     ]
    }
   ],
   "source": [
    "# reference: https://github.com/Guilehm/python/blob/master/fluent-python/french-deck.py\n",
    "import collections\n",
    "from random import choice\n",
    "\n",
    "Card = collections.namedtuple('Card', ['rank', 'suit'])\n",
    "\n",
    "\n",
    "class FrenchDeck:\n",
    "    ranks = [str(n) for n in range(2, 11)] + list('JQKA')\n",
    "    suits = 'spades diamonds clubs hearts'.split()\n",
    "\n",
    "    def __init__(self):\n",
    "        self._cards = [Card(rank, suit) for suit in self.suits for rank in self.ranks]\n",
    "\n",
    "    def __len__(self):\n",
    "        return len(self._cards)\n",
    "\n",
    "    def __getitem__(self, position):\n",
    "        return self._cards[position]\n",
    "\n",
    "\n",
    "beer_card = Card('7', 'diamonds')\n",
    "\n",
    "deck = FrenchDeck()\n",
    "len(deck)  # __len__\n",
    "deck[0]  # __getitem__\n",
    "\n",
    "print(f\"Randomly chosen card {choice(deck)}\")\n",
    "print(f\"A second randomly chose card {choice(deck)}\")\n",
    "\n",
    "print()\n",
    "print()\n",
    "\n",
    "deck[12::13]  # begin at 12 index - step 13\n",
    "\n",
    "print(\"cards of the deck:\")\n",
    "for card in deck:  # __getitem__ makes deck iterable\n",
    "    print(card)\n",
    "\n",
    "print()\n",
    "print()\n",
    "print(f\"Queen of hearts in the deck? {Card('Q', 'hearts') in deck}\")   # True\n",
    "print(f\"Queen of beasts in the deck? {Card('Q', 'beasts') in deck}\")   # False\n",
    "\n",
    "suit_values = dict(spades=3, hearts=2, diamonds=1, clubs=0)\n",
    "\n",
    "print()\n",
    "print()\n",
    "def spades_high(card):\n",
    "    rank_value = FrenchDeck.ranks.index(card.rank)\n",
    "    return rank_value * len(suit_values) + suit_values[card.suit]\n",
    "\n",
    "\n",
    "print(\"cards sorted spades high\")\n",
    "for card in sorted(deck, key=spades_high):\n",
    "    print(card)\n",
    "    "
   ]
  },
  {
   "cell_type": "markdown",
   "id": "d2c04d00",
   "metadata": {},
   "source": [
    "As this object shows us, the dunder methods give us the ability to express sophisticated ideas elegantly.  And expose us to the beauty of Python's builtin syntax, which we are able to leverage through iteration to do a myriad of interesting things."
   ]
  },
  {
   "cell_type": "code",
   "execution_count": null,
   "id": "e1753efc",
   "metadata": {},
   "outputs": [],
   "source": []
  }
 ],
 "metadata": {
  "kernelspec": {
   "display_name": "Python 3",
   "language": "python",
   "name": "python3"
  },
  "language_info": {
   "codemirror_mode": {
    "name": "ipython",
    "version": 3
   },
   "file_extension": ".py",
   "mimetype": "text/x-python",
   "name": "python",
   "nbconvert_exporter": "python",
   "pygments_lexer": "ipython3",
   "version": "3.9.5"
  }
 },
 "nbformat": 4,
 "nbformat_minor": 5
}
