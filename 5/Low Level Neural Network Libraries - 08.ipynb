{
 "cells": [
  {
   "cell_type": "markdown",
   "id": "83cc6741",
   "metadata": {},
   "source": [
    "# Low Level Neural Network Libraries\n",
    "\n",
    "## Table Of Contents\n",
    "\n",
    "* Tensorflow Low Level Api\n",
    "\n",
    "## Introduction\n",
    "\n",
    "Now that we've gone through how to build a neural network from scratch, it's time to learn how to use frameworks to program neural networks, sort of from scratch, but using some of the helpful pieces to make our lives a little easier, while still allowing for the flexibility of going deep into the code.\n",
    "\n",
    "We are going to start with Tensorflow since it was one of the first successful neural network frameworks out there.  We'll see how to implement layers and write our first working network.  \n",
    "\n",
    "There are two major components to a neural network in tensorflow:\n",
    "\n",
    "* The model high level architecture\n",
    "* The individual layers\n",
    "\n",
    "This should seem familiar from the last section, this is because it's simply the right way to think about neural network design.  The major difference is now we'll need to implement less.  Let's look at an example of linear regression using tensorflow:"
   ]
  },
  {
   "cell_type": "code",
   "execution_count": 15,
   "id": "ab62cfc5",
   "metadata": {},
   "outputs": [
    {
     "data": {
      "image/png": "[encoded data removed]",
      "text/plain": [
       "<Figure size 432x288 with 1 Axes>"
      ]
     },
     "metadata": {
      "needs_background": "light"
     },
     "output_type": "display_data"
    }
   ],
   "source": [
    "from tensorflow.keras import Model\n",
    "import tensorflow as tf\n",
    "import numpy as np\n",
    "import pandas as pd\n",
    "import random\n",
    "from sklearn.datasets import make_regression\n",
    "from sklearn.model_selection import train_test_split\n",
    "import matplotlib.pyplot as plt\n",
    "\n",
    "class Dense(tf.Module):\n",
    "    def __init__(self, input_dim, output_size, name=None, final=False):\n",
    "        super().__init__(name=name)\n",
    "        self.final = final\n",
    "        init_weights = tf.random.normal([input_dim, output_size])\n",
    "        self.w = tf.Variable(\n",
    "            init_weights, name='w'\n",
    "        )\n",
    "        self.b = tf.Variable(\n",
    "            tf.zeros([output_size]), name='b'\n",
    "        )\n",
    "        \n",
    "    def __call__(self, x):\n",
    "        result = tf.matmul(x, self.w) + self.b\n",
    "        if self.final:\n",
    "            return result[:,0]\n",
    "        return result\n",
    "\n",
    "        \n",
    "class NeuralNet(Model):\n",
    "    def __init__(self, X_in, X_out, optimizer):\n",
    "        super(NeuralNet, self).__init__()\n",
    "        self.layer = Dense(X_in, X_out, final=True)\n",
    "        self.optimizer = optimizer\n",
    "        \n",
    "    def call(self, x):\n",
    "        return self.layer(x)\n",
    "\n",
    "    def step(self, x, y):\n",
    "        x = tf.cast(x, tf.float32)\n",
    "        y = tf.cast(y, tf.float32)\n",
    "        with tf.GradientTape() as tape:\n",
    "            pred = self.call(x)\n",
    "            loss = mse(pred, y)\n",
    "        gradients = tape.gradient(loss, self.trainable_variables)\n",
    "        self.optimizer.apply_gradients(zip(gradients, self.trainable_variables))\n",
    "\n",
    "def mse(prediction, truth):\n",
    "    prediction = tf.cast(prediction, tf.float64)\n",
    "    truth = tf.cast(truth, tf.float64)\n",
    "    return tf.metrics.MSE(prediction, truth)\n",
    "\n",
    "\n",
    "if __name__ == '__main__':\n",
    "    X, y = make_regression(n_samples=1000, n_features=100)\n",
    "    X_train, X_test, y_train, y_test = train_test_split(X, y)\n",
    "    learning_rate = 0.9\n",
    "    optimizer = tf.optimizers.Adam(learning_rate)\n",
    "    nn = NeuralNet(X_train.shape[1], 1, optimizer)\n",
    "    num_steps = 110\n",
    "    losses = []\n",
    "    for step in range(num_steps):\n",
    "        nn.step(X_train, y_train)\n",
    "        pred = nn(X_test)\n",
    "        loss = mse(pred, y_test)\n",
    "        losses.append(loss)\n",
    "    plt.plot(losses)\n"
   ]
  },
  {
   "cell_type": "markdown",
   "id": "5372b7ae",
   "metadata": {},
   "source": [
    "As this simple example shows, we are using the neural network framework to do linear regression.  If it's unclear where that's happening - recall that each of the individual layers are models themselves.  Here the linear regression 'model' is implemented here:\n",
    "\n",
    "```python\n",
    "def __call__(self, x):\n",
    "    result = tf.matmul(x, self.w) + self.b\n",
    "    if self.final:\n",
    "        return result[:,0]\n",
    "    return result\n",
    "```\n",
    "\n",
    "As you can tell we are doing the standard thing, as seen from previous chapters.  The only real difference is we are using tenorflow's matrix multiplication which is the same (more or less) as numpy.dot.  This is the first advantage of using a library like tensorflow, a lot of the heavy lifting is already done for us.  Not only do we get matrix multiplication for free, we also get automatic differentiation, so we don't need to calculate any derivatives.  \n",
    "\n",
    "As a result of doing our linear regression as well as optimizing subject to our loss, we actually get something 'stronger' than straight linear regression.  Specifically, we do our linear regression at each forward pass and then we update our weights subject to the gradient of our loss, meaning we are more or less fine-tuning our weights on every back pass and then doing linear regression on our forward pass.  By constantly fine tuning our weights and then carrying out linear regression, we end up with an optimized form of linear regression.  Which in a sense is the power of neural networks in the first place.\n",
    "\n",
    "There is actually a second optimization that we get for 'free' with tensorflow - that is the ADAM optimizer, which is an adaptive version of the standard stochastic gradient descent where the learning rate is adjusted throughout the learning process subject to momentum - when the loss is large, the learning rate adjusts alot, and when the loss is small, the learning rate adjusts a little.  In this way, we are optimizing the learning rate as we train.\n",
    "\n",
    "These two innovations - optimizing the weight initialization and optimizing the learning rate lead to an efficient optimization process, which is at the heart of why neural networks perform so well - they are adaptive to their own initial bad guesses and correct for them quickly where they matter - with the weight update and the loss function.  These two structural pieces of training any model contribute the most to how fast they will converge.  Or whether convergence happens at all.  And we get them, more or less for free with any neural network framework."
   ]
  },
  {
   "cell_type": "code",
   "execution_count": null,
   "id": "30dfe56d",
   "metadata": {},
   "outputs": [],
   "source": []
  }
 ],
 "metadata": {
  "kernelspec": {
   "display_name": "Python 3",
   "language": "python",
   "name": "python3"
  },
  "language_info": {
   "codemirror_mode": {
    "name": "ipython",
    "version": 3
   },
   "file_extension": ".py",
   "mimetype": "text/x-python",
   "name": "python",
   "nbconvert_exporter": "python",
   "pygments_lexer": "ipython3",
   "version": "3.9.5"
  }
 },
 "nbformat": 4,
 "nbformat_minor": 5
}
