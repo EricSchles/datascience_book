{
 "cells": [
  {
   "cell_type": "markdown",
   "id": "83cc6741",
   "metadata": {},
   "source": [
    "# Low Level Neural Network Libraries\n",
    "\n",
    "## Table Of Contents\n",
    "\n",
    "* Tensorflow Low Level Api\n",
    "\n",
    "## Introduction\n",
    "\n",
    "Now that we've gone through how to build a neural network from scratch, it's time to learn how to use frameworks to program neural networks, sort of from scratch, but using some of the helpful pieces to make our lives a little easier, while still allowing for the flexibility of going deep into the code.\n",
    "\n",
    "We are going to start with Tensorflow since it was one of the first successful neural network frameworks out there.  We'll see how to implement layers and write our first working network.  \n",
    "\n",
    "There are two major components to a neural network in tensorflow:\n",
    "\n",
    "* The model high level architecture\n",
    "* The individual layers\n",
    "\n",
    "This should seem familiar from the last section, this is because it's simply the right way to think about neural network design.  The major difference is now we'll need to implement less.  Let's look at an example of linear regression using tensorflow:"
   ]
  },
  {
   "cell_type": "code",
   "execution_count": 1,
   "id": "ab62cfc5",
   "metadata": {},
   "outputs": [
    {
     "name": "stdout",
     "output_type": "stream",
     "text": [
      "Metal device set to: Apple M1\n"
     ]
    },
    {
     "name": "stderr",
     "output_type": "stream",
     "text": [
      "2023-06-06 15:34:44.418249: I tensorflow/core/common_runtime/pluggable_device/pluggable_device_factory.cc:306] Could not identify NUMA node of platform GPU ID 0, defaulting to 0. Your kernel may not have been built with NUMA support.\n",
      "2023-06-06 15:34:44.418294: I tensorflow/core/common_runtime/pluggable_device/pluggable_device_factory.cc:272] Created TensorFlow device (/job:localhost/replica:0/task:0/device:GPU:0 with 0 MB memory) -> physical PluggableDevice (device: 0, name: METAL, pci bus id: <undefined>)\n",
      "2023-06-06 15:34:45.012261: W tensorflow/core/framework/op_kernel.cc:1830] OP_REQUIRES failed at xla_ops.cc:418 : NOT_FOUND: could not find registered platform with id: 0x12ffa55c0\n"
     ]
    },
    {
     "ename": "NotFoundError",
     "evalue": "could not find registered platform with id: 0x12ffa55c0 [Op:__inference__update_step_xla_136]",
     "output_type": "error",
     "traceback": [
      "\u001b[0;31m---------------------------------------------------------------------------\u001b[0m",
      "\u001b[0;31mNotFoundError\u001b[0m                             Traceback (most recent call last)",
      "Cell \u001b[0;32mIn [1], line 62\u001b[0m\n\u001b[1;32m     60\u001b[0m losses \u001b[38;5;241m=\u001b[39m []\n\u001b[1;32m     61\u001b[0m \u001b[38;5;28;01mfor\u001b[39;00m step \u001b[38;5;129;01min\u001b[39;00m \u001b[38;5;28mrange\u001b[39m(num_steps):\n\u001b[0;32m---> 62\u001b[0m     \u001b[43mnn\u001b[49m\u001b[38;5;241;43m.\u001b[39;49m\u001b[43mstep\u001b[49m\u001b[43m(\u001b[49m\u001b[43mX_train\u001b[49m\u001b[43m,\u001b[49m\u001b[43m \u001b[49m\u001b[43my_train\u001b[49m\u001b[43m)\u001b[49m\n\u001b[1;32m     63\u001b[0m     pred \u001b[38;5;241m=\u001b[39m nn(X_test)\n\u001b[1;32m     64\u001b[0m     loss \u001b[38;5;241m=\u001b[39m mse(pred, y_test)\n",
      "Cell \u001b[0;32mIn [1], line 45\u001b[0m, in \u001b[0;36mNeuralNet.step\u001b[0;34m(self, x, y)\u001b[0m\n\u001b[1;32m     43\u001b[0m     loss \u001b[38;5;241m=\u001b[39m mse(pred, y)\n\u001b[1;32m     44\u001b[0m gradients \u001b[38;5;241m=\u001b[39m tape\u001b[38;5;241m.\u001b[39mgradient(loss, \u001b[38;5;28mself\u001b[39m\u001b[38;5;241m.\u001b[39mtrainable_variables)\n\u001b[0;32m---> 45\u001b[0m \u001b[38;5;28;43mself\u001b[39;49m\u001b[38;5;241;43m.\u001b[39;49m\u001b[43moptimizer\u001b[49m\u001b[38;5;241;43m.\u001b[39;49m\u001b[43mapply_gradients\u001b[49m\u001b[43m(\u001b[49m\u001b[38;5;28;43mzip\u001b[39;49m\u001b[43m(\u001b[49m\u001b[43mgradients\u001b[49m\u001b[43m,\u001b[49m\u001b[43m \u001b[49m\u001b[38;5;28;43mself\u001b[39;49m\u001b[38;5;241;43m.\u001b[39;49m\u001b[43mtrainable_variables\u001b[49m\u001b[43m)\u001b[49m\u001b[43m)\u001b[49m\n",
      "File \u001b[0;32m/Library/Frameworks/Python.framework/Versions/3.10/lib/python3.10/site-packages/keras/optimizers/optimizer_experimental/optimizer.py:1140\u001b[0m, in \u001b[0;36mOptimizer.apply_gradients\u001b[0;34m(self, grads_and_vars, name, skip_gradients_aggregation, **kwargs)\u001b[0m\n\u001b[1;32m   1138\u001b[0m \u001b[38;5;28;01mif\u001b[39;00m \u001b[38;5;129;01mnot\u001b[39;00m skip_gradients_aggregation \u001b[38;5;129;01mand\u001b[39;00m experimental_aggregate_gradients:\n\u001b[1;32m   1139\u001b[0m     grads_and_vars \u001b[38;5;241m=\u001b[39m \u001b[38;5;28mself\u001b[39m\u001b[38;5;241m.\u001b[39maggregate_gradients(grads_and_vars)\n\u001b[0;32m-> 1140\u001b[0m \u001b[38;5;28;01mreturn\u001b[39;00m \u001b[38;5;28;43msuper\u001b[39;49m\u001b[43m(\u001b[49m\u001b[43m)\u001b[49m\u001b[38;5;241;43m.\u001b[39;49m\u001b[43mapply_gradients\u001b[49m\u001b[43m(\u001b[49m\u001b[43mgrads_and_vars\u001b[49m\u001b[43m,\u001b[49m\u001b[43m \u001b[49m\u001b[43mname\u001b[49m\u001b[38;5;241;43m=\u001b[39;49m\u001b[43mname\u001b[49m\u001b[43m)\u001b[49m\n",
      "File \u001b[0;32m/Library/Frameworks/Python.framework/Versions/3.10/lib/python3.10/site-packages/keras/optimizers/optimizer_experimental/optimizer.py:634\u001b[0m, in \u001b[0;36m_BaseOptimizer.apply_gradients\u001b[0;34m(self, grads_and_vars, name)\u001b[0m\n\u001b[1;32m    632\u001b[0m \u001b[38;5;28mself\u001b[39m\u001b[38;5;241m.\u001b[39m_apply_weight_decay(trainable_variables)\n\u001b[1;32m    633\u001b[0m grads_and_vars \u001b[38;5;241m=\u001b[39m \u001b[38;5;28mlist\u001b[39m(\u001b[38;5;28mzip\u001b[39m(grads, trainable_variables))\n\u001b[0;32m--> 634\u001b[0m iteration \u001b[38;5;241m=\u001b[39m \u001b[38;5;28;43mself\u001b[39;49m\u001b[38;5;241;43m.\u001b[39;49m\u001b[43m_internal_apply_gradients\u001b[49m\u001b[43m(\u001b[49m\u001b[43mgrads_and_vars\u001b[49m\u001b[43m)\u001b[49m\n\u001b[1;32m    636\u001b[0m \u001b[38;5;66;03m# Apply variable constraints after applying gradients.\u001b[39;00m\n\u001b[1;32m    637\u001b[0m \u001b[38;5;28;01mfor\u001b[39;00m variable \u001b[38;5;129;01min\u001b[39;00m trainable_variables:\n",
      "File \u001b[0;32m/Library/Frameworks/Python.framework/Versions/3.10/lib/python3.10/site-packages/keras/optimizers/optimizer_experimental/optimizer.py:1166\u001b[0m, in \u001b[0;36mOptimizer._internal_apply_gradients\u001b[0;34m(self, grads_and_vars)\u001b[0m\n\u001b[1;32m   1165\u001b[0m \u001b[38;5;28;01mdef\u001b[39;00m \u001b[38;5;21m_internal_apply_gradients\u001b[39m(\u001b[38;5;28mself\u001b[39m, grads_and_vars):\n\u001b[0;32m-> 1166\u001b[0m     \u001b[38;5;28;01mreturn\u001b[39;00m \u001b[43mtf\u001b[49m\u001b[38;5;241;43m.\u001b[39;49m\u001b[43m__internal__\u001b[49m\u001b[38;5;241;43m.\u001b[39;49m\u001b[43mdistribute\u001b[49m\u001b[38;5;241;43m.\u001b[39;49m\u001b[43minterim\u001b[49m\u001b[38;5;241;43m.\u001b[39;49m\u001b[43mmaybe_merge_call\u001b[49m\u001b[43m(\u001b[49m\n\u001b[1;32m   1167\u001b[0m \u001b[43m        \u001b[49m\u001b[38;5;28;43mself\u001b[39;49m\u001b[38;5;241;43m.\u001b[39;49m\u001b[43m_distributed_apply_gradients_fn\u001b[49m\u001b[43m,\u001b[49m\n\u001b[1;32m   1168\u001b[0m \u001b[43m        \u001b[49m\u001b[38;5;28;43mself\u001b[39;49m\u001b[38;5;241;43m.\u001b[39;49m\u001b[43m_distribution_strategy\u001b[49m\u001b[43m,\u001b[49m\n\u001b[1;32m   1169\u001b[0m \u001b[43m        \u001b[49m\u001b[43mgrads_and_vars\u001b[49m\u001b[43m,\u001b[49m\n\u001b[1;32m   1170\u001b[0m \u001b[43m    \u001b[49m\u001b[43m)\u001b[49m\n",
      "File \u001b[0;32m/Library/Frameworks/Python.framework/Versions/3.10/lib/python3.10/site-packages/tensorflow/python/distribute/merge_call_interim.py:51\u001b[0m, in \u001b[0;36mmaybe_merge_call\u001b[0;34m(fn, strategy, *args, **kwargs)\u001b[0m\n\u001b[1;32m     31\u001b[0m \u001b[38;5;124;03m\"\"\"Maybe invoke `fn` via `merge_call` which may or may not be fulfilled.\u001b[39;00m\n\u001b[1;32m     32\u001b[0m \n\u001b[1;32m     33\u001b[0m \u001b[38;5;124;03mThe caller of this utility function requests to invoke `fn` via `merge_call`\u001b[39;00m\n\u001b[0;32m   (...)\u001b[0m\n\u001b[1;32m     48\u001b[0m \u001b[38;5;124;03m  The return value of the `fn` call.\u001b[39;00m\n\u001b[1;32m     49\u001b[0m \u001b[38;5;124;03m\"\"\"\u001b[39;00m\n\u001b[1;32m     50\u001b[0m \u001b[38;5;28;01mif\u001b[39;00m strategy_supports_no_merge_call():\n\u001b[0;32m---> 51\u001b[0m   \u001b[38;5;28;01mreturn\u001b[39;00m \u001b[43mfn\u001b[49m\u001b[43m(\u001b[49m\u001b[43mstrategy\u001b[49m\u001b[43m,\u001b[49m\u001b[43m \u001b[49m\u001b[38;5;241;43m*\u001b[39;49m\u001b[43margs\u001b[49m\u001b[43m,\u001b[49m\u001b[43m \u001b[49m\u001b[38;5;241;43m*\u001b[39;49m\u001b[38;5;241;43m*\u001b[39;49m\u001b[43mkwargs\u001b[49m\u001b[43m)\u001b[49m\n\u001b[1;32m     52\u001b[0m \u001b[38;5;28;01melse\u001b[39;00m:\n\u001b[1;32m     53\u001b[0m   \u001b[38;5;28;01mreturn\u001b[39;00m distribution_strategy_context\u001b[38;5;241m.\u001b[39mget_replica_context()\u001b[38;5;241m.\u001b[39mmerge_call(\n\u001b[1;32m     54\u001b[0m       fn, args\u001b[38;5;241m=\u001b[39margs, kwargs\u001b[38;5;241m=\u001b[39mkwargs)\n",
      "File \u001b[0;32m/Library/Frameworks/Python.framework/Versions/3.10/lib/python3.10/site-packages/keras/optimizers/optimizer_experimental/optimizer.py:1216\u001b[0m, in \u001b[0;36mOptimizer._distributed_apply_gradients_fn\u001b[0;34m(self, distribution, grads_and_vars, **kwargs)\u001b[0m\n\u001b[1;32m   1213\u001b[0m         \u001b[38;5;28;01mreturn\u001b[39;00m \u001b[38;5;28mself\u001b[39m\u001b[38;5;241m.\u001b[39m_update_step(grad, var)\n\u001b[1;32m   1215\u001b[0m \u001b[38;5;28;01mfor\u001b[39;00m grad, var \u001b[38;5;129;01min\u001b[39;00m grads_and_vars:\n\u001b[0;32m-> 1216\u001b[0m     \u001b[43mdistribution\u001b[49m\u001b[38;5;241;43m.\u001b[39;49m\u001b[43mextended\u001b[49m\u001b[38;5;241;43m.\u001b[39;49m\u001b[43mupdate\u001b[49m\u001b[43m(\u001b[49m\n\u001b[1;32m   1217\u001b[0m \u001b[43m        \u001b[49m\u001b[43mvar\u001b[49m\u001b[43m,\u001b[49m\u001b[43m \u001b[49m\u001b[43mapply_grad_to_update_var\u001b[49m\u001b[43m,\u001b[49m\u001b[43m \u001b[49m\u001b[43margs\u001b[49m\u001b[38;5;241;43m=\u001b[39;49m\u001b[43m(\u001b[49m\u001b[43mgrad\u001b[49m\u001b[43m,\u001b[49m\u001b[43m)\u001b[49m\u001b[43m,\u001b[49m\u001b[43m \u001b[49m\u001b[43mgroup\u001b[49m\u001b[38;5;241;43m=\u001b[39;49m\u001b[38;5;28;43;01mFalse\u001b[39;49;00m\n\u001b[1;32m   1218\u001b[0m \u001b[43m    \u001b[49m\u001b[43m)\u001b[49m\n\u001b[1;32m   1220\u001b[0m \u001b[38;5;28;01mif\u001b[39;00m \u001b[38;5;28mself\u001b[39m\u001b[38;5;241m.\u001b[39muse_ema:\n\u001b[1;32m   1221\u001b[0m     _, var_list \u001b[38;5;241m=\u001b[39m \u001b[38;5;28mzip\u001b[39m(\u001b[38;5;241m*\u001b[39mgrads_and_vars)\n",
      "File \u001b[0;32m/Library/Frameworks/Python.framework/Versions/3.10/lib/python3.10/site-packages/tensorflow/python/distribute/distribute_lib.py:2637\u001b[0m, in \u001b[0;36mStrategyExtendedV2.update\u001b[0;34m(self, var, fn, args, kwargs, group)\u001b[0m\n\u001b[1;32m   2634\u001b[0m   fn \u001b[38;5;241m=\u001b[39m autograph\u001b[38;5;241m.\u001b[39mtf_convert(\n\u001b[1;32m   2635\u001b[0m       fn, autograph_ctx\u001b[38;5;241m.\u001b[39mcontrol_status_ctx(), convert_by_default\u001b[38;5;241m=\u001b[39m\u001b[38;5;28;01mFalse\u001b[39;00m)\n\u001b[1;32m   2636\u001b[0m   \u001b[38;5;28;01mwith\u001b[39;00m \u001b[38;5;28mself\u001b[39m\u001b[38;5;241m.\u001b[39m_container_strategy()\u001b[38;5;241m.\u001b[39mscope():\n\u001b[0;32m-> 2637\u001b[0m     \u001b[38;5;28;01mreturn\u001b[39;00m \u001b[38;5;28;43mself\u001b[39;49m\u001b[38;5;241;43m.\u001b[39;49m\u001b[43m_update\u001b[49m\u001b[43m(\u001b[49m\u001b[43mvar\u001b[49m\u001b[43m,\u001b[49m\u001b[43m \u001b[49m\u001b[43mfn\u001b[49m\u001b[43m,\u001b[49m\u001b[43m \u001b[49m\u001b[43margs\u001b[49m\u001b[43m,\u001b[49m\u001b[43m \u001b[49m\u001b[43mkwargs\u001b[49m\u001b[43m,\u001b[49m\u001b[43m \u001b[49m\u001b[43mgroup\u001b[49m\u001b[43m)\u001b[49m\n\u001b[1;32m   2638\u001b[0m \u001b[38;5;28;01melse\u001b[39;00m:\n\u001b[1;32m   2639\u001b[0m   \u001b[38;5;28;01mreturn\u001b[39;00m \u001b[38;5;28mself\u001b[39m\u001b[38;5;241m.\u001b[39m_replica_ctx_update(\n\u001b[1;32m   2640\u001b[0m       var, fn, args\u001b[38;5;241m=\u001b[39margs, kwargs\u001b[38;5;241m=\u001b[39mkwargs, group\u001b[38;5;241m=\u001b[39mgroup)\n",
      "File \u001b[0;32m/Library/Frameworks/Python.framework/Versions/3.10/lib/python3.10/site-packages/tensorflow/python/distribute/distribute_lib.py:3710\u001b[0m, in \u001b[0;36m_DefaultDistributionExtended._update\u001b[0;34m(self, var, fn, args, kwargs, group)\u001b[0m\n\u001b[1;32m   3707\u001b[0m \u001b[38;5;28;01mdef\u001b[39;00m \u001b[38;5;21m_update\u001b[39m(\u001b[38;5;28mself\u001b[39m, var, fn, args, kwargs, group):\n\u001b[1;32m   3708\u001b[0m   \u001b[38;5;66;03m# The implementations of _update() and _update_non_slot() are identical\u001b[39;00m\n\u001b[1;32m   3709\u001b[0m   \u001b[38;5;66;03m# except _update() passes `var` as the first argument to `fn()`.\u001b[39;00m\n\u001b[0;32m-> 3710\u001b[0m   \u001b[38;5;28;01mreturn\u001b[39;00m \u001b[38;5;28;43mself\u001b[39;49m\u001b[38;5;241;43m.\u001b[39;49m\u001b[43m_update_non_slot\u001b[49m\u001b[43m(\u001b[49m\u001b[43mvar\u001b[49m\u001b[43m,\u001b[49m\u001b[43m \u001b[49m\u001b[43mfn\u001b[49m\u001b[43m,\u001b[49m\u001b[43m \u001b[49m\u001b[43m(\u001b[49m\u001b[43mvar\u001b[49m\u001b[43m,\u001b[49m\u001b[43m)\u001b[49m\u001b[43m \u001b[49m\u001b[38;5;241;43m+\u001b[39;49m\u001b[43m \u001b[49m\u001b[38;5;28;43mtuple\u001b[39;49m\u001b[43m(\u001b[49m\u001b[43margs\u001b[49m\u001b[43m)\u001b[49m\u001b[43m,\u001b[49m\u001b[43m \u001b[49m\u001b[43mkwargs\u001b[49m\u001b[43m,\u001b[49m\u001b[43m \u001b[49m\u001b[43mgroup\u001b[49m\u001b[43m)\u001b[49m\n",
      "File \u001b[0;32m/Library/Frameworks/Python.framework/Versions/3.10/lib/python3.10/site-packages/tensorflow/python/distribute/distribute_lib.py:3716\u001b[0m, in \u001b[0;36m_DefaultDistributionExtended._update_non_slot\u001b[0;34m(self, colocate_with, fn, args, kwargs, should_group)\u001b[0m\n\u001b[1;32m   3712\u001b[0m \u001b[38;5;28;01mdef\u001b[39;00m \u001b[38;5;21m_update_non_slot\u001b[39m(\u001b[38;5;28mself\u001b[39m, colocate_with, fn, args, kwargs, should_group):\n\u001b[1;32m   3713\u001b[0m   \u001b[38;5;66;03m# TODO(josh11b): Figure out what we should be passing to UpdateContext()\u001b[39;00m\n\u001b[1;32m   3714\u001b[0m   \u001b[38;5;66;03m# once that value is used for something.\u001b[39;00m\n\u001b[1;32m   3715\u001b[0m   \u001b[38;5;28;01mwith\u001b[39;00m UpdateContext(colocate_with):\n\u001b[0;32m-> 3716\u001b[0m     result \u001b[38;5;241m=\u001b[39m \u001b[43mfn\u001b[49m\u001b[43m(\u001b[49m\u001b[38;5;241;43m*\u001b[39;49m\u001b[43margs\u001b[49m\u001b[43m,\u001b[49m\u001b[43m \u001b[49m\u001b[38;5;241;43m*\u001b[39;49m\u001b[38;5;241;43m*\u001b[39;49m\u001b[43mkwargs\u001b[49m\u001b[43m)\u001b[49m\n\u001b[1;32m   3717\u001b[0m     \u001b[38;5;28;01mif\u001b[39;00m should_group:\n\u001b[1;32m   3718\u001b[0m       \u001b[38;5;28;01mreturn\u001b[39;00m result\n",
      "File \u001b[0;32m/Library/Frameworks/Python.framework/Versions/3.10/lib/python3.10/site-packages/tensorflow/python/autograph/impl/api.py:595\u001b[0m, in \u001b[0;36mcall_with_unspecified_conversion_status.<locals>.wrapper\u001b[0;34m(*args, **kwargs)\u001b[0m\n\u001b[1;32m    593\u001b[0m \u001b[38;5;28;01mdef\u001b[39;00m \u001b[38;5;21mwrapper\u001b[39m(\u001b[38;5;241m*\u001b[39margs, \u001b[38;5;241m*\u001b[39m\u001b[38;5;241m*\u001b[39mkwargs):\n\u001b[1;32m    594\u001b[0m   \u001b[38;5;28;01mwith\u001b[39;00m ag_ctx\u001b[38;5;241m.\u001b[39mControlStatusCtx(status\u001b[38;5;241m=\u001b[39mag_ctx\u001b[38;5;241m.\u001b[39mStatus\u001b[38;5;241m.\u001b[39mUNSPECIFIED):\n\u001b[0;32m--> 595\u001b[0m     \u001b[38;5;28;01mreturn\u001b[39;00m \u001b[43mfunc\u001b[49m\u001b[43m(\u001b[49m\u001b[38;5;241;43m*\u001b[39;49m\u001b[43margs\u001b[49m\u001b[43m,\u001b[49m\u001b[43m \u001b[49m\u001b[38;5;241;43m*\u001b[39;49m\u001b[38;5;241;43m*\u001b[39;49m\u001b[43mkwargs\u001b[49m\u001b[43m)\u001b[49m\n",
      "File \u001b[0;32m/Library/Frameworks/Python.framework/Versions/3.10/lib/python3.10/site-packages/keras/optimizers/optimizer_experimental/optimizer.py:1211\u001b[0m, in \u001b[0;36mOptimizer._distributed_apply_gradients_fn.<locals>.apply_grad_to_update_var\u001b[0;34m(var, grad)\u001b[0m\n\u001b[1;32m   1209\u001b[0m \u001b[38;5;28;01mdef\u001b[39;00m \u001b[38;5;21mapply_grad_to_update_var\u001b[39m(var, grad):\n\u001b[1;32m   1210\u001b[0m     \u001b[38;5;28;01mif\u001b[39;00m \u001b[38;5;28mself\u001b[39m\u001b[38;5;241m.\u001b[39mjit_compile:\n\u001b[0;32m-> 1211\u001b[0m         \u001b[38;5;28;01mreturn\u001b[39;00m \u001b[38;5;28;43mself\u001b[39;49m\u001b[38;5;241;43m.\u001b[39;49m\u001b[43m_update_step_xla\u001b[49m\u001b[43m(\u001b[49m\u001b[43mgrad\u001b[49m\u001b[43m,\u001b[49m\u001b[43m \u001b[49m\u001b[43mvar\u001b[49m\u001b[43m,\u001b[49m\u001b[43m \u001b[49m\u001b[38;5;28;43mid\u001b[39;49m\u001b[43m(\u001b[49m\u001b[38;5;28;43mself\u001b[39;49m\u001b[38;5;241;43m.\u001b[39;49m\u001b[43m_var_key\u001b[49m\u001b[43m(\u001b[49m\u001b[43mvar\u001b[49m\u001b[43m)\u001b[49m\u001b[43m)\u001b[49m\u001b[43m)\u001b[49m\n\u001b[1;32m   1212\u001b[0m     \u001b[38;5;28;01melse\u001b[39;00m:\n\u001b[1;32m   1213\u001b[0m         \u001b[38;5;28;01mreturn\u001b[39;00m \u001b[38;5;28mself\u001b[39m\u001b[38;5;241m.\u001b[39m_update_step(grad, var)\n",
      "File \u001b[0;32m/Library/Frameworks/Python.framework/Versions/3.10/lib/python3.10/site-packages/tensorflow/python/util/traceback_utils.py:153\u001b[0m, in \u001b[0;36mfilter_traceback.<locals>.error_handler\u001b[0;34m(*args, **kwargs)\u001b[0m\n\u001b[1;32m    151\u001b[0m \u001b[38;5;28;01mexcept\u001b[39;00m \u001b[38;5;167;01mException\u001b[39;00m \u001b[38;5;28;01mas\u001b[39;00m e:\n\u001b[1;32m    152\u001b[0m   filtered_tb \u001b[38;5;241m=\u001b[39m _process_traceback_frames(e\u001b[38;5;241m.\u001b[39m__traceback__)\n\u001b[0;32m--> 153\u001b[0m   \u001b[38;5;28;01mraise\u001b[39;00m e\u001b[38;5;241m.\u001b[39mwith_traceback(filtered_tb) \u001b[38;5;28;01mfrom\u001b[39;00m \u001b[38;5;28mNone\u001b[39m\n\u001b[1;32m    154\u001b[0m \u001b[38;5;28;01mfinally\u001b[39;00m:\n\u001b[1;32m    155\u001b[0m   \u001b[38;5;28;01mdel\u001b[39;00m filtered_tb\n",
      "File \u001b[0;32m/Library/Frameworks/Python.framework/Versions/3.10/lib/python3.10/site-packages/tensorflow/python/eager/execute.py:52\u001b[0m, in \u001b[0;36mquick_execute\u001b[0;34m(op_name, num_outputs, inputs, attrs, ctx, name)\u001b[0m\n\u001b[1;32m     50\u001b[0m \u001b[38;5;28;01mtry\u001b[39;00m:\n\u001b[1;32m     51\u001b[0m   ctx\u001b[38;5;241m.\u001b[39mensure_initialized()\n\u001b[0;32m---> 52\u001b[0m   tensors \u001b[38;5;241m=\u001b[39m pywrap_tfe\u001b[38;5;241m.\u001b[39mTFE_Py_Execute(ctx\u001b[38;5;241m.\u001b[39m_handle, device_name, op_name,\n\u001b[1;32m     53\u001b[0m                                       inputs, attrs, num_outputs)\n\u001b[1;32m     54\u001b[0m \u001b[38;5;28;01mexcept\u001b[39;00m core\u001b[38;5;241m.\u001b[39m_NotOkStatusException \u001b[38;5;28;01mas\u001b[39;00m e:\n\u001b[1;32m     55\u001b[0m   \u001b[38;5;28;01mif\u001b[39;00m name \u001b[38;5;129;01mis\u001b[39;00m \u001b[38;5;129;01mnot\u001b[39;00m \u001b[38;5;28;01mNone\u001b[39;00m:\n",
      "\u001b[0;31mNotFoundError\u001b[0m: could not find registered platform with id: 0x12ffa55c0 [Op:__inference__update_step_xla_136]"
     ]
    }
   ],
   "source": [
    "from tensorflow.keras import Model\n",
    "import tensorflow as tf\n",
    "import numpy as np\n",
    "import pandas as pd\n",
    "import random\n",
    "from sklearn.datasets import make_regression\n",
    "from sklearn.model_selection import train_test_split\n",
    "import matplotlib.pyplot as plt\n",
    "\n",
    "class Dense(tf.Module):\n",
    "    def __init__(self, input_dim, output_size, name=None, final=False):\n",
    "        super().__init__(name=name)\n",
    "        self.final = final\n",
    "        init_weights = tf.random.normal([input_dim, output_size])\n",
    "        self.w = tf.Variable(\n",
    "            init_weights, name='w'\n",
    "        )\n",
    "        self.b = tf.Variable(\n",
    "            tf.zeros([output_size]), name='b'\n",
    "        )\n",
    "        \n",
    "    def __call__(self, x):\n",
    "        result = tf.matmul(x, self.w) + self.b\n",
    "        if self.final:\n",
    "            return result[:,0]\n",
    "        return result\n",
    "\n",
    "        \n",
    "class NeuralNet(Model):\n",
    "    def __init__(self, X_in, X_out, optimizer):\n",
    "        super(NeuralNet, self).__init__()\n",
    "        self.layer = Dense(X_in, X_out, final=True)\n",
    "        self.optimizer = optimizer\n",
    "        \n",
    "    def call(self, x):\n",
    "        return self.layer(x)\n",
    "\n",
    "    def step(self, x, y):\n",
    "        x = tf.cast(x, tf.float32)\n",
    "        y = tf.cast(y, tf.float32)\n",
    "        with tf.GradientTape() as tape:\n",
    "            pred = self.call(x)\n",
    "            loss = mse(pred, y)\n",
    "        gradients = tape.gradient(loss, self.trainable_variables)\n",
    "        self.optimizer.apply_gradients(zip(gradients, self.trainable_variables))\n",
    "\n",
    "def mse(prediction, truth):\n",
    "    prediction = tf.cast(prediction, tf.float64)\n",
    "    truth = tf.cast(truth, tf.float64)\n",
    "    return tf.metrics.MSE(prediction, truth)\n",
    "\n",
    "\n",
    "if __name__ == '__main__':\n",
    "    X, y = make_regression(n_samples=1000, n_features=100)\n",
    "    X_train, X_test, y_train, y_test = train_test_split(X, y)\n",
    "    learning_rate = 0.9\n",
    "    optimizer = tf.optimizers.Adam(learning_rate)\n",
    "    nn = NeuralNet(X_train.shape[1], 1, optimizer)\n",
    "    num_steps = 110\n",
    "    losses = []\n",
    "    for step in range(num_steps):\n",
    "        nn.step(X_train, y_train)\n",
    "        pred = nn(X_test)\n",
    "        loss = mse(pred, y_test)\n",
    "        losses.append(loss)\n",
    "    plt.plot(losses)\n"
   ]
  },
  {
   "cell_type": "markdown",
   "id": "5372b7ae",
   "metadata": {},
   "source": [
    "As this simple example shows, we are using the neural network framework to do linear regression.  If it's unclear where that's happening - recall that each of the individual layers are models themselves.  Here the linear regression 'model' is implemented here:\n",
    "\n",
    "```python\n",
    "def __call__(self, x):\n",
    "    result = tf.matmul(x, self.w) + self.b\n",
    "    if self.final:\n",
    "        return result[:,0]\n",
    "    return result\n",
    "```\n",
    "\n",
    "As you can tell we are doing the standard thing, as seen from previous chapters.  The only real difference is we are using tenorflow's matrix multiplication which is the same (more or less) as numpy.dot.  This is the first advantage of using a library like tensorflow, a lot of the heavy lifting is already done for us.  Not only do we get matrix multiplication for free, we also get automatic differentiation, so we don't need to calculate any derivatives.  \n",
    "\n",
    "As a result of doing our linear regression as well as optimizing subject to our loss, we actually get something 'stronger' than straight linear regression.  Specifically, we do our linear regression at each forward pass and then we update our weights subject to the gradient of our loss, meaning we are more or less fine-tuning our weights on every back pass and then doing linear regression on our forward pass.  By constantly fine tuning our weights and then carrying out linear regression, we end up with an optimized form of linear regression.  Which in a sense is the power of neural networks in the first place.\n",
    "\n",
    "There is actually a second optimization that we get for 'free' with tensorflow - that is the ADAM optimizer, which is an adaptive version of the standard stochastic gradient descent where the learning rate is adjusted throughout the learning process subject to momentum - when the loss is large, the learning rate adjusts alot, and when the loss is small, the learning rate adjusts a little.  In this way, we are optimizing the learning rate as we train.\n",
    "\n",
    "These two innovations - optimizing the weight initialization and optimizing the learning rate lead to an efficient optimization process, which is at the heart of why neural networks perform so well - they are adaptive to their own initial bad guesses and correct for them quickly where they matter - with the weight update and the loss function.  These two structural pieces of training any model contribute the most to how fast they will converge.  Or whether convergence happens at all.  And we get them, more or less for free with any decent neural network framework.\n",
    "\n",
    "Next let's look at the step function:\n",
    "\n",
    "```python\n",
    "def step(self, x, y):\n",
    "    x = tf.cast(x, tf.float32)\n",
    "    y = tf.cast(y, tf.float32)\n",
    "    with tf.GradientTape() as tape:\n",
    "        pred = self.call(x)\n",
    "        loss = mse(pred, y)\n",
    "    gradients = tape.gradient(loss, self.trainable_variables)\n",
    "    self.optimizer.apply_gradients(zip(gradients, self.trainable_variables))\n",
    "```\n",
    "\n",
    "This one will look essentially the same for most neural networks.  It tells tensorflow at each step of training.  As long as we are using a standard optimizer, this will essentially be the same.  The only thing we might play with here is the types of our dependent and independent variables.  The gradient tape, as shown above is how we track our gradient across our layers.  As you can see, tape is how we calculate the gradient for each activation function.  \n",
    "\n",
    "Then those gradients get 'applied' to our trainable variables, which are exposed through each of our layers.  \n",
    "\n",
    "Now let's create a new example.  This time we'll make use of a non-linear activation:"
   ]
  },
  {
   "cell_type": "code",
   "execution_count": 6,
   "id": "30dfe56d",
   "metadata": {},
   "outputs": [
    {
     "data": {
      "text/plain": [
       "[<tf.Tensor: shape=(), dtype=float64, numpy=0.0015415136807632708>,\n",
       " <tf.Tensor: shape=(), dtype=float64, numpy=0.0027454654557903043>,\n",
       " <tf.Tensor: shape=(), dtype=float64, numpy=0.0048625763180615905>,\n",
       " <tf.Tensor: shape=(), dtype=float64, numpy=0.008476800506468778>,\n",
       " <tf.Tensor: shape=(), dtype=float64, numpy=0.014260227863769513>]"
      ]
     },
     "execution_count": 6,
     "metadata": {},
     "output_type": "execute_result"
    },
    {
     "data": {
      "image/png": "[encoded data removed]",
      "text/plain": [
       "<Figure size 432x288 with 1 Axes>"
      ]
     },
     "metadata": {
      "needs_background": "light"
     },
     "output_type": "display_data"
    }
   ],
   "source": [
    "from tensorflow.keras import Model\n",
    "import tensorflow as tf\n",
    "import numpy as np\n",
    "import pandas as pd\n",
    "import random\n",
    "from sklearn.datasets import make_regression\n",
    "from sklearn.model_selection import train_test_split\n",
    "import matplotlib.pyplot as plt\n",
    "\n",
    "class Dense(tf.Module):\n",
    "    def __init__(self, input_dim, output_size, name=None, final=False):\n",
    "        super().__init__(name=name)\n",
    "        self.final = final\n",
    "        init_weights = tf.random.normal([input_dim, output_size])\n",
    "        self.w = tf.Variable(\n",
    "            init_weights, name='w'\n",
    "        )\n",
    "        self.b = tf.Variable(\n",
    "            tf.zeros([output_size]), name='b'\n",
    "        )\n",
    "        \n",
    "    def __call__(self, x):\n",
    "        result = tf.matmul(x, self.w) + self.b\n",
    "        if self.final:\n",
    "            return result[:,0]\n",
    "        return tf.nn.tanh(result)\n",
    "\n",
    "        \n",
    "class NeuralNet(Model):\n",
    "    def __init__(self, X_in, X_out, optimizer):\n",
    "        super(NeuralNet, self).__init__()\n",
    "        self.layer = Dense(X_in, X_out, final=True)\n",
    "        self.optimizer = optimizer\n",
    "        \n",
    "    def call(self, x):\n",
    "        return self.layer(x)\n",
    "\n",
    "    def step(self, x, y):\n",
    "        x = tf.cast(x, tf.float32)\n",
    "        y = tf.cast(y, tf.float32)\n",
    "        with tf.GradientTape() as tape:\n",
    "            pred = self.call(x)\n",
    "            loss = mse(pred, y)\n",
    "        gradients = tape.gradient(loss, self.trainable_variables)\n",
    "        self.optimizer.apply_gradients(zip(gradients, self.trainable_variables))\n",
    "\n",
    "def mse(prediction, truth):\n",
    "    prediction = tf.cast(prediction, tf.float64)\n",
    "    truth = tf.cast(truth, tf.float64)\n",
    "    return tf.metrics.MSE(prediction, truth)\n",
    "\n",
    "\n",
    "if __name__ == '__main__':\n",
    "    X, y = make_regression(n_samples=1000, n_features=100)\n",
    "    X_train, X_test, y_train, y_test = train_test_split(X, y)\n",
    "    learning_rate = 0.9\n",
    "    optimizer = tf.optimizers.Adam(learning_rate)\n",
    "    nn = NeuralNet(X_train.shape[1], 1, optimizer)\n",
    "    num_steps = 1000\n",
    "    losses = []\n",
    "    for step in range(num_steps):\n",
    "        nn.step(X_train, y_train)\n",
    "        pred = nn(X_test)\n",
    "        loss = mse(pred, y_test)\n",
    "        losses.append(loss)\n",
    "    plt.plot(losses)\n",
    "\n",
    "losses[-5:]"
   ]
  },
  {
   "cell_type": "markdown",
   "id": "49ca7f17",
   "metadata": {},
   "source": [
    "As you can see, not much has changed.  The tanh function bounds our weights between -1 to 1 meaning we are less likely to have a vanishing our exploding gradient.  You may be wondering, how to deal with different types of problems - for instance, if you were interested in a classification problem, what might you change?  That comes down to the loss function.\n",
    "\n",
    "Of course, different activation functions are better for different problems.  Some people try to prescribe rules of thumb here, but it's best to look at your data, your layers, your activations and your loss holistically to decide what's the right set up for your problem.\n",
    "\n",
    "Next, let's add some more layers, to see how that works and if that increases the speed of convergence at all:"
   ]
  },
  {
   "cell_type": "code",
   "execution_count": 7,
   "id": "2a946865",
   "metadata": {},
   "outputs": [
    {
     "data": {
      "text/plain": [
       "[<tf.Tensor: shape=(), dtype=float64, numpy=1507.5564728675026>,\n",
       " <tf.Tensor: shape=(), dtype=float64, numpy=1516.2875956464147>,\n",
       " <tf.Tensor: shape=(), dtype=float64, numpy=1534.6091275769984>,\n",
       " <tf.Tensor: shape=(), dtype=float64, numpy=1533.1236966322867>,\n",
       " <tf.Tensor: shape=(), dtype=float64, numpy=1503.8588292246054>]"
      ]
     },
     "execution_count": 7,
     "metadata": {},
     "output_type": "execute_result"
    },
    {
     "data": {
      "image/png": "[encoded data removed]",
      "text/plain": [
       "<Figure size 432x288 with 1 Axes>"
      ]
     },
     "metadata": {
      "needs_background": "light"
     },
     "output_type": "display_data"
    }
   ],
   "source": [
    "from tensorflow.keras import Model\n",
    "import tensorflow as tf\n",
    "import numpy as np\n",
    "import pandas as pd\n",
    "import random\n",
    "from sklearn.datasets import make_regression\n",
    "from sklearn.model_selection import train_test_split\n",
    "import matplotlib.pyplot as plt\n",
    "\n",
    "class Dense(tf.Module):\n",
    "    def __init__(self, input_dim, output_size, name=None, final=False):\n",
    "        super().__init__(name=name)\n",
    "        self.final = final\n",
    "        init_weights = tf.random.normal([input_dim, output_size])\n",
    "        self.w = tf.Variable(\n",
    "            init_weights, name='w'\n",
    "        )\n",
    "        self.b = tf.Variable(\n",
    "            tf.zeros([output_size]), name='b'\n",
    "        )\n",
    "        \n",
    "    def __call__(self, x):\n",
    "        result = tf.matmul(x, self.w) + self.b\n",
    "        if self.final:\n",
    "            return result[:,0]\n",
    "        return tf.nn.tanh(result)\n",
    "\n",
    "        \n",
    "class NeuralNet(Model):\n",
    "    def __init__(self, X_in, X_out, optimizer):\n",
    "        super(NeuralNet, self).__init__()\n",
    "        self.hidden_layer = Dense(X_in, X_in)\n",
    "        self.final_layer = Dense(X_in, X_out, final=True)\n",
    "        self.optimizer = optimizer\n",
    "        \n",
    "    def call(self, x):\n",
    "        res = self.hidden_layer(x)\n",
    "        return self.final_layer(res)\n",
    "\n",
    "    def step(self, x, y):\n",
    "        x = tf.cast(x, tf.float32)\n",
    "        y = tf.cast(y, tf.float32)\n",
    "        with tf.GradientTape() as tape:\n",
    "            pred = self.call(x)\n",
    "            loss = mse(pred, y)\n",
    "        gradients = tape.gradient(loss, self.trainable_variables)\n",
    "        self.optimizer.apply_gradients(zip(gradients, self.trainable_variables))\n",
    "\n",
    "def mse(prediction, truth):\n",
    "    prediction = tf.cast(prediction, tf.float64)\n",
    "    truth = tf.cast(truth, tf.float64)\n",
    "    return tf.metrics.MSE(prediction, truth)\n",
    "\n",
    "\n",
    "if __name__ == '__main__':\n",
    "    X, y = make_regression(n_samples=1000, n_features=100)\n",
    "    X_train, X_test, y_train, y_test = train_test_split(X, y)\n",
    "    learning_rate = 0.9\n",
    "    optimizer = tf.optimizers.Adam(learning_rate)\n",
    "    nn = NeuralNet(X_train.shape[1], 1, optimizer)\n",
    "    num_steps = 1000\n",
    "    losses = []\n",
    "    for step in range(num_steps):\n",
    "        nn.step(X_train, y_train)\n",
    "        pred = nn(X_test)\n",
    "        loss = mse(pred, y_test)\n",
    "        losses.append(loss)\n",
    "    plt.plot(losses)\n",
    "\n",
    "losses[-5:]"
   ]
  },
  {
   "cell_type": "markdown",
   "id": "7b9fbcc7",
   "metadata": {},
   "source": [
    "As you can see, now that we've doubled the number of layers, the amount of time that we need to get good performance goes down quiet a bit.  This is the standard phenomenon in neural networks - increasing the number of layers increases the rate of convergence.  Interestingly though, increasing the number of layers does not get us as small a loss.  We appear to be overfitting in this case.  Let's try decreasing the capacity of our network and removing the non-linearity:"
   ]
  },
  {
   "cell_type": "code",
   "execution_count": 8,
   "id": "e4b2c377",
   "metadata": {},
   "outputs": [
    {
     "data": {
      "text/plain": [
       "[<tf.Tensor: shape=(), dtype=float64, numpy=3.947685570905593e-10>,\n",
       " <tf.Tensor: shape=(), dtype=float64, numpy=4.03295296455105e-10>,\n",
       " <tf.Tensor: shape=(), dtype=float64, numpy=3.530168021987341e-10>,\n",
       " <tf.Tensor: shape=(), dtype=float64, numpy=3.3769778791998974e-10>,\n",
       " <tf.Tensor: shape=(), dtype=float64, numpy=3.2424080677943773e-10>]"
      ]
     },
     "execution_count": 8,
     "metadata": {},
     "output_type": "execute_result"
    },
    {
     "data": {
      "image/png": "[encoded data removed]",
      "text/plain": [
       "<Figure size 432x288 with 1 Axes>"
      ]
     },
     "metadata": {
      "needs_background": "light"
     },
     "output_type": "display_data"
    }
   ],
   "source": [
    "from tensorflow.keras import Model\n",
    "import tensorflow as tf\n",
    "import numpy as np\n",
    "import pandas as pd\n",
    "import random\n",
    "from sklearn.datasets import make_regression\n",
    "from sklearn.model_selection import train_test_split\n",
    "import matplotlib.pyplot as plt\n",
    "\n",
    "class Dense(tf.Module):\n",
    "    def __init__(self, input_dim, output_size, name=None, final=False):\n",
    "        super().__init__(name=name)\n",
    "        self.final = final\n",
    "        init_weights = tf.random.normal([input_dim, output_size])\n",
    "        self.w = tf.Variable(\n",
    "            init_weights, name='w'\n",
    "        )\n",
    "        self.b = tf.Variable(\n",
    "            tf.zeros([output_size]), name='b'\n",
    "        )\n",
    "        \n",
    "    def __call__(self, x):\n",
    "        result = tf.matmul(x, self.w) + self.b\n",
    "        if self.final:\n",
    "            return result[:,0]\n",
    "        return result\n",
    "\n",
    "        \n",
    "class NeuralNet(Model):\n",
    "    def __init__(self, X_in, X_out, optimizer):\n",
    "        super(NeuralNet, self).__init__()\n",
    "        self.hidden_layer = Dense(X_in, X_in//2)\n",
    "        self.final_layer = Dense(X_in//2, X_out, final=True)\n",
    "        self.optimizer = optimizer\n",
    "        \n",
    "    def call(self, x):\n",
    "        res = self.hidden_layer(x)\n",
    "        return self.final_layer(res)\n",
    "\n",
    "    def step(self, x, y):\n",
    "        x = tf.cast(x, tf.float32)\n",
    "        y = tf.cast(y, tf.float32)\n",
    "        with tf.GradientTape() as tape:\n",
    "            pred = self.call(x)\n",
    "            loss = mse(pred, y)\n",
    "        gradients = tape.gradient(loss, self.trainable_variables)\n",
    "        self.optimizer.apply_gradients(zip(gradients, self.trainable_variables))\n",
    "\n",
    "def mse(prediction, truth):\n",
    "    prediction = tf.cast(prediction, tf.float64)\n",
    "    truth = tf.cast(truth, tf.float64)\n",
    "    return tf.metrics.MSE(prediction, truth)\n",
    "\n",
    "\n",
    "if __name__ == '__main__':\n",
    "    X, y = make_regression(n_samples=1000, n_features=100)\n",
    "    X_train, X_test, y_train, y_test = train_test_split(X, y)\n",
    "    learning_rate = 0.9\n",
    "    optimizer = tf.optimizers.Adam(learning_rate)\n",
    "    nn = NeuralNet(X_train.shape[1], 1, optimizer)\n",
    "    num_steps = 1000\n",
    "    losses = []\n",
    "    for step in range(num_steps):\n",
    "        nn.step(X_train, y_train)\n",
    "        pred = nn(X_test)\n",
    "        loss = mse(pred, y_test)\n",
    "        losses.append(loss)\n",
    "    plt.plot(losses)\n",
    "\n",
    "losses[-5:]"
   ]
  },
  {
   "cell_type": "markdown",
   "id": "ab2979fa",
   "metadata": {},
   "source": [
    "As you can see by cutting the capacity of our network in half and removing the non-linearity we get to a very small loss.  And we do it much faster than with the network with a single layer.  Next, let's look at a classification example:"
   ]
  },
  {
   "cell_type": "code",
   "execution_count": null,
   "id": "f13ae13f",
   "metadata": {},
   "outputs": [],
   "source": [
    "from tensorflow.keras import Model\n",
    "import tensorflow as tf\n",
    "import numpy as np\n",
    "import pandas as pd\n",
    "import random\n",
    "from sklearn.datasets import make_classification\n",
    "from sklearn.model_selection import train_test_split\n",
    "import matplotlib.pyplot as plt\n",
    "\n",
    "class Dense(tf.Module):\n",
    "    def __init__(self, input_dim, output_size, name=None, final=False):\n",
    "        super().__init__(name=name)\n",
    "        self.final = final\n",
    "        init_weights = tf.random.normal([input_dim, output_size])\n",
    "        self.w = tf.Variable(\n",
    "            init_weights, name='w'\n",
    "        )\n",
    "        self.b = tf.Variable(\n",
    "            tf.zeros([output_size]), name='b'\n",
    "        )\n",
    "        \n",
    "    def __call__(self, x):\n",
    "        result = tf.matmul(x, self.w) + self.b\n",
    "        if self.final:\n",
    "            return tf.nn.sigmoid(result)[:,0]\n",
    "        return tf.nn.tanh(result)\n",
    "\n",
    "        \n",
    "class NeuralNet(Model):\n",
    "    def __init__(self, X_in, X_out, optimizer):\n",
    "        super(NeuralNet, self).__init__()\n",
    "        self.hidden_layer = Dense(X_in, X_in)\n",
    "        self.final_layer = Dense(X_in, X_out, final=True)\n",
    "        self.optimizer = optimizer\n",
    "        \n",
    "    def call(self, x):\n",
    "        res = self.hidden_layer(x)\n",
    "        return self.final_layer(res)\n",
    "\n",
    "    def step(self, x, y):\n",
    "        x = tf.cast(x, tf.float32)\n",
    "        y = tf.cast(y, tf.float32)\n",
    "        with tf.GradientTape() as tape:\n",
    "            pred = self.call(x)\n",
    "            loss = binary_cross_entropy(pred, y)\n",
    "        gradients = tape.gradient(loss, self.trainable_variables)\n",
    "        self.optimizer.apply_gradients(zip(gradients, self.trainable_variables))\n",
    "\n",
    "def binary_cross_entropy(prediction, truth):\n",
    "    cce = tf.keras.losses.CategoricalCrossentropy()\n",
    "    return cce(truth, prediction)\n",
    "\n",
    "if __name__ == '__main__':\n",
    "    X, y = make_classification(n_samples=1000, n_features=100)\n",
    "    X_train, X_test, y_train, y_test = train_test_split(X, y)\n",
    "    learning_rate = 0.01\n",
    "    optimizer = tf.optimizers.Adam(learning_rate)\n",
    "    nn = NeuralNet(X_train.shape[1], 1, optimizer)\n",
    "    num_steps = 500\n",
    "    losses = []\n",
    "    for step in range(num_steps):\n",
    "        nn.step(X_train, y_train)\n",
    "        pred = nn(X_test)\n",
    "        loss = binary_cross_entropy(pred, y_test)\n",
    "        losses.append(loss)\n",
    "        prev = nn.hidden_layer.w\n",
    "    plt.plot(losses)\n",
    "\n",
    "losses[-5:]"
   ]
  },
  {
   "cell_type": "markdown",
   "id": "8a21b1b2",
   "metadata": {},
   "source": [
    "## Our first 'real' model architecture\n",
    "\n",
    "First we will implement a custom loss function, because why not?  And then we'll make our first architecture - the Residue Network."
   ]
  },
  {
   "cell_type": "code",
   "execution_count": null,
   "id": "3ba04752",
   "metadata": {},
   "outputs": [],
   "source": [
    "import tensorflow as tf\n",
    "from tensorflow.keras.losses import MeanSquaredError as mean_squared_error\n",
    "\n",
    "def mean_directional_accuracy(actual, predicted):\n",
    "    \"\"\"\n",
    "    prediction period must overlap with actual\n",
    "    \"\"\"\n",
    "    lagged = actual[:-1]\n",
    "    actual = actual[1:]\n",
    "    predicted = predicted[1:]\n",
    "    actual = actual - lagged\n",
    "    actual = actual[~tf.math.is_nan(actual)]\n",
    "    predicted = predicted - lagged\n",
    "    predicted = predicted[~tf.math.is_nan(predicted)]\n",
    "    return np.sum(tf.math.sign(actual) == tf.math.sign(predicted))/(len(actual) + 1)\n",
    "\n",
    "def mse_mda(actual, predicted, mse_weight=0.65):\n",
    "    mda_weight = 1 - mse_weight\n",
    "    mse = mean_squared_error(actual, predicted)\n",
    "    mda = mean_directional_accuracy(actual, predicted)\n",
    "    return mse_weight * mse + mda_weight * mda\n",
    "\n"
   ]
  },
  {
   "cell_type": "code",
   "execution_count": 10,
   "id": "5798b839",
   "metadata": {
    "scrolled": true
   },
   "outputs": [],
   "source": [
    "import tensorflow as tf\n",
    "import numpy as np\n",
    "\n",
    "a = np.random.normal(0, 10, size=100)\n",
    "b = tf.constant(a)"
   ]
  },
  {
   "cell_type": "code",
   "execution_count": 11,
   "id": "efd28356",
   "metadata": {},
   "outputs": [
    {
     "data": {
      "text/plain": [
       "152.61891410319424"
      ]
     },
     "execution_count": 11,
     "metadata": {},
     "output_type": "execute_result"
    }
   ],
   "source": [
    "np.sum(a)"
   ]
  },
  {
   "cell_type": "code",
   "execution_count": 13,
   "id": "debdc3ad",
   "metadata": {},
   "outputs": [
    {
     "data": {
      "text/plain": [
       "<tf.Tensor: shape=(), dtype=float64, numpy=152.61891410319421>"
      ]
     },
     "execution_count": 13,
     "metadata": {},
     "output_type": "execute_result"
    }
   ],
   "source": [
    "tf.reduce_sum(b)"
   ]
  },
  {
   "cell_type": "code",
   "execution_count": 27,
   "id": "d21aac42",
   "metadata": {},
   "outputs": [
    {
     "data": {
      "text/plain": [
       "<tf.Tensor: shape=(), dtype=float32, numpy=10.2>"
      ]
     },
     "execution_count": 27,
     "metadata": {},
     "output_type": "execute_result"
    }
   ],
   "source": [
    "a = np.random.normal(0, 10, size=100)\n",
    "b = tf.constant(a)\n",
    "a = np.random.normal(0, 10, size=100)\n",
    "c = tf.constant(a)\n",
    "tf.cast(tf.reduce_sum(tf.cast(tf.math.sign(b) == tf.math.sign(c), tf.int64)).numpy(), tf.float32)/tf.cast(5, tf.float32)"
   ]
  },
  {
   "cell_type": "code",
   "execution_count": 22,
   "id": "a6afff92",
   "metadata": {},
   "outputs": [
    {
     "ename": "SyntaxError",
     "evalue": "unexpected EOF while parsing (<ipython-input-22-928c0e8ad652>, line 1)",
     "output_type": "error",
     "traceback": [
      "\u001b[0;36m  File \u001b[0;32m\"<ipython-input-22-928c0e8ad652>\"\u001b[0;36m, line \u001b[0;32m1\u001b[0m\n\u001b[0;31m    tf.reduce_sum(tf.cast(tf.math.sign(b) == tf.math.sign(c), tf.int64)\u001b[0m\n\u001b[0m                                                                       ^\u001b[0m\n\u001b[0;31mSyntaxError\u001b[0m\u001b[0;31m:\u001b[0m unexpected EOF while parsing\n"
     ]
    }
   ],
   "source": [
    "tf.reduce_sum(tf.cast(tf.math.sign(b) == tf.math.sign(c), tf.int64)"
   ]
  },
  {
   "cell_type": "code",
   "execution_count": 28,
   "id": "9fed66a1",
   "metadata": {},
   "outputs": [
    {
     "data": {
      "text/plain": [
       "<tf.Tensor: shape=(), dtype=float32, numpy=51.0>"
      ]
     },
     "execution_count": 28,
     "metadata": {},
     "output_type": "execute_result"
    }
   ],
   "source": [
    "tf.cast(\n",
    "    tf.reduce_sum(tf.cast(tf.math.sign(b) == tf.math.sign(c), tf.int64)).numpy()\n",
    "    , tf.float32\n",
    ")"
   ]
  },
  {
   "cell_type": "code",
   "execution_count": null,
   "id": "1ba9a1b6",
   "metadata": {},
   "outputs": [],
   "source": []
  }
 ],
 "metadata": {
  "kernelspec": {
   "display_name": "Python 3 (ipykernel)",
   "language": "python",
   "name": "python3"
  },
  "language_info": {
   "codemirror_mode": {
    "name": "ipython",
    "version": 3
   },
   "file_extension": ".py",
   "mimetype": "text/x-python",
   "name": "python",
   "nbconvert_exporter": "python",
   "pygments_lexer": "ipython3",
   "version": "3.10.8"
  }
 },
 "nbformat": 4,
 "nbformat_minor": 5
}
