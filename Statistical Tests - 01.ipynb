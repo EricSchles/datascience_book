{
 "cells": [
  {
   "cell_type": "markdown",
   "metadata": {
    "slideshow": {
     "slide_type": "slide"
    }
   },
   "source": [
    "# An Introduction To Exploratory Data Analysis and Hypothesis Testing\n",
    "\n",
    "## EDA (Exploratory Data Analysis)"
   ]
  },
  {
   "cell_type": "markdown",
   "metadata": {
    "slideshow": {
     "slide_type": "notes"
    }
   },
   "source": [
    "Understanding the shape of the distribution of your data is an imperative to informing hypotheses about your data.  By understanding the various 1 dimensional projections (aka columns) of your dataset, you'll be able to understand what statistical questions to ask which inform your early analysis.\n",
    "\n",
    "The true beginning of any data science project _should_ be a conversation, however it's hard to get what you need without anything to show.  Exploratory data analysis is often the trojan horse to learn more of the domain expertise of your data as well as to get to know the client.\n"
   ]
  },
  {
   "cell_type": "markdown",
   "metadata": {
    "slideshow": {
     "slide_type": "slide"
    }
   },
   "source": [
    "If you're stakeholders see that you've done \"something\" then you get the opportunity to ask important questions like:\n",
    "\n",
    "* does this sample or this data make sense given what stakeholder expects? \n",
    "* do the various columns mean what you think (based on the column names)?\n",
    "\n",
    "By doing the exploratory data analysis, you can usually get answers to these questions.\n"
   ]
  },
  {
   "cell_type": "markdown",
   "metadata": {
    "slideshow": {
     "slide_type": "slide"
    }
   },
   "source": [
    "\n",
    "## Introductory Techniques\n",
    "\n",
    "* shape parameters of your distribution\n",
    "    * measures of centrality\n",
    "    * measures of spread\n",
    "    * multiple centriods\n",
    "* visualizing your dataset\n",
    "    * histogram plotting\n",
    "    * scatter plotting\n",
    "* distributions\n",
    "    * moment generating functions\n",
    "        * a generalization of centrality\n",
    "        * a generalization of spread\n",
    "    * visualizing the normal distribution\n",
    "    * visualizing the exponential distribution\n",
    "    * visualizing the beta distribution\n",
    "    * Discerning the shape of a distribution in specific\n",
    "        * MLE\n"
   ]
  },
  {
   "cell_type": "markdown",
   "metadata": {
    "slideshow": {
     "slide_type": "slide"
    }
   },
   "source": [
    "## Hypothesis Testing\n",
    "\n",
    "* understanding the null and alternative hypothesis\n",
    "* pvalues and their interpretation\n",
    "* the statistic of a hypothesis test\n",
    "* the power of a statistical test\n",
    "* Example hypothesis tests\n",
    "    * normality tests\n",
    "        * Shapiro-Wilk Test\n",
    "        * D’Agostino’s K^2 Test\n",
    "        * Anderson-Darling Test\n",
    "    * Correlation Tests\n",
    "        * Pearson’s Correlation Coefficient\n",
    "        * Spearman’s Rank Correlation\n",
    "        * Kendall’s Rank Correlation\n",
    "        * Chi-Squared Test\n",
    "        * point biserial test\n",
    "    * Parametric Statistical Hypothesis Tests\n",
    "        * Student’s t-test\n",
    "        * Paired Student’s t-test\n",
    "        * 1 Sample T-Test\n",
    "        * Analysis of Variance Test (ANOVA)\n",
    "    * Nonparametric Statistical Hypothesis Tests\n",
    "        * Mann-Whitney U Test\n",
    "        * Wilcoxon Signed-Rank Test\n",
    "        * Kruskal-Wallis H Test\n",
    "        * Friedman Test\n",
    "        * Kolmogorov-Smirnov statistic on 2 samples\n",
    "        \n",
    "        \n",
    "* a scheme for finding the distribution of your data (Optionally)\n",
    "    * MLE\n",
    "    * Sampling in Python when you need to consider multiple columns\n",
    "    * Analyzing the results of your hypotheses"
   ]
  },
  {
   "cell_type": "markdown",
   "metadata": {
    "slideshow": {
     "slide_type": "slide"
    }
   },
   "source": [
    "# References:\n",
    "\n",
    "[Statistical Tests Cheatsheet](https://machinelearningmastery.com/statistical-hypothesis-tests-in-python-cheat-sheet/)\n",
    "\n",
    "[NIST handbook](https://www.itl.nist.gov/div898/handbook/)\n",
    "\n",
    "[Vassar Stats Book](http://vassarstats.net/textbook/)"
   ]
  },
  {
   "cell_type": "markdown",
   "metadata": {
    "slideshow": {
     "slide_type": "slide"
    }
   },
   "source": [
    "## Shape Parameters"
   ]
  },
  {
   "cell_type": "markdown",
   "metadata": {
    "slideshow": {
     "slide_type": "notes"
    }
   },
   "source": [
    "In order to get some information about our distribution of data, we usually start with figuring out the center of our each column in our dataset.  The central tendency of each column of our dataset has a relationship to the \"expected value\" of the data.  If our data is representative of the underlying population, then the central tendency is a good approxmation of what we can expect of our data over many repeated experiments from the underlying process that generated our dataset."
   ]
  },
  {
   "cell_type": "code",
   "execution_count": 5,
   "metadata": {
    "slideshow": {
     "slide_type": "slide"
    }
   },
   "outputs": [
    {
     "data": {
      "text/plain": [
       "-2.6168993195216026"
      ]
     },
     "execution_count": 5,
     "metadata": {},
     "output_type": "execute_result"
    }
   ],
   "source": [
    "import numpy as np\n",
    "\n",
    "arr = np.random.normal(0, 10, size=10)\n",
    "arr.mean()"
   ]
  },
  {
   "cell_type": "markdown",
   "metadata": {
    "slideshow": {
     "slide_type": "notes"
    }
   },
   "source": [
    "The above gives us the average of ten repeated experiments.  Here the underlying data generation process is assumed to admit \"normally\" distributed data.  If we want the expected value we need to see how the average converges over many repeated samples from the distribution."
   ]
  },
  {
   "cell_type": "code",
   "execution_count": 9,
   "metadata": {
    "slideshow": {
     "slide_type": "slide"
    }
   },
   "outputs": [
    {
     "data": {
      "text/plain": [
       "0.0016411209873510087"
      ]
     },
     "execution_count": 9,
     "metadata": {},
     "output_type": "execute_result"
    }
   ],
   "source": [
    "arr = np.random.normal(0, 10, size=100000000)\n",
    "arr.mean()"
   ]
  },
  {
   "cell_type": "markdown",
   "metadata": {
    "slideshow": {
     "slide_type": "notes"
    }
   },
   "source": [
    "Notice that we use the same method to determined the expected value as we use to determine the average.  Unfortunately, the algorithm for the average used here only works with normally distributed data.  We'll need a broader notion of centrality to capture the expected value of any random variable.\n",
    "\n",
    "In order to get more information about our distribution we'll ask about how spread out the data is.  This gives us a sense of the scale of the distribution of the data.  The scale or spread of the data can tell us how to compare a given data point against the entire distribution and how typical a given point is.  If a point is far away from the central tendency or expectation then it is likely atypical for the distribution.  If a point is nearby the center, it is likely much more expected."
   ]
  },
  {
   "cell_type": "code",
   "execution_count": 36,
   "metadata": {
    "slideshow": {
     "slide_type": "slide"
    }
   },
   "outputs": [
    {
     "data": {
      "text/plain": [
       "9.989376571859928"
      ]
     },
     "execution_count": 36,
     "metadata": {},
     "output_type": "execute_result"
    }
   ],
   "source": [
    "arr = np.random.normal(0, 10, size=100000)\n",
    "arr.std()"
   ]
  },
  {
   "cell_type": "markdown",
   "metadata": {
    "slideshow": {
     "slide_type": "notes"
    }
   },
   "source": [
    "As we can see standard deviation also known as the spread for this random variable is around 10.  What does this mean?  Well we can start to ask questions of our data, like - how likely is it that we get a data point of 10000, given that our data is normally distributed with a mean of 0 and standard deviation of 10 and 100000 data points?\n",
    "\n",
    "We can start by answering the question visually."
   ]
  },
  {
   "cell_type": "code",
   "execution_count": 41,
   "metadata": {
    "slideshow": {
     "slide_type": "slide"
    }
   },
   "outputs": [
    {
     "data": {
      "text/plain": [
       "(array([0.0010682, 0.       , 0.       , ..., 0.       , 0.       ,\n",
       "        0.0010682]),\n",
       " array([-51.2438227 , -51.23446116, -51.22509962, ...,  42.35286433,\n",
       "         42.36222587,  42.37158741]),\n",
       " <a list of 10000 Patch objects>)"
      ]
     },
     "execution_count": 41,
     "metadata": {},
     "output_type": "execute_result"
    },
    {
     "data": {
      "image/png": "[encoded data removed]",
      "text/plain": [
       "<Figure size 432x288 with 1 Axes>"
      ]
     },
     "metadata": {
      "needs_background": "light"
     },
     "output_type": "display_data"
    }
   ],
   "source": [
    "import matplotlib.pyplot as plt\n",
    "%matplotlib inline\n",
    "\n",
    "plt.hist(arr, bins=10000, density=True)"
   ]
  },
  {
   "cell_type": "markdown",
   "metadata": {
    "slideshow": {
     "slide_type": "notes"
    }
   },
   "source": [
    "Given the scale of the distribution - which we can see on the x-axis, clearly the data point of 10000 is well outside what we'd expect for a data point, given this distribution of data.  "
   ]
  },
  {
   "cell_type": "markdown",
   "metadata": {
    "slideshow": {
     "slide_type": "slide"
    }
   },
   "source": [
    "## Dealing with data that isn't normally distributed\n",
    "\n",
    "What happens when our data isn't perfectly normally distributed?  Here's an example dataset that isn't exactly normally distributed:"
   ]
  },
  {
   "cell_type": "code",
   "execution_count": 127,
   "metadata": {
    "slideshow": {
     "slide_type": "slide"
    }
   },
   "outputs": [],
   "source": [
    "from scipy.stats import skewnorm\n",
    "\n",
    "skew_magnitude = 4\n",
    "arr = skewnorm.rvs(skew_magnitude, loc=0, scale=1000, size=100000)"
   ]
  },
  {
   "cell_type": "markdown",
   "metadata": {
    "slideshow": {
     "slide_type": "notes"
    }
   },
   "source": [
    "To generate the above dataset we use a skew normal random variable, one that allows us to pass the third moment of the normal distribution directly.  Because the skew is positive, the tail of our distribution will be on the right."
   ]
  },
  {
   "cell_type": "code",
   "execution_count": 128,
   "metadata": {
    "slideshow": {
     "slide_type": "slide"
    }
   },
   "outputs": [
    {
     "data": {
      "image/png": "[encoded data removed]",
      "text/plain": [
       "<Figure size 432x288 with 1 Axes>"
      ]
     },
     "metadata": {
      "needs_background": "light"
     },
     "output_type": "display_data"
    }
   ],
   "source": [
    "plt.hist(arr, bins=100, density=True)\n",
    "plt.show()"
   ]
  },
  {
   "cell_type": "markdown",
   "metadata": {
    "slideshow": {
     "slide_type": "notes"
    }
   },
   "source": [
    "How might we get a measure of center for a dataset that isn't perfectly normal?  The simple average might give us an approximation of the center:"
   ]
  },
  {
   "cell_type": "code",
   "execution_count": 129,
   "metadata": {
    "slideshow": {
     "slide_type": "slide"
    }
   },
   "outputs": [
    {
     "data": {
      "text/plain": [
       "775.0773690359506"
      ]
     },
     "execution_count": 129,
     "metadata": {},
     "output_type": "execute_result"
    }
   ],
   "source": [
    "arr.mean()"
   ]
  },
  {
   "cell_type": "markdown",
   "metadata": {
    "slideshow": {
     "slide_type": "notes"
    }
   },
   "source": [
    "Let's compare this with what the median produces:"
   ]
  },
  {
   "cell_type": "code",
   "execution_count": 130,
   "metadata": {
    "slideshow": {
     "slide_type": "slide"
    }
   },
   "outputs": [
    {
     "data": {
      "text/plain": [
       "673.6524771212421"
      ]
     },
     "execution_count": 130,
     "metadata": {},
     "output_type": "execute_result"
    }
   ],
   "source": [
    "import statistics as st\n",
    "\n",
    "st.median(arr)"
   ]
  },
  {
   "cell_type": "code",
   "execution_count": 131,
   "metadata": {
    "slideshow": {
     "slide_type": "slide"
    }
   },
   "outputs": [],
   "source": [
    "skew_magnitude = -4\n",
    "arr2 = skewnorm.rvs(skew_magnitude, loc=0, scale=1000, size=100000)"
   ]
  },
  {
   "cell_type": "code",
   "execution_count": 132,
   "metadata": {
    "slideshow": {
     "slide_type": "slide"
    }
   },
   "outputs": [
    {
     "data": {
      "image/png": "[encoded data removed]",
      "text/plain": [
       "<Figure size 432x288 with 1 Axes>"
      ]
     },
     "metadata": {
      "needs_background": "light"
     },
     "output_type": "display_data"
    }
   ],
   "source": [
    "plt.hist(arr2, bins=100, density=False)\n",
    "plt.show()"
   ]
  },
  {
   "cell_type": "code",
   "execution_count": 133,
   "metadata": {
    "slideshow": {
     "slide_type": "slide"
    }
   },
   "outputs": [
    {
     "data": {
      "text/plain": [
       "-771.9201454772459"
      ]
     },
     "execution_count": 133,
     "metadata": {},
     "output_type": "execute_result"
    }
   ],
   "source": [
    "arr2.mean()"
   ]
  },
  {
   "cell_type": "code",
   "execution_count": 134,
   "metadata": {
    "slideshow": {
     "slide_type": "slide"
    }
   },
   "outputs": [
    {
     "data": {
      "text/plain": [
       "-672.9753868254722"
      ]
     },
     "execution_count": 134,
     "metadata": {},
     "output_type": "execute_result"
    }
   ],
   "source": [
    "st.median(arr2)"
   ]
  },
  {
   "cell_type": "markdown",
   "metadata": {
    "slideshow": {
     "slide_type": "notes"
    }
   },
   "source": [
    "As you can see here, the mean overstates the central tendency of the dataset by quite a bit!  So this tells us when our assumptions are violated we will need to make use of descriptive statistics which are robust to our assumptions needing to be relaxed\n"
   ]
  },
  {
   "cell_type": "markdown",
   "metadata": {
    "slideshow": {
     "slide_type": "slide"
    }
   },
   "source": [
    "\n",
    "The major reason that the arithemtic mean overstates the average in this case is because of how it treats large values.  Recall the formula for the arithmetic mean:\n",
    "\n",
    "$$ 1/N \\sum_{i=0}^{i=N} X[i] $$\n",
    "\n",
    "Where X is a list of numbers.\n",
    "\n"
   ]
  },
  {
   "cell_type": "markdown",
   "metadata": {
    "slideshow": {
     "slide_type": "notes"
    }
   },
   "source": [
    "Because the sum treats all values equally, if you have one large number the average can shift by a lot.  \n",
    "\n",
    "The way that robust descriptive statistics like the median get around this is by looking at the rank of the data.  Here's how this works:\n",
    "\n",
    "First the data is sorted into ascending order and then different sorted elements are used as alternative measures for centrality and spread.  While not perfectly robust, they do well with a lot of different distributions that are approximately normal but exhibiting some non-normal tendencies either by a non zero skew or a non zero kurtosis."
   ]
  },
  {
   "cell_type": "code",
   "execution_count": 142,
   "metadata": {
    "slideshow": {
     "slide_type": "slide"
    }
   },
   "outputs": [
    {
     "name": "stdout",
     "output_type": "stream",
     "text": [
      "Median 673.6524771212421\n",
      "Interquartile Range 840.351319347348\n",
      "Mean 775.0773690359506\n",
      "Standard Deviation 633.2153887790821\n"
     ]
    }
   ],
   "source": [
    "def interquartile_range(arr):\n",
    "    q1 = np.percentile(arr, 25)\n",
    "    q3 = np.percentile(arr, 75)\n",
    "    return q3 - q1\n",
    "\n",
    "print(\"Median\", np.percentile(arr, 50))\n",
    "print(\"Interquartile Range\", interquartile_range(arr))\n",
    "print(\"Mean\", arr.mean())\n",
    "print(\"Standard Deviation\", arr.std())"
   ]
  },
  {
   "cell_type": "markdown",
   "metadata": {
    "slideshow": {
     "slide_type": "notes"
    }
   },
   "source": [
    "As you can see, the above robust statistics capture the same information - the center and the spread of the distribution, except because these are rank order statistics, they won't capture any information from the outliers.  This is because they only look at sorted order, these statistics are unaware of bias via outliers.\n",
    "\n",
    "Another important robust descriptive statistic is the [trimean](https://en.wikipedia.org/wiki/Trimean)."
   ]
  },
  {
   "cell_type": "code",
   "execution_count": 144,
   "metadata": {
    "slideshow": {
     "slide_type": "slide"
    }
   },
   "outputs": [
    {
     "name": "stdout",
     "output_type": "stream",
     "text": [
      "Trimean 701.7110944368526\n"
     ]
    }
   ],
   "source": [
    "def trimean(arr):\n",
    "    q1 = np.percentile(arr, 25)\n",
    "    q3 = np.percentile(arr, 75)\n",
    "    median = np.percentile(arr, 50)\n",
    "    return (q1 + 2*median + q3)/4\n",
    "\n",
    "print(\"Trimean\", trimean(arr))"
   ]
  },
  {
   "cell_type": "markdown",
   "metadata": {
    "slideshow": {
     "slide_type": "notes"
    }
   },
   "source": [
    "\"An advantage of the trimean as a measure of the center (of a distribution) is that it combines the median's emphasis on center values with the midhinge's attention to the extremes.\"\n",
    "\n",
    "— Herbert F. Weisberg, Central Tendency and Variability\n",
    "\n",
    "Before we leave our discussion of central tendency, it is possible that our data will not comfortably conform to one central tendency, it may be the case that multiple central tendencies are present, for this we will introduce the k means algorithm"
   ]
  },
  {
   "cell_type": "code",
   "execution_count": 168,
   "metadata": {
    "slideshow": {
     "slide_type": "slide"
    }
   },
   "outputs": [
    {
     "data": {
      "text/plain": [
       "array([[ 99.82624339],\n",
       "       [799.60974984]])"
      ]
     },
     "execution_count": 168,
     "metadata": {},
     "output_type": "execute_result"
    }
   ],
   "source": [
    "from sklearn.cluster import KMeans\n",
    "\n",
    "arr1 = np.random.normal(100, 50, size=10000)\n",
    "arr2 = np.random.normal(800, 50, size=10000)\n",
    "multi_center_dist = np.concatenate([arr1, arr2])\n",
    "\n",
    "means = KMeans(n_clusters=2, \n",
    "               random_state=0, \n",
    "               max_iter=1000,\n",
    "               n_init=100,\n",
    "               tol=0.00001,\n",
    "               algorithm=\"full\").fit(multi_center_dist.reshape(-1, 1))\n",
    "means.cluster_centers_"
   ]
  },
  {
   "cell_type": "code",
   "execution_count": 169,
   "metadata": {
    "slideshow": {
     "slide_type": "slide"
    }
   },
   "outputs": [
    {
     "data": {
      "image/png": "[encoded data removed]",
      "text/plain": [
       "<Figure size 432x288 with 1 Axes>"
      ]
     },
     "metadata": {
      "needs_background": "light"
     },
     "output_type": "display_data"
    }
   ],
   "source": [
    "plt.hist(multi_center_dist, bins=100)\n",
    "plt.show()"
   ]
  },
  {
   "cell_type": "code",
   "execution_count": 176,
   "metadata": {
    "slideshow": {
     "slide_type": "slide"
    }
   },
   "outputs": [
    {
     "data": {
      "text/plain": [
       "array([[163.9252768 ],\n",
       "       [835.22386134]])"
      ]
     },
     "execution_count": 176,
     "metadata": {},
     "output_type": "execute_result"
    }
   ],
   "source": [
    "from sklearn.cluster import KMeans\n",
    "\n",
    "arr1 = skewnorm.rvs(-2, loc=200, scale=50, size=1000)\n",
    "arr2 = skewnorm.rvs(2, loc=800, scale=50, size=1000)\n",
    "multi_center_dist = np.concatenate([arr1, arr2])\n",
    "\n",
    "means = KMeans(n_clusters=2, \n",
    "               random_state=0, \n",
    "               max_iter=1000,\n",
    "               n_init=100,\n",
    "               tol=0.00001,\n",
    "               algorithm=\"full\").fit(multi_center_dist.reshape(-1, 1))\n",
    "means.cluster_centers_"
   ]
  },
  {
   "cell_type": "code",
   "execution_count": 177,
   "metadata": {
    "slideshow": {
     "slide_type": "slide"
    }
   },
   "outputs": [
    {
     "data": {
      "image/png": "[encoded data removed]",
      "text/plain": [
       "<Figure size 432x288 with 1 Axes>"
      ]
     },
     "metadata": {
      "needs_background": "light"
     },
     "output_type": "display_data"
    }
   ],
   "source": [
    "plt.hist(multi_center_dist, bins=100)\n",
    "plt.show()"
   ]
  },
  {
   "cell_type": "markdown",
   "metadata": {
    "slideshow": {
     "slide_type": "notes"
    }
   },
   "source": [
    "As you can see, the K-Means algorithm captures both of the centers of our distribution.  Additionally, KMeans can generalize to $R^{n}$ space, meaning we can capture a sense of a higher dimensional centrality directly, rather than looking at the marginal centrality of different aspects of our dataset. "
   ]
  },
  {
   "cell_type": "markdown",
   "metadata": {
    "slideshow": {
     "slide_type": "slide"
    }
   },
   "source": [
    "## Dealing with 2 Dimensional Data\n",
    "\n"
   ]
  },
  {
   "cell_type": "markdown",
   "metadata": {
    "slideshow": {
     "slide_type": "notes"
    }
   },
   "source": [
    "Thus far we've dealt primarily with 1 dimensional data, so the histogram was simply the right choice.  What happens when we go multi-dimensional?\n",
    "\n",
    "For this we will need a number of techniques, however the simplest ones involve just visualizing the data.  For this we will need some new visualizations.  In this case we will turn to scatter plots first:"
   ]
  },
  {
   "cell_type": "code",
   "execution_count": 3,
   "metadata": {
    "slideshow": {
     "slide_type": "slide"
    }
   },
   "outputs": [
    {
     "name": "stdout",
     "output_type": "stream",
     "text": [
      ".. _boston_dataset:\n",
      "\n",
      "Boston house prices dataset\n",
      "---------------------------\n",
      "\n",
      "**Data Set Characteristics:**  \n",
      "\n",
      "    :Number of Instances: 506 \n",
      "\n",
      "    :Number of Attributes: 13 numeric/categorical predictive. Median Value (attribute 14) is usually the target.\n",
      "\n",
      "    :Attribute Information (in order):\n",
      "        - CRIM     per capita crime rate by town\n",
      "        - ZN       proportion of residential land zoned for lots over 25,000 sq.ft.\n",
      "        - INDUS    proportion of non-retail business acres per town\n",
      "        - CHAS     Charles River dummy variable (= 1 if tract bounds river; 0 otherwise)\n",
      "        - NOX      nitric oxides concentration (parts per 10 million)\n",
      "        - RM       average number of rooms per dwelling\n",
      "        - AGE      proportion of owner-occupied units built prior to 1940\n",
      "        - DIS      weighted distances to five Boston employment centres\n",
      "        - RAD      index of accessibility to radial highways\n",
      "        - TAX      full-value property-tax rate per $10,000\n",
      "        - PTRATIO  pupil-teacher ratio by town\n",
      "        - B        1000(Bk - 0.63)^2 where Bk is the proportion of blacks by town\n",
      "        - LSTAT    % lower status of the population\n",
      "        - MEDV     Median value of owner-occupied homes in $1000's\n",
      "\n",
      "    :Missing Attribute Values: None\n",
      "\n",
      "    :Creator: Harrison, D. and Rubinfeld, D.L.\n",
      "\n",
      "This is a copy of UCI ML housing dataset.\n",
      "https://archive.ics.uci.edu/ml/machine-learning-databases/housing/\n",
      "\n",
      "\n",
      "This dataset was taken from the StatLib library which is maintained at Carnegie Mellon University.\n",
      "\n",
      "The Boston house-price data of Harrison, D. and Rubinfeld, D.L. 'Hedonic\n",
      "prices and the demand for clean air', J. Environ. Economics & Management,\n",
      "vol.5, 81-102, 1978.   Used in Belsley, Kuh & Welsch, 'Regression diagnostics\n",
      "...', Wiley, 1980.   N.B. Various transformations are used in the table on\n",
      "pages 244-261 of the latter.\n",
      "\n",
      "The Boston house-price data has been used in many machine learning papers that address regression\n",
      "problems.   \n",
      "     \n",
      ".. topic:: References\n",
      "\n",
      "   - Belsley, Kuh & Welsch, 'Regression diagnostics: Identifying Influential Data and Sources of Collinearity', Wiley, 1980. 244-261.\n",
      "   - Quinlan,R. (1993). Combining Instance-Based and Model-Based Learning. In Proceedings on the Tenth International Conference of Machine Learning, 236-243, University of Massachusetts, Amherst. Morgan Kaufmann.\n",
      "\n"
     ]
    }
   ],
   "source": [
    "from sklearn import datasets\n",
    "\n",
    "boston = datasets.load_boston()\n",
    "print(boston[\"DESCR\"])"
   ]
  },
  {
   "cell_type": "code",
   "execution_count": 199,
   "metadata": {
    "slideshow": {
     "slide_type": "slide"
    }
   },
   "outputs": [
    {
     "name": "stderr",
     "output_type": "stream",
     "text": [
      "/usr/local/lib/python3.7/site-packages/ipykernel_launcher.py:10: FutureWarning: Method .as_matrix will be removed in a future version. Use .values instead.\n",
      "  # Remove the CWD from sys.path while we load stuff.\n"
     ]
    },
    {
     "data": {
      "text/plain": [
       "StandardScaler(copy=True, with_mean=True, with_std=True)"
      ]
     },
     "execution_count": 199,
     "metadata": {},
     "output_type": "execute_result"
    }
   ],
   "source": [
    "import pandas as pd\n",
    "\n",
    "columns = [\"CRIM\", \"ZN\", \"INDUS\", \n",
    "          \"CHAS\", \"NOX\", \"RM\", \n",
    "          \"AGE\", \"DIS\", \"RAD\", \n",
    "          \"TAX\", \"PTRATIO\", \"B\", \n",
    "          \"LSTAT\"]\n",
    "df = pd.DataFrame(data=boston.data[:,:], columns=columns) "
   ]
  },
  {
   "cell_type": "code",
   "execution_count": 212,
   "metadata": {
    "slideshow": {
     "slide_type": "slide"
    }
   },
   "outputs": [
    {
     "data": {
      "text/plain": [
       "<matplotlib.collections.PathCollection at 0x111c8a630>"
      ]
     },
     "execution_count": 212,
     "metadata": {},
     "output_type": "execute_result"
    },
    {
     "data": {
      "image/png": "[encoded data removed]",
      "text/plain": [
       "<Figure size 432x288 with 1 Axes>"
      ]
     },
     "metadata": {
      "needs_background": "light"
     },
     "output_type": "display_data"
    }
   ],
   "source": [
    "X = df[\"AGE\"].values\n",
    "Y = df[\"RM\"].values\n",
    "\n",
    "plt.scatter(X, Y)"
   ]
  },
  {
   "cell_type": "markdown",
   "metadata": {
    "slideshow": {
     "slide_type": "notes"
    }
   },
   "source": [
    "From the above data we can actually see something interesting!  As the proportion of houses built before 1940 increases, the number of rooms spreads out significantly.  This means we can say, older houses likely had more rooms possibly because family size was larger and more varied.  As a result when family size stablized around 2 children per household, the number of rooms may have stablized as well.  Also, there is likely a poverty effect here, as American workers made more money, it probably meant fewer homes with a small number of rooms.\n",
    "\n",
    "Of course, the above is all just guess work, but there is certainly a pattern we can discern from the above picture - the number of rooms in older homes is more varied than newer homes."
   ]
  },
  {
   "cell_type": "code",
   "execution_count": 216,
   "metadata": {
    "slideshow": {
     "slide_type": "slide"
    }
   },
   "outputs": [
    {
     "data": {
      "image/png": "[encoded data removed]",
      "text/plain": [
       "<Figure size 432x432 with 3 Axes>"
      ]
     },
     "metadata": {},
     "output_type": "display_data"
    }
   ],
   "source": [
    "import seaborn as sns\n",
    "sns.set(style=\"white\", color_codes=True)\n",
    "sns.jointplot(x=\"AGE\", y=\"RM\", data=df)\n",
    "plt.show()"
   ]
  },
  {
   "cell_type": "markdown",
   "metadata": {
    "slideshow": {
     "slide_type": "notes"
    }
   },
   "source": [
    "Interestingly, we get a very different picture by looking at the joint plot.  It appears as though most of the homes total that are being shown are in the 90-100% range of being built before 1940.  What this suggests is that the housing stock simply degrades slowly and that there are far fewer new houses than old, which is why the spread of room is so much higher if we account for areas with mostly older homes.\n",
    "\n",
    "We can easily add a regression line which looks at the distribution of marginal densities:"
   ]
  },
  {
   "cell_type": "code",
   "execution_count": 217,
   "metadata": {
    "slideshow": {
     "slide_type": "slide"
    }
   },
   "outputs": [
    {
     "data": {
      "image/png": "[encoded data removed]",
      "text/plain": [
       "<Figure size 432x432 with 3 Axes>"
      ]
     },
     "metadata": {},
     "output_type": "display_data"
    }
   ],
   "source": [
    "sns.jointplot(x=\"AGE\", y=\"RM\", data=df, kind=\"reg\")\n",
    "plt.show()"
   ]
  },
  {
   "cell_type": "markdown",
   "metadata": {
    "slideshow": {
     "slide_type": "notes"
    }
   },
   "source": [
    "Notice that this visual \"model\" of our data merely shows us how the data is distributed and where the majority of the data is.  By fitting a line through the data, we can see the slight negative relationship between AGE and number of rooms clearly spelled out.  \n",
    "\n",
    "Of course, we aren't talking in detail about linear regression here.  So this is merely to show the power of good visualization."
   ]
  },
  {
   "cell_type": "markdown",
   "metadata": {
    "slideshow": {
     "slide_type": "slide"
    }
   },
   "source": [
    "## Finding The Central Tendency and Spread In General"
   ]
  },
  {
   "cell_type": "markdown",
   "metadata": {
    "slideshow": {
     "slide_type": "notes"
    }
   },
   "source": [
    "Thus far we have looked at mostly normally distributed data.  Finding the center and spread of the data was relatively straight forward, however that isn't always the case.\n",
    "\n",
    "The reason it was easy to find the center and spread is because we made an assumption about the shape of the underlying data, namely that it was _normally_ distributed.  What happens if we need to relax that assumption?  How can we talk about centrality and spread in the general setting of any distribution of data.\n",
    "\n",
    "For this we'll need a more general notion of centrality and spread.  One way to attack this is to assume some underlying function that approximately generates your data and then to come up with another function which acts on this distribution generating function to recover the shape parameters of the distribution.  The first two of these shape parameters are the central tendency and the spread for the distribution.  \n",
    "\n",
    "The name given to the function that acts on a distribution to recover its shape parameters is called the moment generating function.  For smooth, continuous distribution functions, the moment generating function can generate many moments, by differentiating the distribution function.\n",
    "\n",
    "While the moment generating function does not exist for all distributions, it exists for many, allowing us to extend our discussion of descriptive statistics to many cases, while abstracting away the details of _how_ we calcuate measures of centrality and spread to, _how_ do we interpret our distribution based on it's shape parameters?\n",
    "\n",
    "The technical aspects of how to derive said moment generating functions are likely unimportant.  What is interest, is a few of the collaries:\n",
    "\n",
    "* no two distributions of data calculate the central tendency or spread the same way\n",
    "* there are potentially many shape parameters associated with each distribution of data that give us tons of information about the data."
   ]
  },
  {
   "cell_type": "markdown",
   "metadata": {
    "slideshow": {
     "slide_type": "slide"
    }
   },
   "source": [
    "## Looking at some specific examples\n",
    "\n",
    "* Normal Distribution\n",
    "    * Central tendency: \n",
    "    \n",
    "    $$ 1/n \\sum_{i=0}^{i=n} x_{i} $$ \n",
    "    \n",
    "    * Spread: \n",
    "    \n",
    "    $$ 1/n \\sum_{i=0}^{i=n}(x_{i} - \\mu)^{2} $$\n",
    "    \n",
    "* Exponential Distribution\n",
    "\n",
    "    * Central tendency:\n",
    "        \n",
    "       $$ \\lambda^{-1} $$\n",
    "    \n",
    "    * Spread:\n",
    "    \n",
    "       $$ \\lambda^{-2} $$\n",
    "       \n",
    "* Beta Distribution\n",
    "\n",
    "    * Central tendency:\n",
    "    \n",
    "       $$ \\dfrac{\\alpha}{\\alpha + \\beta} $$\n",
    "    \n",
    "    * Spread: \n",
    "\n",
    "       $$ \\dfrac{\\alpha\\beta}{(\\alpha + \\beta)^{2}(\\alpha + \\beta + 1)} $$"
   ]
  },
  {
   "cell_type": "markdown",
   "metadata": {
    "slideshow": {
     "slide_type": "notes"
    }
   },
   "source": [
    "What do each of these formulas have in common for each calculation of center and spread?  The answer: Nothing!  They couldn't be more different.  And because of that, we know with some level of certainty that it is an imperative we know what data distribution we are dealing with, if we want to say anything meaningful about our data.\n",
    "\n",
    "So how do we account for this in our modeling?  By verifying the distribution that our data comes from.  We'll see how to do this a little later on, but for now let's assume that we simply know by visual inspection what our data looks like.  In order to do this, let's look at pictures of the three distributions listed above:"
   ]
  },
  {
   "cell_type": "code",
   "execution_count": 344,
   "metadata": {
    "slideshow": {
     "slide_type": "slide"
    }
   },
   "outputs": [],
   "source": [
    "normal_dist = np.random.normal(0, 1, size=10000)\n",
    "exponential_dist = np.random.exponential(0.5, size=10000)\n",
    "beta_dist = np.random.beta(1, 3.25, size=10000)"
   ]
  },
  {
   "cell_type": "code",
   "execution_count": 345,
   "metadata": {
    "slideshow": {
     "slide_type": "slide"
    }
   },
   "outputs": [
    {
     "data": {
      "text/plain": [
       "<matplotlib.axes._subplots.AxesSubplot at 0x118ac7d30>"
      ]
     },
     "execution_count": 345,
     "metadata": {},
     "output_type": "execute_result"
    },
    {
     "data": {
      "image/png": "[encoded data removed]",
      "text/plain": [
       "<Figure size 504x504 with 4 Axes>"
      ]
     },
     "metadata": {},
     "output_type": "display_data"
    }
   ],
   "source": [
    "f, axes = plt.subplots(2, 2, figsize=(7, 7), sharex=True)\n",
    "sns.distplot( normal_dist , color=\"green\", ax=axes[0, 0])\n",
    "sns.distplot( exponential_dist , color=\"blue\", ax=axes[1, 0])\n",
    "sns.distplot( beta_dist , color=\"red\", ax=axes[0, 1])"
   ]
  },
  {
   "cell_type": "code",
   "execution_count": 346,
   "metadata": {
    "slideshow": {
     "slide_type": "slide"
    }
   },
   "outputs": [
    {
     "data": {
      "image/png": "[encoded data removed]",
      "text/plain": [
       "<Figure size 432x288 with 1 Axes>"
      ]
     },
     "metadata": {},
     "output_type": "display_data"
    }
   ],
   "source": [
    "sns.distplot( normal_dist , color=\"green\")\n",
    "sns.distplot( exponential_dist , color=\"blue\")\n",
    "sns.distplot( beta_dist , color=\"red\")\n",
    "\n",
    "plt.show()"
   ]
  },
  {
   "cell_type": "markdown",
   "metadata": {
    "slideshow": {
     "slide_type": "notes"
    }
   },
   "source": [
    "Note the distinctive shapes for each distribution - \n",
    "\n",
    "The normal distribution, shown in green, is fairly spreadout and data is evenly distributed with a bulge at the center.\n",
    "\n",
    "The beta distribution, shown in red has the highest peak and the smallest spread.  This makes beta distributions ideal for bayesian inference, because the majority of the data falls in a small area.  It's important to note, as the shape parameters for the distribution change, the beta distribution can actually take on a lot of different shapes.\n",
    "\n",
    "Finally, in blue, the exponential distribution falls inbetween the shape of the beta and normal distribution, some of it's data hovers in one area, but then the other half has a long tail, which more closely resembles the density of the normal distribution in spread.\n",
    "\n",
    "In fact, as the exponential distribution heads towards a shape parameter of 2, it closes resembles at standard normal variable (with mean 0 and variance 1):"
   ]
  },
  {
   "cell_type": "code",
   "execution_count": 385,
   "metadata": {
    "slideshow": {
     "slide_type": "slide"
    }
   },
   "outputs": [
    {
     "data": {
      "image/png": "[encoded data removed]",
      "text/plain": [
       "<Figure size 432x288 with 1 Axes>"
      ]
     },
     "metadata": {},
     "output_type": "display_data"
    }
   ],
   "source": [
    "normal_dist = np.random.normal(0, 1, size=10000)\n",
    "exponential_dist = np.random.exponential(1.9, size=10000)\n",
    "sns.distplot( exponential_dist , color=\"blue\")\n",
    "sns.distplot( normal_dist , color=\"green\")\n",
    "\n",
    "plt.show()"
   ]
  },
  {
   "cell_type": "markdown",
   "metadata": {
    "slideshow": {
     "slide_type": "notes"
    }
   },
   "source": [
    "Before we leave the topic of distributions, let's discuss a powerful techniques for finding the shape parameters of sample data that we believe belongs to the population distribution (spoiler: it also has many other use cases).\n",
    "\n",
    "For example assume that we only have a sample of 100 students, that we believe are normally distributed and we would like to figure out the shape parameters for the population.  We can use a technique called maximum likelihood estimation to discern these parameters.  MLE is used for a variety of different learning tasks, including ordinary least squares amongst others.  For now, we will concern ourselves with just using it to fit the shape parameters of a population distribution given a sample:"
   ]
  },
  {
   "cell_type": "code",
   "execution_count": 394,
   "metadata": {
    "slideshow": {
     "slide_type": "slide"
    }
   },
   "outputs": [],
   "source": [
    "students_tests = np.random.normal(70, 15, size=110)\n",
    "students_tests = students_tests[students_tests < 100]\n",
    "students_tests = students_tests[np.random.randint(0, 100, size=100)]"
   ]
  },
  {
   "cell_type": "code",
   "execution_count": 401,
   "metadata": {
    "slideshow": {
     "slide_type": "slide"
    }
   },
   "outputs": [
    {
     "data": {
      "image/png": "[encoded data removed]",
      "text/latex": [
       "$$\\left ( 67.46590022788803, \\quad 15.42254444177607\\right )$$"
      ],
      "text/plain": [
       "(67.46590022788803, 15.42254444177607)"
      ]
     },
     "execution_count": 401,
     "metadata": {},
     "output_type": "execute_result"
    }
   ],
   "source": [
    "from scipy import stats\n",
    "\n",
    "stats.norm.fit(students_tests)"
   ]
  },
  {
   "cell_type": "markdown",
   "metadata": {
    "slideshow": {
     "slide_type": "notes"
    }
   },
   "source": [
    "As you can see, we recover the most likely population shape parameters from the sample of 100 students!  Many of the scipy.stats distributions have this fit parameter, allowing us to estimate the likely shape parameters of a population distribution given a sample.  One of the caveats of MLE is it works well when our sample dataset is \"big enough\" where \"big enough\" is a vague term.  A general rule of thumb, is you should be able to see the shape of the sample distribution and verify it appears to follow a specific distribution.  Of course, as we'll see next, statistical tests for the shape of a distribution are also an imperative."
   ]
  },
  {
   "cell_type": "markdown",
   "metadata": {
    "slideshow": {
     "slide_type": "notes"
    }
   },
   "source": [
    "## Hypothesis Testing"
   ]
  },
  {
   "cell_type": "markdown",
   "metadata": {
    "slideshow": {
     "slide_type": "slide"
    }
   },
   "source": [
    "Now that we know some stuff about distributions, descriptive statistics and how they work, let's go ahead and dive into some hypothesis testing!  Hypothesis testing will allow us to make substatitive claims about our data, and tell us whether our assumptions are right or wrong.  The power of science, is if you are careful, you get to know things about the world by just making sense of it!"
   ]
  },
  {
   "cell_type": "markdown",
   "metadata": {
    "slideshow": {
     "slide_type": "slide"
    }
   },
   "source": [
    "## Conformitory Analysis\n",
    "\n",
    "### Null and Alternative Hypothese\n",
    "\n",
    "$ H_{0}:$ The null hypothesis is the statement under defense by the statistical test.  It is the claim to accept or reject.\n",
    "\n",
    "$ H_{A}:$ The alternative hypothesis is the alternative to the null hypothesis.  If the null hypothesis is false, this statement is believed to be true.\n"
   ]
  },
  {
   "cell_type": "markdown",
   "metadata": {
    "slideshow": {
     "slide_type": "notes"
    }
   },
   "source": [
    "In the general case conformitory analysis is about validating our assumptions or rejecting them against evidence (aka data).  In the general sense, the way hypothesis tests are formed is you have two hypotheses:\n"
   ]
  },
  {
   "cell_type": "markdown",
   "metadata": {
    "slideshow": {
     "slide_type": "slide"
    }
   },
   "source": [
    "### P-Values and their Interpretation"
   ]
  },
  {
   "cell_type": "markdown",
   "metadata": {
    "slideshow": {
     "slide_type": "notes"
    }
   },
   "source": [
    "The p-value of test is the probability that the null hypothesis is true.  If the P-Value is close to zero then the test fails and the alternative hypothesis is accepted.  Because the p-value is a just a number, we need to consider different tolerance levels when looking at a p-value.  For certain cases, when we need to be absolutely certain, we demand a higher p-value, however when we can be more lax, we require a lower p-value.\n",
    "\n",
    "There are a number of factors that may require higher or lower p-values and the issue is they are very often domain specific.  That said, most hypothesis tests are usually fairly straight forward and therefore we are usually able to quickly accept or reject the null hypothesis."
   ]
  },
  {
   "cell_type": "markdown",
   "metadata": {
    "slideshow": {
     "slide_type": "slide"
    }
   },
   "source": [
    "### Statistics of a Test"
   ]
  },
  {
   "cell_type": "markdown",
   "metadata": {
    "slideshow": {
     "slide_type": "notes"
    }
   },
   "source": [
    "Often times statistical tests will come with a \"statistic\" giving more information about the statistical test, as well as cases that the test may miss, but likely signal a false positive.  The test for normality of a sample distribution often falls subject to false positives, so the statistic here is essential to diagnosing said issues."
   ]
  },
  {
   "cell_type": "markdown",
   "metadata": {
    "slideshow": {
     "slide_type": "slide"
    }
   },
   "source": [
    "### Statistical Power of a Test"
   ]
  },
  {
   "cell_type": "markdown",
   "metadata": {
    "slideshow": {
     "slide_type": "notes"
    }
   },
   "source": [
    "Statistical power of a test is the inverse of the likelihood of getting a false negative - the probability of failing to reject a null hypothesis that is false.  So, we are more likely to trust a test with more statistical power, at least against failing to reject the null hypothesis when it is indeed false.\n",
    "\n",
    "Now that we have those defintions out of the way, we are ready to dive into some tests!"
   ]
  },
  {
   "cell_type": "markdown",
   "metadata": {
    "slideshow": {
     "slide_type": "slide"
    }
   },
   "source": [
    "## normality tests\n",
    "\n",
    "* Shapiro-Wilk Test\n",
    "* D’Agostino’s K^2 Test\n",
    "* Anderson-Darling Test"
   ]
  },
  {
   "cell_type": "markdown",
   "metadata": {
    "slideshow": {
     "slide_type": "notes"
    }
   },
   "source": [
    "The three tests we will look at first, will tell us if our distribution is normally distributed.  They all ask the question in slightly different ways.  If we want to be truly sure that a distribution is normally distributed then we should run all three of these tests."
   ]
  },
  {
   "cell_type": "markdown",
   "metadata": {
    "slideshow": {
     "slide_type": "slide"
    }
   },
   "source": [
    "### Shapiro-Wilk Test"
   ]
  },
  {
   "cell_type": "markdown",
   "metadata": {
    "slideshow": {
     "slide_type": "notes"
    }
   },
   "source": [
    "The shapiro-wilk test asks the question:\n",
    "\n",
    "The Shapiro-Wilk test tests the null hypothesis that the data was drawn from a normal distribution.  In this case the statistic W gives more evidence towards or against the null hypothesis.  For small values of W, the distribution is likely not normally distributed."
   ]
  },
  {
   "cell_type": "code",
   "execution_count": 404,
   "metadata": {
    "slideshow": {
     "slide_type": "slide"
    }
   },
   "outputs": [
    {
     "name": "stderr",
     "output_type": "stream",
     "text": [
      "/usr/local/lib/python3.7/site-packages/scipy/stats/morestats.py:1309: UserWarning: p-value may not be accurate for N > 5000.\n",
      "  warnings.warn(\"p-value may not be accurate for N > 5000.\")\n"
     ]
    },
    {
     "data": {
      "image/png": "[encoded data removed]",
      "text/latex": [
       "$$\\left ( 0.9541939496994019, \\quad 0.0\\right )$$"
      ],
      "text/plain": [
       "(0.9541939496994019, 0.0)"
      ]
     },
     "execution_count": 404,
     "metadata": {},
     "output_type": "execute_result"
    }
   ],
   "source": [
    "from scipy.stats import skewnorm\n",
    "from scipy import stats\n",
    "\n",
    "distribution = skewnorm.rvs(5, loc=0, scale=2, size=10000)\n",
    "stats.shapiro(distribution)"
   ]
  },
  {
   "cell_type": "markdown",
   "metadata": {
    "slideshow": {
     "slide_type": "notes"
    }
   },
   "source": [
    "Here we see a W of close to 1 and a p-value of \"near\" zero.  with a p-value close to zero we can empathatically reject the null hypothesis, when this is the case, the statistic is usually of little consideration.  This data is definitely not normally distributed.  Now let's see what a normally distributed sample does:"
   ]
  },
  {
   "cell_type": "code",
   "execution_count": 428,
   "metadata": {
    "slideshow": {
     "slide_type": "slide"
    }
   },
   "outputs": [
    {
     "name": "stderr",
     "output_type": "stream",
     "text": [
      "/usr/local/lib/python3.7/site-packages/scipy/stats/morestats.py:1309: UserWarning: p-value may not be accurate for N > 5000.\n",
      "  warnings.warn(\"p-value may not be accurate for N > 5000.\")\n"
     ]
    },
    {
     "data": {
      "image/png": "[encoded data removed]",
      "text/latex": [
       "$$\\left ( 0.9999712705612183, \\quad 0.6427839398384094\\right )$$"
      ],
      "text/plain": [
       "(0.9999712705612183, 0.6427839398384094)"
      ]
     },
     "execution_count": 428,
     "metadata": {},
     "output_type": "execute_result"
    }
   ],
   "source": [
    "norm_dist = np.random.normal(0, 10, size=100000)\n",
    "stats.shapiro(norm_dist)"
   ]
  },
  {
   "cell_type": "markdown",
   "metadata": {
    "slideshow": {
     "slide_type": "notes"
    }
   },
   "source": [
    "Here we see the statistic is close to 1 again, yielding little information.  However, we can say with 64% confidence that this data is normally distributed and therefore we fail to reject the null hypothesis!  This does not mean our data is in fact normally distributed though.  Just that we lack the evidence to reject the null hypothesis.  Science is about skepticism!"
   ]
  },
  {
   "cell_type": "markdown",
   "metadata": {
    "slideshow": {
     "slide_type": "slide"
    }
   },
   "source": [
    "### D’Agostino’s K^2 Test\n"
   ]
  },
  {
   "cell_type": "markdown",
   "metadata": {
    "slideshow": {
     "slide_type": "notes"
    }
   },
   "source": [
    "The D'Agostino $K^{2}$ test often referred to just as the test for normality is the defacto standard in many statistical packages.  \n",
    "\n",
    "D'Agostino's Test tests the null hypothesis that sample data is drawn from a normal distribution. \n",
    "\n",
    "If this sounds like exactly the same phrasing as null hypothesis for Shapiro-Wilk, that's because it is.  The only difference between these two tests, is how it tests the null hypothesis as well as the returned statistic.  Here the statistic is the sum of: $ skew^{2} + kurtosis^{2} $.  If the statistic is larger, then we have less confidence that the sample data is normally distributed, because when skew and kurtosis are close to 0 then we are dealing with a normal distribution."
   ]
  },
  {
   "cell_type": "code",
   "execution_count": 420,
   "metadata": {
    "slideshow": {
     "slide_type": "slide"
    }
   },
   "outputs": [
    {
     "data": {
      "text/plain": [
       "NormaltestResult(statistic=1037.5339939355522, pvalue=5.039133027222937e-226)"
      ]
     },
     "execution_count": 420,
     "metadata": {},
     "output_type": "execute_result"
    }
   ],
   "source": [
    "stats.normaltest(distribution)"
   ]
  },
  {
   "cell_type": "markdown",
   "metadata": {
    "slideshow": {
     "slide_type": "notes"
    }
   },
   "source": [
    "Here we have a reasonably small statistic and an extremely small pvalue, so we can likely say this dataset is somewhat skewed and definitely not normal.\n",
    "\n",
    "Next let's see how the test does against truly normally distributed data:"
   ]
  },
  {
   "cell_type": "code",
   "execution_count": 429,
   "metadata": {
    "slideshow": {
     "slide_type": "slide"
    }
   },
   "outputs": [
    {
     "data": {
      "text/plain": [
       "NormaltestResult(statistic=1.3806430619570775, pvalue=0.5014148227459898)"
      ]
     },
     "execution_count": 429,
     "metadata": {},
     "output_type": "execute_result"
    }
   ],
   "source": [
    "stats.normaltest(norm_dist)"
   ]
  },
  {
   "cell_type": "markdown",
   "metadata": {
    "slideshow": {
     "slide_type": "notes"
    }
   },
   "source": [
    "Here we fail to the reject the null hypothesis and our statistic is very, very small implying this data is most likely normally distributed.  Note that we somewhat less empathatically reject the null hypothesis, with a p-value of 50%.  But still it is well above the margin for rejecting so it doesn't really matter.  We do get more information out of the statistic, which I believe is why D'Agostino's test is preferred."
   ]
  },
  {
   "cell_type": "markdown",
   "metadata": {
    "slideshow": {
     "slide_type": "slide"
    }
   },
   "source": [
    "### Anderson-Darling Test"
   ]
  },
  {
   "cell_type": "markdown",
   "metadata": {
    "slideshow": {
     "slide_type": "notes"
    }
   },
   "source": [
    "The third and finally test of normality we'll look at is the Anderson-Darling test for normality.  The reason for it's inclusion in this section, is because though it's null hypothesis is more general, it can be used to test for normality, as well as other distributions.  The Anderson-Darling tests the null hypothesis that a sample is drawn from a population that follows a particular distribution.\n",
    "\n",
    "This test returns a statistic, a set of critical values as well as a significance level.  \n",
    "\n",
    "So for this test we look at the statistic and compare it against the critical values, if the absolute value of the test statistic is greater than the critical value, then we reject the null hypothesis.  The significance level tells how confidently we can reject or fail to reject the null hypothesis."
   ]
  },
  {
   "cell_type": "code",
   "execution_count": 430,
   "metadata": {
    "slideshow": {
     "slide_type": "slide"
    }
   },
   "outputs": [
    {
     "data": {
      "text/plain": [
       "AndersonResult(statistic=115.46838451595795, critical_values=array([0.576, 0.656, 0.787, 0.918, 1.092]), significance_level=array([15. , 10. ,  5. ,  2.5,  1. ]))"
      ]
     },
     "execution_count": 430,
     "metadata": {},
     "output_type": "execute_result"
    }
   ],
   "source": [
    "stats.anderson(distribution)"
   ]
  },
  {
   "cell_type": "markdown",
   "metadata": {
    "slideshow": {
     "slide_type": "notes"
    }
   },
   "source": [
    "With a statistic of 115, which is greater than 1.092 we can reject the null hypothesis with 99% significance (or at the 1% confidence level)."
   ]
  },
  {
   "cell_type": "code",
   "execution_count": 431,
   "metadata": {
    "slideshow": {
     "slide_type": "slide"
    }
   },
   "outputs": [
    {
     "data": {
      "text/plain": [
       "AndersonResult(statistic=0.328467715124134, critical_values=array([0.576, 0.656, 0.787, 0.918, 1.092]), significance_level=array([15. , 10. ,  5. ,  2.5,  1. ]))"
      ]
     },
     "execution_count": 431,
     "metadata": {},
     "output_type": "execute_result"
    }
   ],
   "source": [
    "stats.anderson(norm_dist)"
   ]
  },
  {
   "cell_type": "markdown",
   "metadata": {
    "slideshow": {
     "slide_type": "notes"
    }
   },
   "source": [
    "Here with a statistic of 0.328 we fail to reject the null hypothesis with 99% significance (or the 1% confidence level)."
   ]
  },
  {
   "cell_type": "markdown",
   "metadata": {
    "slideshow": {
     "slide_type": "slide"
    }
   },
   "source": [
    "## Correlation Tests"
   ]
  },
  {
   "cell_type": "markdown",
   "metadata": {
    "slideshow": {
     "slide_type": "notes"
    }
   },
   "source": [
    "Tests of correlation ask the question - how statistically correlated are two variables.  Correlation asks the questions how do two variables covary over a range of values?  Correlation can be an indicator of a casual relationship, because two variables cannot have a casual relationship, if they do not covary.  Much like the case with the statistical tests above, if two variables are correlated that merely means we fail to reject the fact that there is a casual relationship, not that there is in fact a casual relationship.\n",
    "\n",
    "This leads us to the important attage - correlation does not imply causation, but I would add, it helps us indicate possible causation.\n"
   ]
  },
  {
   "cell_type": "markdown",
   "metadata": {
    "slideshow": {
     "slide_type": "slide"
    }
   },
   "source": [
    "### Pearson's Correlation Coefficient"
   ]
  },
  {
   "cell_type": "markdown",
   "metadata": {
    "slideshow": {
     "slide_type": "notes"
    }
   },
   "source": [
    "The Pearson coefficient measures the linear relationship between two datasets.  One of the requirements of the pearson test is that both datasets be normally distributed, otherwise you cannot trust the results of the test.  \n",
    "\n",
    "Given normality - pearson returns the pearson's correlation coefficient and the 2-tailed p-value.  Here the null hypothesis is that the two variables are uncorrelated.  Note, that this is for the scipy implementation, there are actually more than a few tests one can use in conjunction with pearson's correlation coefficient.  Some of which do not require the normality assumption.  Due to time constraints we won't go through them here, but I recommend the wikipedia article found here: https://en.wikipedia.org/wiki/Pearson_correlation_coefficient if you are interested.\n",
    "\n",
    "One final thing to mention, pearson's correlation coefficient is immune to changes in center or spread.  It is the distribution of the underlying data that is being measured.\n",
    "\n",
    "So let's see if some data is correlated."
   ]
  },
  {
   "cell_type": "code",
   "execution_count": 27,
   "metadata": {
    "slideshow": {
     "slide_type": "slide"
    }
   },
   "outputs": [],
   "source": [
    "def linear_shift(data):\n",
    "    return data*2 + 5\n",
    "\n",
    "data = np.random.normal(50, 10, size=10000)\n",
    "shifted_data = linear_shift(data)"
   ]
  },
  {
   "cell_type": "code",
   "execution_count": 29,
   "metadata": {
    "slideshow": {
     "slide_type": "slide"
    }
   },
   "outputs": [
    {
     "name": "stdout",
     "output_type": "stream",
     "text": [
      "NormaltestResult(statistic=1.189576984761279, pvalue=0.551679237891141)\n",
      "NormaltestResult(statistic=1.189576984761279, pvalue=0.551679237891141)\n"
     ]
    }
   ],
   "source": [
    "print(stats.normaltest(data))\n",
    "print(stats.normaltest(shifted_data))"
   ]
  },
  {
   "cell_type": "code",
   "execution_count": 30,
   "metadata": {
    "slideshow": {
     "slide_type": "slide"
    }
   },
   "outputs": [
    {
     "data": {
      "text/plain": [
       "(1.0, 0.0)"
      ]
     },
     "execution_count": 30,
     "metadata": {},
     "output_type": "execute_result"
    }
   ],
   "source": [
    "stats.pearsonr(data, shifted_data)"
   ]
  },
  {
   "cell_type": "markdown",
   "metadata": {
    "slideshow": {
     "slide_type": "notes"
    }
   },
   "source": [
    "this shows us that the data is perfectly correlated and also illustrates that the center and spread of the data do not effect the correlation.  Now let's try to apply the pearson correlation to some real world data."
   ]
  },
  {
   "cell_type": "code",
   "execution_count": 3,
   "metadata": {
    "slideshow": {
     "slide_type": "slide"
    }
   },
   "outputs": [
    {
     "name": "stdout",
     "output_type": "stream",
     "text": [
      ".. _boston_dataset:\n",
      "\n",
      "Boston house prices dataset\n",
      "---------------------------\n",
      "\n",
      "**Data Set Characteristics:**  \n",
      "\n",
      "    :Number of Instances: 506 \n",
      "\n",
      "    :Number of Attributes: 13 numeric/categorical predictive. Median Value (attribute 14) is usually the target.\n",
      "\n",
      "    :Attribute Information (in order):\n",
      "        - CRIM     per capita crime rate by town\n",
      "        - ZN       proportion of residential land zoned for lots over 25,000 sq.ft.\n",
      "        - INDUS    proportion of non-retail business acres per town\n",
      "        - CHAS     Charles River dummy variable (= 1 if tract bounds river; 0 otherwise)\n",
      "        - NOX      nitric oxides concentration (parts per 10 million)\n",
      "        - RM       average number of rooms per dwelling\n",
      "        - AGE      proportion of owner-occupied units built prior to 1940\n",
      "        - DIS      weighted distances to five Boston employment centres\n",
      "        - RAD      index of accessibility to radial highways\n",
      "        - TAX      full-value property-tax rate per $10,000\n",
      "        - PTRATIO  pupil-teacher ratio by town\n",
      "        - B        1000(Bk - 0.63)^2 where Bk is the proportion of blacks by town\n",
      "        - LSTAT    % lower status of the population\n",
      "        - MEDV     Median value of owner-occupied homes in $1000's\n",
      "\n",
      "    :Missing Attribute Values: None\n",
      "\n",
      "    :Creator: Harrison, D. and Rubinfeld, D.L.\n",
      "\n",
      "This is a copy of UCI ML housing dataset.\n",
      "https://archive.ics.uci.edu/ml/machine-learning-databases/housing/\n",
      "\n",
      "\n",
      "This dataset was taken from the StatLib library which is maintained at Carnegie Mellon University.\n",
      "\n",
      "The Boston house-price data of Harrison, D. and Rubinfeld, D.L. 'Hedonic\n",
      "prices and the demand for clean air', J. Environ. Economics & Management,\n",
      "vol.5, 81-102, 1978.   Used in Belsley, Kuh & Welsch, 'Regression diagnostics\n",
      "...', Wiley, 1980.   N.B. Various transformations are used in the table on\n",
      "pages 244-261 of the latter.\n",
      "\n",
      "The Boston house-price data has been used in many machine learning papers that address regression\n",
      "problems.   \n",
      "     \n",
      ".. topic:: References\n",
      "\n",
      "   - Belsley, Kuh & Welsch, 'Regression diagnostics: Identifying Influential Data and Sources of Collinearity', Wiley, 1980. 244-261.\n",
      "   - Quinlan,R. (1993). Combining Instance-Based and Model-Based Learning. In Proceedings on the Tenth International Conference of Machine Learning, 236-243, University of Massachusetts, Amherst. Morgan Kaufmann.\n",
      "\n"
     ]
    }
   ],
   "source": [
    "from sklearn import datasets\n",
    "import pandas as pd\n",
    "boston = datasets.load_boston()\n",
    "\n",
    "print(boston[\"DESCR\"])\n",
    "columns = [\"CRIM\", \"ZN\", \"INDUS\", \n",
    "          \"CHAS\", \"NOX\", \"RM\", \n",
    "          \"AGE\", \"DIS\", \"RAD\", \n",
    "          \"TAX\", \"PTRATIO\", \"B\", \n",
    "          \"LSTAT\"]\n",
    "\n",
    "df = pd.DataFrame(data=boston.data[:,:], columns=columns) "
   ]
  },
  {
   "cell_type": "code",
   "execution_count": 4,
   "metadata": {
    "slideshow": {
     "slide_type": "slide"
    }
   },
   "outputs": [],
   "source": [
    "from scipy import stats\n",
    "\n",
    "for column in df.columns:\n",
    "    if stats.normaltest(df[column])[1] > 0.1:\n",
    "        print(column)"
   ]
  },
  {
   "cell_type": "markdown",
   "metadata": {
    "slideshow": {
     "slide_type": "notes"
    }
   },
   "source": [
    "We first ask if our data is normally distributed.  None of it is, so we have low expectations for the pearson correlation."
   ]
  },
  {
   "cell_type": "code",
   "execution_count": 5,
   "metadata": {
    "slideshow": {
     "slide_type": "slide"
    }
   },
   "outputs": [
    {
     "data": {
      "text/plain": [
       "(-0.2324705424082566, 1.2299198506760132e-07)"
      ]
     },
     "execution_count": 5,
     "metadata": {},
     "output_type": "execute_result"
    }
   ],
   "source": [
    "from scipy import stats\n",
    "\n",
    "stats.pearsonr(df[\"PTRATIO\"], df[\"DIS\"])"
   ]
  },
  {
   "cell_type": "markdown",
   "metadata": {
    "slideshow": {
     "slide_type": "notes"
    }
   },
   "source": [
    "As you can see the p-value is very small, unsurprisingly, meaning that we reject the null hypothesis and therefore the relationship between pupil-teacher ratio and distance from a city center is a meaningful linear relationship.  We can verify this by looking at a plot of the two datasets:"
   ]
  },
  {
   "cell_type": "code",
   "execution_count": 34,
   "metadata": {
    "slideshow": {
     "slide_type": "slide"
    }
   },
   "outputs": [
    {
     "data": {
      "image/png": "[encoded data removed]",
      "text/plain": [
       "<Figure size 432x432 with 3 Axes>"
      ]
     },
     "metadata": {
      "needs_background": "light"
     },
     "output_type": "display_data"
    }
   ],
   "source": [
    "sns.jointplot(x=\"PTRATIO\", y=\"DIS\", data=df, kind=\"reg\")\n",
    "plt.show()"
   ]
  },
  {
   "cell_type": "markdown",
   "metadata": {
    "slideshow": {
     "slide_type": "notes"
    }
   },
   "source": [
    "Despite having low confidence going in, there is clearly a relationship between the two datasets as indicated by their histogram plots - the data is clearly very similarly distributed, which is likely what the pearson correlation coefficient is picking up on.  Additionally, the negative relationship is highlighted by the downward sloping line.  However, we shouldn't really can't strongly interpret our results as you can see from the data.  The scatter plot reveals that our data is basically just randomly distributed in two space.  So even though there is likely some sort of correlation between the variables, there is definitely not a strong linear correlation between the variables."
   ]
  },
  {
   "cell_type": "markdown",
   "metadata": {
    "slideshow": {
     "slide_type": "slide"
    }
   },
   "source": [
    "### Spearman's Rank Correlation"
   ]
  },
  {
   "cell_type": "markdown",
   "metadata": {
    "slideshow": {
     "slide_type": "notes"
    }
   },
   "source": [
    "The Spearman's Rank Correlation is a measure the monotonicity of the relationship between two datasets.  Unlike pearson, spearman does not require the normality assumption.  This is because like with median, we only look at the rank order of the two distributions, allowing us to relax the normality assumption.  What we are testing for here, is a monotonic relationship - as X increases, so will Y, if X and Y are the two variables in question.\n",
    "\n",
    "The p-value indicates the probability of an uncorrelated system producing a dataset that have a Spearman correlation at least as extreme as the one produced.  So the null hypothesis is that the data is uncorrelated and small p-values would indicate there is a correlation.\n",
    "\n",
    "Let's look at a worked example first and then return to our dataset."
   ]
  },
  {
   "cell_type": "code",
   "execution_count": 35,
   "metadata": {
    "slideshow": {
     "slide_type": "slide"
    }
   },
   "outputs": [
    {
     "data": {
      "text/plain": [
       "SpearmanrResult(correlation=1.0, pvalue=0.0)"
      ]
     },
     "execution_count": 35,
     "metadata": {},
     "output_type": "execute_result"
    }
   ],
   "source": [
    "stats.spearmanr(data, shifted_data)"
   ]
  },
  {
   "cell_type": "markdown",
   "metadata": {
    "slideshow": {
     "slide_type": "notes"
    }
   },
   "source": [
    "As you can see, the correlated dataset has a p-value of zero therefore we can say there is a strong correlation."
   ]
  },
  {
   "cell_type": "code",
   "execution_count": 36,
   "metadata": {
    "slideshow": {
     "slide_type": "slide"
    }
   },
   "outputs": [
    {
     "data": {
      "text/plain": [
       "SpearmanrResult(correlation=-0.32204056038369144, pvalue=1.1284771654916052e-13)"
      ]
     },
     "execution_count": 36,
     "metadata": {},
     "output_type": "execute_result"
    }
   ],
   "source": [
    "stats.spearmanr(df[\"PTRATIO\"], df[\"DIS\"])"
   ]
  },
  {
   "cell_type": "markdown",
   "metadata": {
    "slideshow": {
     "slide_type": "notes"
    }
   },
   "source": [
    "As you can see, the p-value is extremely low so we can say the  data is definitely monotonically correlated.  Another question we can ask as a follow on, do they follow the same distribution?  We'll be able to ask that with one of the tests below.\n",
    "\n",
    "As you can see, the correlation is negative, implying that as distance from a city center increases the pupil teacher ratio decreases.  This likely has to do with wealthier areas spending more money at the town level on education, which means there are likely more teachers hired for wealthier areas."
   ]
  },
  {
   "cell_type": "markdown",
   "metadata": {
    "slideshow": {
     "slide_type": "slide"
    }
   },
   "source": [
    "### Kendall's Rank Correlation"
   ]
  },
  {
   "cell_type": "markdown",
   "metadata": {
    "slideshow": {
     "slide_type": "notes"
    }
   },
   "source": [
    "Kendall's Rank correlation looks at the correlation between ordinal data.  Ordinal data is categorical data with an ordering - think low, medium and high.  Kendall's Rank correlation does not assume a normal distribution, so it can be used for any ordinal dataset.  The null hypothesis states that the two variables are statistically independent. \n",
    "\n",
    "Kendall's Rank Correlation may appear to have the weakest statistical assumption, but in fact, Kendall's tau and Spearman's rho are both special cases of a general correlation coefficient.  There null hypotheses are somewhat different, in the sense that one is about drawing from an uncorrelated system while the other is with respect to the statistical independence of variables, but these are clearly related concepts.  The mathematical formulation varies, but the concepts are inextriably linked, which at some point is what Kendall showed."
   ]
  },
  {
   "cell_type": "code",
   "execution_count": 44,
   "metadata": {
    "slideshow": {
     "slide_type": "slide"
    }
   },
   "outputs": [
    {
     "data": {
      "text/plain": [
       "KendalltauResult(correlation=0.9999999999999999, pvalue=0.0)"
      ]
     },
     "execution_count": 44,
     "metadata": {},
     "output_type": "execute_result"
    }
   ],
   "source": [
    "stats.kendalltau(data, shifted_data)"
   ]
  },
  {
   "cell_type": "markdown",
   "metadata": {
    "slideshow": {
     "slide_type": "notes"
    }
   },
   "source": [
    "As you can see, the p-value is close to zero so there is definitely a statistical dependence here.  Let's look at our dataset, to see if we confirm the results with spearman:"
   ]
  },
  {
   "cell_type": "code",
   "execution_count": 45,
   "metadata": {
    "slideshow": {
     "slide_type": "slide"
    }
   },
   "outputs": [
    {
     "data": {
      "text/plain": [
       "KendalltauResult(correlation=-0.2234857322980714, pvalue=5.178627395656323e-13)"
      ]
     },
     "execution_count": 45,
     "metadata": {},
     "output_type": "execute_result"
    }
   ],
   "source": [
    "stats.kendalltau(df[\"PTRATIO\"], df[\"DIS\"])"
   ]
  },
  {
   "cell_type": "code",
   "execution_count": 11,
   "metadata": {
    "slideshow": {
     "slide_type": "slide"
    }
   },
   "outputs": [
    {
     "data": {
      "text/plain": [
       "KendalltauResult(correlation=1.0, pvalue=2.143020576250934e-158)"
      ]
     },
     "execution_count": 11,
     "metadata": {},
     "output_type": "execute_result"
    }
   ],
   "source": [
    "first = list(range(100))\n",
    "second = list(range(100))\n",
    "stats.kendalltau(first, second)"
   ]
  },
  {
   "cell_type": "code",
   "execution_count": 12,
   "metadata": {
    "slideshow": {
     "slide_type": "slide"
    }
   },
   "outputs": [
    {
     "data": {
      "text/plain": [
       "KendalltauResult(correlation=-1.0, pvalue=2.143020576250934e-158)"
      ]
     },
     "execution_count": 12,
     "metadata": {},
     "output_type": "execute_result"
    }
   ],
   "source": [
    "first = list(range(100))\n",
    "second = first[::-1]\n",
    "stats.kendalltau(first, second)"
   ]
  },
  {
   "cell_type": "code",
   "execution_count": 15,
   "metadata": {
    "slideshow": {
     "slide_type": "slide"
    }
   },
   "outputs": [
    {
     "data": {
      "text/plain": [
       "KendalltauResult(correlation=0.05050505050505051, pvalue=0.4565563844206484)"
      ]
     },
     "execution_count": 15,
     "metadata": {},
     "output_type": "execute_result"
    }
   ],
   "source": [
    "first = np.random.random(size=100)\n",
    "second = np.random.random(size=100)\n",
    "stats.kendalltau(first, second)"
   ]
  },
  {
   "cell_type": "markdown",
   "metadata": {
    "slideshow": {
     "slide_type": "notes"
    }
   },
   "source": [
    "As we can see, the correlation is a little weaker but the p-value conforms to the analysis shown in spearman.  We reject the null hypothesis, therefore Kendall's test confirms there is a dependence relationship between pupil teacher ratio and distance from a work center and the relationship is negatively correlated."
   ]
  },
  {
   "cell_type": "markdown",
   "metadata": {
    "slideshow": {
     "slide_type": "slide"
    }
   },
   "source": [
    "### Chi-Squared Contingency Table Test\n",
    "\n",
    "```\n",
    "-------------------------------------------------------\n",
    "A \\ B            | B-First Category | B-Second Category\n",
    "----------------------------------------------------\n",
    "A-First Category |    10            |     12\n",
    "----------------------------------------------------\n",
    "A-Second Category|    20            |     7\n",
    "----------------------------------------------------\n",
    "A-Third Category |    37            |     18 \n",
    "----------------------------------------------------\n",
    "```\n"
   ]
  },
  {
   "cell_type": "markdown",
   "metadata": {
    "slideshow": {
     "slide_type": "notes"
    }
   },
   "source": [
    "So far we've looked strictly at the correlation of continuous variables.  Now we will introduce our first measure for categorical variables.  The Chi-Squared Contingency Table Test looks at the result of a contingency table - which looks at the sum of frequency counts of categorical variables taken together.  For instance:\n",
    "\n",
    "As you can the upper left column is the sum of the rows where A is in the first state and B is in the first state.  We can interpret all the other cells equivalently.\n",
    "\n",
    "The null hypothesis states that the two variables are independent.  The chi2 statistic is the variance in observed versus expected outcome for each category of data."
   ]
  },
  {
   "cell_type": "code",
   "execution_count": 48,
   "metadata": {
    "slideshow": {
     "slide_type": "slide"
    }
   },
   "outputs": [
    {
     "data": {
      "text/plain": [
       "(5.000000000000001, 0.08208499862389874)"
      ]
     },
     "execution_count": 48,
     "metadata": {},
     "output_type": "execute_result"
    }
   ],
   "source": [
    "import pandas\n",
    "from scipy.stats import chi2_contingency\n",
    "\n",
    "def chisq_of_df_cols(df, c1, c2):\n",
    "    groupsizes = df.groupby([c1, c2]).size()\n",
    "    ctsum = groupsizes.unstack(c1)\n",
    "    # fillna(0) is necessary to remove any NAs which will cause exceptions\n",
    "    return(chi2_contingency(ctsum.fillna(0)))\n",
    "\n",
    "test_df = pandas.DataFrame([[0, 1], [1, 0], [0, 2], [0, 1], [0, 2]], columns=['var1', 'var2'])\n",
    "chi2, p, dof, ex = chisq_of_df_cols(test_df, 'var1', 'var2')\n",
    "\n",
    "chi2, p"
   ]
  },
  {
   "cell_type": "code",
   "execution_count": 51,
   "metadata": {
    "slideshow": {
     "slide_type": "slide"
    }
   },
   "outputs": [
    {
     "data": {
      "text/plain": [
       "array([[0.8, 1.6, 1.6],\n",
       "       [0.2, 0.4, 0.4]])"
      ]
     },
     "execution_count": 51,
     "metadata": {},
     "output_type": "execute_result"
    }
   ],
   "source": [
    "ex.T"
   ]
  },
  {
   "cell_type": "markdown",
   "metadata": {
    "slideshow": {
     "slide_type": "notes"
    }
   },
   "source": [
    "Here the p-value is above the 0.05 level so we fail to reject the null hypothesis.  We see the expected values returned by the chi-squared test.  We can generate the contingency table directly with:"
   ]
  },
  {
   "cell_type": "code",
   "execution_count": 50,
   "metadata": {
    "slideshow": {
     "slide_type": "slide"
    }
   },
   "outputs": [
    {
     "data": {
      "text/html": [
       "<div>\n",
       "<style scoped>\n",
       "    .dataframe tbody tr th:only-of-type {\n",
       "        vertical-align: middle;\n",
       "    }\n",
       "\n",
       "    .dataframe tbody tr th {\n",
       "        vertical-align: top;\n",
       "    }\n",
       "\n",
       "    .dataframe thead th {\n",
       "        text-align: right;\n",
       "    }\n",
       "</style>\n",
       "<table border=\"1\" class=\"dataframe\">\n",
       "  <thead>\n",
       "    <tr style=\"text-align: right;\">\n",
       "      <th>var2</th>\n",
       "      <th>0</th>\n",
       "      <th>1</th>\n",
       "      <th>2</th>\n",
       "    </tr>\n",
       "    <tr>\n",
       "      <th>var1</th>\n",
       "      <th></th>\n",
       "      <th></th>\n",
       "      <th></th>\n",
       "    </tr>\n",
       "  </thead>\n",
       "  <tbody>\n",
       "    <tr>\n",
       "      <th>0</th>\n",
       "      <td>0</td>\n",
       "      <td>2</td>\n",
       "      <td>2</td>\n",
       "    </tr>\n",
       "    <tr>\n",
       "      <th>1</th>\n",
       "      <td>1</td>\n",
       "      <td>0</td>\n",
       "      <td>0</td>\n",
       "    </tr>\n",
       "  </tbody>\n",
       "</table>\n",
       "</div>"
      ],
      "text/plain": [
       "var2  0  1  2\n",
       "var1         \n",
       "0     0  2  2\n",
       "1     1  0  0"
      ]
     },
     "execution_count": 50,
     "metadata": {},
     "output_type": "execute_result"
    }
   ],
   "source": [
    "pandas.crosstab(index=test_df['var1'],columns=test_df['var2'])"
   ]
  },
  {
   "cell_type": "markdown",
   "metadata": {
    "slideshow": {
     "slide_type": "slide"
    }
   },
   "source": [
    "### Point Biserial Correlation"
   ]
  },
  {
   "cell_type": "markdown",
   "metadata": {
    "slideshow": {
     "slide_type": "notes"
    }
   },
   "source": [
    "The final correlation technique we will look at is comparing a categorical and continuous variable.  The point biserial is a special case of the pearson correlation coefficient, so it can be interpreted the same way, except one of the variables is assumed to be categorical and the other assumed to be continuous.\n",
    "\n",
    "Therefore the null hypothesis is that our data is independent. "
   ]
  },
  {
   "cell_type": "code",
   "execution_count": 63,
   "metadata": {
    "slideshow": {
     "slide_type": "slide"
    }
   },
   "outputs": [],
   "source": [
    "df[\"hi_low\"] = (df[\"PTRATIO\"] > 15)"
   ]
  },
  {
   "cell_type": "code",
   "execution_count": 64,
   "metadata": {
    "slideshow": {
     "slide_type": "slide"
    }
   },
   "outputs": [
    {
     "data": {
      "text/plain": [
       "PointbiserialrResult(correlation=0.7022280438178985, pvalue=2.1794165512033122e-76)"
      ]
     },
     "execution_count": 64,
     "metadata": {},
     "output_type": "execute_result"
    }
   ],
   "source": [
    "stats.pointbiserialr(df[\"hi_low\"], df[\"PTRATIO\"])"
   ]
  },
  {
   "cell_type": "markdown",
   "metadata": {
    "slideshow": {
     "slide_type": "notes"
    }
   },
   "source": [
    "First off, we can clearly see the pvalue is very small, so we can reject the null hypothesis.  There is clearly a relationship here.  Notice here the correlation is positive, this is implies that a value of True is related to the pupil teacher ratio is higher.  So when creating dummy variables, we need be careful when assigning the boolean values."
   ]
  },
  {
   "cell_type": "markdown",
   "metadata": {
    "slideshow": {
     "slide_type": "slide"
    }
   },
   "source": [
    "## Parametric Statistical Tests"
   ]
  },
  {
   "cell_type": "markdown",
   "metadata": {
    "slideshow": {
     "slide_type": "notes"
    }
   },
   "source": [
    "Parametric statistical tests are tests that assume that we have certain parameters that come from a normal distribution.  In this case the parameters in question are the shape parameters of the distribution.  We use these to build out the follow statistical tests.\n"
   ]
  },
  {
   "cell_type": "markdown",
   "metadata": {
    "slideshow": {
     "slide_type": "slide"
    }
   },
   "source": [
    "### Student's T-Test"
   ]
  },
  {
   "cell_type": "markdown",
   "metadata": {
    "slideshow": {
     "slide_type": "notes"
    }
   },
   "source": [
    "Student's T-Test is extremely flexible and comes in many flavors.  We'll look at a few of them here, specifically the t-test for independence:\n",
    "\n",
    "null hypothesis - that 2 independent samples have identical expected values."
   ]
  },
  {
   "cell_type": "code",
   "execution_count": 86,
   "metadata": {
    "slideshow": {
     "slide_type": "slide"
    }
   },
   "outputs": [
    {
     "data": {
      "text/plain": [
       "Ttest_indResult(statistic=-4.76781451271359, pvalue=1.8636586940807554e-06)"
      ]
     },
     "execution_count": 86,
     "metadata": {},
     "output_type": "execute_result"
    }
   ],
   "source": [
    "def adding_noise(x):\n",
    "    return np.random.normal(0, 1) + x\n",
    "\n",
    "sample_one = np.random.normal(0, 10, size=100000)\n",
    "sample_two = adding_noise(sample_one)\n",
    "stats.ttest_ind(sample_one, sample_two)"
   ]
  },
  {
   "cell_type": "markdown",
   "metadata": {
    "slideshow": {
     "slide_type": "notes"
    }
   },
   "source": [
    "Here we reject the null hypothesis that the expected value of the distribution is the same.  Which tells us these are likely drawn from different distributions.  Note the importance of the expected value being measured instead of the mean or simple average.  This is a question about the asymptotic behavior of the samples, not the individual samples themselves, so it's possible the data may actually still have the same sample means, but different population mean.\n"
   ]
  },
  {
   "cell_type": "markdown",
   "metadata": {
    "slideshow": {
     "slide_type": "slide"
    }
   },
   "source": [
    "### Paired T-Test"
   ]
  },
  {
   "cell_type": "markdown",
   "metadata": {
    "slideshow": {
     "slide_type": "notes"
    }
   },
   "source": [
    "Next let's look at a variant of the t-test that assumes a dependence relationship.  The null hypothesis is that 2 related samples have identical expected values:"
   ]
  },
  {
   "cell_type": "code",
   "execution_count": 87,
   "metadata": {
    "slideshow": {
     "slide_type": "slide"
    }
   },
   "outputs": [
    {
     "data": {
      "text/plain": [
       "Ttest_relResult(statistic=-548.8670959933743, pvalue=0.0)"
      ]
     },
     "execution_count": 87,
     "metadata": {},
     "output_type": "execute_result"
    }
   ],
   "source": [
    "stats.ttest_rel(data, shifted_data)"
   ]
  },
  {
   "cell_type": "markdown",
   "metadata": {
    "slideshow": {
     "slide_type": "notes"
    }
   },
   "source": [
    "We empathetically reject the null hypothesis, which means these two samples do not have the same expected value.  "
   ]
  },
  {
   "cell_type": "markdown",
   "metadata": {
    "slideshow": {
     "slide_type": "slide"
    }
   },
   "source": [
    "## 1 Sample T-Test"
   ]
  },
  {
   "cell_type": "markdown",
   "metadata": {
    "slideshow": {
     "slide_type": "notes"
    }
   },
   "source": [
    "Next lets look at the 1 sample t-test which states the null hypothesis that the expected value of a sample of independent observations a is equal to the given population mean.\n",
    "\n",
    "What we are really asking, is given a population, is this sample really representative?"
   ]
  },
  {
   "cell_type": "code",
   "execution_count": 89,
   "metadata": {
    "slideshow": {
     "slide_type": "slide"
    }
   },
   "outputs": [
    {
     "data": {
      "text/plain": [
       "Ttest_1sampResult(statistic=-1.5584955967053906, pvalue=0.11943252998120431)"
      ]
     },
     "execution_count": 89,
     "metadata": {},
     "output_type": "execute_result"
    }
   ],
   "source": [
    "data_frame = pd.DataFrame()\n",
    "data_frame[\"data\"] = np.random.normal(0, 10, size=10000)\n",
    "sample = data_frame.sample(n=1000, replace=True)\n",
    "stats.ttest_1samp(sample[\"data\"], data_frame[\"data\"].mean())"
   ]
  },
  {
   "cell_type": "markdown",
   "metadata": {
    "slideshow": {
     "slide_type": "notes"
    }
   },
   "source": [
    "We fail to reject the null hypothesis and therefore the sample is likely drawn from the population.  (Hooray)"
   ]
  },
  {
   "cell_type": "markdown",
   "metadata": {
    "slideshow": {
     "slide_type": "slide"
    }
   },
   "source": [
    "## ANOVA Test"
   ]
  },
  {
   "cell_type": "markdown",
   "metadata": {
    "slideshow": {
     "slide_type": "notes"
    }
   },
   "source": [
    "The one-way ANOVA test's null hypothesis states that two or more groups have the same population mean.  Here the statistic is the ratio of the two variances from the samples.  So if the ratio is very large or very small, we might reject the null hypothesis, even if it appears to be true."
   ]
  },
  {
   "cell_type": "code",
   "execution_count": 18,
   "metadata": {
    "slideshow": {
     "slide_type": "slide"
    }
   },
   "outputs": [
    {
     "data": {
      "text/plain": [
       "F_onewayResult(statistic=0.18156438532995503, pvalue=0.6700781638701783)"
      ]
     },
     "execution_count": 18,
     "metadata": {},
     "output_type": "execute_result"
    }
   ],
   "source": [
    "import pandas as pd\n",
    "import numpy as np\n",
    "\n",
    "data_frame = pd.DataFrame()\n",
    "data_frame[\"data\"] = np.random.normal(0, 10, size=10000)\n",
    "sample1 = data_frame.sample(n=1000, replace=True)\n",
    "sample2 = data_frame.sample(n=1000, replace=True)\n",
    "stats.f_oneway(sample1[\"data\"], sample2[\"data\"])"
   ]
  },
  {
   "cell_type": "markdown",
   "metadata": {
    "slideshow": {
     "slide_type": "notes"
    }
   },
   "source": [
    "We fail to reject the null hypothesis, so the two samples come from the same population distribution.  When looking at linear regression we make use of the ANOVA or F-Test to see if the joint population parameters all come from the same distribution.  If they do, then we believe they are statistically correlated and therefore dependent on one another.  So if we fail to reject the null hypothesis in a linear regression context, that means all our variables are statistically related, and therefore cannot be used jointly in a regression context."
   ]
  },
  {
   "cell_type": "markdown",
   "metadata": {
    "slideshow": {
     "slide_type": "slide"
    }
   },
   "source": [
    "## Non-Parametric Statistical Hypothesis Tests"
   ]
  },
  {
   "cell_type": "markdown",
   "metadata": {
    "slideshow": {
     "slide_type": "notes"
    }
   },
   "source": [
    "The final set of statistical tests we'll look at of a non-parametric flavor.  These tests don't assume a normal distribution or normal distribution shape parameters, _but_ it does assume some stuff.  Sometimes the non-parametric statistical tests have even more stringent assumptions than parametric ones.  So one needs to take care to verify all the underlying assumptions before moving onto non-parametric tests."
   ]
  },
  {
   "cell_type": "markdown",
   "metadata": {
    "slideshow": {
     "slide_type": "slide"
    }
   },
   "source": [
    "### Mann-Whitney U Test"
   ]
  },
  {
   "cell_type": "markdown",
   "metadata": {
    "slideshow": {
     "slide_type": "notes"
    }
   },
   "source": [
    "The Mann-whitney U test's null hypothesis states that it is equally likely that a randomly selected value from one sample will be less than or greater than a randomly selected value from a second sample.  This test can be used to determine if two independent samples were selected from populations having the same distribution."
   ]
  },
  {
   "cell_type": "code",
   "execution_count": 92,
   "metadata": {
    "slideshow": {
     "slide_type": "slide"
    }
   },
   "outputs": [
    {
     "data": {
      "text/plain": [
       "MannwhitneyuResult(statistic=2535850.0, pvalue=0.0)"
      ]
     },
     "execution_count": 92,
     "metadata": {},
     "output_type": "execute_result"
    }
   ],
   "source": [
    "random_sample = np.random.normal(0, 1, size=10000)\n",
    "exponential_sample = np.random.exponential(15, size=10000)\n",
    "stats.mannwhitneyu(random_sample, exponential_sample)"
   ]
  },
  {
   "cell_type": "markdown",
   "metadata": {
    "slideshow": {
     "slide_type": "notes"
    }
   },
   "source": [
    "With a p-value at close to zero we reject the null hypothesis - so these random variables likely don't come from the same population distribution.  We can now return to our question from our dataset, and ask if these belong to the same or similar distributions!"
   ]
  },
  {
   "cell_type": "code",
   "execution_count": 93,
   "metadata": {
    "slideshow": {
     "slide_type": "slide"
    }
   },
   "outputs": [
    {
     "data": {
      "text/plain": [
       "MannwhitneyuResult(statistic=0.0, pvalue=1.1310590056134751e-167)"
      ]
     },
     "execution_count": 93,
     "metadata": {},
     "output_type": "execute_result"
    }
   ],
   "source": [
    "stats.mannwhitneyu(df[\"PTRATIO\"], df[\"DIS\"])"
   ]
  },
  {
   "cell_type": "code",
   "execution_count": 98,
   "metadata": {
    "slideshow": {
     "slide_type": "slide"
    }
   },
   "outputs": [
    {
     "data": {
      "image/png": "[encoded data removed]",
      "text/plain": [
       "<Figure size 432x432 with 3 Axes>"
      ]
     },
     "metadata": {
      "needs_background": "light"
     },
     "output_type": "display_data"
    }
   ],
   "source": [
    "sns.jointplot(x=\"PTRATIO\", y=\"DIS\", data=df, kind=\"reg\")\n",
    "plt.show()"
   ]
  },
  {
   "cell_type": "markdown",
   "metadata": {
    "slideshow": {
     "slide_type": "notes"
    }
   },
   "source": [
    "With a very small p-value we reject the null hypothesis!  And therefore though these data appear to have similar shapes, they likely don't come from the same distribution."
   ]
  },
  {
   "cell_type": "markdown",
   "metadata": {
    "slideshow": {
     "slide_type": "slide"
    }
   },
   "source": [
    "### Wilcoxon Signed-Rank Test"
   ]
  },
  {
   "cell_type": "markdown",
   "metadata": {
    "slideshow": {
     "slide_type": "notes"
    }
   },
   "source": [
    "The null hypothesis of the wilcoxon signed rank test states that two related paired samples come from the same distribution.  In particular, it tests whether the distribution of the differences x-y is symmetric about zero.\n",
    "\n",
    "So basically this test assumes a dependence relationship between the variables and then asks if they come from the same distribution.  So, are two related variables in fact different samples from the same distribution?"
   ]
  },
  {
   "cell_type": "code",
   "execution_count": 99,
   "metadata": {
    "slideshow": {
     "slide_type": "slide"
    }
   },
   "outputs": [
    {
     "data": {
      "text/plain": [
       "WilcoxonResult(statistic=0.0, pvalue=0.0)"
      ]
     },
     "execution_count": 99,
     "metadata": {},
     "output_type": "execute_result"
    }
   ],
   "source": [
    "def adding_noise(x):\n",
    "    return np.random.normal(0, 1) + x\n",
    "\n",
    "sample_one = np.random.normal(0, 10, size=100000)\n",
    "sample_two = adding_noise(sample_one)\n",
    "\n",
    "stats.wilcoxon(sample_one, sample_two)"
   ]
  },
  {
   "cell_type": "markdown",
   "metadata": {
    "slideshow": {
     "slide_type": "notes"
    }
   },
   "source": [
    "Given that the p-value is zero we reject the null hypothesis and therefore the data does not come from distribution.  Let's look at the data we've been playing with to see if the wilcoxon reports anything different:"
   ]
  },
  {
   "cell_type": "code",
   "execution_count": 100,
   "metadata": {
    "slideshow": {
     "slide_type": "slide"
    }
   },
   "outputs": [
    {
     "data": {
      "text/plain": [
       "WilcoxonResult(statistic=0.0, pvalue=1.3246486262482183e-84)"
      ]
     },
     "execution_count": 100,
     "metadata": {},
     "output_type": "execute_result"
    }
   ],
   "source": [
    "stats.wilcoxon(df[\"PTRATIO\"], df[\"DIS\"])"
   ]
  },
  {
   "cell_type": "markdown",
   "metadata": {
    "slideshow": {
     "slide_type": "notes"
    }
   },
   "source": [
    "Even after assuming a dependence relationship between the variables in question, we still cannot conclude they come from the same underlying distribution, because the pvalue is very small."
   ]
  },
  {
   "cell_type": "markdown",
   "metadata": {
    "slideshow": {
     "slide_type": "slide"
    }
   },
   "source": [
    "### Kruskal-Wallis H Test"
   ]
  },
  {
   "cell_type": "markdown",
   "metadata": {
    "slideshow": {
     "slide_type": "notes"
    }
   },
   "source": [
    "The Kruskal Wallis H test tests whether the distributions of two or more independent samples are equal or not."
   ]
  },
  {
   "cell_type": "code",
   "execution_count": 101,
   "metadata": {
    "slideshow": {
     "slide_type": "slide"
    }
   },
   "outputs": [
    {
     "data": {
      "text/plain": [
       "KruskalResult(statistic=0.07512314000632614, pvalue=0.7840185259406084)"
      ]
     },
     "execution_count": 101,
     "metadata": {},
     "output_type": "execute_result"
    }
   ],
   "source": [
    "sample_one = np.random.normal(0, 1, size=100000)\n",
    "sample_two = np.random.normal(0, 1, size=100000)\n",
    "stats.kruskal(sample_one, sample_two)"
   ]
  },
  {
   "cell_type": "markdown",
   "metadata": {
    "slideshow": {
     "slide_type": "notes"
    }
   },
   "source": [
    "Here we fail to reject the null hypothesis, therefore it is likely these variables come from the same distribution.  What's powerful about this test, because it is non-parametric is we can also do the following:"
   ]
  },
  {
   "cell_type": "code",
   "execution_count": 102,
   "metadata": {
    "slideshow": {
     "slide_type": "slide"
    }
   },
   "outputs": [
    {
     "data": {
      "text/plain": [
       "KruskalResult(statistic=0.0058866903418675065, pvalue=0.938842498955204)"
      ]
     },
     "execution_count": 102,
     "metadata": {},
     "output_type": "execute_result"
    }
   ],
   "source": [
    "sample_one = np.random.exponential(10, size=100000)\n",
    "sample_two = np.random.exponential(10, size=100000)\n",
    "stats.kruskal(sample_one, sample_two)"
   ]
  },
  {
   "cell_type": "markdown",
   "metadata": {
    "slideshow": {
     "slide_type": "notes"
    }
   },
   "source": [
    "Here the statistical test is able to pick on the similarity of distribution despite, the data not being normally distributed!"
   ]
  },
  {
   "cell_type": "markdown",
   "metadata": {
    "slideshow": {
     "slide_type": "slide"
    }
   },
   "source": [
    "### Friedman Test"
   ]
  },
  {
   "cell_type": "markdown",
   "metadata": {
    "slideshow": {
     "slide_type": "notes"
    }
   },
   "source": [
    "The friedman tests whether the distributions of two or more paired samples are equal or not.  Here the null hypothesis states the distributions of all samples are equal.  Note the use of the word all - that is because the friedman test is for multiple samples - at least 3."
   ]
  },
  {
   "cell_type": "code",
   "execution_count": 104,
   "metadata": {
    "slideshow": {
     "slide_type": "slide"
    }
   },
   "outputs": [
    {
     "data": {
      "text/plain": [
       "FriedmanchisquareResult(statistic=2.0544800001662225, pvalue=0.35799366077052663)"
      ]
     },
     "execution_count": 104,
     "metadata": {},
     "output_type": "execute_result"
    }
   ],
   "source": [
    "sample_one = np.random.exponential(10, size=100000)\n",
    "sample_two = np.random.exponential(10, size=100000)\n",
    "sample_three = np.random.exponential(10, size=100000)\n",
    "stats.friedmanchisquare(sample_one, sample_two, sample_three)"
   ]
  },
  {
   "cell_type": "markdown",
   "metadata": {
    "slideshow": {
     "slide_type": "notes"
    }
   },
   "source": [
    "We fail to reject the null hypothesis, therefore the samples all come from the same distribution.  We can see the friedman test as the same as the one_way ANOVA F-Test, except relaxing the assumption of normality and therefore it is appropriate to use in the context of statistical tests where the parameters are not normally distributed."
   ]
  },
  {
   "cell_type": "markdown",
   "metadata": {
    "slideshow": {
     "slide_type": "slide"
    }
   },
   "source": [
    "### Kolmogorov-Smirnov statistic on 2 samples"
   ]
  },
  {
   "cell_type": "markdown",
   "metadata": {
    "slideshow": {
     "slide_type": "notes"
    }
   },
   "source": [
    "The KS-2 sample test states the following null hypothesis: that 2 independent samples are drawn from the same continuous distribution.\n",
    "\n",
    "Note that this is not as stringent as the requirements of the Kruskal-Wallis which has a null hypothesis that the samples need be equal.  Therefore the KS 2 sample test is the most general and most flexible.  It simply requires the distributions to be continuous, which is not always possible in the real-world, but is often a reasonable assumption for many examples found in nature."
   ]
  },
  {
   "cell_type": "code",
   "execution_count": 105,
   "metadata": {
    "slideshow": {
     "slide_type": "slide"
    }
   },
   "outputs": [
    {
     "data": {
      "text/plain": [
       "Ks_2sampResult(statistic=1.0, pvalue=1.0645374362131656e-223)"
      ]
     },
     "execution_count": 105,
     "metadata": {},
     "output_type": "execute_result"
    }
   ],
   "source": [
    "stats.ks_2samp(df[\"PTRATIO\"], df[\"DIS\"])"
   ]
  },
  {
   "cell_type": "markdown",
   "metadata": {
    "slideshow": {
     "slide_type": "notes"
    }
   },
   "source": [
    "Here we again reject the null hypothesis, stating the broadest terms possible, this data is not drawn from the same distribution.  It's not equal, it's not the same even given independence and it's definitely not drawn from the same distribution as KS states."
   ]
  },
  {
   "cell_type": "markdown",
   "metadata": {
    "slideshow": {
     "slide_type": "slide"
    }
   },
   "source": [
    "## A few simple applications of what we've covered"
   ]
  },
  {
   "cell_type": "markdown",
   "metadata": {
    "slideshow": {
     "slide_type": "notes"
    }
   },
   "source": [
    "Below we look at two little applications of our work thus far.\n",
    "\n",
    "The first application allows us to search across a set of distributions and ask the question, does this sample come from  any of these distributions?"
   ]
  },
  {
   "cell_type": "code",
   "execution_count": 399,
   "metadata": {
    "slideshow": {
     "slide_type": "slide"
    }
   },
   "outputs": [],
   "source": [
    "from scipy import stats\n",
    "import numpy as np\n",
    "\n",
    "\n",
    "def distribution_analysis(data, distributions):\n",
    "    results = {}\n",
    "    results[\"normal_test\"] = stats.normaltest(data)\n",
    "    for name, distribution in distributions:\n",
    "        # MLE approximation for shape parameters \n",
    "        \n",
    "        shape_parameters = distribution.fit(data)\n",
    "        shape_parameters = list(shape_parameters)\n",
    "        if name == 'erlang':\n",
    "            shape_parameters[0] = int(shape_parameters[0])\n",
    "            shape_parameters[1] = int(shape_parameters[1])\n",
    "        if name == 'gausshyper':\n",
    "            simulation = distribution.rvs(\n",
    "                shape_parameters[0],\n",
    "                shape_parameters[1],\n",
    "                shape_parameters[2],\n",
    "                shape_parameters[3],\n",
    "                size=len(data))\n",
    "        else:\n",
    "            simulation = distribution.rvs(shape_parameters[0], shape_parameters[1], size=len(data))\n",
    "\n",
    "        # statistical tests for distribution similarity\n",
    "        results[name+\"_pearson\"] = stats.pearsonr(data, simulation)\n",
    "        results[name+\"_spearman\"] = stats.spearmanr(data, simulation)\n",
    "        results[name+\"_kruskal\"] = stats.kruskal(data, simulation)\n",
    "        results[name+\"_mannwhitneyU\"] = stats.mannwhitneyu(data, simulation, alternative=\"two-sided\")\n",
    "        results[name+\"_wilcoxon\"] = stats.wilcoxon(data, simulation)\n",
    "        results[name+\"_ks_2sample\"] = stats.ks_2samp(data, simulation)\n",
    "    return results\n",
    "\n",
    "distributions = [\n",
    "      ('beta', stats.beta),\n",
    "      ('cauchy', stats.cauchy),\n",
    "      ('chi', stats.chi),\n",
    "      ('chi2', stats.chi2),\n",
    "      ('dweibull', stats.dweibull),\n",
    "      ('erlang', stats.erlang),\n",
    "      ('expon', stats.expon),\n",
    "      ('fisk', stats.fisk),\n",
    "      ('foldcauchy', stats.foldcauchy),\n",
    "      ('foldnorm', stats.foldnorm),\n",
    "      ('gamma', stats.gamma),\n",
    "      ('gausshyper', stats.gausshyper),\n",
    "      ('invgauss', stats.invgauss),\n",
    "      ('levy', stats.levy),\n",
    "      ('maxwell', stats.maxwell),\n",
    "  ]\n",
    "\n"
   ]
  },
  {
   "cell_type": "markdown",
   "metadata": {
    "slideshow": {
     "slide_type": "notes"
    }
   },
   "source": [
    "Our next little tool allows us to select samples that are representative to a population based on "
   ]
  },
  {
   "cell_type": "code",
   "execution_count": 106,
   "metadata": {
    "slideshow": {
     "slide_type": "slide"
    }
   },
   "outputs": [],
   "source": [
    "def ks_selection(sample, df, columns, significance_criteria=0.1):\n",
    "\n",
    "    test_results = []\n",
    "    for column in columns:\n",
    "        pval = stats.ks_2samp(sample[column], df[column]).pvalue\n",
    "        test_results.append(pval > significance_criteria)\n",
    "    if all(test_results):\n",
    "        return sample\n",
    "    else:\n",
    "        return ''\n",
    "    \n",
    "\n",
    "def moment_differencing_selection(sample, df, moment_values, columns):\n",
    "    tmp = []\n",
    "    for column in columns:\n",
    "        first_moment = abs(sample[column].mean() - df[column].mean())\n",
    "        tmp.append(first_moment)\n",
    "    for column in columns:\n",
    "        second_moment = abs(sample[column].std() - df[column].std())\n",
    "        tmp.append(second_moment)\n",
    "    moment_values.append(tmp)\n",
    "    return moment_values\n",
    "    \n",
    "    \n",
    "def generate_representative_sample(df, columns, sample_size=10000, num_iterations=1000, significance_criteria=0.1):\n",
    "    \"\"\"\n",
    "    This function generates a representative random sample based \n",
    "    on specific variables in the data set.\n",
    "    We attempt two methods:\n",
    "    - Kolmogorov-Smirnov test as a means of selection\n",
    "    - moment differencing as criteria for representativeness\n",
    "    If KS happens to every returns a valid sample,\n",
    "    that means all the distributions are equal for all variables of consideration.\n",
    "    If the moment differencing method is used, we search for the sample which minimizes\n",
    "    difference between the first two moments.\n",
    "    Notice that we only select on moment differences if ks fails for all generated samples.\n",
    "    \"\"\"\n",
    "    \n",
    "    possible_samples = []\n",
    "    moment_values = []\n",
    "    for _ in range(num_iterations):\n",
    "        sample = df.sample(sample_size)   \n",
    "        result = ks_selection(sample, df, columns, significance_criteria=0.1)\n",
    "        if result != '':\n",
    "            return result\n",
    "        possible_samples.append(sample)\n",
    "        moment_values = moment_differencing_selection(\n",
    "             sample, \n",
    "             df, \n",
    "             moment_values, \n",
    "             columns)\n",
    "            \n",
    "    min_sum = sum(moment_values[0])\n",
    "    best_sample = possible_samples[0]\n",
    "    for index, value in enumerate(moment_values):\n",
    "        if sum(value) < min_sum:\n",
    "            min_sum = sum(value)\n",
    "            best_sample = possible_samples[index]\n",
    "    return best_sample"
   ]
  },
  {
   "cell_type": "markdown",
   "metadata": {
    "slideshow": {
     "slide_type": "notes"
    }
   },
   "source": [
    "please note, these \"applications\" are naive.  If you want to do this in a production context, I recommend kernel density estimation, a mixture model, or some other technique for density estimation from data.  I will be covering these topics in another chapter (yet to be added)."
   ]
  }
 ],
 "metadata": {
  "celltoolbar": "Slideshow",
  "kernelspec": {
   "display_name": "Python 3",
   "language": "python",
   "name": "python3"
  },
  "language_info": {
   "codemirror_mode": {
    "name": "ipython",
    "version": 3
   },
   "file_extension": ".py",
   "mimetype": "text/x-python",
   "name": "python",
   "nbconvert_exporter": "python",
   "pygments_lexer": "ipython3",
   "version": "3.7.9"
  }
 },
 "nbformat": 4,
 "nbformat_minor": 2
}
