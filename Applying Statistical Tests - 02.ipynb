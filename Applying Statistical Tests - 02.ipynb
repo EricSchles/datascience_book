{
 "cells": [
  {
   "cell_type": "markdown",
   "metadata": {
    "slideshow": {
     "slide_type": "slide"
    }
   },
   "source": [
    "# Applied Statistical Tests"
   ]
  },
  {
   "cell_type": "markdown",
   "metadata": {
    "slideshow": {
     "slide_type": "notes"
    }
   },
   "source": [
    "In the previous chapter we introduced descriptive statistics and hypothesis testing.  In this chapter we will make extensive use of the concepts covered to introduce you to:"
   ]
  },
  {
   "cell_type": "markdown",
   "metadata": {
    "slideshow": {
     "slide_type": "slide"
    }
   },
   "source": [
    "## A/B Testing"
   ]
  },
  {
   "cell_type": "markdown",
   "metadata": {
    "slideshow": {
     "slide_type": "slide"
    }
   },
   "source": [
    "### Inquiry\n",
    "\n",
    "Suppose you work for a company that makes towels, and they want to send an email, like they've done many times in the past, to see how much this email affects sale of their towels.  Now let's say that, in the past 10 percent of the people sent the email bought a towel.  But, we aren't sure if this email maximizes profits.  In other words, would a different email mean we make more profit?"
   ]
  },
  {
   "cell_type": "markdown",
   "metadata": {
    "slideshow": {
     "slide_type": "notes"
    }
   },
   "source": [
    "### Set Up\n",
    "\n",
    "In order to test this question, we can set up an experiment.  Here we will set up a randomized test group and a randomized control group.  \n",
    "\n",
    "The test group will be sent an email, with slightly different copy, or possibly with a picture.  Some specific change will be made, in any event.\n",
    "\n",
    "The control group will get the same email as last time.  This way, we can directly compare, as much as possible between the old email and the new one.  There are many things you typically need to control for, or account for in experimental design.  Some things to account for in this scenario are:\n"
   ]
  },
  {
   "cell_type": "markdown",
   "metadata": {
    "slideshow": {
     "slide_type": "slide"
    }
   },
   "source": [
    "1) Age\n",
    "\n",
    "2) Gender\n",
    "\n",
    "3) Race\n",
    "\n",
    "4) Location\n",
    "\n",
    "5) Time of Day\n",
    "\n",
    "6) Time of Year\n",
    "\n",
    "7) Approximate Disposable Income\n"
   ]
  },
  {
   "cell_type": "markdown",
   "metadata": {
    "slideshow": {
     "slide_type": "notes"
    }
   },
   "source": [
    "By setting up the experiment with a test and control group, we account for time of day and time of year directly.  Some of the other information like location, age, gender, and approximate disposable income; we may not be able to account for.  Some of this may be accounted by selecting randomly from our population.  But there is no guarantee of that.  It is best to account for as many variables of interest as you can, while remaining ethical.  We will cover the ethics of variable accounting in the next section in detail."
   ]
  },
  {
   "cell_type": "markdown",
   "metadata": {
    "slideshow": {
     "slide_type": "slide"
    }
   },
   "source": [
    "### Running Our Example"
   ]
  },
  {
   "cell_type": "markdown",
   "metadata": {
    "slideshow": {
     "slide_type": "notes"
    }
   },
   "source": [
    "In order to evaluate our set up, we will assume that our conversion rate follows a Bernoulli random variable."
   ]
  },
  {
   "cell_type": "markdown",
   "metadata": {
    "slideshow": {
     "slide_type": "slide"
    }
   },
   "source": [
    "### Bernoulli Random Variables\n",
    "\n",
    "a Bernoulli random variable takes on value '1' with probably `p`, and value '0' with probability `1-p`.  \n",
    "\n",
    "For our case, a value of '1' represents a person who chose to buy a towel by going to the website after reading our email.  The value of '0' represents no towel being bought after reading our email."
   ]
  },
  {
   "cell_type": "markdown",
   "metadata": {
    "slideshow": {
     "slide_type": "notes"
    }
   },
   "source": [
    "Informally, we can think of a Bernoulli random variable as a model for the set of possible outcomes of any single experiment.\n",
    "\n",
    "Specifically, a Bernoulli random variable takes on value '1' with probably `p`, and value '0' with probability `1-p`.  \n",
    "\n",
    "For our case, a value of '1' represents a person who chose to buy a towel by going to the website after reading our email.  The value of '0' represents no towel being bought after reading our email."
   ]
  },
  {
   "cell_type": "markdown",
   "metadata": {
    "slideshow": {
     "slide_type": "slide"
    }
   },
   "source": [
    "### An Aside Regarding Assumptions"
   ]
  },
  {
   "cell_type": "markdown",
   "metadata": {
    "slideshow": {
     "slide_type": "notes"
    }
   },
   "source": [
    "By setting up our experiment in this way, we have actually assumed quiet a bit.  Let's formally state our assumptions here.  It is good practice, generally speaking to always list out your assumptions and confirm with a domain experiment, someone who knows the problem, but maybe not the statistics, before caring out any experiments.  If you work in a place where tasks are created for you, then before you get started, it's a good idea to confirm with the person who created the task, to make sure you are both aligned on assumptions."
   ]
  },
  {
   "cell_type": "markdown",
   "metadata": {
    "slideshow": {
     "slide_type": "notes"
    }
   },
   "source": [
    "### Making Our Assumptions Explicit\n",
    "\n",
    "1) We assume here that the only reason a person would buy a towel is because of this email.\n",
    "\n",
    "This is a pretty strong assumption.  Specifically we are only looking at the marginal effect of changing the language in an email.  It could be the case that our entire control group or our entire test group happened to need a new towel, and this email reminded them.  It could be all of the people in group one or group two just moved, and didn't have _any_ towels.  Or it could be that everyone in a group always buys things due to a sale.  \n",
    "\n",
    "We could control for some of this stuff, which will be touched upon in a later section.  But for now, we aren't controlling for any of it.  \n",
    "\n",
    "2) We assume non-uniformity of preferences.\n",
    "\n",
    "A preference is a propensity or likelihood to consume a product, given the choice to consume it and the ability.  So if you are more likely to consume chocolate ice cream over vanilla ice cream given the choice between the two, and the money to buy either, then we say you have a preference for chocolate ice cream.\n",
    "\n",
    "By assuming non-uniformity of preferences, we are saying, implicitly that there is some utility function for towels for each individual.  And that at price `towel_price`, you will not buy, because it would cost more than the utility you would derive.  But at price `towel_sale_price`, you will buy, because it would cost less than the utility you would derive.\n",
    "\n",
    "3) We assume evenly distributed life circumstances.\n",
    "\n",
    "We assume everyone on this email is capable of buying a towel from us.  This may seem like a riddiculous assumption, but what it's really not.  You have no idea what circumstance someone is in.\n",
    "\n",
    "4) We assume evenly distributed access to the email\n",
    "\n",
    "What if everyone who didn't buy a towel deactivated their email, or died, or doesn't speak english, or possibly, that their email client filtered out the email.  If we don't know for sure, we don't know the effectiveness of the email campaign.\n",
    "\n",
    "The reason it's important to explicitly state your assumptions, is not necessarily for the code itself.  Although it can inform the tests you run or the models you create.  The most important reason to write down your assumptions is for future people working with your code, which is more often than not yourself, as well as for your managers.  \n"
   ]
  },
  {
   "cell_type": "markdown",
   "metadata": {
    "slideshow": {
     "slide_type": "slide"
    }
   },
   "source": [
    "## Simulating Some Data"
   ]
  },
  {
   "cell_type": "code",
   "execution_count": 13,
   "metadata": {
    "slideshow": {
     "slide_type": "notes"
    }
   },
   "outputs": [],
   "source": [
    "import warnings\n",
    "warnings.filterwarnings('ignore')"
   ]
  },
  {
   "cell_type": "code",
   "execution_count": 3,
   "metadata": {
    "slideshow": {
     "slide_type": "slide"
    }
   },
   "outputs": [],
   "source": [
    "from scipy import stats\n",
    "\n",
    "test_size = 1000\n",
    "control_size = 1000\n",
    "test_probability = 0.15\n",
    "control_probability = 0.1\n",
    "test_dist = stats.bernoulli(test_probability)\n",
    "control_dist = stats.bernoulli(control_probability)"
   ]
  },
  {
   "cell_type": "markdown",
   "metadata": {
    "slideshow": {
     "slide_type": "notes"
    }
   },
   "source": [
    "Note: we don't actually know the test probability, so \"pretend\" you can't see it.  We wouldn't know this for the population in the real world.  Also, we probably can't be \"sure\" our process follows a Bernoulli random variable.  It could be some other generative process, like this:"
   ]
  },
  {
   "cell_type": "code",
   "execution_count": 89,
   "metadata": {
    "slideshow": {
     "slide_type": "slide"
    }
   },
   "outputs": [
    {
     "data": {
      "text/plain": [
       "[0, 1, 1, 1, 1, 1, 0, 0, 1, 0]"
      ]
     },
     "execution_count": 89,
     "metadata": {},
     "output_type": "execute_result"
    }
   ],
   "source": [
    "import random\n",
    "\n",
    "def generative_process():\n",
    "    random_number = random.randint(0, 100)\n",
    "    if random_number < 15:\n",
    "        return 1\n",
    "    elif random_number % 2 == 0:\n",
    "        return 0\n",
    "    else:\n",
    "        return 1\n",
    "    \n",
    "[generative_process() for _ in range(10)]"
   ]
  },
  {
   "cell_type": "markdown",
   "metadata": {
    "slideshow": {
     "slide_type": "notes"
    }
   },
   "source": [
    "The important difference here is there are multiple cases by which our generative process outputs a '1', which we may be important!  The more you know about your underlying data generation process, the better.  But usually it is impossible to discern this.  The important thing to note is, this is an assumption."
   ]
  },
  {
   "cell_type": "code",
   "execution_count": 4,
   "metadata": {
    "slideshow": {
     "slide_type": "slide"
    }
   },
   "outputs": [],
   "source": [
    "import pandas as pd\n",
    "import numpy as np\n",
    "\n",
    "test_df = pd.DataFrame()\n",
    "test_df[\"converted\"] = test_dist.rvs(size=test_size)\n",
    "test_df[\"group\"] = \"test\"\n",
    "control_df = pd.DataFrame()\n",
    "control_df[\"converted\"] = control_dist.rvs(size=control_size)\n",
    "control_df[\"group\"] = \"control\"\n",
    "df = test_df.append(control_df)"
   ]
  },
  {
   "cell_type": "code",
   "execution_count": 5,
   "metadata": {
    "slideshow": {
     "slide_type": "slide"
    }
   },
   "outputs": [
    {
     "data": {
      "text/html": [
       "<div>\n",
       "<style scoped>\n",
       "    .dataframe tbody tr th:only-of-type {\n",
       "        vertical-align: middle;\n",
       "    }\n",
       "\n",
       "    .dataframe tbody tr th {\n",
       "        vertical-align: top;\n",
       "    }\n",
       "\n",
       "    .dataframe thead th {\n",
       "        text-align: right;\n",
       "    }\n",
       "</style>\n",
       "<table border=\"1\" class=\"dataframe\">\n",
       "  <thead>\n",
       "    <tr style=\"text-align: right;\">\n",
       "      <th></th>\n",
       "      <th>converted</th>\n",
       "      <th>total</th>\n",
       "      <th>rate</th>\n",
       "    </tr>\n",
       "    <tr>\n",
       "      <th>group</th>\n",
       "      <th></th>\n",
       "      <th></th>\n",
       "      <th></th>\n",
       "    </tr>\n",
       "  </thead>\n",
       "  <tbody>\n",
       "    <tr>\n",
       "      <th>control</th>\n",
       "      <td>92</td>\n",
       "      <td>1000</td>\n",
       "      <td>0.092</td>\n",
       "    </tr>\n",
       "    <tr>\n",
       "      <th>test</th>\n",
       "      <td>153</td>\n",
       "      <td>1000</td>\n",
       "      <td>0.153</td>\n",
       "    </tr>\n",
       "  </tbody>\n",
       "</table>\n",
       "</div>"
      ],
      "text/plain": [
       "         converted  total   rate\n",
       "group                           \n",
       "control         92   1000  0.092\n",
       "test           153   1000  0.153"
      ]
     },
     "execution_count": 5,
     "metadata": {},
     "output_type": "execute_result"
    }
   ],
   "source": [
    "summary = df.pivot_table(values='converted', index='group', aggfunc=np.sum)\n",
    "# add additional columns to the pivot table\n",
    "summary['total'] = df.pivot_table(values='converted', index='group', aggfunc=lambda x: len(x))\n",
    "summary['rate'] = df.pivot_table(values='converted', index='group')\n",
    "summary"
   ]
  },
  {
   "cell_type": "markdown",
   "metadata": {
    "slideshow": {
     "slide_type": "notes"
    }
   },
   "source": [
    "We may believe our test was successful at this point, and in fact, we are done.  However, how do we know that our test was successful?  How do we know that the two samples differences weren't just because of demographic differences?  Time to verify against all of the assumptions we made in the prior section!\n",
    "\n",
    "In order to do this we will look at the chi-squared test.  Recall, the chi-squared test's null hypothesis states the two variables are independent.  One could also think of the null hypothesis as, \"is there a statistically significant difference between the expected frequencies and the observed frequencies in one or more categories of a contingency table\".  \n",
    "\n",
    "This sounds perfect!  So let's bring in our other variables:"
   ]
  },
  {
   "cell_type": "markdown",
   "metadata": {
    "slideshow": {
     "slide_type": "slide"
    }
   },
   "source": [
    "* Age\n",
    "* Gender\n",
    "* Location\n",
    "* Race\n"
   ]
  },
  {
   "cell_type": "markdown",
   "metadata": {
    "slideshow": {
     "slide_type": "notes"
    }
   },
   "source": [
    "Note: Here we assume that location is a proxy for income.  So we'll specify location as high, medium and low; where high means an expensive area to live, medium means a middle class area to live, and low means a poor area to live.\n",
    "\n",
    "Note: We will specify Gender as a binary variable.  While in the real world this assumption is not valid, we will make this simplifying assumption here.\n",
    "\n",
    "Note: For Race we will specify one of four categories:\n"
   ]
  },
  {
   "cell_type": "markdown",
   "metadata": {
    "slideshow": {
     "slide_type": "slide"
    }
   },
   "source": [
    "* white\n",
    "* black\n",
    "* asian\n",
    "* hispanic\n"
   ]
  },
  {
   "cell_type": "markdown",
   "metadata": {
    "slideshow": {
     "slide_type": "notes"
    }
   },
   "source": [
    "Note: For Race we will specify one of four categories:\n",
    "\n",
    "While this does not encompass all of the races, it works as a simplifying set of assumptions, for this example."
   ]
  },
  {
   "cell_type": "markdown",
   "metadata": {
    "slideshow": {
     "slide_type": "slide"
    }
   },
   "source": [
    "* 18 - 24\n",
    "* 24 - 35\n",
    "* 35 - 50\n",
    "* 50 - 70\n",
    "* 70+\n"
   ]
  },
  {
   "cell_type": "markdown",
   "metadata": {
    "slideshow": {
     "slide_type": "notes"
    }
   },
   "source": [
    "Note: For Age we will specify one of five categories:\n",
    "Now let's generate some data:"
   ]
  },
  {
   "cell_type": "code",
   "execution_count": 6,
   "metadata": {
    "slideshow": {
     "slide_type": "slide"
    }
   },
   "outputs": [],
   "source": [
    "import random\n",
    "\n",
    "def generate_data(df, column, choices):\n",
    "    \"\"\"\n",
    "    Generates categorical data given choices.\n",
    "    \n",
    "    Parameters:\n",
    "    * df - pd.DataFrame: the data to add a column to\n",
    "    * column - str: the column to generate\n",
    "    * choices - list: the list of possible choices\n",
    "    \n",
    "    Returns:\n",
    "    A dataframe with the newly generated column.\n",
    "    \"\"\"\n",
    "    df[column] = [random.choice(choices)\n",
    "                  for _ in range(df.shape[0])]\n",
    "    df = pd.concat([df, pd.get_dummies(df[column])], axis=1)\n",
    "    df = df.drop(column, axis=1)\n",
    "    return df\n",
    "\n",
    "def generate_contingency_table(df, demographics):\n",
    "    \"\"\"\n",
    "    Generates a contingency table from a list of choices.\n",
    "    We hard code converted, because that is 'always' one of the variables of interest.\n",
    "    \n",
    "    Parameters:\n",
    "    * df - pd.DataFrame: the dataframe to convert to a contingency table.\n",
    "    * demographics - list: a list of demographics, aka the classes from\n",
    "    all categorical classes of interest.\n",
    "    \n",
    "    Note: one way to get the demographics is:\n",
    "    categories = []\n",
    "    for column in categorical_columns:\n",
    "        categories += list(df[column].unique())\n",
    "    \"\"\"\n",
    "    summary = df.pivot_table(values='converted', index='group', aggfunc=np.sum)\n",
    "    for demographic in demographics:\n",
    "        summary[demographic] = df.pivot_table(\n",
    "            values=demographic,\n",
    "            index=\"group\",\n",
    "            aggfunc=np.sum\n",
    "        )\n",
    "    return summary"
   ]
  },
  {
   "cell_type": "code",
   "execution_count": null,
   "metadata": {
    "slideshow": {
     "slide_type": "slide"
    }
   },
   "outputs": [],
   "source": [
    "gender_choices = [\"male\", \"female\"]\n",
    "age_choices = [\"18-24\", \"24-35\", \"35-50\", \"50-70\", \"70+\"]\n",
    "race_choices = [\"white\", \"black\", \"asian\", \"hispanic\"]\n",
    "location_choices = [\"high\", \"medium\", \"low\"]\n",
    "\n",
    "test_df = generate_data(test_df, \"gender\", gender_choices)\n",
    "test_df = generate_data(test_df, \"age\", age_choices)\n",
    "test_df = generate_data(test_df, \"race\", race_choices)\n",
    "test_df = generate_data(test_df, \"location\", location_choices)\n",
    "control_df = generate_data(control_df, \"gender\", gender_choices)\n",
    "control_df = generate_data(control_df, \"age\", age_choices)\n",
    "control_df = generate_data(control_df, \"race\", race_choices)\n",
    "control_df = generate_data(control_df, \"location\", location_choices)\n",
    "\n",
    "df = pd.DataFrame()\n",
    "df = df.append(test_df)\n",
    "df = df.append(control_df)\n",
    "\n",
    "# does list concatenation\n",
    "demographics = gender_choices + age_choices + race_choices + location_choices\n",
    "table = generate_contingency_table(df, demographics)"
   ]
  },
  {
   "cell_type": "markdown",
   "metadata": {
    "slideshow": {
     "slide_type": "notes"
    }
   },
   "source": [
    "Before we run our hypothesis test, let's look at our contingency table!"
   ]
  },
  {
   "cell_type": "code",
   "execution_count": 93,
   "metadata": {
    "slideshow": {
     "slide_type": "slide"
    }
   },
   "outputs": [
    {
     "data": {
      "text/html": [
       "<div>\n",
       "<style scoped>\n",
       "    .dataframe tbody tr th:only-of-type {\n",
       "        vertical-align: middle;\n",
       "    }\n",
       "\n",
       "    .dataframe tbody tr th {\n",
       "        vertical-align: top;\n",
       "    }\n",
       "\n",
       "    .dataframe thead th {\n",
       "        text-align: right;\n",
       "    }\n",
       "</style>\n",
       "<table border=\"1\" class=\"dataframe\">\n",
       "  <thead>\n",
       "    <tr style=\"text-align: right;\">\n",
       "      <th></th>\n",
       "      <th>converted</th>\n",
       "      <th>male</th>\n",
       "      <th>female</th>\n",
       "      <th>18-24</th>\n",
       "      <th>24-35</th>\n",
       "      <th>35-50</th>\n",
       "      <th>50-70</th>\n",
       "      <th>70+</th>\n",
       "      <th>white</th>\n",
       "      <th>black</th>\n",
       "      <th>asian</th>\n",
       "      <th>hispanic</th>\n",
       "      <th>high</th>\n",
       "      <th>medium</th>\n",
       "      <th>low</th>\n",
       "    </tr>\n",
       "    <tr>\n",
       "      <th>group</th>\n",
       "      <th></th>\n",
       "      <th></th>\n",
       "      <th></th>\n",
       "      <th></th>\n",
       "      <th></th>\n",
       "      <th></th>\n",
       "      <th></th>\n",
       "      <th></th>\n",
       "      <th></th>\n",
       "      <th></th>\n",
       "      <th></th>\n",
       "      <th></th>\n",
       "      <th></th>\n",
       "      <th></th>\n",
       "      <th></th>\n",
       "    </tr>\n",
       "  </thead>\n",
       "  <tbody>\n",
       "    <tr>\n",
       "      <th>control</th>\n",
       "      <td>106</td>\n",
       "      <td>500.0</td>\n",
       "      <td>500.0</td>\n",
       "      <td>199</td>\n",
       "      <td>223</td>\n",
       "      <td>194</td>\n",
       "      <td>205</td>\n",
       "      <td>179</td>\n",
       "      <td>249</td>\n",
       "      <td>234.0</td>\n",
       "      <td>255.0</td>\n",
       "      <td>262.0</td>\n",
       "      <td>301.0</td>\n",
       "      <td>350.0</td>\n",
       "      <td>349.0</td>\n",
       "    </tr>\n",
       "    <tr>\n",
       "      <th>test</th>\n",
       "      <td>137</td>\n",
       "      <td>531.0</td>\n",
       "      <td>469.0</td>\n",
       "      <td>205</td>\n",
       "      <td>207</td>\n",
       "      <td>204</td>\n",
       "      <td>187</td>\n",
       "      <td>197</td>\n",
       "      <td>231</td>\n",
       "      <td>258.0</td>\n",
       "      <td>256.0</td>\n",
       "      <td>255.0</td>\n",
       "      <td>332.0</td>\n",
       "      <td>329.0</td>\n",
       "      <td>339.0</td>\n",
       "    </tr>\n",
       "  </tbody>\n",
       "</table>\n",
       "</div>"
      ],
      "text/plain": [
       "         converted   male  female  18-24  24-35  35-50  50-70  70+  white  \\\n",
       "group                                                                       \n",
       "control        106  500.0   500.0    199    223    194    205  179    249   \n",
       "test           137  531.0   469.0    205    207    204    187  197    231   \n",
       "\n",
       "         black  asian  hispanic   high  medium    low  \n",
       "group                                                  \n",
       "control  234.0  255.0     262.0  301.0   350.0  349.0  \n",
       "test     258.0  256.0     255.0  332.0   329.0  339.0  "
      ]
     },
     "execution_count": 93,
     "metadata": {},
     "output_type": "execute_result"
    }
   ],
   "source": [
    "table"
   ]
  },
  {
   "cell_type": "code",
   "execution_count": 7,
   "metadata": {
    "slideshow": {
     "slide_type": "slide"
    }
   },
   "outputs": [
    {
     "data": {
      "text/plain": [
       "(19.04123960342558, 0.16337944030998258)"
      ]
     },
     "execution_count": 7,
     "metadata": {},
     "output_type": "execute_result"
    }
   ],
   "source": [
    "import pandas\n",
    "from scipy.stats import chi2_contingency\n",
    "\n",
    "table_transpose = table.T\n",
    "chi2, pvalue, degrees_of_freedom, expected = chi2_contingency(table_transpose)\n",
    "\n",
    "chi2, pvalue"
   ]
  },
  {
   "cell_type": "markdown",
   "metadata": {
    "slideshow": {
     "slide_type": "slide"
    }
   },
   "source": [
    "Let's go over the definitions of each of these:\n",
    "\n",
    "* chi2 - this is the test statistic.  It is calculated as a normalized sum of squared deviations between observed and theoretical frequencies.  In the two group setting we can take one as the observation and the other as the theoretical.\n",
    "\n",
    "* p value - this is the probability value of obtaining test results at least as extreme as the results actually observed during the test, assuming the null hypothesis is correct.  So the lower the p value, the more likely we are to reject the null hypothesis.\n",
    "\n",
    "* degress of freedom - since we are doing the test for homogenity, here the degrees of freedom are:\n",
    "\n",
    "$$ df = (Rows - 1) * (Columns -1)  $$ \n",
    "\n",
    "Where Rows := number of categories, aka the rows of the contingency table.\n",
    "\n",
    "Where Columns := number of independent groups\n",
    "\n",
    "Notice, we satisfy this requirement by taking the transpose of the contingency table\n",
    "\n",
    "* expected value - this is the theoretical values for the contingency table, given the null hypothesis is true.\n"
   ]
  },
  {
   "cell_type": "markdown",
   "metadata": {
    "slideshow": {
     "slide_type": "notes"
    }
   },
   "source": [
    "### Analyzing Our Test\n",
    "\n",
    "Now let's see what our test tells us about our data.  First let's explicitly state the null hypothesis and alternative hypothesis:\n",
    "\n",
    "* null hypothesis: there exists no relationship between the two groups.  If the null hypothesis is true, then it might be the case that the difference in our conversion rates is significant.\n",
    "\n",
    "* alternative hypothesis: there exists a relationship between the two groups.  In other words, the two groups are statistically similar.  If this is the case, then it might be that the difference in our conversion rates is due to chance.\n",
    "\n",
    "Based on the p-value, it looks like we fail to reject our null hypothesis.  With a test statistic of approximately 12.64, the normalized sum of squared deviations appears large enough that there is no relationship.  This appears to confirm what our contingency table seemed to be telling us.  Let's go a little deeper.\n",
    "\n",
    "Let's next verify, for academic purposes that the degrees of freedom match up with what we expect:"
   ]
  },
  {
   "cell_type": "code",
   "execution_count": 8,
   "metadata": {
    "slideshow": {
     "slide_type": "slide"
    }
   },
   "outputs": [
    {
     "data": {
      "text/plain": [
       "True"
      ]
     },
     "execution_count": 8,
     "metadata": {},
     "output_type": "execute_result"
    }
   ],
   "source": [
    "degrees_of_freedom == (table.shape[0]-1) * (table.shape[1]-1)"
   ]
  },
  {
   "cell_type": "markdown",
   "metadata": {
    "slideshow": {
     "slide_type": "notes"
    }
   },
   "source": [
    "Now, just for comparison, let's look at the expected values:"
   ]
  },
  {
   "cell_type": "code",
   "execution_count": 9,
   "metadata": {
    "slideshow": {
     "slide_type": "slide"
    }
   },
   "outputs": [
    {
     "data": {
      "text/html": [
       "<div>\n",
       "<style scoped>\n",
       "    .dataframe tbody tr th:only-of-type {\n",
       "        vertical-align: middle;\n",
       "    }\n",
       "\n",
       "    .dataframe tbody tr th {\n",
       "        vertical-align: top;\n",
       "    }\n",
       "\n",
       "    .dataframe thead th {\n",
       "        text-align: right;\n",
       "    }\n",
       "</style>\n",
       "<table border=\"1\" class=\"dataframe\">\n",
       "  <thead>\n",
       "    <tr style=\"text-align: right;\">\n",
       "      <th></th>\n",
       "      <th>converted</th>\n",
       "      <th>male</th>\n",
       "      <th>female</th>\n",
       "      <th>18-24</th>\n",
       "      <th>24-35</th>\n",
       "      <th>35-50</th>\n",
       "      <th>50-70</th>\n",
       "      <th>70+</th>\n",
       "      <th>white</th>\n",
       "      <th>black</th>\n",
       "      <th>asian</th>\n",
       "      <th>hispanic</th>\n",
       "      <th>high</th>\n",
       "      <th>medium</th>\n",
       "      <th>low</th>\n",
       "    </tr>\n",
       "    <tr>\n",
       "      <th>group</th>\n",
       "      <th></th>\n",
       "      <th></th>\n",
       "      <th></th>\n",
       "      <th></th>\n",
       "      <th></th>\n",
       "      <th></th>\n",
       "      <th></th>\n",
       "      <th></th>\n",
       "      <th></th>\n",
       "      <th></th>\n",
       "      <th></th>\n",
       "      <th></th>\n",
       "      <th></th>\n",
       "      <th></th>\n",
       "      <th></th>\n",
       "    </tr>\n",
       "  </thead>\n",
       "  <tbody>\n",
       "    <tr>\n",
       "      <th>control</th>\n",
       "      <td>121.593693</td>\n",
       "      <td>489.848878</td>\n",
       "      <td>502.752699</td>\n",
       "      <td>202.490722</td>\n",
       "      <td>201.49812</td>\n",
       "      <td>202.987022</td>\n",
       "      <td>195.542511</td>\n",
       "      <td>190.083202</td>\n",
       "      <td>244.676289</td>\n",
       "      <td>244.179988</td>\n",
       "      <td>272.469133</td>\n",
       "      <td>231.276167</td>\n",
       "      <td>316.143602</td>\n",
       "      <td>315.151001</td>\n",
       "      <td>361.306974</td>\n",
       "    </tr>\n",
       "    <tr>\n",
       "      <th>test</th>\n",
       "      <td>123.406307</td>\n",
       "      <td>497.151122</td>\n",
       "      <td>510.247301</td>\n",
       "      <td>205.509278</td>\n",
       "      <td>204.50188</td>\n",
       "      <td>206.012978</td>\n",
       "      <td>198.457489</td>\n",
       "      <td>192.916798</td>\n",
       "      <td>248.323711</td>\n",
       "      <td>247.820012</td>\n",
       "      <td>276.530867</td>\n",
       "      <td>234.723833</td>\n",
       "      <td>320.856398</td>\n",
       "      <td>319.848999</td>\n",
       "      <td>366.693026</td>\n",
       "    </tr>\n",
       "  </tbody>\n",
       "</table>\n",
       "</div>"
      ],
      "text/plain": [
       "          converted        male      female       18-24      24-35  \\\n",
       "group                                                                \n",
       "control  121.593693  489.848878  502.752699  202.490722  201.49812   \n",
       "test     123.406307  497.151122  510.247301  205.509278  204.50188   \n",
       "\n",
       "              35-50       50-70         70+       white       black  \\\n",
       "group                                                                 \n",
       "control  202.987022  195.542511  190.083202  244.676289  244.179988   \n",
       "test     206.012978  198.457489  192.916798  248.323711  247.820012   \n",
       "\n",
       "              asian    hispanic        high      medium         low  \n",
       "group                                                                \n",
       "control  272.469133  231.276167  316.143602  315.151001  361.306974  \n",
       "test     276.530867  234.723833  320.856398  319.848999  366.693026  "
      ]
     },
     "execution_count": 9,
     "metadata": {},
     "output_type": "execute_result"
    }
   ],
   "source": [
    "pd.DataFrame(expected, columns=table_transpose.columns, index=table_transpose.index).T"
   ]
  },
  {
   "cell_type": "code",
   "execution_count": 10,
   "metadata": {
    "slideshow": {
     "slide_type": "slide"
    }
   },
   "outputs": [
    {
     "data": {
      "text/html": [
       "<div>\n",
       "<style scoped>\n",
       "    .dataframe tbody tr th:only-of-type {\n",
       "        vertical-align: middle;\n",
       "    }\n",
       "\n",
       "    .dataframe tbody tr th {\n",
       "        vertical-align: top;\n",
       "    }\n",
       "\n",
       "    .dataframe thead th {\n",
       "        text-align: right;\n",
       "    }\n",
       "</style>\n",
       "<table border=\"1\" class=\"dataframe\">\n",
       "  <thead>\n",
       "    <tr style=\"text-align: right;\">\n",
       "      <th></th>\n",
       "      <th>converted</th>\n",
       "      <th>male</th>\n",
       "      <th>female</th>\n",
       "      <th>18-24</th>\n",
       "      <th>24-35</th>\n",
       "      <th>35-50</th>\n",
       "      <th>50-70</th>\n",
       "      <th>70+</th>\n",
       "      <th>white</th>\n",
       "      <th>black</th>\n",
       "      <th>asian</th>\n",
       "      <th>hispanic</th>\n",
       "      <th>high</th>\n",
       "      <th>medium</th>\n",
       "      <th>low</th>\n",
       "    </tr>\n",
       "    <tr>\n",
       "      <th>group</th>\n",
       "      <th></th>\n",
       "      <th></th>\n",
       "      <th></th>\n",
       "      <th></th>\n",
       "      <th></th>\n",
       "      <th></th>\n",
       "      <th></th>\n",
       "      <th></th>\n",
       "      <th></th>\n",
       "      <th></th>\n",
       "      <th></th>\n",
       "      <th></th>\n",
       "      <th></th>\n",
       "      <th></th>\n",
       "      <th></th>\n",
       "    </tr>\n",
       "  </thead>\n",
       "  <tbody>\n",
       "    <tr>\n",
       "      <th>control</th>\n",
       "      <td>92</td>\n",
       "      <td>499.0</td>\n",
       "      <td>501.0</td>\n",
       "      <td>216</td>\n",
       "      <td>202</td>\n",
       "      <td>206</td>\n",
       "      <td>195</td>\n",
       "      <td>181</td>\n",
       "      <td>251</td>\n",
       "      <td>250</td>\n",
       "      <td>265.0</td>\n",
       "      <td>234</td>\n",
       "      <td>319.0</td>\n",
       "      <td>311.0</td>\n",
       "      <td>370.0</td>\n",
       "    </tr>\n",
       "    <tr>\n",
       "      <th>test</th>\n",
       "      <td>153</td>\n",
       "      <td>488.0</td>\n",
       "      <td>512.0</td>\n",
       "      <td>192</td>\n",
       "      <td>204</td>\n",
       "      <td>203</td>\n",
       "      <td>199</td>\n",
       "      <td>202</td>\n",
       "      <td>242</td>\n",
       "      <td>242</td>\n",
       "      <td>284.0</td>\n",
       "      <td>232</td>\n",
       "      <td>318.0</td>\n",
       "      <td>324.0</td>\n",
       "      <td>358.0</td>\n",
       "    </tr>\n",
       "  </tbody>\n",
       "</table>\n",
       "</div>"
      ],
      "text/plain": [
       "         converted   male  female  18-24  24-35  35-50  50-70  70+  white  \\\n",
       "group                                                                       \n",
       "control         92  499.0   501.0    216    202    206    195  181    251   \n",
       "test           153  488.0   512.0    192    204    203    199  202    242   \n",
       "\n",
       "         black  asian  hispanic   high  medium    low  \n",
       "group                                                  \n",
       "control    250  265.0       234  319.0   311.0  370.0  \n",
       "test       242  284.0       232  318.0   324.0  358.0  "
      ]
     },
     "execution_count": 10,
     "metadata": {},
     "output_type": "execute_result"
    }
   ],
   "source": [
    "table"
   ]
  },
  {
   "cell_type": "markdown",
   "metadata": {
    "slideshow": {
     "slide_type": "notes"
    }
   },
   "source": [
    "Now let's verify our calculation of test statistic:"
   ]
  },
  {
   "cell_type": "code",
   "execution_count": 11,
   "metadata": {
    "slideshow": {
     "slide_type": "slide"
    }
   },
   "outputs": [
    {
     "data": {
      "text/plain": [
       "19.041239603425577"
      ]
     },
     "execution_count": 11,
     "metadata": {},
     "output_type": "execute_result"
    }
   ],
   "source": [
    "summation = 0\n",
    "expected_df = pd.DataFrame(\n",
    "    expected, columns=table_transpose.columns, \n",
    "    index=table_transpose.index).T\n",
    "for index, row in table_transpose.iterrows():\n",
    "    for column in table_transpose.columns:\n",
    "        deviation = row[column] - expected_df[index][column]\n",
    "        deviation_squared = deviation ** 2\n",
    "        normed_deviation_squared = deviation_squared / expected_df[index][column]\n",
    "        summation += normed_deviation_squared\n",
    "summation"
   ]
  },
  {
   "cell_type": "code",
   "execution_count": 13,
   "metadata": {
    "slideshow": {
     "slide_type": "slide"
    }
   },
   "outputs": [
    {
     "data": {
      "text/plain": [
       "True"
      ]
     },
     "execution_count": 13,
     "metadata": {},
     "output_type": "execute_result"
    }
   ],
   "source": [
    "round(summation, 5) == round(chi2, 5)"
   ]
  },
  {
   "cell_type": "markdown",
   "metadata": {
    "slideshow": {
     "slide_type": "notes"
    }
   },
   "source": [
    "Success!  Now we are sure that we have some belief that our test and control are different, accounting for at least some demographic variables, we are ready to do our final exploration.  \n",
    "\n",
    "This is an important point - if something passes a hypothesis test (or fails) that does not mean that the test is conclusive.  That's why I used the word may.  When you do statistics, machine learning, data science or whatever we are calling it these days, you should build up evidence that you believe your hypothesis is true.  You should imagine perhaps a court room, or some other sort of collection of people, that you have to convince of your results.  \n",
    "\n",
    "Each piece of evidence you bring to the table helps you make your case, but it does not and likely will not lead to a conclusive pattern.  It can only give you more of a chance that your hypothesis is right or wrong.  This is in direct conflict with the business world, where everything usually moves pretty fast.  But, if you build up the right tooling and can replicate the scientific process quickly, you can usually at least develop some confidence in what you are seeing.\n",
    "\n",
    "With this in mind we move onto the next leg in our scientific journey, data visualization.\n",
    "\n"
   ]
  },
  {
   "cell_type": "markdown",
   "metadata": {
    "slideshow": {
     "slide_type": "slide"
    }
   },
   "source": [
    "## Visualizing Categorical Data\n"
   ]
  },
  {
   "cell_type": "code",
   "execution_count": 16,
   "metadata": {
    "slideshow": {
     "slide_type": "slide"
    }
   },
   "outputs": [
    {
     "data": {
      "image/png": "[encoded data removed]",
      "text/plain": [
       "<Figure size 432x288 with 1 Axes>"
      ]
     },
     "metadata": {
      "needs_background": "light"
     },
     "output_type": "display_data"
    }
   ],
   "source": [
    "import seaborn as sns\n",
    "import matplotlib.pyplot as plt\n",
    "\n",
    "gender_data = pd.DataFrame()\n",
    "gender_data = gender_data.append({\n",
    "    \"female\": df[df[\"group\"] == \"test\"][\"female\"].sum(),\n",
    "    \"group\": \"test\"\n",
    "}, ignore_index=True)\n",
    "gender_data = gender_data.append({\n",
    "    \"female\": df[df[\"group\"] == \"control\"][\"female\"].sum(),\n",
    "    \"group\": \"control\"\n",
    "}, ignore_index=True)\n",
    "\n",
    "sns.barplot(x=\"group\", y=\"female\", data=gender_data)\n",
    "plt.show()"
   ]
  },
  {
   "cell_type": "markdown",
   "metadata": {
    "slideshow": {
     "slide_type": "notes"
    }
   },
   "source": [
    "As you can see it looks like there is a pretty close to even gender split between test and control, so we can probably rule out that lone interaction as the source of our variance."
   ]
  },
  {
   "cell_type": "code",
   "execution_count": 17,
   "metadata": {
    "slideshow": {
     "slide_type": "slide"
    }
   },
   "outputs": [
    {
     "data": {
      "image/png": "[encoded data removed]",
      "text/plain": [
       "<Figure size 432x288 with 1 Axes>"
      ]
     },
     "metadata": {
      "needs_background": "light"
     },
     "output_type": "display_data"
    }
   ],
   "source": [
    "import seaborn as sns\n",
    "import matplotlib.pyplot as plt\n",
    "\n",
    "ethnicity_data = pd.DataFrame()\n",
    "ethnicity_data = ethnicity_data.append({\n",
    "    \"white\": df[df[\"group\"] == \"test\"][\"white\"].sum(),\n",
    "    \"group\": \"test\"\n",
    "}, ignore_index=True)\n",
    "ethnicity_data = ethnicity_data.append({\n",
    "    \"white\": df[df[\"group\"] == \"control\"][\"white\"].sum(),\n",
    "    \"group\": \"control\"\n",
    "}, ignore_index=True)\n",
    "ethnicity_data = ethnicity_data.append({\n",
    "    \"black\": df[df[\"group\"] == \"control\"][\"black\"].sum(),\n",
    "    \"group\": \"control\"\n",
    "}, ignore_index=True)\n",
    "ethnicity_data = ethnicity_data.append({\n",
    "    \"black\": df[df[\"group\"] == \"test\"][\"black\"].sum(),\n",
    "    \"group\": \"test\"\n",
    "}, ignore_index=True)\n",
    "ethnicity_data = ethnicity_data.append({\n",
    "    \"asian\": df[df[\"group\"] == \"control\"][\"asian\"].sum(),\n",
    "    \"group\": \"control\"\n",
    "}, ignore_index=True)\n",
    "ethnicity_data = ethnicity_data.append({\n",
    "    \"asian\": df[df[\"group\"] == \"test\"][\"asian\"].sum(),\n",
    "    \"group\": \"test\"\n",
    "}, ignore_index=True)\n",
    "ethnicity_data = ethnicity_data.append({\n",
    "    \"hispanic\": df[df[\"group\"] == \"control\"][\"hispanic\"].sum(),\n",
    "    \"group\": \"control\"\n",
    "}, ignore_index=True)\n",
    "ethnicity_data = ethnicity_data.append({\n",
    "    \"hispanic\": df[df[\"group\"] == \"test\"][\"hispanic\"].sum(),\n",
    "    \"group\": \"test\"\n",
    "}, ignore_index=True)\n",
    "\n",
    "sns.barplot(x=\"group\", y=\"white\", data=ethnicity_data)\n",
    "plt.show()"
   ]
  },
  {
   "cell_type": "code",
   "execution_count": 19,
   "metadata": {
    "slideshow": {
     "slide_type": "slide"
    }
   },
   "outputs": [
    {
     "data": {
      "image/png": "[encoded data removed]",
      "text/plain": [
       "<Figure size 432x288 with 1 Axes>"
      ]
     },
     "metadata": {
      "needs_background": "light"
     },
     "output_type": "display_data"
    }
   ],
   "source": [
    "sns.barplot(x=\"group\", y=\"hispanic\", data=ethnicity_data)\n",
    "plt.show()"
   ]
  },
  {
   "cell_type": "code",
   "execution_count": 20,
   "metadata": {
    "slideshow": {
     "slide_type": "slide"
    }
   },
   "outputs": [
    {
     "data": {
      "image/png": "[encoded data removed]",
      "text/plain": [
       "<Figure size 432x288 with 1 Axes>"
      ]
     },
     "metadata": {
      "needs_background": "light"
     },
     "output_type": "display_data"
    }
   ],
   "source": [
    "sns.barplot(x=\"group\", y=\"black\", data=ethnicity_data)\n",
    "plt.show()"
   ]
  },
  {
   "cell_type": "markdown",
   "metadata": {
    "slideshow": {
     "slide_type": "notes"
    }
   },
   "source": [
    "The three groups:\n",
    "* white\n",
    "* black\n",
    "* hispanic \n",
    "\n",
    "all appear to have very little variation.  However, as we can see below, the difference in size between black folks from test and control appears to be different.  "
   ]
  },
  {
   "cell_type": "code",
   "execution_count": 18,
   "metadata": {
    "slideshow": {
     "slide_type": "slide"
    }
   },
   "outputs": [
    {
     "data": {
      "image/png": "[encoded data removed]",
      "text/plain": [
       "<Figure size 432x288 with 1 Axes>"
      ]
     },
     "metadata": {
      "needs_background": "light"
     },
     "output_type": "display_data"
    }
   ],
   "source": [
    "sns.barplot(x=\"group\", y=\"asian\", data=ethnicity_data)\n",
    "plt.show()"
   ]
  },
  {
   "cell_type": "markdown",
   "metadata": {
    "slideshow": {
     "slide_type": "notes"
    }
   },
   "source": [
    "It's worth it to note that because this data was entirely randomly generated, there is no implicit data generation process to analyze, but if this were the real world, I would say this information warrants further inquiry.  In fact, if this were the real world, it may be enough evidence to explain the variation in the difference between test and control.  We will look at how we would measure that next.  But do keep in mind, we may not find anything in this case because the data was randomly generated.  And in fact, any conclusions we do draw will be entirely by chance.\n",
    "\n"
   ]
  },
  {
   "cell_type": "code",
   "execution_count": 29,
   "metadata": {
    "slideshow": {
     "slide_type": "slide"
    }
   },
   "outputs": [
    {
     "data": {
      "text/plain": [
       "<matplotlib.axes._subplots.AxesSubplot at 0x7fd73b2f86a0>"
      ]
     },
     "execution_count": 29,
     "metadata": {},
     "output_type": "execute_result"
    },
    {
     "data": {
      "image/png": "[encoded data removed]",
      "text/plain": [
       "<Figure size 432x288 with 1 Axes>"
      ]
     },
     "metadata": {
      "needs_background": "light"
     },
     "output_type": "display_data"
    }
   ],
   "source": [
    "is_asian = df[\"asian\"].astype(bool)\n",
    "is_asian = is_asian.map({True: 1, False: 0})\n",
    "\n",
    "is_black = df[\"black\"].astype(bool)\n",
    "is_black = is_black.map({True: 1, False: 0})\n",
    "\n",
    "is_white = df[\"white\"].astype(bool)\n",
    "is_white = is_white.map({True: 1, False: 0})\n",
    "\n",
    "is_hispanic = df[\"hispanic\"].astype(bool)\n",
    "is_hispanic = is_hispanic.map({True: 1, False: 0})\n",
    "\n",
    "converted = df[\"converted\"].astype(bool)\n",
    "converted = converted.map({True: 1, False: 0})\n",
    "\n",
    "df[\"asian_converted\"] = is_asian & converted\n",
    "df[\"black_converted\"] = is_black & converted\n",
    "df[\"white_converted\"] = is_white & converted\n",
    "df[\"hispanic_converted\"] = is_hispanic & converted\n",
    "sns.countplot(x=\"group\", hue=\"asian_converted\", data=df)"
   ]
  },
  {
   "cell_type": "markdown",
   "metadata": {
    "slideshow": {
     "slide_type": "slide"
    }
   },
   "source": [
    "As we see from the above graph the chance of either test or control converting is quiet low.  Since the demographic condition is a prior piece of information we can treat the above graph as:\n",
    "\n",
    "$$ P(Converted | Asian) $$\n",
    "\n",
    "However, recall that this would only be true in the real world.  Let's compare this to the other groups:"
   ]
  },
  {
   "cell_type": "code",
   "execution_count": 31,
   "metadata": {
    "slideshow": {
     "slide_type": "slide"
    }
   },
   "outputs": [
    {
     "data": {
      "text/plain": [
       "<matplotlib.axes._subplots.AxesSubplot at 0x7fd73b2d3550>"
      ]
     },
     "execution_count": 31,
     "metadata": {},
     "output_type": "execute_result"
    },
    {
     "data": {
      "image/png": "[encoded data removed]",
      "text/plain": [
       "<Figure size 432x288 with 1 Axes>"
      ]
     },
     "metadata": {
      "needs_background": "light"
     },
     "output_type": "display_data"
    }
   ],
   "source": [
    "sns.countplot(x=\"group\", hue=\"white_converted\", data=df)"
   ]
  },
  {
   "cell_type": "code",
   "execution_count": 32,
   "metadata": {
    "slideshow": {
     "slide_type": "slide"
    }
   },
   "outputs": [
    {
     "data": {
      "text/plain": [
       "<matplotlib.axes._subplots.AxesSubplot at 0x7fd73b21e588>"
      ]
     },
     "execution_count": 32,
     "metadata": {},
     "output_type": "execute_result"
    },
    {
     "data": {
      "image/png": "[encoded data removed]",
      "text/plain": [
       "<Figure size 432x288 with 1 Axes>"
      ]
     },
     "metadata": {
      "needs_background": "light"
     },
     "output_type": "display_data"
    }
   ],
   "source": [
    "sns.countplot(x=\"group\", hue=\"hispanic_converted\", data=df)"
   ]
  },
  {
   "cell_type": "code",
   "execution_count": 33,
   "metadata": {
    "slideshow": {
     "slide_type": "slide"
    }
   },
   "outputs": [
    {
     "data": {
      "text/plain": [
       "<matplotlib.axes._subplots.AxesSubplot at 0x7fd73b1f2828>"
      ]
     },
     "execution_count": 33,
     "metadata": {},
     "output_type": "execute_result"
    },
    {
     "data": {
      "image/png": "[encoded data removed]",
      "text/plain": [
       "<Figure size 432x288 with 1 Axes>"
      ]
     },
     "metadata": {
      "needs_background": "light"
     },
     "output_type": "display_data"
    }
   ],
   "source": [
    "sns.countplot(x=\"group\", hue=\"black_converted\", data=df)"
   ]
  },
  {
   "cell_type": "markdown",
   "metadata": {
    "slideshow": {
     "slide_type": "notes"
    }
   },
   "source": [
    "From these graphs it looks like all of the proportions are the same.  Next let's look at the raw counts and percentages to get a better sense of this."
   ]
  },
  {
   "cell_type": "code",
   "execution_count": 38,
   "metadata": {
    "slideshow": {
     "slide_type": "slide"
    }
   },
   "outputs": [
    {
     "name": "stdout",
     "output_type": "stream",
     "text": [
      "Prob(Converted | Asian) = 0.0385\n",
      "Prob(Converted | White) = 0.026\n",
      "Prob(Converted | Black) = 0.032\n",
      "Prob(Converted | Hispanic) = 0.026\n"
     ]
    }
   ],
   "source": [
    "print(\"Prob(Converted | Asian) =\", df[\"asian_converted\"].sum()/len(df))\n",
    "print(\"Prob(Converted | White) =\", df[\"white_converted\"].sum()/len(df))\n",
    "print(\"Prob(Converted | Black) =\",df[\"black_converted\"].sum()/len(df))\n",
    "print(\"Prob(Converted | Hispanic) =\", df[\"hispanic_converted\"].sum()/len(df))"
   ]
  },
  {
   "cell_type": "markdown",
   "metadata": {
    "slideshow": {
     "slide_type": "notes"
    }
   },
   "source": [
    "As you can see, the probabilities confirm that the probability of converting is higher assuming the person is Asian.  Just to be sure, let's rerun the test with Asian removed to ensure there is actually a difference between test and control across all demographics.  It could be the case that the difference is being driven just by Asian people who viewed the advertisement, in which case we could only segment the change by this demographic to capture all the gains."
   ]
  },
  {
   "cell_type": "code",
   "execution_count": 41,
   "metadata": {
    "slideshow": {
     "slide_type": "slide"
    }
   },
   "outputs": [
    {
     "data": {
      "text/plain": [
       "(18.605286113439544, 0.13585945130256297)"
      ]
     },
     "execution_count": 41,
     "metadata": {},
     "output_type": "execute_result"
    }
   ],
   "source": [
    "demographics_no_asians = demographics[:]\n",
    "demographics_no_asians.remove(\"asian\")\n",
    "table = generate_contingency_table(df, demographics_no_asians)\n",
    "table_transpose = table.T\n",
    "chi2, pvalue, degrees_of_freedom, expected = chi2_contingency(table_transpose)\n",
    "\n",
    "chi2, pvalue"
   ]
  },
  {
   "cell_type": "markdown",
   "metadata": {
    "slideshow": {
     "slide_type": "notes"
    }
   },
   "source": [
    "It seems as though the p value has fallen but it is still above the 95% confidence interval so we fail to reject the null hypothesis.  Let's look at the contingency table just to verify this:"
   ]
  },
  {
   "cell_type": "code",
   "execution_count": 42,
   "metadata": {
    "slideshow": {
     "slide_type": "slide"
    }
   },
   "outputs": [
    {
     "data": {
      "text/html": [
       "<div>\n",
       "<style scoped>\n",
       "    .dataframe tbody tr th:only-of-type {\n",
       "        vertical-align: middle;\n",
       "    }\n",
       "\n",
       "    .dataframe tbody tr th {\n",
       "        vertical-align: top;\n",
       "    }\n",
       "\n",
       "    .dataframe thead th {\n",
       "        text-align: right;\n",
       "    }\n",
       "</style>\n",
       "<table border=\"1\" class=\"dataframe\">\n",
       "  <thead>\n",
       "    <tr style=\"text-align: right;\">\n",
       "      <th></th>\n",
       "      <th>converted</th>\n",
       "      <th>male</th>\n",
       "      <th>female</th>\n",
       "      <th>18-24</th>\n",
       "      <th>24-35</th>\n",
       "      <th>35-50</th>\n",
       "      <th>50-70</th>\n",
       "      <th>70+</th>\n",
       "      <th>white</th>\n",
       "      <th>black</th>\n",
       "      <th>hispanic</th>\n",
       "      <th>high</th>\n",
       "      <th>medium</th>\n",
       "      <th>low</th>\n",
       "    </tr>\n",
       "    <tr>\n",
       "      <th>group</th>\n",
       "      <th></th>\n",
       "      <th></th>\n",
       "      <th></th>\n",
       "      <th></th>\n",
       "      <th></th>\n",
       "      <th></th>\n",
       "      <th></th>\n",
       "      <th></th>\n",
       "      <th></th>\n",
       "      <th></th>\n",
       "      <th></th>\n",
       "      <th></th>\n",
       "      <th></th>\n",
       "      <th></th>\n",
       "    </tr>\n",
       "  </thead>\n",
       "  <tbody>\n",
       "    <tr>\n",
       "      <th>control</th>\n",
       "      <td>92</td>\n",
       "      <td>499.0</td>\n",
       "      <td>501.0</td>\n",
       "      <td>216</td>\n",
       "      <td>202</td>\n",
       "      <td>206</td>\n",
       "      <td>195</td>\n",
       "      <td>181</td>\n",
       "      <td>251</td>\n",
       "      <td>250</td>\n",
       "      <td>234</td>\n",
       "      <td>319.0</td>\n",
       "      <td>311.0</td>\n",
       "      <td>370.0</td>\n",
       "    </tr>\n",
       "    <tr>\n",
       "      <th>test</th>\n",
       "      <td>153</td>\n",
       "      <td>488.0</td>\n",
       "      <td>512.0</td>\n",
       "      <td>192</td>\n",
       "      <td>204</td>\n",
       "      <td>203</td>\n",
       "      <td>199</td>\n",
       "      <td>202</td>\n",
       "      <td>242</td>\n",
       "      <td>242</td>\n",
       "      <td>232</td>\n",
       "      <td>318.0</td>\n",
       "      <td>324.0</td>\n",
       "      <td>358.0</td>\n",
       "    </tr>\n",
       "  </tbody>\n",
       "</table>\n",
       "</div>"
      ],
      "text/plain": [
       "         converted   male  female  18-24  24-35  35-50  50-70  70+  white  \\\n",
       "group                                                                       \n",
       "control         92  499.0   501.0    216    202    206    195  181    251   \n",
       "test           153  488.0   512.0    192    204    203    199  202    242   \n",
       "\n",
       "         black  hispanic   high  medium    low  \n",
       "group                                           \n",
       "control    250       234  319.0   311.0  370.0  \n",
       "test       242       232  318.0   324.0  358.0  "
      ]
     },
     "execution_count": 42,
     "metadata": {},
     "output_type": "execute_result"
    }
   ],
   "source": [
    "table"
   ]
  },
  {
   "cell_type": "markdown",
   "metadata": {
    "slideshow": {
     "slide_type": "notes"
    }
   },
   "source": [
    "Clearly the control converted is far below test, even without the asians who have the highest conversion rate.  Therefore this campaign definitely would improve from the change.  Of course, in the real world at least a few more evaluations should occur using the above analysis on some validation sets before you can or should conclude anything.  But this should give you some confidence that this change might be a good one!\n",
    "\n",
    "## Dealing With Continuous Data\n",
    "\n",
    "So far we've assumed that our data was entirely categorical.  But what if our scenario was changed slightly.  First, let's talk about what is the same:\n",
    "\n",
    "* We have a test and control group, representing the change to an email for a sale\n",
    "* We still have information about our potential customers\n",
    "\n",
    "The difference is going to be the kind of information we have.  Specifically this time we'll have the following variables:\n",
    "\n",
    "* Age - as an integer\n",
    "* Salary\n",
    "\n",
    "Now let's go ahead and generate our data:"
   ]
  },
  {
   "cell_type": "code",
   "execution_count": 3,
   "metadata": {
    "slideshow": {
     "slide_type": "slide"
    }
   },
   "outputs": [],
   "source": [
    "import pandas as pd\n",
    "import numpy as np\n",
    "from scipy import stats\n",
    "\n",
    "test_size = 1000\n",
    "control_size = 1000\n",
    "test_probability = 0.15\n",
    "control_probability = 0.1\n",
    "test_dist = stats.bernoulli(test_probability)\n",
    "control_dist = stats.bernoulli(control_probability)\n",
    "\n",
    "test_df = pd.DataFrame()\n",
    "test_df[\"converted\"] = test_dist.rvs(size=test_size)\n",
    "test_df[\"group\"] = \"test\"\n",
    "control_df = pd.DataFrame()\n",
    "control_df[\"converted\"] = control_dist.rvs(size=control_size)\n",
    "control_df[\"group\"] = \"control\"\n",
    "df = test_df.append(control_df)\n",
    "df[\"Age\"] = np.random.normal(50, 25, size=len(df))\n",
    "df[\"Age\"] = df[\"Age\"].astype(int)\n",
    "df[\"Salary\"] = np.random.normal(75000, 15000, size=len(df))\n",
    "df[\"Salary\"] = df[\"Salary\"].apply(lambda x: round(x, 2))\n",
    "\n",
    "test= df[df[\"group\"] == \"test\"]\n",
    "control = df[df[\"group\"] == \"control\"]"
   ]
  },
  {
   "cell_type": "code",
   "execution_count": 5,
   "metadata": {
    "slideshow": {
     "slide_type": "slide"
    }
   },
   "outputs": [
    {
     "data": {
      "text/html": [
       "<div>\n",
       "<style scoped>\n",
       "    .dataframe tbody tr th:only-of-type {\n",
       "        vertical-align: middle;\n",
       "    }\n",
       "\n",
       "    .dataframe tbody tr th {\n",
       "        vertical-align: top;\n",
       "    }\n",
       "\n",
       "    .dataframe thead th {\n",
       "        text-align: right;\n",
       "    }\n",
       "</style>\n",
       "<table border=\"1\" class=\"dataframe\">\n",
       "  <thead>\n",
       "    <tr style=\"text-align: right;\">\n",
       "      <th></th>\n",
       "      <th>converted</th>\n",
       "      <th>group</th>\n",
       "      <th>Age</th>\n",
       "      <th>Salary</th>\n",
       "    </tr>\n",
       "  </thead>\n",
       "  <tbody>\n",
       "    <tr>\n",
       "      <th>0</th>\n",
       "      <td>0</td>\n",
       "      <td>test</td>\n",
       "      <td>66</td>\n",
       "      <td>66084.42</td>\n",
       "    </tr>\n",
       "    <tr>\n",
       "      <th>1</th>\n",
       "      <td>1</td>\n",
       "      <td>test</td>\n",
       "      <td>40</td>\n",
       "      <td>65270.42</td>\n",
       "    </tr>\n",
       "    <tr>\n",
       "      <th>2</th>\n",
       "      <td>1</td>\n",
       "      <td>test</td>\n",
       "      <td>15</td>\n",
       "      <td>84882.97</td>\n",
       "    </tr>\n",
       "    <tr>\n",
       "      <th>3</th>\n",
       "      <td>1</td>\n",
       "      <td>test</td>\n",
       "      <td>70</td>\n",
       "      <td>85411.60</td>\n",
       "    </tr>\n",
       "    <tr>\n",
       "      <th>4</th>\n",
       "      <td>0</td>\n",
       "      <td>test</td>\n",
       "      <td>51</td>\n",
       "      <td>76544.84</td>\n",
       "    </tr>\n",
       "  </tbody>\n",
       "</table>\n",
       "</div>"
      ],
      "text/plain": [
       "   converted group  Age    Salary\n",
       "0          0  test   66  66084.42\n",
       "1          1  test   40  65270.42\n",
       "2          1  test   15  84882.97\n",
       "3          1  test   70  85411.60\n",
       "4          0  test   51  76544.84"
      ]
     },
     "execution_count": 5,
     "metadata": {},
     "output_type": "execute_result"
    }
   ],
   "source": [
    "test.head()"
   ]
  },
  {
   "cell_type": "markdown",
   "metadata": {
    "slideshow": {
     "slide_type": "notes"
    }
   },
   "source": [
    "Notice that we convert `Age` to only include the years, that `Salary` is rounded to two decimal places and that both of these variables are normally distributed.  \n",
    "\n",
    "Notice also, that we assume that our population of `Age` and `Salary` is homogenous.  This means, that both of our samples must come from the same population of people.  It may be the case that in fact different shape parameters capture the distribution of those who choose to convert or those who choose not to.  We will model that explicitly next!  But first, let's carry out our hypothesis test!\n",
    "\n",
    "For this set up, we'll make use of the one-way ANOVA test, via the F-test.  Before we carry out the test, let's just check to see if there is a difference in the percentage of those who converted in test and in control:"
   ]
  },
  {
   "cell_type": "code",
   "execution_count": 9,
   "metadata": {
    "slideshow": {
     "slide_type": "slide"
    }
   },
   "outputs": [
    {
     "data": {
      "text/plain": [
       "0    0.845\n",
       "1    0.155\n",
       "Name: converted, dtype: float64"
      ]
     },
     "execution_count": 9,
     "metadata": {},
     "output_type": "execute_result"
    }
   ],
   "source": [
    "test[\"converted\"].value_counts()/len(test)"
   ]
  },
  {
   "cell_type": "code",
   "execution_count": 10,
   "metadata": {
    "slideshow": {
     "slide_type": "slide"
    }
   },
   "outputs": [
    {
     "data": {
      "text/plain": [
       "0    0.885\n",
       "1    0.115\n",
       "Name: converted, dtype: float64"
      ]
     },
     "execution_count": 10,
     "metadata": {},
     "output_type": "execute_result"
    }
   ],
   "source": [
    "control[\"converted\"].value_counts()/len(control)"
   ]
  },
  {
   "cell_type": "markdown",
   "metadata": {
    "slideshow": {
     "slide_type": "notes"
    }
   },
   "source": [
    "Looks like there is some difference, with test converting at 15% whereas control converts with 11%.  Let's see if Age can help us to explain this difference with an F-test!"
   ]
  },
  {
   "cell_type": "code",
   "execution_count": 7,
   "metadata": {
    "slideshow": {
     "slide_type": "slide"
    }
   },
   "outputs": [
    {
     "data": {
      "text/plain": [
       "F_onewayResult(statistic=0.4133544105058655, pvalue=0.5208215094686701)"
      ]
     },
     "execution_count": 7,
     "metadata": {},
     "output_type": "execute_result"
    }
   ],
   "source": [
    "from scipy import stats\n",
    "\n",
    "test_converted = test[test[\"converted\"] == 1]\n",
    "control_converted = control[control[\"converted\"] == 1]\n",
    "stats.f_oneway(test_converted[\"Age\"], control_converted[\"Age\"])"
   ]
  },
  {
   "cell_type": "markdown",
   "metadata": {
    "slideshow": {
     "slide_type": "notes"
    }
   },
   "source": [
    "Recall the null and alternative hypotheses for ANOVA:\n",
    "\n",
    "* Null Hypothesis: the two samples have the same population mean\n",
    "* Alternative Hypothesis: the two samples have different population mean's and are therefore different.\n",
    "\n",
    "Going through the set up:\n",
    "\n",
    "First we look at those in the test and control set that converted.  We want to know if Age is a factor as to why they may have converted.  Because the p value is 0.5, we are far above most thresholds.  So we fail to reject the null hypothesis.  Therefore, Age is not a factor as to whether or not someone converted and bought something due to the change in language in the email.\n",
    "\n",
    "Going a bit deeper into the set up:\n",
    "\n",
    "The reason we first segregated our data into those who converted, is because that is our dependent variable.  We are explicitly trying to understand who converted and why.  Since we don't explicitly control for age, we take it as our independent variable and therefore it is what we run our analysis over.  Since we don't control for it explicitly, we want to know if it makes a difference.\n",
    "\n",
    "Next let's look at Salary to see if this affects anything:"
   ]
  },
  {
   "cell_type": "code",
   "execution_count": 11,
   "metadata": {
    "slideshow": {
     "slide_type": "slide"
    }
   },
   "outputs": [
    {
     "data": {
      "text/plain": [
       "F_onewayResult(statistic=0.13355076287967246, pvalue=0.7150667844356584)"
      ]
     },
     "execution_count": 11,
     "metadata": {},
     "output_type": "execute_result"
    }
   ],
   "source": [
    "from scipy import stats\n",
    "\n",
    "test_converted = test[test[\"converted\"] == 1]\n",
    "control_converted = control[control[\"converted\"] == 1]\n",
    "stats.f_oneway(test_converted[\"Salary\"], control_converted[\"Salary\"])"
   ]
  },
  {
   "cell_type": "markdown",
   "metadata": {
    "slideshow": {
     "slide_type": "notes"
    }
   },
   "source": [
    "Here we even more strongly fail to reject the null hypothesis, therefore Salary doesn't effect whether someone converted or not.  \n",
    "\n",
    "All of this makes sense because our data came from the same population for both Age and Salary.  Now, let's try regenerating our data, except let's assume that our salary ranges will be different!"
   ]
  },
  {
   "cell_type": "code",
   "execution_count": 14,
   "metadata": {
    "slideshow": {
     "slide_type": "slide"
    }
   },
   "outputs": [],
   "source": [
    "test= df[df[\"group\"] == \"test\"]\n",
    "control = df[df[\"group\"] == \"control\"]\n",
    "\n",
    "test_salary_mean = 150000\n",
    "test_salary_variance = 30000 \n",
    "\n",
    "control_salary_mean = 55000\n",
    "control_salary_variance = 2000\n",
    "\n",
    "test[\"Age\"] = np.random.normal(50, 25, size=len(test))\n",
    "test[\"Age\"] = test[\"Age\"].astype(int)\n",
    "test[\"Salary\"] = np.random.normal(test_salary_mean, test_salary_variance, size=len(test))\n",
    "test[\"Salary\"] = test[\"Salary\"].apply(lambda x: round(x, 2))\n",
    "\n",
    "control[\"Age\"] = np.random.normal(50, 25, size=len(control))\n",
    "control[\"Age\"] = control[\"Age\"].astype(int)\n",
    "control[\"Salary\"] = np.random.normal(control_salary_mean, control_salary_variance, size=len(control))\n",
    "control[\"Salary\"] = control[\"Salary\"].apply(lambda x: round(x, 2))"
   ]
  },
  {
   "cell_type": "markdown",
   "metadata": {
    "slideshow": {
     "slide_type": "notes"
    }
   },
   "source": [
    "Notice that we've made a very big shift in test and control salary, but kept Age the same.  Let's see how this effects our hypothesis tests!  First let's look at Age:"
   ]
  },
  {
   "cell_type": "code",
   "execution_count": 15,
   "metadata": {
    "slideshow": {
     "slide_type": "slide"
    }
   },
   "outputs": [
    {
     "data": {
      "text/plain": [
       "F_onewayResult(statistic=1.6348240431702024, pvalue=0.20214323774160542)"
      ]
     },
     "execution_count": 15,
     "metadata": {},
     "output_type": "execute_result"
    }
   ],
   "source": [
    "from scipy import stats\n",
    "\n",
    "test_converted = test[test[\"converted\"] == 1]\n",
    "control_converted = control[control[\"converted\"] == 1]\n",
    "stats.f_oneway(test_converted[\"Age\"], control_converted[\"Age\"])"
   ]
  },
  {
   "cell_type": "markdown",
   "metadata": {
    "slideshow": {
     "slide_type": "notes"
    }
   },
   "source": [
    "Here again we fail to reject the null hypothesis, because our shape parameters didn't change.  Therefore both distributions should be from the same population.  Now let's look at salary:"
   ]
  },
  {
   "cell_type": "code",
   "execution_count": 16,
   "metadata": {
    "slideshow": {
     "slide_type": "slide"
    }
   },
   "outputs": [
    {
     "data": {
      "text/plain": [
       "F_onewayResult(statistic=1043.8123596703554, pvalue=2.0508424416521246e-94)"
      ]
     },
     "execution_count": 16,
     "metadata": {},
     "output_type": "execute_result"
    }
   ],
   "source": [
    "from scipy import stats\n",
    "\n",
    "test_converted = test[test[\"converted\"] == 1]\n",
    "control_converted = control[control[\"converted\"] == 1]\n",
    "stats.f_oneway(test_converted[\"Salary\"], control_converted[\"Salary\"])"
   ]
  },
  {
   "cell_type": "markdown",
   "metadata": {
    "slideshow": {
     "slide_type": "notes"
    }
   },
   "source": [
    "As you can see, now we strongly reject the null hypothesis, so clearly Salary has an effect!  This is probably pretty close to the how the real world works - one's salary will determine how likely they are to buy something.  Since the `Salary` in general was higher for those in the test set, it makes way more sense they will convert and purchase something.  This means that in this case, we can conclude that our change to the email was effective at all.  Therefore, we should explicitly control for `Salary` in future experiments.\n",
    "\n",
    "How can we do that?  \n",
    "\n",
    "One strategy is by explicitly forcing some of those in the higher salary category and some of those in the lower salary category into each group.  Then we can use statistical matching to the balance the dataset to ensure high wage earners and low wage earners are both represented."
   ]
  },
  {
   "cell_type": "code",
   "execution_count": null,
   "metadata": {},
   "outputs": [],
   "source": []
  }
 ],
 "metadata": {
  "celltoolbar": "Slideshow",
  "kernelspec": {
   "display_name": "Python 3",
   "language": "python",
   "name": "python3"
  },
  "language_info": {
   "codemirror_mode": {
    "name": "ipython",
    "version": 3
   },
   "file_extension": ".py",
   "mimetype": "text/x-python",
   "name": "python",
   "nbconvert_exporter": "python",
   "pygments_lexer": "ipython3",
   "version": "3.7.9"
  }
 },
 "nbformat": 4,
 "nbformat_minor": 2
}
